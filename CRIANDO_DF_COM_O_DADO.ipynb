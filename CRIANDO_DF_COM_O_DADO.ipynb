{
  "cells": [
    {
      "cell_type": "markdown",
      "metadata": {
        "id": "view-in-github",
        "colab_type": "text"
      },
      "source": [
        "<a href=\"https://colab.research.google.com/github/cathemesquita/Colab_notebooks/blob/main/CRIANDO_DF_COM_O_DADO.ipynb\" target=\"_parent\"><img src=\"https://colab.research.google.com/assets/colab-badge.svg\" alt=\"Open In Colab\"/></a>"
      ]
    },
    {
      "cell_type": "code",
      "execution_count": null,
      "metadata": {
        "colab": {
          "base_uri": "https://localhost:8080/"
        },
        "id": "JPLhGP2dXU3H",
        "outputId": "c8a32651-0456-4499-d716-f148a285c3a1"
      },
      "outputs": [
        {
          "output_type": "stream",
          "name": "stdout",
          "text": [
            "Looking in indexes: https://pypi.org/simple, https://us-python.pkg.dev/colab-wheels/public/simple/\n",
            "Requirement already satisfied: pip in /usr/local/lib/python3.10/dist-packages (23.1.2)\n"
          ]
        }
      ],
      "source": [
        "pip install --upgrade pip"
      ]
    },
    {
      "cell_type": "code",
      "execution_count": null,
      "metadata": {
        "colab": {
          "base_uri": "https://localhost:8080/"
        },
        "id": "RYSjS9PoXY4l",
        "outputId": "e19b7fb4-d9e0-480d-c4eb-51d1a8a97372"
      },
      "outputs": [
        {
          "output_type": "stream",
          "name": "stdout",
          "text": [
            "Looking in indexes: https://pypi.org/simple, https://us-python.pkg.dev/colab-wheels/public/simple/\n",
            "Collecting open-ephys-python-tools\n",
            "  Downloading open-ephys-python-tools-0.1.4.tar.gz (380 kB)\n",
            "\u001b[2K     \u001b[90m━━━━━━━━━━━━━━━━━━━━━━━━━━━━━━━━━━━━━━\u001b[0m \u001b[32m380.6/380.6 kB\u001b[0m \u001b[31m11.9 MB/s\u001b[0m eta \u001b[36m0:00:00\u001b[0m\n",
            "\u001b[?25h  Installing build dependencies ... \u001b[?25l\u001b[?25hdone\n",
            "  Getting requirements to build wheel ... \u001b[?25l\u001b[?25hdone\n",
            "  Installing backend dependencies ... \u001b[?25l\u001b[?25hdone\n",
            "  Preparing metadata (pyproject.toml) ... \u001b[?25l\u001b[?25hdone\n",
            "Requirement already satisfied: numpy in /usr/local/lib/python3.10/dist-packages (from open-ephys-python-tools) (1.22.4)\n",
            "Requirement already satisfied: pandas in /usr/local/lib/python3.10/dist-packages (from open-ephys-python-tools) (1.5.3)\n",
            "Requirement already satisfied: h5py in /usr/local/lib/python3.10/dist-packages (from open-ephys-python-tools) (3.8.0)\n",
            "Collecting zmq (from open-ephys-python-tools)\n",
            "  Downloading zmq-0.0.0.zip (2.2 kB)\n",
            "  Preparing metadata (setup.py) ... \u001b[?25l\u001b[?25hdone\n",
            "Requirement already satisfied: requests in /usr/local/lib/python3.10/dist-packages (from open-ephys-python-tools) (2.27.1)\n",
            "Requirement already satisfied: python-dateutil>=2.8.1 in /usr/local/lib/python3.10/dist-packages (from pandas->open-ephys-python-tools) (2.8.2)\n",
            "Requirement already satisfied: pytz>=2020.1 in /usr/local/lib/python3.10/dist-packages (from pandas->open-ephys-python-tools) (2022.7.1)\n",
            "Requirement already satisfied: urllib3<1.27,>=1.21.1 in /usr/local/lib/python3.10/dist-packages (from requests->open-ephys-python-tools) (1.26.15)\n",
            "Requirement already satisfied: certifi>=2017.4.17 in /usr/local/lib/python3.10/dist-packages (from requests->open-ephys-python-tools) (2022.12.7)\n",
            "Requirement already satisfied: charset-normalizer~=2.0.0 in /usr/local/lib/python3.10/dist-packages (from requests->open-ephys-python-tools) (2.0.12)\n",
            "Requirement already satisfied: idna<4,>=2.5 in /usr/local/lib/python3.10/dist-packages (from requests->open-ephys-python-tools) (3.4)\n",
            "Requirement already satisfied: pyzmq in /usr/local/lib/python3.10/dist-packages (from zmq->open-ephys-python-tools) (23.2.1)\n",
            "Requirement already satisfied: six>=1.5 in /usr/local/lib/python3.10/dist-packages (from python-dateutil>=2.8.1->pandas->open-ephys-python-tools) (1.16.0)\n",
            "Building wheels for collected packages: open-ephys-python-tools, zmq\n",
            "  Building wheel for open-ephys-python-tools (pyproject.toml) ... \u001b[?25l\u001b[?25hdone\n",
            "  Created wheel for open-ephys-python-tools: filename=open_ephys_python_tools-0.1.4-py3-none-any.whl size=38789 sha256=1c93eb4f80eb54975d3c31afc2ef1a360752abd887a5f9967ac8abf6fe47cc56\n",
            "  Stored in directory: /root/.cache/pip/wheels/41/31/b0/98896ac5a95a729ddd3ec0e315d3d67a0396b9a586b4616adb\n",
            "  Building wheel for zmq (setup.py) ... \u001b[?25l\u001b[?25hdone\n",
            "  Created wheel for zmq: filename=zmq-0.0.0-py3-none-any.whl size=1264 sha256=ce00f13cbd6823d4df417992424f1d0914ff59f2ef2016b95d0d06bbe74cdd40\n",
            "  Stored in directory: /root/.cache/pip/wheels/ab/c5/fe/d853f71843cae26c123d37a7a5934baac20fc66f35a913951d\n",
            "Successfully built open-ephys-python-tools zmq\n",
            "Installing collected packages: zmq, open-ephys-python-tools\n",
            "Successfully installed open-ephys-python-tools-0.1.4 zmq-0.0.0\n"
          ]
        }
      ],
      "source": [
        "pip install open-ephys-python-tools"
      ]
    },
    {
      "cell_type": "code",
      "execution_count": null,
      "metadata": {
        "id": "DhmSG8a9Xckd"
      },
      "outputs": [],
      "source": [
        "from open_ephys.analysis import Session\n",
        "\n",
        "import matplotlib.pyplot as plt\n",
        "import numpy as np\n",
        "import pandas as pd\n",
        "\n",
        "import scipy as sp\n",
        "from scipy import signal\n",
        "import math\n",
        "from scipy.signal import welch, spectrogram, coherence, find_peaks, firwin, lfilter, filtfilt\n",
        "import seaborn as sn\n",
        "import scipy.signal as sig\n",
        "\n",
        "import math\n",
        "import time as ttime\n",
        "from numpy.fft import fft, ifft, rfft, fftfreq\n",
        "from scipy.signal import firwin, lfilter, filtfilt\n",
        "from scipy.io import loadmat\n"
      ]
    },
    {
      "cell_type": "code",
      "execution_count": null,
      "metadata": {
        "colab": {
          "base_uri": "https://localhost:8080/"
        },
        "id": "JJ_gyXm7Xjhc",
        "outputId": "6cee3cbc-0124-4443-a59a-a531bec96aad"
      },
      "outputs": [
        {
          "output_type": "stream",
          "name": "stdout",
          "text": [
            "Mounted at /content/drive\n"
          ]
        }
      ],
      "source": [
        "from google.colab import drive\n",
        "drive.mount('/content/drive')"
      ]
    },
    {
      "cell_type": "markdown",
      "source": [
        "## MAPEAMENTO DOS CH DE ACORDO COM IMUNO\n",
        "# CCM 497\n",
        "* IL --> ch 1-8\n",
        "* PRL --> ch 25-32\n",
        "* CG 2 --> ch 17-24\n",
        "* CG 1 --> ch 9-16\n",
        "\n",
        "# CCM 559\n",
        "* IL --> ficou fora!\n",
        "* PRL --> ch 25-32 e ch 9-16\n",
        "* CG 2 --> não pegou\n",
        "* CG1 --> ch 17-24\n"
      ],
      "metadata": {
        "id": "E-NYZIek4ni-"
      }
    },
    {
      "cell_type": "markdown",
      "metadata": {
        "id": "ry5sJHbZ6SHr"
      },
      "source": [
        "> # CCM 497\n",
        "Canais de interesse: PRL --> ch 25-32, CG 1 --> ch 9-16"
      ]
    },
    {
      "cell_type": "code",
      "execution_count": null,
      "metadata": {
        "id": "c1Wou9DoXnf6"
      },
      "outputs": [],
      "source": [
        "OF_pre_497 = '/content/drive/Shareddrives/Registros open ephys Desamparo/Registros desamparo open ephys/Experimento Ephys/Dia 2 - Screening 16 12 22/OF pré-screening/CCM497'\n",
        "OF_pos_497 = '/content/drive/Shareddrives/Registros open ephys Desamparo/Registros desamparo open ephys/Experimento Ephys/Dia 2 - Screening 16 12 22/OF pós-screening/CCM497'\n",
        "\n",
        "session1_497 = Session(OF_pre_497)\n",
        "session2_497 = Session(OF_pos_497)"
      ]
    },
    {
      "cell_type": "code",
      "execution_count": null,
      "metadata": {
        "id": "PyLHo0i8Xz2d"
      },
      "outputs": [],
      "source": [
        "# OF_pre\n",
        "rn1 = session1_497.recordnodes[0].recordings[0] #selecionando o record node desejado\n",
        "\n",
        "# OF_pos\n",
        "rn2 = session2_497.recordnodes[0].recordings[0] #selecionando o record node desejado\n",
        "\n",
        "\n",
        "\n",
        "# Ajustando o vetor de timestamps para iniciar em zero e ter o mesmo tamanho do dado\n",
        "t_raw1= rn1.continuous[0].timestamps\n",
        "t1 = t_raw1-t_raw1[0]\n",
        "\n",
        "t_raw2= rn2.continuous[0].timestamps\n",
        "t2 = t_raw2-t_raw2[0]\n",
        "\n",
        "# EXTRAINDO OS DADOS\n",
        "data_pre = rn1.continuous[0].get_samples(start_sample_index=0, end_sample_index=len(t1))\n",
        "data_pos = rn2.continuous[0].get_samples(start_sample_index=0, end_sample_index=len(t2))"
      ]
    },
    {
      "cell_type": "code",
      "execution_count": null,
      "metadata": {
        "id": "LWzkSVVuaPZb"
      },
      "outputs": [],
      "source": [
        "\n",
        "window = signal.windows.hamming(1000)\n",
        "\n",
        "\n",
        "\n",
        "\n",
        "#filtros das faixas de freq\n",
        "filt_delta = firwin(101, [0.5,4], pass_zero='bandpass', window='hamming',  fs=1000)\n",
        "filt_theta = firwin(101, [4,8], pass_zero='bandpass', window='hamming',  fs=1000)\n",
        "# filt_alpha_beta = firwin(101, [8,30], pass_zero='bandpass', window='hamming',  fs=1000)\n",
        "# filt_lowgamma = firwin(101, [30,50], pass_zero='bandpass', window='hamming',  fs=1000)\n",
        "# filt_highgamma = firwin(101, [80,500], pass_zero='bandpass', window='hamming',  fs=1000)\n",
        "\n",
        "\n",
        "# ARMAZENANDO OS SINAIS EM UMA LISTA\n",
        "lista_of_pre_497 = []\n",
        "for i in range(32):\n",
        "  lista_of_pre_497.append(data_pre[:,[i]])\n",
        "\n",
        "lista_of_pos_497 = []\n",
        "for i in range(32):\n",
        "  lista_of_pos_497.append(data_pos[:,[i]])\n",
        "\n",
        "#Canais de interesse 497: PRL --> ch 25-32, CG 1 --> ch 9-16\n",
        "\n",
        "\n",
        "\n",
        "\n"
      ]
    },
    {
      "cell_type": "code",
      "execution_count": null,
      "metadata": {
        "id": "Sn09fiNIK9A3"
      },
      "outputs": [],
      "source": [
        "# definir as frequências de corte do filtro\n",
        "fc_low = 59\n",
        "fc_high = 61\n",
        "\n",
        "# definir a ordem do filtro\n",
        "order = 5\n",
        "# projetar o filtro Butterworth\n",
        "b, a = signal.butter(order, [fc_low/(0.5*1000), fc_high/(0.5*1000)], btype='bandstop')\n",
        "\n",
        "#canal com o melhor sinal p representar cada região\n",
        "PRL_pre = signal.filtfilt(b, a, lista_of_pre_497[30].transpose())\n",
        "PRL_pos = signal.filtfilt(b, a, lista_of_pos_497[30].transpose())\n",
        "\n",
        "CG1_pre = signal.filtfilt(b, a, lista_of_pre_497[9].transpose())\n",
        "CG1_pos = signal.filtfilt(b, a, lista_of_pos_497[9].transpose())\n",
        "\n"
      ]
    },
    {
      "cell_type": "code",
      "source": [
        "condicao = {'PRL_pre':PRL_pre,\n",
        "            'CG1_pre':CG1_pre,\n",
        "            'PRL_pos':PRL_pos,\n",
        "            'CG1_pos':CG1_pos}"
      ],
      "metadata": {
        "id": "7QswzIeAof6F"
      },
      "execution_count": null,
      "outputs": []
    },
    {
      "cell_type": "code",
      "source": [
        "\n",
        "for index,key in enumerate(condicao): # a funcao enumerate retorna o incice e o valor, aqui nesse caso eu vou usar só o valor que é uma key do meu dicionario 'condicao'\n",
        "  f, p = welch(condicao[key], fs=1000, nperseg=1000, noverlap = 900)\n",
        "  p = p/np.mean(p)\n",
        "\n",
        "  df_temp = pd.DataFrame({'freq':f,'pot':p[0]}) #criando um df temporário com as freq e pot\n",
        "  df_temp['cond'] = key #adicionando ao df uma coluna com a condicao do exp\n",
        "\n",
        "  if index == 0: # aqui estou criando pela primeira vez o df, ele será atualizado no else\n",
        "    df_final = df_temp\n",
        "  else:\n",
        "    df_final = pd.concat([df_final, df_temp], ignore_index=True) #todos os proximos rounds o df temporario vai ser atualizado e concatenado no df final\n",
        "\n",
        "df_final"
      ],
      "metadata": {
        "colab": {
          "base_uri": "https://localhost:8080/",
          "height": 424
        },
        "id": "i3BsPXCC2PDv",
        "outputId": "6002b142-606b-4511-a261-56ad65872a1a"
      },
      "execution_count": null,
      "outputs": [
        {
          "output_type": "execute_result",
          "data": {
            "text/plain": [
              "       freq        pot     cond\n",
              "0       0.0   3.010361  PRL_pre\n",
              "1       1.0  15.904678  PRL_pre\n",
              "2       2.0  33.778292  PRL_pre\n",
              "3       3.0  44.764044  PRL_pre\n",
              "4       4.0  43.529064  PRL_pre\n",
              "...     ...        ...      ...\n",
              "1999  496.0   0.040945  CG1_pos\n",
              "2000  497.0   0.039711  CG1_pos\n",
              "2001  498.0   0.039193  CG1_pos\n",
              "2002  499.0   0.038726  CG1_pos\n",
              "2003  500.0   0.019212  CG1_pos\n",
              "\n",
              "[2004 rows x 3 columns]"
            ],
            "text/html": [
              "\n",
              "  <div id=\"df-cc57c03d-ed8f-4a5d-8967-632c95791085\">\n",
              "    <div class=\"colab-df-container\">\n",
              "      <div>\n",
              "<style scoped>\n",
              "    .dataframe tbody tr th:only-of-type {\n",
              "        vertical-align: middle;\n",
              "    }\n",
              "\n",
              "    .dataframe tbody tr th {\n",
              "        vertical-align: top;\n",
              "    }\n",
              "\n",
              "    .dataframe thead th {\n",
              "        text-align: right;\n",
              "    }\n",
              "</style>\n",
              "<table border=\"1\" class=\"dataframe\">\n",
              "  <thead>\n",
              "    <tr style=\"text-align: right;\">\n",
              "      <th></th>\n",
              "      <th>freq</th>\n",
              "      <th>pot</th>\n",
              "      <th>cond</th>\n",
              "    </tr>\n",
              "  </thead>\n",
              "  <tbody>\n",
              "    <tr>\n",
              "      <th>0</th>\n",
              "      <td>0.0</td>\n",
              "      <td>3.010361</td>\n",
              "      <td>PRL_pre</td>\n",
              "    </tr>\n",
              "    <tr>\n",
              "      <th>1</th>\n",
              "      <td>1.0</td>\n",
              "      <td>15.904678</td>\n",
              "      <td>PRL_pre</td>\n",
              "    </tr>\n",
              "    <tr>\n",
              "      <th>2</th>\n",
              "      <td>2.0</td>\n",
              "      <td>33.778292</td>\n",
              "      <td>PRL_pre</td>\n",
              "    </tr>\n",
              "    <tr>\n",
              "      <th>3</th>\n",
              "      <td>3.0</td>\n",
              "      <td>44.764044</td>\n",
              "      <td>PRL_pre</td>\n",
              "    </tr>\n",
              "    <tr>\n",
              "      <th>4</th>\n",
              "      <td>4.0</td>\n",
              "      <td>43.529064</td>\n",
              "      <td>PRL_pre</td>\n",
              "    </tr>\n",
              "    <tr>\n",
              "      <th>...</th>\n",
              "      <td>...</td>\n",
              "      <td>...</td>\n",
              "      <td>...</td>\n",
              "    </tr>\n",
              "    <tr>\n",
              "      <th>1999</th>\n",
              "      <td>496.0</td>\n",
              "      <td>0.040945</td>\n",
              "      <td>CG1_pos</td>\n",
              "    </tr>\n",
              "    <tr>\n",
              "      <th>2000</th>\n",
              "      <td>497.0</td>\n",
              "      <td>0.039711</td>\n",
              "      <td>CG1_pos</td>\n",
              "    </tr>\n",
              "    <tr>\n",
              "      <th>2001</th>\n",
              "      <td>498.0</td>\n",
              "      <td>0.039193</td>\n",
              "      <td>CG1_pos</td>\n",
              "    </tr>\n",
              "    <tr>\n",
              "      <th>2002</th>\n",
              "      <td>499.0</td>\n",
              "      <td>0.038726</td>\n",
              "      <td>CG1_pos</td>\n",
              "    </tr>\n",
              "    <tr>\n",
              "      <th>2003</th>\n",
              "      <td>500.0</td>\n",
              "      <td>0.019212</td>\n",
              "      <td>CG1_pos</td>\n",
              "    </tr>\n",
              "  </tbody>\n",
              "</table>\n",
              "<p>2004 rows × 3 columns</p>\n",
              "</div>\n",
              "      <button class=\"colab-df-convert\" onclick=\"convertToInteractive('df-cc57c03d-ed8f-4a5d-8967-632c95791085')\"\n",
              "              title=\"Convert this dataframe to an interactive table.\"\n",
              "              style=\"display:none;\">\n",
              "        \n",
              "  <svg xmlns=\"http://www.w3.org/2000/svg\" height=\"24px\"viewBox=\"0 0 24 24\"\n",
              "       width=\"24px\">\n",
              "    <path d=\"M0 0h24v24H0V0z\" fill=\"none\"/>\n",
              "    <path d=\"M18.56 5.44l.94 2.06.94-2.06 2.06-.94-2.06-.94-.94-2.06-.94 2.06-2.06.94zm-11 1L8.5 8.5l.94-2.06 2.06-.94-2.06-.94L8.5 2.5l-.94 2.06-2.06.94zm10 10l.94 2.06.94-2.06 2.06-.94-2.06-.94-.94-2.06-.94 2.06-2.06.94z\"/><path d=\"M17.41 7.96l-1.37-1.37c-.4-.4-.92-.59-1.43-.59-.52 0-1.04.2-1.43.59L10.3 9.45l-7.72 7.72c-.78.78-.78 2.05 0 2.83L4 21.41c.39.39.9.59 1.41.59.51 0 1.02-.2 1.41-.59l7.78-7.78 2.81-2.81c.8-.78.8-2.07 0-2.86zM5.41 20L4 18.59l7.72-7.72 1.47 1.35L5.41 20z\"/>\n",
              "  </svg>\n",
              "      </button>\n",
              "      \n",
              "  <style>\n",
              "    .colab-df-container {\n",
              "      display:flex;\n",
              "      flex-wrap:wrap;\n",
              "      gap: 12px;\n",
              "    }\n",
              "\n",
              "    .colab-df-convert {\n",
              "      background-color: #E8F0FE;\n",
              "      border: none;\n",
              "      border-radius: 50%;\n",
              "      cursor: pointer;\n",
              "      display: none;\n",
              "      fill: #1967D2;\n",
              "      height: 32px;\n",
              "      padding: 0 0 0 0;\n",
              "      width: 32px;\n",
              "    }\n",
              "\n",
              "    .colab-df-convert:hover {\n",
              "      background-color: #E2EBFA;\n",
              "      box-shadow: 0px 1px 2px rgba(60, 64, 67, 0.3), 0px 1px 3px 1px rgba(60, 64, 67, 0.15);\n",
              "      fill: #174EA6;\n",
              "    }\n",
              "\n",
              "    [theme=dark] .colab-df-convert {\n",
              "      background-color: #3B4455;\n",
              "      fill: #D2E3FC;\n",
              "    }\n",
              "\n",
              "    [theme=dark] .colab-df-convert:hover {\n",
              "      background-color: #434B5C;\n",
              "      box-shadow: 0px 1px 3px 1px rgba(0, 0, 0, 0.15);\n",
              "      filter: drop-shadow(0px 1px 2px rgba(0, 0, 0, 0.3));\n",
              "      fill: #FFFFFF;\n",
              "    }\n",
              "  </style>\n",
              "\n",
              "      <script>\n",
              "        const buttonEl =\n",
              "          document.querySelector('#df-cc57c03d-ed8f-4a5d-8967-632c95791085 button.colab-df-convert');\n",
              "        buttonEl.style.display =\n",
              "          google.colab.kernel.accessAllowed ? 'block' : 'none';\n",
              "\n",
              "        async function convertToInteractive(key) {\n",
              "          const element = document.querySelector('#df-cc57c03d-ed8f-4a5d-8967-632c95791085');\n",
              "          const dataTable =\n",
              "            await google.colab.kernel.invokeFunction('convertToInteractive',\n",
              "                                                     [key], {});\n",
              "          if (!dataTable) return;\n",
              "\n",
              "          const docLinkHtml = 'Like what you see? Visit the ' +\n",
              "            '<a target=\"_blank\" href=https://colab.research.google.com/notebooks/data_table.ipynb>data table notebook</a>'\n",
              "            + ' to learn more about interactive tables.';\n",
              "          element.innerHTML = '';\n",
              "          dataTable['output_type'] = 'display_data';\n",
              "          await google.colab.output.renderOutput(dataTable, element);\n",
              "          const docLink = document.createElement('div');\n",
              "          docLink.innerHTML = docLinkHtml;\n",
              "          element.appendChild(docLink);\n",
              "        }\n",
              "      </script>\n",
              "    </div>\n",
              "  </div>\n",
              "  "
            ]
          },
          "metadata": {},
          "execution_count": 76
        }
      ]
    },
    {
      "cell_type": "markdown",
      "source": [
        "## Como acessar elementos de um DataFrame:"
      ],
      "metadata": {
        "id": "tGLhMppi5NdV"
      }
    },
    {
      "cell_type": "code",
      "source": [
        "df_final['pot']"
      ],
      "metadata": {
        "colab": {
          "base_uri": "https://localhost:8080/"
        },
        "id": "WorOa04P6EJa",
        "outputId": "c99f57de-8a12-46aa-ddb2-bb25f3727cb4"
      },
      "execution_count": null,
      "outputs": [
        {
          "output_type": "execute_result",
          "data": {
            "text/plain": [
              "0        3.010361\n",
              "1       15.904678\n",
              "2       33.778292\n",
              "3       44.764044\n",
              "4       43.529064\n",
              "          ...    \n",
              "1999     0.040945\n",
              "2000     0.039711\n",
              "2001     0.039193\n",
              "2002     0.038726\n",
              "2003     0.019212\n",
              "Name: pot, Length: 2004, dtype: float64"
            ]
          },
          "metadata": {},
          "execution_count": 50
        }
      ]
    },
    {
      "cell_type": "code",
      "source": [
        "df_final['pot'].plot()"
      ],
      "metadata": {
        "colab": {
          "base_uri": "https://localhost:8080/",
          "height": 447
        },
        "id": "_LYAMTW6xykO",
        "outputId": "5ac4351e-6309-4b69-afaa-a96c1ac1b609"
      },
      "execution_count": null,
      "outputs": [
        {
          "output_type": "execute_result",
          "data": {
            "text/plain": [
              "<Axes: >"
            ]
          },
          "metadata": {},
          "execution_count": 49
        },
        {
          "output_type": "display_data",
          "data": {
            "text/plain": [
              "<Figure size 640x480 with 1 Axes>"
            ],
            "image/png": "[encoded data removed]"
          },
          "metadata": {}
        }
      ]
    },
    {
      "cell_type": "code",
      "source": [
        "df_final.iloc[0:501,1].plot()"
      ],
      "metadata": {
        "colab": {
          "base_uri": "https://localhost:8080/",
          "height": 447
        },
        "id": "kTdD_jYN6n55",
        "outputId": "4e20bbc4-cebc-438e-b537-e15a01a35eb8"
      },
      "execution_count": null,
      "outputs": [
        {
          "output_type": "execute_result",
          "data": {
            "text/plain": [
              "<Axes: >"
            ]
          },
          "metadata": {},
          "execution_count": 58
        },
        {
          "output_type": "display_data",
          "data": {
            "text/plain": [
              "<Figure size 640x480 with 1 Axes>"
            ],
            "image/png": "[encoded data removed]"
          },
          "metadata": {}
        }
      ]
    },
    {
      "cell_type": "code",
      "source": [
        "df_final.iloc[0] # iloc acessa indices numericos do df, o primeiro item são as LINHAS, o segundo são as COLUNAS"
      ],
      "metadata": {
        "colab": {
          "base_uri": "https://localhost:8080/"
        },
        "id": "ur_lr1Wx6GvN",
        "outputId": "8c2f1227-2fce-4fa6-f971-2f5bbe44ca87"
      },
      "execution_count": null,
      "outputs": [
        {
          "output_type": "execute_result",
          "data": {
            "text/plain": [
              "freq         0.0\n",
              "pot     3.010361\n",
              "cond     PRL_pre\n",
              "Name: 0, dtype: object"
            ]
          },
          "metadata": {},
          "execution_count": 51
        }
      ]
    },
    {
      "cell_type": "code",
      "source": [
        "df_final.loc[:,'cond']"
      ],
      "metadata": {
        "colab": {
          "base_uri": "https://localhost:8080/"
        },
        "id": "uocFVOb57iEG",
        "outputId": "bfeaab9d-2a6a-474f-a1ba-6bb7f90b72e0"
      },
      "execution_count": null,
      "outputs": [
        {
          "output_type": "execute_result",
          "data": {
            "text/plain": [
              "0       PRL_pre\n",
              "1       PRL_pre\n",
              "2       PRL_pre\n",
              "3       PRL_pre\n",
              "4       PRL_pre\n",
              "         ...   \n",
              "1999    CG1_pos\n",
              "2000    CG1_pos\n",
              "2001    CG1_pos\n",
              "2002    CG1_pos\n",
              "2003    CG1_pos\n",
              "Name: cond, Length: 2004, dtype: object"
            ]
          },
          "metadata": {},
          "execution_count": 60
        }
      ]
    },
    {
      "cell_type": "code",
      "source": [
        "df['cond'] = 'PRL_pre' # com essa linha estou criando uma coluna em que a condicao se repete"
      ],
      "metadata": {
        "id": "TznXicVXzz_W"
      },
      "execution_count": null,
      "outputs": []
    },
    {
      "cell_type": "markdown",
      "source": [
        "## Como filtrar um DataFrame:"
      ],
      "metadata": {
        "id": "-bcpBFJQ8Wye"
      }
    },
    {
      "cell_type": "code",
      "source": [
        "(df_final['cond'] == 'PRL_pre').mean() # fazendo a media vc terá a proporcao desse elemento dentro do df\n",
        "\n",
        "(df_final['cond'] == 'PRL_pre').sum() # ao somar vc conta quantos elementos correspondem a essa condicao"
      ],
      "metadata": {
        "colab": {
          "base_uri": "https://localhost:8080/"
        },
        "id": "UxAGeBVA9QSD",
        "outputId": "d573cad2-b821-4597-d6f8-1952349865f2"
      },
      "execution_count": null,
      "outputs": [
        {
          "output_type": "execute_result",
          "data": {
            "text/plain": [
              "0.25"
            ]
          },
          "metadata": {},
          "execution_count": 63
        }
      ]
    },
    {
      "cell_type": "code",
      "source": [
        "df_final['cond'] == 'PRL_pre' #criando uma mascara booleana, ela servirá de índice para o seu df, o resultado vai mostrar só as condiçoes que estão dentro desse indice"
      ],
      "metadata": {
        "colab": {
          "base_uri": "https://localhost:8080/"
        },
        "id": "cgl82vhT8zQ2",
        "outputId": "4bb2437b-e02d-4e37-df72-effff0c1ee51"
      },
      "execution_count": null,
      "outputs": [
        {
          "output_type": "execute_result",
          "data": {
            "text/plain": [
              "0        True\n",
              "1        True\n",
              "2        True\n",
              "3        True\n",
              "4        True\n",
              "        ...  \n",
              "1999    False\n",
              "2000    False\n",
              "2001    False\n",
              "2002    False\n",
              "2003    False\n",
              "Name: cond, Length: 2004, dtype: bool"
            ]
          },
          "metadata": {},
          "execution_count": 61
        }
      ]
    },
    {
      "cell_type": "code",
      "source": [
        "df_final[df_final['cond'] == 'PRL_pre'] # assim esta indexando o df com uma mascara booleana, ira resultar apenas nas partes que correspondem a condicao q esta dentro do []"
      ],
      "metadata": {
        "colab": {
          "base_uri": "https://localhost:8080/",
          "height": 424
        },
        "id": "iZ8SQJxO9xnP",
        "outputId": "5da9a2f5-dab1-4156-f027-a99de79cafc3"
      },
      "execution_count": null,
      "outputs": [
        {
          "output_type": "execute_result",
          "data": {
            "text/plain": [
              "      freq        pot     cond\n",
              "0      0.0   3.010361  PRL_pre\n",
              "1      1.0  15.904678  PRL_pre\n",
              "2      2.0  33.778292  PRL_pre\n",
              "3      3.0  44.764044  PRL_pre\n",
              "4      4.0  43.529064  PRL_pre\n",
              "..     ...        ...      ...\n",
              "496  496.0   0.043699  PRL_pre\n",
              "497  497.0   0.042757  PRL_pre\n",
              "498  498.0   0.043554  PRL_pre\n",
              "499  499.0   0.041917  PRL_pre\n",
              "500  500.0   0.019755  PRL_pre\n",
              "\n",
              "[501 rows x 3 columns]"
            ],
            "text/html": [
              "\n",
              "  <div id=\"df-4e1bf63d-e3af-4d4a-8c14-a3962793b67a\">\n",
              "    <div class=\"colab-df-container\">\n",
              "      <div>\n",
              "<style scoped>\n",
              "    .dataframe tbody tr th:only-of-type {\n",
              "        vertical-align: middle;\n",
              "    }\n",
              "\n",
              "    .dataframe tbody tr th {\n",
              "        vertical-align: top;\n",
              "    }\n",
              "\n",
              "    .dataframe thead th {\n",
              "        text-align: right;\n",
              "    }\n",
              "</style>\n",
              "<table border=\"1\" class=\"dataframe\">\n",
              "  <thead>\n",
              "    <tr style=\"text-align: right;\">\n",
              "      <th></th>\n",
              "      <th>freq</th>\n",
              "      <th>pot</th>\n",
              "      <th>cond</th>\n",
              "    </tr>\n",
              "  </thead>\n",
              "  <tbody>\n",
              "    <tr>\n",
              "      <th>0</th>\n",
              "      <td>0.0</td>\n",
              "      <td>3.010361</td>\n",
              "      <td>PRL_pre</td>\n",
              "    </tr>\n",
              "    <tr>\n",
              "      <th>1</th>\n",
              "      <td>1.0</td>\n",
              "      <td>15.904678</td>\n",
              "      <td>PRL_pre</td>\n",
              "    </tr>\n",
              "    <tr>\n",
              "      <th>2</th>\n",
              "      <td>2.0</td>\n",
              "      <td>33.778292</td>\n",
              "      <td>PRL_pre</td>\n",
              "    </tr>\n",
              "    <tr>\n",
              "      <th>3</th>\n",
              "      <td>3.0</td>\n",
              "      <td>44.764044</td>\n",
              "      <td>PRL_pre</td>\n",
              "    </tr>\n",
              "    <tr>\n",
              "      <th>4</th>\n",
              "      <td>4.0</td>\n",
              "      <td>43.529064</td>\n",
              "      <td>PRL_pre</td>\n",
              "    </tr>\n",
              "    <tr>\n",
              "      <th>...</th>\n",
              "      <td>...</td>\n",
              "      <td>...</td>\n",
              "      <td>...</td>\n",
              "    </tr>\n",
              "    <tr>\n",
              "      <th>496</th>\n",
              "      <td>496.0</td>\n",
              "      <td>0.043699</td>\n",
              "      <td>PRL_pre</td>\n",
              "    </tr>\n",
              "    <tr>\n",
              "      <th>497</th>\n",
              "      <td>497.0</td>\n",
              "      <td>0.042757</td>\n",
              "      <td>PRL_pre</td>\n",
              "    </tr>\n",
              "    <tr>\n",
              "      <th>498</th>\n",
              "      <td>498.0</td>\n",
              "      <td>0.043554</td>\n",
              "      <td>PRL_pre</td>\n",
              "    </tr>\n",
              "    <tr>\n",
              "      <th>499</th>\n",
              "      <td>499.0</td>\n",
              "      <td>0.041917</td>\n",
              "      <td>PRL_pre</td>\n",
              "    </tr>\n",
              "    <tr>\n",
              "      <th>500</th>\n",
              "      <td>500.0</td>\n",
              "      <td>0.019755</td>\n",
              "      <td>PRL_pre</td>\n",
              "    </tr>\n",
              "  </tbody>\n",
              "</table>\n",
              "<p>501 rows × 3 columns</p>\n",
              "</div>\n",
              "      <button class=\"colab-df-convert\" onclick=\"convertToInteractive('df-4e1bf63d-e3af-4d4a-8c14-a3962793b67a')\"\n",
              "              title=\"Convert this dataframe to an interactive table.\"\n",
              "              style=\"display:none;\">\n",
              "        \n",
              "  <svg xmlns=\"http://www.w3.org/2000/svg\" height=\"24px\"viewBox=\"0 0 24 24\"\n",
              "       width=\"24px\">\n",
              "    <path d=\"M0 0h24v24H0V0z\" fill=\"none\"/>\n",
              "    <path d=\"M18.56 5.44l.94 2.06.94-2.06 2.06-.94-2.06-.94-.94-2.06-.94 2.06-2.06.94zm-11 1L8.5 8.5l.94-2.06 2.06-.94-2.06-.94L8.5 2.5l-.94 2.06-2.06.94zm10 10l.94 2.06.94-2.06 2.06-.94-2.06-.94-.94-2.06-.94 2.06-2.06.94z\"/><path d=\"M17.41 7.96l-1.37-1.37c-.4-.4-.92-.59-1.43-.59-.52 0-1.04.2-1.43.59L10.3 9.45l-7.72 7.72c-.78.78-.78 2.05 0 2.83L4 21.41c.39.39.9.59 1.41.59.51 0 1.02-.2 1.41-.59l7.78-7.78 2.81-2.81c.8-.78.8-2.07 0-2.86zM5.41 20L4 18.59l7.72-7.72 1.47 1.35L5.41 20z\"/>\n",
              "  </svg>\n",
              "      </button>\n",
              "      \n",
              "  <style>\n",
              "    .colab-df-container {\n",
              "      display:flex;\n",
              "      flex-wrap:wrap;\n",
              "      gap: 12px;\n",
              "    }\n",
              "\n",
              "    .colab-df-convert {\n",
              "      background-color: #E8F0FE;\n",
              "      border: none;\n",
              "      border-radius: 50%;\n",
              "      cursor: pointer;\n",
              "      display: none;\n",
              "      fill: #1967D2;\n",
              "      height: 32px;\n",
              "      padding: 0 0 0 0;\n",
              "      width: 32px;\n",
              "    }\n",
              "\n",
              "    .colab-df-convert:hover {\n",
              "      background-color: #E2EBFA;\n",
              "      box-shadow: 0px 1px 2px rgba(60, 64, 67, 0.3), 0px 1px 3px 1px rgba(60, 64, 67, 0.15);\n",
              "      fill: #174EA6;\n",
              "    }\n",
              "\n",
              "    [theme=dark] .colab-df-convert {\n",
              "      background-color: #3B4455;\n",
              "      fill: #D2E3FC;\n",
              "    }\n",
              "\n",
              "    [theme=dark] .colab-df-convert:hover {\n",
              "      background-color: #434B5C;\n",
              "      box-shadow: 0px 1px 3px 1px rgba(0, 0, 0, 0.15);\n",
              "      filter: drop-shadow(0px 1px 2px rgba(0, 0, 0, 0.3));\n",
              "      fill: #FFFFFF;\n",
              "    }\n",
              "  </style>\n",
              "\n",
              "      <script>\n",
              "        const buttonEl =\n",
              "          document.querySelector('#df-4e1bf63d-e3af-4d4a-8c14-a3962793b67a button.colab-df-convert');\n",
              "        buttonEl.style.display =\n",
              "          google.colab.kernel.accessAllowed ? 'block' : 'none';\n",
              "\n",
              "        async function convertToInteractive(key) {\n",
              "          const element = document.querySelector('#df-4e1bf63d-e3af-4d4a-8c14-a3962793b67a');\n",
              "          const dataTable =\n",
              "            await google.colab.kernel.invokeFunction('convertToInteractive',\n",
              "                                                     [key], {});\n",
              "          if (!dataTable) return;\n",
              "\n",
              "          const docLinkHtml = 'Like what you see? Visit the ' +\n",
              "            '<a target=\"_blank\" href=https://colab.research.google.com/notebooks/data_table.ipynb>data table notebook</a>'\n",
              "            + ' to learn more about interactive tables.';\n",
              "          element.innerHTML = '';\n",
              "          dataTable['output_type'] = 'display_data';\n",
              "          await google.colab.output.renderOutput(dataTable, element);\n",
              "          const docLink = document.createElement('div');\n",
              "          docLink.innerHTML = docLinkHtml;\n",
              "          element.appendChild(docLink);\n",
              "        }\n",
              "      </script>\n",
              "    </div>\n",
              "  </div>\n",
              "  "
            ]
          },
          "metadata": {},
          "execution_count": 64
        }
      ]
    },
    {
      "cell_type": "code",
      "source": [
        "PSD_PRE = df_final.query(' (12 >= freq >= 4) and (cond == \"PRL_pre\") ') #esse query vc cria condiçoes que vai querer filtrar o df"
      ],
      "metadata": {
        "colab": {
          "base_uri": "https://localhost:8080/"
        },
        "id": "-yZIA5h__dl4",
        "outputId": "b3f99879-04ec-4587-9d69-ce0f295bc8c3"
      },
      "execution_count": null,
      "outputs": [
        {
          "output_type": "execute_result",
          "data": {
            "text/plain": [
              "4     43.529064\n",
              "5     32.988175\n",
              "6     27.808640\n",
              "7     34.474304\n",
              "8     38.871261\n",
              "9     21.535313\n",
              "10    11.335582\n",
              "11     7.544558\n",
              "12     5.747199\n",
              "Name: pot, dtype: float64"
            ]
          },
          "metadata": {},
          "execution_count": 93
        }
      ]
    },
    {
      "cell_type": "code",
      "source": [
        "plt.plot(df_final[ (df_final['freq'] >= 4) & (df_final['freq'] <= 12) & (df_final['cond'] == 'PRL_pre')]['freq'],df_final[ (df_final['freq'] >= 4) & (df_final['freq'] <= 12) & (df_final['cond'] == 'PRL_pre')]['pot'], label = 'theta PRL_pre')\n",
        "plt.plot(df_final[ (df_final['freq'] >= 4) & (df_final['freq'] <= 12) & (df_final['cond'] == 'PRL_pos')]['freq'],df_final[ (df_final['freq'] >= 4) & (df_final['freq'] <= 12) & (df_final['cond'] == 'PRL_pos')]['pot'], label = 'theta PRL_pos')\n",
        "plt.legend()"
      ],
      "metadata": {
        "colab": {
          "base_uri": "https://localhost:8080/",
          "height": 447
        },
        "id": "hVx_SG5q-R0_",
        "outputId": "915489c1-2ee5-4ae3-8749-36f11af8bbc8"
      },
      "execution_count": null,
      "outputs": [
        {
          "output_type": "execute_result",
          "data": {
            "text/plain": [
              "<matplotlib.legend.Legend at 0x7f40090bc580>"
            ]
          },
          "metadata": {},
          "execution_count": 90
        },
        {
          "output_type": "display_data",
          "data": {
            "text/plain": [
              "<Figure size 640x480 with 1 Axes>"
            ],
            "image/png": "[encoded data removed]"
          },
          "metadata": {}
        }
      ]
    },
    {
      "cell_type": "code",
      "source": [
        "df_final.grouby(['cond'], as_index = False)['pot'].agg({'mean_p':np.mean, 'SE':sp.stats.sem})"
      ],
      "metadata": {
        "colab": {
          "base_uri": "https://localhost:8080/",
          "height": 289
        },
        "id": "n9So50eICM2N",
        "outputId": "828113de-6ecf-4953-8d0a-0c54fd8ccbf6"
      },
      "execution_count": null,
      "outputs": [
        {
          "output_type": "error",
          "ename": "AttributeError",
          "evalue": "ignored",
          "traceback": [
            "\u001b[0;31m---------------------------------------------------------------------------\u001b[0m",
            "\u001b[0;31mAttributeError\u001b[0m                            Traceback (most recent call last)",
            "\u001b[0;32m<ipython-input-91-a80809d62a3c>\u001b[0m in \u001b[0;36m<cell line: 1>\u001b[0;34m()\u001b[0m\n\u001b[0;32m----> 1\u001b[0;31m \u001b[0mdf_final\u001b[0m\u001b[0;34m.\u001b[0m\u001b[0mgrouby\u001b[0m\u001b[0;34m(\u001b[0m\u001b[0;34m[\u001b[0m\u001b[0;34m'cond'\u001b[0m\u001b[0;34m]\u001b[0m\u001b[0;34m,\u001b[0m \u001b[0mas_index\u001b[0m \u001b[0;34m=\u001b[0m \u001b[0;32mFalse\u001b[0m\u001b[0;34m)\u001b[0m\u001b[0;34m[\u001b[0m\u001b[0;34m'pot'\u001b[0m\u001b[0;34m]\u001b[0m\u001b[0;34m.\u001b[0m\u001b[0magg\u001b[0m\u001b[0;34m(\u001b[0m\u001b[0;34m{\u001b[0m\u001b[0;34m'mean_p'\u001b[0m\u001b[0;34m:\u001b[0m\u001b[0mnp\u001b[0m\u001b[0;34m.\u001b[0m\u001b[0mmean\u001b[0m\u001b[0;34m,\u001b[0m \u001b[0;34m'SE'\u001b[0m\u001b[0;34m:\u001b[0m\u001b[0msp\u001b[0m\u001b[0;34m.\u001b[0m\u001b[0mstats\u001b[0m\u001b[0;34m.\u001b[0m\u001b[0msem\u001b[0m\u001b[0;34m}\u001b[0m\u001b[0;34m)\u001b[0m\u001b[0;34m\u001b[0m\u001b[0;34m\u001b[0m\u001b[0m\n\u001b[0m",
            "\u001b[0;32m/usr/local/lib/python3.10/dist-packages/pandas/core/generic.py\u001b[0m in \u001b[0;36m__getattr__\u001b[0;34m(self, name)\u001b[0m\n\u001b[1;32m   5900\u001b[0m         ):\n\u001b[1;32m   5901\u001b[0m             \u001b[0;32mreturn\u001b[0m \u001b[0mself\u001b[0m\u001b[0;34m[\u001b[0m\u001b[0mname\u001b[0m\u001b[0;34m]\u001b[0m\u001b[0;34m\u001b[0m\u001b[0;34m\u001b[0m\u001b[0m\n\u001b[0;32m-> 5902\u001b[0;31m         \u001b[0;32mreturn\u001b[0m \u001b[0mobject\u001b[0m\u001b[0;34m.\u001b[0m\u001b[0m__getattribute__\u001b[0m\u001b[0;34m(\u001b[0m\u001b[0mself\u001b[0m\u001b[0;34m,\u001b[0m \u001b[0mname\u001b[0m\u001b[0;34m)\u001b[0m\u001b[0;34m\u001b[0m\u001b[0;34m\u001b[0m\u001b[0m\n\u001b[0m\u001b[1;32m   5903\u001b[0m \u001b[0;34m\u001b[0m\u001b[0m\n\u001b[1;32m   5904\u001b[0m     \u001b[0;32mdef\u001b[0m \u001b[0m__setattr__\u001b[0m\u001b[0;34m(\u001b[0m\u001b[0mself\u001b[0m\u001b[0;34m,\u001b[0m \u001b[0mname\u001b[0m\u001b[0;34m:\u001b[0m \u001b[0mstr\u001b[0m\u001b[0;34m,\u001b[0m \u001b[0mvalue\u001b[0m\u001b[0;34m)\u001b[0m \u001b[0;34m->\u001b[0m \u001b[0;32mNone\u001b[0m\u001b[0;34m:\u001b[0m\u001b[0;34m\u001b[0m\u001b[0;34m\u001b[0m\u001b[0m\n",
            "\u001b[0;31mAttributeError\u001b[0m: 'DataFrame' object has no attribute 'grouby'"
          ]
        }
      ]
    },
    {
      "cell_type": "markdown",
      "source": [],
      "metadata": {
        "id": "JXDFnS3L-6FU"
      }
    },
    {
      "cell_type": "code",
      "source": [
        "\n",
        "\n",
        "for i in range(len(condicao)):\n",
        "    key, value = list(condicao.items())[i]\n",
        "    plt.plot(f, 10**(10*np.log10(potencia[i].transpose())/10), label = str(key))\n",
        "    plt.xlim(0, 20)\n",
        "plt.title('PSD before and after Screening session')\n",
        "plt.legend()\n",
        "\n",
        "\n",
        "\n",
        "\n",
        "\n",
        "  # for i in range(len(condicao)):\n",
        "  #   for condicao in condicao:\n",
        "  #     plt.plot(f, 10**(10*np.log10(potencia[i].transpose())/10) , label = condicao)\n",
        "  #     plt.legend()\n",
        "  #     plt.xlim(0,20)"
      ],
      "metadata": {
        "colab": {
          "base_uri": "https://localhost:8080/",
          "height": 469
        },
        "id": "lsBj9ZcgqZn9",
        "outputId": "ad2a0e9f-d0f2-4d86-b2b2-7bab3430240a"
      },
      "execution_count": null,
      "outputs": [
        {
          "output_type": "execute_result",
          "data": {
            "text/plain": [
              "<matplotlib.legend.Legend at 0x7f4008e5f700>"
            ]
          },
          "metadata": {},
          "execution_count": 27
        },
        {
          "output_type": "display_data",
          "data": {
            "text/plain": [
              "<Figure size 640x480 with 1 Axes>"
            ],
            "image/png": "[encoded data removed]"
          },
          "metadata": {}
        }
      ]
    },
    {
      "cell_type": "code",
      "execution_count": null,
      "metadata": {
        "id": "X9_i-gyMgjW-"
      },
      "outputs": [],
      "source": [
        "f, p = welch(PRL_pre, fs=1000, nperseg=1000, noverlap = 900)\n",
        "p = p/np.mean(p)\n",
        "sdmn_pre = sp.stats.sem(p)\n",
        "\n",
        "\n",
        "\n",
        "\n",
        "plt.plot(f, 10**(10*np.log10(p.transpose())/10) , label='PSD pre-screening')\n",
        "\n",
        "\n",
        "\n",
        "plt.xlim(0,20)\n",
        "plt.title('PRL pré-screening')"
      ]
    },
    {
      "cell_type": "code",
      "execution_count": null,
      "metadata": {
        "id": "Oiz_p5M675bU"
      },
      "outputs": [],
      "source": [
        "f, p = welch(PRL_pos, fs=1000, nperseg=1000, noverlap = 900)\n",
        "p = p/np.mean(p)\n",
        "sdmn_pre = sp.stats.sem(p)\n",
        "\n",
        "\n",
        "\n",
        "\n",
        "plt.plot(f, 10**(10*np.log10(p.transpose())/10) , label='PSD pre-screening')\n",
        "\n",
        "\n",
        "\n",
        "plt.xlim(0,20)\n",
        "plt.title('PRL pos-screening')\n",
        "\n",
        "\n",
        "\n"
      ]
    },
    {
      "cell_type": "code",
      "source": [
        "f, p = welch(CG1_pre, fs=1000, nperseg=1000, noverlap = 900)\n",
        "p = p/np.mean(p)\n",
        "sdmn_pre = sp.stats.sem(p)\n",
        "\n",
        "\n",
        "\n",
        "\n",
        "plt.plot(f, 10**(10*np.log10(p.transpose())/10) , label='PSD pre-screening')\n",
        "\n",
        "\n",
        "\n",
        "plt.xlim(0,20)\n",
        "plt.title('CG1 pré-screening')\n"
      ],
      "metadata": {
        "id": "jho2PGPQAdho"
      },
      "execution_count": null,
      "outputs": []
    },
    {
      "cell_type": "code",
      "source": [
        "f, p = welch(CG1_pos, fs=1000, nperseg=1000, noverlap = 900)\n",
        "p = p/np.mean(p)\n",
        "sdmn_pre = sp.stats.sem(p)\n",
        "\n",
        "\n",
        "\n",
        "\n",
        "plt.plot(f, 10**(10*np.log10(p.transpose())/10) , label='PSD pre-screening')\n",
        "\n",
        "\n",
        "\n",
        "plt.xlim(0,20)\n",
        "plt.title('CG1 pos-screening')\n"
      ],
      "metadata": {
        "id": "JPli0c46AnK-"
      },
      "execution_count": null,
      "outputs": []
    },
    {
      "cell_type": "code",
      "source": [
        "pip install statsmodels\n",
        "\n",
        "before = media_pre\n",
        "after = media_pos\n",
        "statistic, p_value = wilcoxon(before, after)\n",
        "# Print the test statistic and p-value\n",
        "print(\"Wilcoxon signed-rank test statistic:\", statistic)\n",
        "print(\"P-value:\", p_value)"
      ],
      "metadata": {
        "id": "c5uwK-AUEJ2x"
      },
      "execution_count": null,
      "outputs": []
    },
    {
      "cell_type": "markdown",
      "metadata": {
        "id": "AOaFBkB85lrn"
      },
      "source": [
        "> # TETRODO7: CH3"
      ]
    },
    {
      "cell_type": "code",
      "execution_count": null,
      "metadata": {
        "id": "Eh6nUccJD95p"
      },
      "outputs": [],
      "source": [
        "f, p = welch(lista_filt_pre[2], fs=1000, nperseg=1000, noverlap = 900)\n",
        "f2, p2 = welch(lista_filt_pos[2], fs=1000, nperseg=1000, noverlap = 900)\n",
        "\n",
        "sdmn_dpre = sp.stats.sem(p)\n",
        "sdmn_pos = sp.stats.sem(p2)\n",
        "\n",
        "figura = plt.figure(figsize=(10,5))\n",
        "figura.suptitle('PSD, OF pre e pós sessão de screening + 4*SD', fontweight =\"bold\")\n",
        "\n",
        "figura.add_subplot(121)\n",
        "plt.plot(f, p.transpose())\n",
        "plt.fill_between(f,p.transpose(),  p.transpose() + 4*sdmn_dpre, color = 'lightblue')\n",
        "plt.fill_between(f,p.transpose(),  p.transpose() - 4*sdmn_dpre, color = 'lightblue' )\n",
        "plt.title('PSD OF pré-Screening', fontweight =\"bold\")\n",
        "plt.xlim(0,20)\n",
        "\n",
        "figura.add_subplot(122)\n",
        "plt.plot(f2, p2.transpose())\n",
        "plt.fill_between(f2,p2.transpose(),  p2.transpose() + 4*sdmn_dpre, color = 'lightblue')\n",
        "plt.fill_between(f2,p2.transpose(),  p2.transpose() - 4*sdmn_dpre, color = 'lightblue' )\n",
        "plt.title('PSD OF pós-Screening', fontweight =\"bold\")\n",
        "plt.xlim(0,20)\n"
      ]
    },
    {
      "cell_type": "code",
      "execution_count": null,
      "metadata": {
        "id": "nyeiq30xGXdS"
      },
      "outputs": [],
      "source": [
        "f, p = welch(lista_filt_pre[2], fs=1000, nperseg=1000, noverlap = 900)\n",
        "f2, p2 = welch(lista_filt_pos[2], fs=1000, nperseg=1000, noverlap = 900)\n",
        "\n",
        "sdmn_dpre = sp.stats.sem(p)\n",
        "sdmn_pos = sp.stats.sem(p2)\n",
        "\n",
        "figura = plt.figure(figsize=(10,5))\n",
        "figura.suptitle('PSD normalizado, OF pre e pós sessão de screening', fontweight =\"bold\")\n",
        "\n",
        "figura.add_subplot(121)\n",
        "plt.plot(f, 10*np.log10(p.transpose()))\n",
        "plt.title('PSD OF pré-Screening', fontweight =\"bold\")\n",
        "plt.xlim(0,20)\n",
        "plt.ylim(0,30)\n",
        "figura.add_subplot(122)\n",
        "plt.plot(f2, 10*np.log10(p2.transpose()))\n",
        "plt.title('PSD OF pós-Screening', fontweight =\"bold\")\n",
        "plt.xlim(0,20)\n",
        "plt.ylim(0,30)"
      ]
    },
    {
      "cell_type": "code",
      "execution_count": null,
      "metadata": {
        "id": "eK3j7iTtH6sR"
      },
      "outputs": [],
      "source": [
        "print(len(lista_filt_pre[2]))"
      ]
    },
    {
      "cell_type": "code",
      "execution_count": null,
      "metadata": {
        "id": "gqRCkMPqHouu"
      },
      "outputs": [],
      "source": [
        "pre = lista_filt_pre[2]\n",
        "pos = lista_filt_pos[2]\n",
        "\n",
        "sx = np.concatenate([pre, pos])\n",
        "\n",
        "f, t, Sxx = spectrogram(sx, fs=1000, nperseg=1000, noverlap=int(0.9*1000))\n",
        "plt.pcolormesh(t, f, Sxx, cmap='turbo')\n",
        "plt.ylim(0,30)\n",
        "# plt.xlim(0,50)\n",
        "plt.title( 'OF pré e pós sessão de screening ', fontweight =\"bold\" )\n",
        "plt.axvline(x=92, color = 'white', linestyle = '--')\n",
        "plt.xlabel('t(s)')\n",
        "plt.ylabel('Frequências')\n",
        "plt.colorbar()"
      ]
    },
    {
      "cell_type": "code",
      "execution_count": null,
      "metadata": {
        "id": "LJgFgoaz7Fp4"
      },
      "outputs": [],
      "source": [
        "# FILTRANDO DELTA E THETA\n",
        "window = signal.windows.hamming(1000)\n",
        "filt_theta = firwin(300, [4,8], pass_zero='bandpass', window='hamming',  fs=1000)\n",
        "\n",
        "media_theta_alltrials = (np.sum(lista_CS[2], axis=0))/30\n",
        "theta = filtfilt(filt_theta, 1, media_theta_alltrials)\n",
        "\n",
        "theta_pre = theta[0:2000]\n",
        "theta_pos = theta[2000:4000]\n",
        "\n",
        "\n",
        "f_pre, p_pre = welch(theta_pre, fs=1000, nperseg=1000, noverlap=int(0.9*1000))\n",
        "sdmn_pre = sp.stats.sem(p_pre)\n",
        "\n",
        "\n",
        "f_pos, p_pos = welch(theta_pos, fs=1000, nperseg=1000, noverlap=int(0.9*1000))\n",
        "sdmn_pos = sp.stats.sem(p_pos)"
      ]
    },
    {
      "cell_type": "code",
      "execution_count": null,
      "metadata": {
        "id": "Kj2ivmtNIM3E"
      },
      "outputs": [],
      "source": [
        "figura = plt.figure(figsize=(10,5))\n",
        "figura.suptitle('THETA pré e pós screening, +- 4*SD', fontweight =\"bold\")\n",
        "\n",
        "figura.add_subplot(121)\n",
        "plt.plot(f_pre,p_pre.transpose(), linewidth=1, color='k')\n",
        "plt.fill_between(f_pre,p_pre.transpose(),  p_pre.transpose() + 4*sdmn_pre, color = 'lightblue')\n",
        "plt.fill_between(f_pre,p_pre.transpose(),  p_pre.transpose() - 4*sdmn_pre, color = 'lightblue' )\n",
        "plt.title('Power de theta OF pré screening',fontweight =\"bold\")\n",
        "plt.xlim(0,12)\n",
        "plt.xlabel('Frequencia (Hz)')\n",
        "plt.ylabel('Power')\n",
        "\n",
        "figura.add_subplot(122)\n",
        "plt.plot(f_pos,p_pos.transpose(), linewidth=1, color='k')\n",
        "plt.fill_between(f_pos,p_pos.transpose(),  p_pos.transpose() + 4*sdmn_pos , color = 'lightblue')\n",
        "plt.fill_between(f_pos,p_pos.transpose(),  p_pos.transpose() - 4*sdmn_pos, color = 'lightblue' )\n",
        "plt.title('Power de theta OF pós screening', fontweight =\"bold\")\n",
        "plt.xlim(0,12)\n",
        "plt.xlabel('Frequencia (Hz)')\n",
        "plt.ylabel('Power')\n"
      ]
    },
    {
      "cell_type": "code",
      "execution_count": null,
      "metadata": {
        "id": "uAnZA_89zhDe"
      },
      "outputs": [],
      "source": [
        "filt_delta = firwin(300, [0.1,4], pass_zero='bandpass', window='hamming',  fs=1000)\n",
        "\n",
        "media_delta_alltrials = (np.sum(lista_CS[2], axis=0))/30\n",
        "delta = filtfilt(filt_delta, 1, media_delta_alltrials)\n",
        "\n",
        "delta_pre = delta[0:2000]\n",
        "delta_pos = delta[2000:4000]\n",
        "\n",
        "fd_pre, pd_pre = welch(delta_pre, fs=1000, nperseg=1000, noverlap=int(0.9*1000))\n",
        "sdmn_dpre = sp.stats.sem(pd_pre)\n",
        "\n",
        "fd_pos, pd_pos = welch(delta_pos, fs=1000, nperseg=1000, noverlap=int(0.9*1000))\n",
        "sdmn_dpos = sp.stats.sem(pd_pos)"
      ]
    },
    {
      "cell_type": "code",
      "execution_count": null,
      "metadata": {
        "id": "ynBwnYrP1JlY"
      },
      "outputs": [],
      "source": [
        "figura = plt.figure(figsize=(10,5))\n",
        "figura.suptitle('DELTA Média dos 30 trials, +- 4*SD', fontweight =\"bold\")\n",
        "\n",
        "figura.add_subplot(121)\n",
        "plt.plot(fd_pre,pd_pre.transpose(), linewidth=1, color='k')\n",
        "plt.fill_between(fd_pre,pd_pre.transpose(),  pd_pre.transpose() + 4*sdmn_dpre, color = 'lightblue')\n",
        "plt.fill_between(fd_pre,pd_pre.transpose(),  pd_pre.transpose() - 4*sdmn_dpre, color = 'lightblue' )\n",
        "plt.title('Power de delta PRE-CS',fontweight =\"bold\")\n",
        "plt.xlim(0,12)\n",
        "plt.xlabel('Frequencia (Hz)')\n",
        "plt.ylabel('Power')\n",
        "\n",
        "figura.add_subplot(122)\n",
        "plt.plot(fd_pos,pd_pos.transpose(), linewidth=1, color='k')\n",
        "plt.fill_between(fd_pos,pd_pos.transpose(),  pd_pos.transpose() + 4*sdmn_dpos , color = 'lightblue')\n",
        "plt.fill_between(fd_pos,pd_pos.transpose(),  pd_pos.transpose() - 4*sdmn_dpos, color = 'lightblue' )\n",
        "plt.title('Power de delta POS-CS', fontweight =\"bold\")\n",
        "plt.xlim(0,12)\n",
        "plt.xlabel('Frequencia (Hz)')\n",
        "plt.ylabel('Power')"
      ]
    },
    {
      "cell_type": "markdown",
      "metadata": {
        "id": "wM-KPwOZ45bN"
      },
      "source": [
        "* fazendo o PSD do trial 29, ele teve um espectrograma interessante"
      ]
    },
    {
      "cell_type": "code",
      "execution_count": null,
      "metadata": {
        "id": "8HK94oJt4qp2"
      },
      "outputs": [],
      "source": [
        "theta = filtfilt(filt_theta, 1, lista_CS[2][28])\n",
        "\n",
        "theta_pre = theta[0:2000]\n",
        "theta_pos = theta[2000:4000]\n",
        "\n",
        "\n",
        "f_pre, p_pre = welch(theta_pre, fs=1000, nperseg=1000, noverlap=int(0.9*1000))\n",
        "sdmn_pre = sp.stats.sem(p_pre)\n",
        "\n",
        "\n",
        "f_pos, p_pos = welch(theta_pos, fs=1000, nperseg=1000, noverlap=int(0.9*1000))\n",
        "sdmn_pos = sp.stats.sem(p_pos)\n"
      ]
    },
    {
      "cell_type": "code",
      "execution_count": null,
      "metadata": {
        "id": "uzZlzwtW44Y4"
      },
      "outputs": [],
      "source": [
        "figura = plt.figure(figsize=(10,5))\n",
        "figura.suptitle('THETA trial 29, +- 4*SD', fontweight =\"bold\")\n",
        "\n",
        "figura.add_subplot(121)\n",
        "plt.plot(f_pre,p_pre.transpose(), linewidth=1, color='k')\n",
        "plt.fill_between(f_pre,p_pre.transpose(),  p_pre.transpose() + 4*sdmn_pre, color = 'lightblue')\n",
        "plt.fill_between(f_pre,p_pre.transpose(),  p_pre.transpose() - 4*sdmn_pre, color = 'lightblue' )\n",
        "plt.title('Power de theta PRE-CS',fontweight =\"bold\")\n",
        "plt.xlim(2,12)\n",
        "plt.xlabel('Frequencia (Hz)')\n",
        "plt.ylabel('Power')\n",
        "\n",
        "figura.add_subplot(122)\n",
        "plt.plot(f_pos,p_pos.transpose(), linewidth=1, color='k')\n",
        "plt.fill_between(f_pos,p_pos.transpose(),  p_pos.transpose() + 4*sdmn_pos , color = 'lightblue')\n",
        "plt.fill_between(f_pos,p_pos.transpose(),  p_pos.transpose() - 4*sdmn_pos, color = 'lightblue' )\n",
        "plt.title('Power de theta POS-CS', fontweight =\"bold\")\n",
        "plt.xlim(2,12)\n",
        "plt.xlabel('Frequencia (Hz)')\n",
        "plt.ylabel('Power')\n"
      ]
    },
    {
      "cell_type": "markdown",
      "metadata": {
        "id": "fPVCbYZ65WV5"
      },
      "source": [
        "* estou achando estranho pq o espectrograma não está mostrando esse power todo em 6HZ! ?????????"
      ]
    },
    {
      "cell_type": "code",
      "execution_count": null,
      "metadata": {
        "id": "N5It_Oeq5M00"
      },
      "outputs": [],
      "source": [
        "filt_delta = firwin(300, [0.1,4], pass_zero='bandpass', window='hamming',  fs=1000)\n",
        "\n",
        "\n",
        "delta = filtfilt(filt_delta, 1, lista_CS[2][28] )\n",
        "\n",
        "delta_pre = delta[0:2000]\n",
        "delta_pos = delta[2000:4000]\n",
        "\n",
        "fd_pre, pd_pre = welch(delta_pre, fs=1000, nperseg=1000, noverlap=int(0.9*1000))\n",
        "sdmn_dpre = sp.stats.sem(pd_pre)\n",
        "\n",
        "fd_pos, pd_pos = welch(delta_pos, fs=1000, nperseg=1000, noverlap=int(0.9*1000))\n",
        "sdmn_dpos = sp.stats.sem(pd_pos)"
      ]
    },
    {
      "cell_type": "code",
      "execution_count": null,
      "metadata": {
        "id": "npXrkNyc6fCB"
      },
      "outputs": [],
      "source": [
        "figura = plt.figure(figsize=(10,5))\n",
        "figura.suptitle('DELTA trial 29, +- 2*SD', fontweight =\"bold\")\n",
        "\n",
        "figura.add_subplot(121)\n",
        "plt.plot(fd_pre,pd_pre.transpose(), linewidth=1, color='k')\n",
        "plt.fill_between(fd_pre,pd_pre.transpose(),  pd_pre.transpose() + 2*sdmn_dpre, color = 'lightblue')\n",
        "plt.fill_between(fd_pre,pd_pre.transpose(),  pd_pre.transpose() - 2*sdmn_dpre, color = 'lightblue' )\n",
        "plt.title('Power de delta PRE-CS',fontweight =\"bold\")\n",
        "plt.xlim(0,12)\n",
        "plt.xlabel('Frequencia (Hz)')\n",
        "plt.ylabel('Power')\n",
        "\n",
        "figura.add_subplot(122)\n",
        "plt.plot(fd_pos,pd_pos.transpose(), linewidth=1, color='k')\n",
        "plt.fill_between(fd_pos,pd_pos.transpose(),  pd_pos.transpose() + 2*sdmn_dpos , color = 'lightblue')\n",
        "plt.fill_between(fd_pos,pd_pos.transpose(),  pd_pos.transpose() - 2*sdmn_dpos, color = 'lightblue' )\n",
        "plt.title('Power de delta POS-CS', fontweight =\"bold\")\n",
        "plt.xlim(0,12)\n",
        "plt.xlabel('Frequencia (Hz)')\n",
        "plt.ylabel('Power')"
      ]
    },
    {
      "cell_type": "code",
      "execution_count": null,
      "metadata": {
        "id": "yf1vSLCd6fl6"
      },
      "outputs": [],
      "source": [
        "figura = plt.figure(figsize=(10,5))\n",
        "figura.suptitle('NORMALIZED THETA trial 29, +- 2*SD', fontweight =\"bold\")\n",
        "\n",
        "figura.add_subplot(121)\n",
        "plt.plot(f_pre,10*np.log10(p_pre.transpose()), linewidth=1, color='k')\n",
        "plt.fill_between(f_pre,10*np.log10(p_pre.transpose()),  10*np.log10(p_pre.transpose()) + 2*sdmn_pre, color = 'lightblue')\n",
        "plt.fill_between(f_pre,10*np.log10(p_pre.transpose()),  10*np.log10(p_pre.transpose()) - 2*sdmn_pre, color = 'lightblue' )\n",
        "plt.title('Power de theta PRE-CS',fontweight =\"bold\")\n",
        "plt.ylim(0,30)\n",
        "plt.xlim(2,12)\n",
        "plt.xlabel('Frequencia (Hz)')\n",
        "plt.ylabel('Power')\n",
        "\n",
        "figura.add_subplot(122)\n",
        "plt.plot(f_pos,10*np.log10(p_pos.transpose()), linewidth=1, color='k')\n",
        "plt.fill_between(f_pos,10*np.log10(p_pos.transpose()), 10*np.log10(p_pos.transpose())+ 2*sdmn_pos , color = 'lightblue')\n",
        "plt.fill_between(f_pos,10*np.log10(p_pos.transpose()), 10*np.log10(p_pos.transpose()) - 2*sdmn_pos, color = 'lightblue' )\n",
        "plt.title('Power de theta POS-CS', fontweight =\"bold\")\n",
        "plt.xlim(2,12)\n",
        "plt.ylim(0,30)\n",
        "plt.xlabel('Frequencia (Hz)')\n",
        "plt.ylabel('Power')"
      ]
    },
    {
      "cell_type": "code",
      "execution_count": null,
      "metadata": {
        "id": "Hi5gtFn6-4w0"
      },
      "outputs": [],
      "source": [
        "figura = plt.figure(figsize=(10,5))\n",
        "figura.suptitle('NORMALIZED DELTA trial 29, +- 2*SD', fontweight =\"bold\")\n",
        "\n",
        "figura.add_subplot(121)\n",
        "plt.plot(fd_pre,10*np.log10(pd_pre.transpose()), linewidth=1, color='k')\n",
        "plt.fill_between(fd_pre,10*np.log10(pd_pre.transpose()), 10*np.log10(pd_pre.transpose()) + 2*sdmn_dpre, color = 'lightblue')\n",
        "plt.fill_between(fd_pre,10*np.log10(pd_pre.transpose()), 10*np.log10(pd_pre.transpose()) - 2*sdmn_dpre, color = 'lightblue' )\n",
        "plt.title('Power de delta PRE-CS',fontweight =\"bold\")\n",
        "plt.xlim(0,12)\n",
        "plt.ylim(0,30)\n",
        "plt.xlabel('Frequencia (Hz)')\n",
        "plt.ylabel('Power')\n",
        "\n",
        "figura.add_subplot(122)\n",
        "plt.plot(fd_pos,10*np.log10(pd_pre.transpose()), linewidth=1, color='k')\n",
        "plt.fill_between(fd_pos,10*np.log10(pd_pre.transpose()), 10*np.log10(pd_pre.transpose()) + 2*sdmn_dpos , color = 'lightblue')\n",
        "plt.fill_between(fd_pos,10*np.log10(pd_pre.transpose()), 10*np.log10(pd_pre.transpose()) - 2*sdmn_dpos, color = 'lightblue' )\n",
        "plt.title('Power de delta POS-CS', fontweight =\"bold\")\n",
        "plt.xlim(0,12)\n",
        "plt.ylim(0,30)\n",
        "plt.xlabel('Frequencia (Hz)')\n",
        "plt.ylabel('Power')"
      ]
    },
    {
      "cell_type": "markdown",
      "metadata": {
        "id": "eKlnmzMiAIUG"
      },
      "source": [
        "* AO NORMALIZAR, O DELTA PARECE ESTAR MUITO PARECIDO, NÃO ENTENDI ISSO TB!!!\n",
        "\n",
        "\n",
        "\n"
      ]
    },
    {
      "cell_type": "markdown",
      "metadata": {
        "id": "AWlvUwiZnQ5A"
      },
      "source": [
        "> # US CUT"
      ]
    },
    {
      "cell_type": "code",
      "execution_count": null,
      "metadata": {
        "id": "X7DtB--ksjNt"
      },
      "outputs": [],
      "source": [
        "lista_sinais = []\n",
        "for i in range(32):\n",
        "  lista_sinais.append(data[:,[i]])\n",
        "\n",
        "\n",
        "#lista do valor máximo de cada canal\n",
        "\n",
        "lista_mean_abs = []\n",
        "for i in range(32):\n",
        "  lista_mean_abs.append(np.max(np.abs(data[:,[i]])))\n",
        "\n",
        "#definindo o threshold\n",
        "threshold = (np.max(lista_mean_abs))/5\n"
      ]
    },
    {
      "cell_type": "code",
      "execution_count": null,
      "metadata": {
        "id": "jWrzutpushIc"
      },
      "outputs": [],
      "source": [
        "shockTimestamp = np.zeros(914700)\n",
        "\n",
        "idx_shock = np.array(lista_sinais[2][:])>=threshold\n",
        "shockTimestamp[idx_shock[:,0]] = 1\n",
        "\n",
        "plt.figure(figsize=(10,5))\n",
        "plt.plot(shockTimestamp)\n",
        "# plt.xlim(20000,22000)\n"
      ]
    },
    {
      "cell_type": "code",
      "execution_count": null,
      "metadata": {
        "id": "yjW6MqiQNJC0"
      },
      "outputs": [],
      "source": [
        "intervalos=[]\n",
        "choque=0\n",
        "registrando = 0\n",
        "for i in range(0,len(shockTimestamp)):\n",
        "  if (shockTimestamp[i]==0) and (shockTimestamp[i-1]==1):\n",
        "    if(i+10000) < 913700:\n",
        "      msmbarra = False\n",
        "      for j in range(i,i+10000):\n",
        "        if(shockTimestamp[j]==1):\n",
        "          msmbarra=True\n",
        "          break\n",
        "      if msmbarra == False:\n",
        "        choque=choque+1\n",
        "        para_registrar=[]\n",
        "        for k in range(i,i+4000):\n",
        "          para_registrar.append(lista_sinais[2][k])\n",
        "        intervalos.append(para_registrar)\n",
        "    else:\n",
        "      msmbarra = False\n",
        "      for j in range(i,i+5000):\n",
        "        if(shockTimestamp[j]==1):\n",
        "          msmbarra=True\n",
        "          break\n",
        "      if msmbarra == False:\n",
        "          choque=choque+1\n",
        "          #print('queijo')\n",
        "          para_registrar=[]\n",
        "          for k in range(i,i+4000):\n",
        "            #print(k)\n",
        "            para_registrar.append(lista_sinais[2][k])\n",
        "          intervalos.append(para_registrar)"
      ]
    },
    {
      "cell_type": "code",
      "execution_count": null,
      "metadata": {
        "id": "PtEI-BtUTFcy"
      },
      "outputs": [],
      "source": [
        "intervalos"
      ]
    },
    {
      "cell_type": "code",
      "execution_count": null,
      "metadata": {
        "id": "4Y8lwYq-TKfj"
      },
      "outputs": [],
      "source": []
    }
  ],
  "metadata": {
    "colab": {
      "provenance": [],
      "collapsed_sections": [
        "tGLhMppi5NdV"
      ],
      "include_colab_link": true
    },
    "kernelspec": {
      "display_name": "Python 3",
      "name": "python3"
    },
    "language_info": {
      "name": "python"
    }
  },
  "nbformat": 4,
  "nbformat_minor": 0
}