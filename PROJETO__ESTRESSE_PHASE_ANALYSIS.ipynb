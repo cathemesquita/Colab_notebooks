{
  "cells": [
    {
      "cell_type": "markdown",
      "metadata": {
        "id": "view-in-github",
        "colab_type": "text"
      },
      "source": [
        "<a href=\"https://colab.research.google.com/github/cathemesquita/Colab_notebooks/blob/main/PROJETO__ESTRESSE_PHASE_ANALYSIS.ipynb\" target=\"_parent\"><img src=\"https://colab.research.google.com/assets/colab-badge.svg\" alt=\"Open In Colab\"/></a>"
      ]
    },
    {
      "cell_type": "code",
      "execution_count": null,
      "metadata": {
        "colab": {
          "base_uri": "https://localhost:8080/"
        },
        "id": "JJ_gyXm7Xjhc",
        "outputId": "c49fac26-318a-43c1-eade-35dd31befd64"
      },
      "outputs": [
        {
          "output_type": "stream",
          "name": "stdout",
          "text": [
            "Mounted at /content/drive\n"
          ]
        }
      ],
      "source": [
        "from google.colab import drive\n",
        "drive.mount('/content/drive')"
      ]
    },
    {
      "cell_type": "markdown",
      "metadata": {
        "id": "8df3S0yL25SU"
      },
      "source": [
        "> # BIBLIOTECAS"
      ]
    },
    {
      "cell_type": "code",
      "source": [
        "from IPython.display import clear_output"
      ],
      "metadata": {
        "id": "1IGwDiFAij43"
      },
      "execution_count": null,
      "outputs": []
    },
    {
      "cell_type": "code",
      "execution_count": null,
      "metadata": {
        "id": "RYSjS9PoXY4l"
      },
      "outputs": [],
      "source": [
        "! pip install open-ephys-python-tools\n",
        "\n",
        "clear_output()"
      ]
    },
    {
      "cell_type": "code",
      "execution_count": null,
      "metadata": {
        "id": "AVX4IMkK-Jdl"
      },
      "outputs": [],
      "source": [
        "! pip install pactools\n",
        "clear_output()"
      ]
    },
    {
      "cell_type": "code",
      "source": [
        "! pip install emd\n",
        "clear_output()"
      ],
      "metadata": {
        "id": "AODMMTg3zBfe"
      },
      "execution_count": null,
      "outputs": []
    },
    {
      "cell_type": "code",
      "execution_count": null,
      "metadata": {
        "id": "DhmSG8a9Xckd",
        "colab": {
          "base_uri": "https://localhost:8080/"
        },
        "outputId": "8a9a90b4-fd89-4c4e-f0f9-3948a7cd4834"
      },
      "outputs": [
        {
          "output_type": "stream",
          "name": "stderr",
          "text": [
            "<frozen importlib._bootstrap>:914: ImportWarning: _PyDrive2ImportHook.find_spec() not found; falling back to find_module()\n",
            "<frozen importlib._bootstrap>:914: ImportWarning: _PyDriveImportHook.find_spec() not found; falling back to find_module()\n",
            "<frozen importlib._bootstrap>:914: ImportWarning: _GenerativeAIImportHook.find_spec() not found; falling back to find_module()\n",
            "<frozen importlib._bootstrap>:914: ImportWarning: _OpenCVImportHook.find_spec() not found; falling back to find_module()\n",
            "<frozen importlib._bootstrap>:914: ImportWarning: APICoreClientInfoImportHook.find_spec() not found; falling back to find_module()\n",
            "<frozen importlib._bootstrap>:914: ImportWarning: _BokehImportHook.find_spec() not found; falling back to find_module()\n",
            "<frozen importlib._bootstrap>:914: ImportWarning: _AltairImportHook.find_spec() not found; falling back to find_module()\n",
            "<frozen importlib._bootstrap>:914: ImportWarning: _PyDrive2ImportHook.find_spec() not found; falling back to find_module()\n",
            "<frozen importlib._bootstrap>:914: ImportWarning: _PyDriveImportHook.find_spec() not found; falling back to find_module()\n",
            "<frozen importlib._bootstrap>:914: ImportWarning: _GenerativeAIImportHook.find_spec() not found; falling back to find_module()\n",
            "<frozen importlib._bootstrap>:914: ImportWarning: _OpenCVImportHook.find_spec() not found; falling back to find_module()\n",
            "<frozen importlib._bootstrap>:914: ImportWarning: APICoreClientInfoImportHook.find_spec() not found; falling back to find_module()\n",
            "<frozen importlib._bootstrap>:914: ImportWarning: _BokehImportHook.find_spec() not found; falling back to find_module()\n",
            "<frozen importlib._bootstrap>:914: ImportWarning: _AltairImportHook.find_spec() not found; falling back to find_module()\n"
          ]
        }
      ],
      "source": [
        "from open_ephys.analysis import Session\n",
        "\n",
        "import matplotlib.pyplot as plt\n",
        "import matplotlib.gridspec as gridspec\n",
        "import matplotlib as mpl\n",
        "import numpy as np\n",
        "import pandas as pd\n",
        "import emd\n",
        "import scipy as sp\n",
        "from scipy import signal\n",
        "import math\n",
        "from scipy.signal import welch, spectrogram, coherence, find_peaks, firwin, lfilter, filtfilt, hilbert\n",
        "import seaborn as sn\n",
        "\n",
        "from statsmodels.tsa.stattools import grangercausalitytests\n",
        "from scipy import stats\n",
        "from scipy.stats import wilcoxon\n",
        "\n",
        "import math\n",
        "import time as ttime\n",
        "from numpy.fft import fft, ifft, rfft, fftfreq\n",
        "from scipy.signal import firwin, lfilter, filtfilt\n",
        "from scipy.io import loadmat\n",
        "from mpl_toolkits.axes_grid1.inset_locator import inset_axes\n",
        "import pactools\n",
        "from pactools import Comodulogram, REFERENCES\n",
        "\n",
        "import seaborn as sns"
      ]
    },
    {
      "cell_type": "markdown",
      "metadata": {
        "id": "OwV4ZXgr3Tdr"
      },
      "source": [
        "> # FUNÇÕES\n",
        "\n"
      ]
    },
    {
      "cell_type": "code",
      "execution_count": null,
      "metadata": {
        "id": "1nqxPuSMxOIT",
        "colab": {
          "base_uri": "https://localhost:8080/"
        },
        "outputId": "7c8c8b68-4f47-4f88-ffd9-feccd7975ebb"
      },
      "outputs": [
        {
          "output_type": "stream",
          "name": "stderr",
          "text": [
            "/usr/local/lib/python3.10/dist-packages/ipykernel/ipkernel.py:283: DeprecationWarning: `should_run_async` will not call `transform_cell` automatically in the future. Please pass the result to `transformed_cell` argument and any exception that happen during thetransform in `preprocessing_exc_tuple` in IPython 7.17 and above.\n",
            "  and should_run_async(code)\n"
          ]
        }
      ],
      "source": [
        "def preview(path):\n",
        "  load = Session(path).recordnodes[0].recordings[0]\n",
        "  t_raw= load.continuous[0].timestamps\n",
        "  t = t_raw-t_raw[0]\n",
        "\n",
        "  data = pd.DataFrame(load.continuous[0].get_samples(start_sample_index=0, end_sample_index=len(t)))\n",
        "\n",
        "  srate = 1000\n",
        "  fc_low = 59\n",
        "  fc_high = 61\n",
        "  order = 5\n",
        "  b, a = signal.butter(order, [fc_low/(0.5*srate), fc_high/(0.5*srate)], btype='bandstop')\n",
        "\n",
        "  data_filt = signal.filtfilt(b, a, data)\n",
        "\n",
        "  return (pd.DataFrame(data_filt))\n"
      ]
    },
    {
      "cell_type": "code",
      "execution_count": null,
      "metadata": {
        "id": "EZtm2N7vD8Qs"
      },
      "outputs": [],
      "source": [
        "def preview_plot(data):\n",
        "\n",
        "  for i in range(0,32):\n",
        "    plt.figure()\n",
        "    plt.plot(data[i])\n",
        "    plt.title('ch' + str (i+1))"
      ]
    },
    {
      "cell_type": "code",
      "execution_count": null,
      "metadata": {
        "id": "WSVEjCWyUtiD"
      },
      "outputs": [],
      "source": [
        "# CARREGAR O DADO E EXTRAIR MOMENTOS DE IMOBILIDADE\n",
        "\n",
        "def load_data(path,inicio,final,ch_prl,ch_ca1d,ch_ca1v,ch_bla):\n",
        "  load = Session(path).recordnodes[0].recordings[0]\n",
        "  t_raw= load.continuous[0].timestamps\n",
        "  t = t_raw-t_raw[0]\n",
        "\n",
        "  # tive que ecolher esse len pq o CCM559 tinha 30 min de dado, então padronizei p todos 10min\n",
        "  data_prl = pd.DataFrame(load.continuous[0].get_samples(start_sample_index=0, end_sample_index=len(t))).iloc[inicio:final,int(int(ch_prl)-1)]\n",
        "  data_bla = pd.DataFrame(load.continuous[0].get_samples(start_sample_index=0, end_sample_index=len(t))).iloc[inicio:final,int(int(ch_bla)-1)]\n",
        "  data_ca1d = pd.DataFrame(load.continuous[0].get_samples(start_sample_index=0, end_sample_index=len(t))).iloc[inicio:final,int(int(ch_ca1d)-1)]\n",
        "  data_ca1v = pd.DataFrame(load.continuous[0].get_samples(start_sample_index=0, end_sample_index=len(t))).iloc[inicio:final,int(int(ch_ca1v)-1)]\n",
        "\n",
        "\n",
        "  srate = 1000\n",
        "  fc_low = 59\n",
        "  fc_high = 61\n",
        "  order = 5\n",
        "  b, a = signal.butter(order, [fc_low/(0.5*srate), fc_high/(0.5*srate)], btype='bandstop')\n",
        "\n",
        "  PRL = signal.filtfilt(b, a, data_prl)\n",
        "  BLA = signal.filtfilt(b, a, data_bla)\n",
        "  CA1D = signal.filtfilt(b, a, data_ca1d)\n",
        "  CA1V = signal.filtfilt(b, a, data_ca1v)\n",
        "\n",
        "\n",
        "  return(pd.DataFrame({'data_PRL': PRL,'data_BLA': BLA, 'data_dhpc': CA1D, 'data_vhpc': CA1V}))"
      ]
    },
    {
      "cell_type": "code",
      "execution_count": null,
      "metadata": {
        "id": "EIELES-1Lko_"
      },
      "outputs": [],
      "source": [
        "def media_coherence(df, condicao, r1, r2, grupo):\n",
        "    filtro = (df['condicao'] == condicao) & (df['r1'] == r1) & (df['r2'] == r2) & (df['grupo'] == grupo)\n",
        "    media_coherence = df[filtro].groupby('animal')['coherence'].mean()\n",
        "    result_df = pd.DataFrame({'coherence': media_coherence,'r1': r1,'r2': r2,'condicao': condicao,'grupo': grupo})\n",
        "    return result_df"
      ]
    },
    {
      "cell_type": "code",
      "execution_count": null,
      "metadata": {
        "id": "dFtJ1Dzs15QZ"
      },
      "outputs": [],
      "source": [
        "# Função para mapear o valor da frequencia da coerencia para o nome da banda\n",
        "def mapear_banda(valor):\n",
        "    if 0 <= valor <= 4:\n",
        "        return 'Delta'\n",
        "    elif 5 <= valor <= 10:\n",
        "        return 'Theta'\n",
        "    elif 11 <= valor <= 29:\n",
        "        return 'Alpha/beta'\n",
        "    elif 30 <= valor <= 50:\n",
        "        return 'Low gamma'\n",
        "    elif 51 <= valor <= 90:\n",
        "        return 'Mid gamma'\n",
        "    else:\n",
        "        return 'High gamma'"
      ]
    },
    {
      "cell_type": "code",
      "source": [
        "def load_acelerometer(path):\n",
        "    load = Session(path).recordnodes[0].recordings[0]\n",
        "    t_raw = load.continuous[0].timestamps\n",
        "    t = t_raw - t_raw[0]\n",
        "\n",
        "    x = pd.DataFrame(load.continuous[0].get_samples(start_sample_index=0, end_sample_index=len(t))).iloc[:, 32]\n",
        "    y = pd.DataFrame(load.continuous[0].get_samples(start_sample_index=0, end_sample_index=len(t))).iloc[:, 33]\n",
        "    z = pd.DataFrame(load.continuous[0].get_samples(start_sample_index=0, end_sample_index=len(t))).iloc[:, 34]\n",
        "\n",
        "    x = np.array(x)\n",
        "    y = np.array(y)\n",
        "    z = np.array(z)\n",
        "    acel = np.abs(np.sqrt(x**2 + y**2 + z**2))\n",
        "\n",
        "    df_acel = pd.DataFrame({'acel': acel})\n",
        "    df_acel['animal'] = str(rato)\n",
        "    df_acel['condicao'] = str(condicao)\n",
        "\n",
        "    return df_acel"
      ],
      "metadata": {
        "id": "CiyaCAyLZeA6"
      },
      "execution_count": null,
      "outputs": []
    },
    {
      "cell_type": "code",
      "source": [
        "def group_consecutive_numbers(num_list):\n",
        "    groups = []  # Lista para armazenar os grupos de números consecutivos\n",
        "    current_group = [num_list[0]]  # Inicializando o primeiro grupo com o primeiro número\n",
        "\n",
        "    # Iterando sobre a lista de números a partir do segundo elemento\n",
        "    for num in num_list[1:]:\n",
        "        if num == current_group[-1] + 1:  # Verificando se o número é consecutivo\n",
        "            current_group.append(num)  # Se for, adiciona ao grupo atual\n",
        "        else:\n",
        "            groups.append(current_group)  # Se não, salva o grupo atual\n",
        "            current_group = [num]  # Começa um novo grupo\n",
        "\n",
        "    # Adicionando o último grupo se ele não estiver vazio\n",
        "    if current_group:\n",
        "        groups.append(current_group)\n",
        "\n",
        "    return groups"
      ],
      "metadata": {
        "id": "0Cw2d_ZtZhFr"
      },
      "execution_count": null,
      "outputs": []
    },
    {
      "cell_type": "code",
      "source": [
        "\n",
        "# Identificar os grupos de índices consecutivos não-NaN e seus comprimentos para cortar momentos de imobilidade menores que 2s\n",
        "def find_consecutive_groups(arr):\n",
        "    # Encontrar as mudanças de NaN para não-NaN e vice-versa\n",
        "    diff = np.diff(np.isnan(arr).view(np.int8))\n",
        "    idx, = diff.nonzero()\n",
        "\n",
        "    # Adicionar o índice do primeiro e último elemento\n",
        "    idx = np.r_[0, idx + 1, len(arr)]\n",
        "    idx_pairs = zip(idx[:-1], idx[1:])  # Formar pares de índices\n",
        "\n",
        "    return [(start, end) for start, end in idx_pairs if not np.isnan(arr[start])]"
      ],
      "metadata": {
        "id": "dwECbh5EWuGn"
      },
      "execution_count": null,
      "outputs": []
    },
    {
      "cell_type": "code",
      "source": [
        "def concatenar_listas(lista_de_listas):\n",
        "    \"\"\"Concatena uma lista de listas em uma única lista.\n",
        "\n",
        "    Returns:\n",
        "   Uma única lista com todos os elementos das sub-listas.\n",
        "    \"\"\"\n",
        "    return [item for sublist in lista_de_listas for item in sublist]"
      ],
      "metadata": {
        "id": "ur0_aqkSqaBU"
      },
      "execution_count": null,
      "outputs": []
    },
    {
      "cell_type": "code",
      "source": [
        "def load_data_full(path,ch_prl,ch_bla,ch_dhpc, ch_vhpc):\n",
        "  load = Session(path).recordnodes[0].recordings[0]\n",
        "  t_raw= load.continuous[0].timestamps\n",
        "  t = t_raw-t_raw[0]\n",
        "\n",
        "  # tive que ecolher esse len pq o CCM559 tinha 30 min de dado, então padronizei p todos 10min\n",
        "  data_prl = pd.DataFrame(load.continuous[0].get_samples(start_sample_index=0, end_sample_index=len(t))).iloc[:,int(int(ch_prl)-1)]\n",
        "  data_bla = pd.DataFrame(load.continuous[0].get_samples(start_sample_index=0, end_sample_index=len(t))).iloc[:,int(int(ch_bla)-1)]\n",
        "  data_dhpc = pd.DataFrame(load.continuous[0].get_samples(start_sample_index=0, end_sample_index=len(t))).iloc[:,int(int(ch_dhpc)-1)]\n",
        "  data_vhpc = pd.DataFrame(load.continuous[0].get_samples(start_sample_index=0, end_sample_index=len(t))).iloc[:,int(int(ch_vhpc)-1)]\n",
        "\n",
        "  srate = 1000\n",
        "  fc_low = 59\n",
        "  fc_high = 61\n",
        "  order = 5\n",
        "  b, a = signal.butter(order, [fc_low/(0.5*srate), fc_high/(0.5*srate)], btype='bandstop')\n",
        "\n",
        "  PRL = signal.filtfilt(b, a, data_prl)\n",
        "  BLA = signal.filtfilt(b, a, data_bla)\n",
        "  dHPC = signal.filtfilt(b, a, data_dhpc)\n",
        "  vHPC = signal.filtfilt(b, a, data_vhpc)\n",
        "\n",
        "  return(pd.DataFrame({'data_PRL': PRL,'data_BLA': BLA, 'data_DHPC': dHPC, 'data_VHPC': vHPC}))"
      ],
      "metadata": {
        "id": "ETsE0RWUZRnj"
      },
      "execution_count": null,
      "outputs": []
    },
    {
      "cell_type": "code",
      "source": [
        "def data_slicing_imovel( rato, condicao ): #cria lista que contém os momentos de imobilidade\n",
        "\n",
        "  path = ratos[str(rato)]['condicao'][str(condicao)]\n",
        "\n",
        "  ch_prl =  ratos[rato]['canais']['prl']\n",
        "  ch_bla =  ratos[rato]['canais']['bla']\n",
        "  ch_dhpc =  ratos[rato]['canais']['dhpc']\n",
        "  ch_vhpc =  ratos[rato]['canais']['vhpc']\n",
        "\n",
        "  load = Session(path).recordnodes[0].recordings[0]\n",
        "  t_raw= load.continuous[0].timestamps\n",
        "  t = t_raw-t_raw[0]\n",
        "\n",
        "  data_prl = pd.DataFrame(load.continuous[0].get_samples(start_sample_index=0, end_sample_index=len(t))).iloc[:,int(int(ch_prl)-1)]\n",
        "  data_bla = pd.DataFrame(load.continuous[0].get_samples(start_sample_index=0, end_sample_index=len(t))).iloc[:,int(int(ch_bla)-1)]\n",
        "  data_dhpc = pd.DataFrame(load.continuous[0].get_samples(start_sample_index=0, end_sample_index=len(t))).iloc[:,int(int(ch_dhpc)-1)]\n",
        "  data_vhpc = pd.DataFrame(load.continuous[0].get_samples(start_sample_index=0, end_sample_index=len(t))).iloc[:,int(int(ch_vhpc)-1)]\n",
        "\n",
        "  srate = 1000\n",
        "  fc_low = 59\n",
        "  fc_high = 61\n",
        "  order = 5\n",
        "  b, a = signal.butter(order, [fc_low/(0.5*srate), fc_high/(0.5*srate)], btype='bandstop')\n",
        "\n",
        "  PRL = signal.filtfilt(b, a, data_prl)\n",
        "  BLA = signal.filtfilt(b, a, data_bla)\n",
        "  dHPC = signal.filtfilt(b, a, data_dhpc)\n",
        "  vHPC = signal.filtfilt(b, a, data_vhpc)\n",
        "\n",
        "  # Recuperando dado da acelerometria para definir momentos de atividade\n",
        "  data_acel = df_acel[(df_acel['animal'] == str(rato)) & (df_acel['condicao'] == str(condicao))]['acel']\n",
        "\n",
        "  acel = np.array(data_acel)\n",
        "  acel = np.diff(acel, axis = 0)\n",
        "  acel = abs(pd.DataFrame(acel)).rolling(window=1000).mean()\n",
        "\n",
        "  # array booleano dizendo onde animal mexeu e não mexeu\n",
        "  parado_bool = np.array(acel <= 0.005 )\n",
        "\n",
        "  index_parado_all = []\n",
        "  for x in range(len(parado_bool)):\n",
        "      if parado_bool[x] == True:\n",
        "        index_parado_all.append(x)\n",
        "\n",
        "  group_index_parado = group_consecutive_numbers(index_parado_all) #essa função irá agrupar números que são consecutivos em listas separadas\n",
        "\n",
        "  index_parado = []\n",
        "\n",
        "  for i in range(len(group_index_parado)): #esse for está selecionando apenas as listas que tem mais de 2s de dado\n",
        "    if len(group_index_parado[i]) > 2000:\n",
        "      index_parado.append(group_index_parado[i])\n",
        "\n",
        "  PRL_cut = [] # ESSA LISTA VAI CONTER OS MOMENTOS DE IMOBILIDADE DO RATO CORRESPONDENTE (ela que será concatenada)\n",
        "\n",
        "  for i in range(len(index_parado)):\n",
        "      inicio = index_parado[i][0]\n",
        "      final = index_parado[i][-1]\n",
        "\n",
        "      PRL_cut.append(PRL[inicio:final])\n",
        "\n",
        "  BLA_cut = []\n",
        "\n",
        "  for i in range(len(index_parado)):\n",
        "      inicio = index_parado[i][0]\n",
        "      final = index_parado[i][-1]\n",
        "\n",
        "      BLA_cut.append(BLA[inicio:final])\n",
        "\n",
        "  dHPC_cut = []\n",
        "\n",
        "  for i in range(len(index_parado)):\n",
        "      inicio = index_parado[i][0]\n",
        "      final = index_parado[i][-1]\n",
        "\n",
        "      dHPC_cut.append(dHPC[inicio:final])\n",
        "\n",
        "  vHPC_cut = []\n",
        "\n",
        "  for i in range(len(index_parado)):\n",
        "      inicio = index_parado[i][0]\n",
        "      final = index_parado[i][-1]\n",
        "\n",
        "      vHPC_cut.append(vHPC[inicio:final])\n",
        "\n",
        "  return PRL_cut, BLA_cut, dHPC_cut, vHPC_cut"
      ],
      "metadata": {
        "id": "vq3HcuhLXrWe"
      },
      "execution_count": null,
      "outputs": []
    },
    {
      "cell_type": "code",
      "source": [
        "# def data_slicing_ativo( rato, condicao ): #cria lista que contém os momentos de atividade\n",
        "\n",
        "#   path = ratos[str(rato)]['condicao'][str(condicao)]\n",
        "\n",
        "#   ch_prl =  ratos[rato]['canais']['prl']\n",
        "#   ch_cg =  ratos[rato]['canais']['cg']\n",
        "#   ch_il =  ratos[rato]['canais']['il']\n",
        "\n",
        "#   load = Session(path).recordnodes[0].recordings[0]\n",
        "#   t_raw= load.continuous[0].timestamps\n",
        "#   t = t_raw-t_raw[0]\n",
        "\n",
        "#   data_prl = pd.DataFrame(load.continuous[0].get_samples(start_sample_index=0, end_sample_index=len(t))).iloc[:,int(int(ch_prl)-1)]\n",
        "#   data_cg = pd.DataFrame(load.continuous[0].get_samples(start_sample_index=0, end_sample_index=len(t))).iloc[:,int(int(ch_cg)-1)]\n",
        "#   data_il = pd.DataFrame(load.continuous[0].get_samples(start_sample_index=0, end_sample_index=len(t))).iloc[:,int(int(ch_il)-1)]\n",
        "\n",
        "#   srate = 1000\n",
        "#   fc_low = 59\n",
        "#   fc_high = 61\n",
        "#   order = 5\n",
        "#   b, a = signal.butter(order, [fc_low/(0.5*srate), fc_high/(0.5*srate)], btype='bandstop')\n",
        "\n",
        "#   PRL = signal.filtfilt(b, a, data_prl)\n",
        "#   ACC = signal.filtfilt(b, a, data_cg)\n",
        "#   IL = signal.filtfilt(b, a, data_il)\n",
        "\n",
        "#   # Recuperando dado da acelerometria para definir momentos de atividade\n",
        "#   data_acel = df_acel[(df_acel['animal'] == str(rato)) & (df_acel['condicao'] == str(condicao))]['acel']\n",
        "\n",
        "#   acel = np.array(data_acel)\n",
        "#   acel = np.diff(acel, axis = 0)\n",
        "#   acel = abs(pd.DataFrame(acel)).rolling(window=1000).mean()\n",
        "\n",
        "#   # array booleano dizendo onde animal mexeu e não mexeu\n",
        "#   ativo_bool = np.array(acel >= 0.005 )\n",
        "\n",
        "#   index_ativo_all = []\n",
        "#   for x in range(len(ativo_bool)):\n",
        "#       if ativo_bool[x] == True:\n",
        "#         index_ativo_all.append(x)\n",
        "\n",
        "#   group_index_ativo = group_consecutive_numbers(index_ativo_all) #essa função irá agrupar números que são consecutivos em listas separadas\n",
        "\n",
        "#   index_ativo = []\n",
        "\n",
        "#   for i in range(len(group_index_ativo)): #esse for está selecionando apenas as listas que tem mais de 2s de dado\n",
        "#     if len(group_index_ativo[i]) > 2000:\n",
        "#       index_ativo.append(group_index_ativo[i])\n",
        "\n",
        "#   PRL_cut = [] # ESSA LISTA VAI CONTER OS MOMENTOS DE IMOBILIDADE DO RATO CORRESPONDENTE (ela que será concatenada)\n",
        "\n",
        "#   for i in range(len(index_ativo)):\n",
        "#       inicio = index_ativo[i][0]\n",
        "#       final = index_ativo[i][-1]\n",
        "\n",
        "#       PRL_cut.append(PRL[inicio:final])\n",
        "\n",
        "#   ACC_cut = []\n",
        "\n",
        "#   for i in range(len(index_ativo)):\n",
        "#       inicio = index_ativo[i][0]\n",
        "#       final = index_ativo[i][-1]\n",
        "\n",
        "#       ACC_cut.append(ACC[inicio:final])\n",
        "\n",
        "#   IL_cut = []\n",
        "\n",
        "#   for i in range(len(index_ativo)):\n",
        "#       inicio = index_ativo[i][0]\n",
        "#       final = index_ativo[i][-1]\n",
        "\n",
        "#       IL_cut.append(IL[inicio:final])\n",
        "\n",
        "#   return PRL_cut, ACC_cut, IL_cut"
      ],
      "metadata": {
        "id": "UJ6H1bWcZOgL"
      },
      "execution_count": null,
      "outputs": []
    },
    {
      "cell_type": "code",
      "source": [
        "def get_psd( data_psd  ):\n",
        "\n",
        "  f, p = welch(data_psd, fs = 1000,nperseg = 1000, noverlap = int(0.9*1000), nfft = 10*1000)\n",
        "  df_psd = pd.DataFrame({'PSD': p, 'F': f})\n",
        "\n",
        "  return(df_psd )"
      ],
      "metadata": {
        "id": "GkQj-ake5hqJ"
      },
      "execution_count": null,
      "outputs": []
    },
    {
      "cell_type": "code",
      "execution_count": null,
      "metadata": {
        "id": "63r5v9OECMKt"
      },
      "outputs": [],
      "source": [
        "def tempo_para_pontos(tempo):\n",
        "    minutos, segundos = map(int, tempo.split(':'))\n",
        "    total_segundos = minutos * 60 + segundos\n",
        "    pontos = total_segundos * 1000\n",
        "    return pontos"
      ]
    },
    {
      "cell_type": "code",
      "source": [
        "def bandpass(data, cutfreq, filtorder, sampling_rate):\n",
        "\n",
        "        fny = sampling_rate/2\n",
        "\n",
        "        b, a = signal.butter(N = filtorder, Wn=np.array(cutfreq) / fny,\n",
        "                                         btype='bandpass')\n",
        "        dataout = signal.filtfilt(b, a, data)\n",
        "\n",
        "        return dataout"
      ],
      "metadata": {
        "id": "61fX-ADpWi26"
      },
      "execution_count": null,
      "outputs": []
    },
    {
      "cell_type": "code",
      "execution_count": null,
      "metadata": {
        "id": "-c8PtCfnCudU"
      },
      "outputs": [],
      "source": [
        "# FILTRO SIMPLES\n",
        "\n",
        "def eegfilt(data,srate,flow,fhigh):\n",
        "\n",
        "    # fir LS\n",
        "    trans = 0.15\n",
        "    nyq = srate*0.5\n",
        "    f=[0, (1-trans)*flow/nyq, flow/nyq, fhigh/nyq, (1+trans)*fhigh/nyq, 1]\n",
        "    m=[0,0,1,1,0,0]\n",
        "    filt_order = 3*np.fix(srate/flow)\n",
        "    if filt_order % 2 == 0:\n",
        "        filt_order = filt_order + 1\n",
        "\n",
        "    filtwts = signal.firls(filt_order,f,np.double(m))\n",
        "    data_filt = signal.filtfilt(filtwts,1, data)\n",
        "\n",
        "    return(data_filt)\n"
      ]
    },
    {
      "cell_type": "code",
      "execution_count": null,
      "metadata": {
        "id": "NKTpKwU8WgJZ"
      },
      "outputs": [],
      "source": [
        "#ExTRAINDO O MODULATION INDEX\n",
        "\n",
        "def modulation_index(amp,fase_lenta,numbin):\n",
        "\n",
        "    position=np.zeros(numbin) # this variable will get the beginning (not the center) of each phase bin (in rads)\n",
        "    winsize = 2*np.pi/numbin # bin de fase\n",
        "\n",
        "    position = []\n",
        "    for j in np.arange(1,numbin+1):\n",
        "        position.append(-np.pi+(j-1)*winsize)\n",
        "\n",
        "    nbin=numbin\n",
        "    mean_amp = []\n",
        "    for j in np.arange(0,nbin):\n",
        "        boolean_array = np.logical_and(fase_lenta >=  position[j], fase_lenta < position[j]+winsize)\n",
        "        I = np.where(boolean_array)[0]\n",
        "        mean_amp.append(np.mean(amp[I]))\n",
        "\n",
        "    mean_amp = [x for x in mean_amp if str(x) != 'nan']\n",
        "    p = mean_amp/np.sum(mean_amp)\n",
        "\n",
        "    entrop = -1*(np.sum(p*np.log(p)))\n",
        "    mi = (np.log(numbin)-entrop)/np.log(numbin)\n",
        "\n",
        "    return(mi)"
      ]
    },
    {
      "cell_type": "code",
      "execution_count": null,
      "metadata": {
        "id": "Xica5gQMWhR-"
      },
      "outputs": [],
      "source": [
        "# ACOP FASE AMPL PARA UMA REGIÃO\n",
        "\n",
        "def pac(lfp,lentaVector,altaVector,lenta_BandWidth,alta_BandWidth,srate,numbin):\n",
        "\n",
        "    AmpFreqTransformed1 = []\n",
        "    PhaseFreq = []\n",
        "\n",
        "    pac_mi = []\n",
        "\n",
        "    for ii in altaVector:\n",
        "        Af1 = ii\n",
        "        Af2=Af1+alta_BandWidth\n",
        "\n",
        "        AmpFreq1=eegfilt(lfp,srate,Af1,Af2) # just filtering\n",
        "\n",
        "        analytic_signal1 = signal.hilbert(AmpFreq1)\n",
        "        AmpFreqTransformed1.append(np.abs(analytic_signal1))\n",
        "\n",
        "    faselenta = []\n",
        "    for jj in lentaVector:\n",
        "        Pf1 = jj\n",
        "        Pf2 = Pf1 + lenta_BandWidth\n",
        "        PhaseFreq=eegfilt(lfp,srate,Pf1,Pf2)\n",
        "        analytic_signal = signal.hilbert(PhaseFreq)\n",
        "        faselenta.append(np.angle(analytic_signal))\n",
        "\n",
        "    fase_lenta = faselenta\n",
        "\n",
        "    comodulogram = np.empty((len(lentaVector),len(altaVector)))\n",
        "\n",
        "    for count_lenta,lenta in enumerate(fase_lenta):\n",
        "\n",
        "        for count_rapida,rapida in enumerate(AmpFreqTransformed1):\n",
        "\n",
        "            comodulogram[count_lenta,count_rapida] = modulation_index(rapida,lenta,numbin)\n",
        "\n",
        "\n",
        "    return(comodulogram)"
      ]
    },
    {
      "cell_type": "code",
      "execution_count": null,
      "metadata": {
        "id": "3bCSWqW267qm"
      },
      "outputs": [],
      "source": [
        "# ACOP FASE AMPL ENTRE DUAS REGIÕES\n",
        "\n",
        "def pac_entre_regioes(lfp_alta,lfp_lenta,lentaVector,altaVector,lenta_BandWidth,alta_BandWidth,srate,numbin):\n",
        "\n",
        "    AmpFreqTransformed1 = []\n",
        "    PhaseFreq = []\n",
        "\n",
        "    pac_mi = []\n",
        "\n",
        "    for ii in altaVector:\n",
        "        Af1 = ii\n",
        "        Af2=Af1+alta_BandWidth\n",
        "\n",
        "        AmpFreq1=eegfilt(lfp_alta,srate,Af1,Af2) # just filtering\n",
        "\n",
        "        analytic_signal1 = signal.hilbert(AmpFreq1)\n",
        "        AmpFreqTransformed1.append(np.abs(analytic_signal1))\n",
        "\n",
        "\n",
        "    faselenta = []\n",
        "    for jj in lentaVector:\n",
        "        Pf1 = jj\n",
        "        Pf2 = Pf1 + lenta_BandWidth\n",
        "        PhaseFreq=eegfilt(lfp_lenta,srate,Pf1,Pf2)\n",
        "        analytic_signal = signal.hilbert(PhaseFreq)\n",
        "        faselenta.append(np.angle(analytic_signal))\n",
        "\n",
        "\n",
        "    fase_lenta = faselenta\n",
        "\n",
        "    comodulogram = np.empty((len(lentaVector),len(altaVector)))\n",
        "\n",
        "\n",
        "    for count_lenta,lenta in enumerate(fase_lenta):\n",
        "\n",
        "        for count_rapida,rapida in enumerate(AmpFreqTransformed1):\n",
        "\n",
        "            comodulogram[count_lenta,count_rapida] = modulation_index(rapida,lenta,numbin)\n",
        "\n",
        "\n",
        "    return(comodulogram)"
      ]
    },
    {
      "cell_type": "code",
      "execution_count": null,
      "metadata": {
        "id": "J8qNrvf6A4ZR"
      },
      "outputs": [],
      "source": [
        "# Causalidade de granger\n",
        "\n",
        "def grangercausality(data1,data2,r1, r2, condicao, rato,frate,flow,fhigh):\n",
        "\n",
        "  envelope_data_1 = np.abs(signal.hilbert(eegfilt(data1,frate,flow,fhigh)))\n",
        "  test_data_1 = np.squeeze(envelope_data_1)\n",
        "\n",
        "  envelope_data_2 = np.abs(signal.hilbert(eegfilt(data2,frate,flow,fhigh)))\n",
        "  test_data_2 = np.squeeze(envelope_data_2)\n",
        "\n",
        "  matrix_test = np.vstack([np.diff(test_data_1),np.diff(test_data_2)]).T\n",
        "  lag = [int(math.sqrt(len(matrix_test)))]\n",
        "  gc = grangercausalitytests(matrix_test,lag,verbose = False)\n",
        "  results_test_r = [gc[lag[0]][0]['ssr_ftest'][1],gc[lag[0]][0]['ssr_ftest'][0]]\n",
        "\n",
        "  p_label = []\n",
        "  p = results_test_r[0]\n",
        "  if p <= 0.01:\n",
        "    p_label.append('p<0.01')\n",
        "  elif 0.01 < p < 0.05:\n",
        "    p_label.append('p<0.05')\n",
        "  elif p == 0.05:\n",
        "    p_label.append('p=0.05')\n",
        "  else:\n",
        "    p_label.append('p>0.05')\n",
        "\n",
        "  df_granger = pd.DataFrame({ 'Granger Causality':  results_test_r[1], 'P value': p_label, 'r1': r1, 'r2': r2, 'condicao': condicao}, index=['Results'])\n",
        "\n",
        "  return(df_granger )"
      ]
    },
    {
      "cell_type": "code",
      "source": [
        "\n",
        "def phase_amp_hist(amp,fase_lenta,numbin):\n",
        "\n",
        "    position=np.zeros(numbin) # this variable will get the beginning (not the center) of each phase bin (in rads)\n",
        "    winsize = 2*np.pi/numbin # bin de fase\n",
        "\n",
        "    position = []\n",
        "    for j in np.arange(1,numbin+1):\n",
        "        position.append(-np.pi+(j-1)*winsize)\n",
        "\n",
        "\n",
        "    nbin=numbin\n",
        "    mean_amp = []\n",
        "    for j in np.arange(0,nbin):\n",
        "        boolean_array = np.logical_and(fase_lenta >=  position[j], fase_lenta < position[j]+winsize)\n",
        "        I = np.where(boolean_array)[0]\n",
        "        mean_amp.append(np.mean(amp[I]))\n",
        "\n",
        "    mean_amp = [x for x in mean_amp if str(x) != 'nan']\n",
        "    p = mean_amp/np.sum(mean_amp)\n",
        "\n",
        "    return(p)\n",
        "\n",
        "\n",
        "def pac_histogram(lfp_amp,lfp_fase,altaVector,lenta_BandWidth,alta_BandWidth,srate,numbin,mask):\n",
        "\n",
        "    AmpFreqTransformed1 = []\n",
        "\n",
        "    for ii in altaVector:\n",
        "        Af1 = ii\n",
        "        Af2=Af1+alta_BandWidth\n",
        "\n",
        "        AmpFreq1=eegfilt(lfp_amp,srate,Af1,Af2) # just filtering\n",
        "\n",
        "        analytic_signal1 = signal.hilbert(AmpFreq1)\n",
        "        AmpFreqTransformed1.append(np.abs(analytic_signal1)[mask])\n",
        "\n",
        "    Pf1 = 4\n",
        "    Pf2 = 12\n",
        "    PhaseFreq=eegfilt(lfp_fase,srate,Pf1,Pf2)\n",
        "    analytic_signal = signal.hilbert(PhaseFreq)\n",
        "    faselenta = np.angle(analytic_signal)[mask]\n",
        "\n",
        "    hist_freqs = []\n",
        "\n",
        "    for count_rapida,rapida in enumerate(AmpFreqTransformed1):\n",
        "\n",
        "        hist_freqs.append(phase_amp_hist(rapida,faselenta,numbin))\n",
        "\n",
        "\n",
        "    return(hist_freqs)"
      ],
      "metadata": {
        "id": "vnKUkw5cF5fO"
      },
      "execution_count": null,
      "outputs": []
    },
    {
      "cell_type": "markdown",
      "metadata": {
        "id": "lUV4BRqK3X61"
      },
      "source": [
        "> # ANÁLISE DOS DADOS"
      ]
    },
    {
      "cell_type": "code",
      "execution_count": null,
      "metadata": {
        "id": "tq3uMzSyyWq-"
      },
      "outputs": [],
      "source": [
        "# ATENÇÃO: aqui os canais iniciam em 1 e não em 0 (i+1), ou seja, ch1 == ch0, ch32 == ch31....\n",
        "\n",
        "\n",
        "#'CCM64': { 'condicao': {'OF_pre': '/content/drive/Shareddrives/Stress 1K/PROJETO STRESS/EXP_24_08_2023/GRUPO_ESCAPAVEL/CCM64_OF_PRE_EXP',\n",
        "                      #              'OF_pos': '/content/drive/Shareddrives/Stress 1K/PROJETO STRESS/EXP_24_08_2023/GRUPO_ESCAPAVEL/CCM64_OF_POS_EXP'},\n",
        "                      # 'grupo': { 'ESCAPAVEL'},\n",
        "\n",
        "                      # 'canais': {'prl': 22,\n",
        "                      #             'cg': 31,\n",
        "                      #             'il': 25 ,\n",
        "                      #             'ca1-d': 1 ,\n",
        "                      #             'ca1-v': 14 ,\n",
        "                      #             'bla': 19 },\n",
        "\n",
        "                      # 'inicio': { 'OF_pre': 1000 ,\n",
        "                      #             'OF_pos': 345000} },  # ESTE ANIMAL ESTÁ SÓ COM 4S DE REGISTRO DE OF POS EXP!!!!!!\n",
        "\n",
        "\n",
        "\n",
        "          # 'CCM04': { 'condicao': {'OF_pre': '/content/drive/Shareddrives/Stress 1K/PROJETO STRESS/EXP_28_08_2023/GRUPO INESCAPAVEL/CCM04_OF_PRE_EXP',\n",
        "          #                          'OF_pos': '/content/drive/Shareddrives/Stress 1K/PROJETO STRESS/EXP_28_08_2023/GRUPO INESCAPAVEL/CCM04_OF_POS_EXP'},\n",
        "          #             'grupo': 'INESCAPAVEL',\n",
        "\n",
        "          #             'canais': {'prl': 22 ,\n",
        "          #                         'cg': 29 ,\n",
        "          #                         'il': 27 ,\n",
        "          #                         'ca1-d':11 ,\n",
        "          #                         'ca1-v': 13 ,\n",
        "          #                         'bla': 19 },\n",
        "\n",
        "          #             'inicio': { 'OF_pre': 90000  ,\n",
        "          #                         'OF_pos': 1000 } },   # OF PRE ESTÁ SÓ COM 20000 PONTOS!!!!!!!\n",
        "\n",
        "ratos = { 'CCM68': { 'condicao': {'OF_pre': '/content/drive/Shareddrives/Stress 1K/PROJETO STRESS/EXP_28_08_2023/GRUPO ESCAPAVEL/CCM68_OF_PRE_EXP',\n",
        "                                         'OF_pos': '/content/drive/Shareddrives/Stress 1K/PROJETO STRESS/EXP_28_08_2023/GRUPO ESCAPAVEL/CCM68_OF_POS_EXP'},\n",
        "\n",
        "                      'grupo': 'ESCAPAVEL',\n",
        "\n",
        "                      'canais': {'prl':31 ,\n",
        "                                  'cg':23 ,\n",
        "                                  'il': 27 ,\n",
        "                                  'dhpc': 1 ,\n",
        "                                  'vhpc': 12 ,\n",
        "                                  'bla':20  },\n",
        "\n",
        "                      'inicio': { 'OF_pre': 270000 ,\n",
        "                                  'OF_pos': 80000} }, # VERIFICADO OF PRE E POS OK\n",
        "\n",
        "          'CCM65': { 'condicao': {'OF_pre': '/content/drive/Shareddrives/Stress 1K/PROJETO STRESS/EXP_31_08_2023/GRUPO ESCAPAVEL/CCM65_OF_PRE_EXP',\n",
        "                                   'OF_pos': '/content/drive/Shareddrives/Stress 1K/PROJETO STRESS/EXP_31_08_2023/GRUPO ESCAPAVEL/CCM65_OF_POS_EXP'},\n",
        "                      'grupo': 'ESCAPAVEL',\n",
        "\n",
        "                      'canais': {'prl': 26 ,\n",
        "                                  'cg': 32 ,\n",
        "                                  'il': 24 ,\n",
        "                                  'dhpc': 7 ,\n",
        "                                  'vhpc': 16,\n",
        "                                  'bla': 17 },\n",
        "\n",
        "                      'inicio': { 'OF_pre': 1000  ,\n",
        "                                  'OF_pos': 360000 } },  # VERIFICADO OF PRE E POS OK\n",
        "\n",
        "          'CCM191': { 'condicao': {'OF_pre': '/content/drive/Shareddrives/Stress 1K/PROJETO STRESS/EXP_13_10_2023/GRUPO_ESCAPAVEL/CCM191_OF_PRE_EXP',\n",
        "                                   'OF_pos': '/content/drive/Shareddrives/Stress 1K/PROJETO STRESS/EXP_13_10_2023/GRUPO_ESCAPAVEL/CCM191_OF_POS_EXP'},\n",
        "                      'grupo': 'ESCAPAVEL',\n",
        "\n",
        "                      'canais': {'prl': 23,\n",
        "                                  'cg': 31,\n",
        "                                  'il': 28 ,\n",
        "                                  'dhpc': 7 ,\n",
        "                                  'vhpc': 11 ,\n",
        "                                  'bla': 13  },\n",
        "\n",
        "                      'inicio': { 'OF_pre': 20000 ,\n",
        "                                  'OF_pos': 75000} },  # VERIFICADO OF PRE E POS OK\n",
        "\n",
        "          'CCM05': { 'condicao': {'OF_pre': '/content/drive/Shareddrives/Stress 1K/PROJETO STRESS/EXP_30_08_2023/GRUPO INESCAPAVEL/CCM05_OF_PRE_EXP',\n",
        "                                   'OF_pos': '/content/drive/Shareddrives/Stress 1K/PROJETO STRESS/EXP_30_08_2023/GRUPO INESCAPAVEL/CCM05_OF_POS_EXP'},\n",
        "                      'grupo': 'INESCAPAVEL',\n",
        "\n",
        "                      'canais': {'prl': 24 ,\n",
        "                                  'cg': 30,\n",
        "                                  'il': 28 ,\n",
        "                                  'dhpc': 6  ,\n",
        "                                  'vhpc': 12 ,\n",
        "                                  'bla': 17 },\n",
        "\n",
        "                      'inicio': { 'OF_pre': 205000 ,\n",
        "                                  'OF_pos': 265000 } },  # VERIFICADO OF PRE E POS OK\n",
        "\n",
        "          'CCM192': { 'condicao': {'OF_pre': '/content/drive/Shareddrives/Stress 1K/PROJETO STRESS/EXP_25_10_2023/GRUPO INESCAPAVEL/CCM192_OF_PRE_EXP',\n",
        "                                   'OF_pos': '/content/drive/Shareddrives/Stress 1K/PROJETO STRESS/EXP_25_10_2023/GRUPO INESCAPAVEL/CCM192_OF_POS_EXP'},\n",
        "                      'grupo': 'INESCAPAVEL',\n",
        "\n",
        "                      'canais': {'prl':22 ,\n",
        "                                  'cg':31 ,\n",
        "                                  'il': 27 ,\n",
        "                                  'dhpc':5  ,\n",
        "                                  'vhpc':12  ,\n",
        "                                  'bla': 20 },\n",
        "\n",
        "                      'inicio': { 'OF_pre': 140000 ,\n",
        "                                  'OF_pos': 170000 } },   # VERIFICADO OF PRE E POS OK\n",
        "\n",
        "\n",
        "\n",
        "          'CCM193': { 'condicao': {'OF_pre': '/content/drive/Shareddrives/Stress 1K/PROJETO STRESS/EXP_30_10_2023/GRUPO INESCAPAVEL/CCM193_OF_PRE_EXP',\n",
        "                                   'OF_pos': '/content/drive/Shareddrives/Stress 1K/PROJETO STRESS/EXP_30_10_2023/GRUPO INESCAPAVEL/CCM193_OF_POS_EXP'},\n",
        "                      'grupo': 'INESCAPAVEL',\n",
        "\n",
        "                      'canais': {'prl': 23,\n",
        "                                  'cg': 29,\n",
        "                                  'il': 25 ,\n",
        "                                  'dhpc':6  ,\n",
        "                                  'vhpc': 11 ,\n",
        "                                  'bla': 19 },\n",
        "\n",
        "                      'inicio': { 'OF_pre': 1000 ,\n",
        "                                  'OF_pos': 268000} }}   # VERIFICADO OF PRE E POS OK\n",
        "\n"
      ]
    },
    {
      "cell_type": "code",
      "source": [
        "x = preview( '/content/drive/Shareddrives/Stress 1K/PROJETO STRESS/EXP_25_10_2023/GRUPO INESCAPAVEL/CCM192_OF_PRE_EXP')\n",
        "# preview_plot(x)"
      ],
      "metadata": {
        "colab": {
          "base_uri": "https://localhost:8080/"
        },
        "id": "NHvFhlnRmKei",
        "outputId": "7a6ac6c3-260c-4d2b-b865-e09e0914b69f"
      },
      "execution_count": null,
      "outputs": [
        {
          "output_type": "stream",
          "name": "stderr",
          "text": [
            "/usr/local/lib/python3.10/dist-packages/open_ephys/analysis/formats/BinaryRecording.py:141: ResourceWarning: unclosed file <_io.TextIOWrapper name='/content/drive/Shareddrives/Stress 1K/PROJETO STRESS/EXP_25_10_2023/GRUPO INESCAPAVEL/CCM192_OF_PRE_EXP/Record Node 101/experiment1/recording1/structure.oebin' mode='r' encoding='UTF-8'>\n",
            "  self.info = json.load(open(os.path.join(self.directory, 'structure.oebin')))\n",
            "ResourceWarning: Enable tracemalloc to get the object allocation traceback\n"
          ]
        }
      ]
    },
    {
      "cell_type": "markdown",
      "source": [
        "# DATA BASED ON ACELEROMETER"
      ],
      "metadata": {
        "id": "2RiugLvOc6Yn"
      }
    },
    {
      "cell_type": "code",
      "source": [
        "# calcular o espectro para cada pedacinho separadamente e depois tirar a média de todos os pedacinhos\n",
        "# colocar o nperseg 2000 (mesmo tamanho do menor fragmento)\n",
        "\n",
        "\n",
        "# a unidade do plot será: Power Ratio (a.u.)"
      ],
      "metadata": {
        "id": "geEHFdwJ248o"
      },
      "execution_count": null,
      "outputs": []
    },
    {
      "cell_type": "code",
      "source": [
        "# CRIANDO DF COM OS DADOS COMPLETOS\n",
        "\n",
        "dataframes_full = []\n",
        "for rato in ratos.keys():\n",
        "  for condicao in ratos[rato]['condicao'].keys():\n",
        "\n",
        "      path = ratos[str(rato)]['condicao'][str(condicao)]\n",
        "\n",
        "      grupo = ratos[rato]['grupo']\n",
        "      ch_prl =  ratos[rato]['canais']['prl']\n",
        "      ch_bla = ratos[rato]['canais']['bla']\n",
        "      ch_dhpc = ratos[rato]['canais']['dhpc']\n",
        "      ch_vhpc = ratos[rato]['canais']['vhpc']\n",
        "\n",
        "      df_temp_full = load_data_full(path,ch_prl,ch_bla,ch_dhpc, ch_vhpc)\n",
        "      df_temp_full['animal'] = str(rato)\n",
        "      df_temp_full['condicao'] = str(condicao)\n",
        "      df_temp_full['grupo'] = str(grupo)\n",
        "\n",
        "      dataframes_full.append(df_temp_full)\n",
        "\n",
        "df_full = pd.concat(dataframes_full)\n",
        "clear_output()"
      ],
      "metadata": {
        "id": "hDRwrC1_hKeM"
      },
      "execution_count": null,
      "outputs": []
    },
    {
      "cell_type": "code",
      "source": [
        "# OBTENDO DADOS DO ACELEROMETRO\n",
        "\n",
        "data_acel = []\n",
        "\n",
        "for rato in ratos.keys():\n",
        "    for condicao in ratos[rato]['condicao'].keys():\n",
        "        path = ratos[str(rato)]['condicao'][str(condicao)]\n",
        "        grupo = ratos[rato]['grupo']\n",
        "        df_temp_acel = load_acelerometer(str(path))\n",
        "        df_temp_acel['grupo'] = str(grupo)\n",
        "        data_acel.append(df_temp_acel)\n",
        "\n",
        "df_acel = pd.concat(data_acel)\n",
        "clear_output()\n"
      ],
      "metadata": {
        "id": "Z7C66CNrdWOB"
      },
      "execution_count": null,
      "outputs": []
    },
    {
      "cell_type": "code",
      "source": [
        "# CORTANDO MOMENTOS DE IMOBILIDADE A PARTIR DO ACELEROMETRO\n",
        "\n",
        "# ESCAP\n",
        "PRL_CCM68_PRE_P, BLA_CCM68_PRE_P , dHPC_CCM68_PRE_P, vHPC_CCM68_PRE_P = data_slicing_imovel( 'CCM68', 'OF_pre' ) #ESSA FUNÇÃO PRODUZ LISTAS QUE CONTÉM LISTAS COM MOMENTOS DE IMOBILIDADE POR MAIS DE 2S\n",
        "PRL_CCM68_POS_P, BLA_CCM68_POS_P , dHPC_CCM68_POS_P, vHPC_CCM68_POS_P = data_slicing_imovel( 'CCM68', 'OF_pos' )\n",
        "\n",
        "PRL_CCM65_PRE_P, BLA_CCM65_PRE_P , dHPC_CCM65_PRE_P, vHPC_CCM65_PRE_P = data_slicing_imovel( 'CCM65', 'OF_pre' )\n",
        "PRL_CCM65_POS_P, BLA_CCM65_POS_P , dHPC_CCM65_POS_P, vHPC_CCM65_POS_P = data_slicing_imovel( 'CCM65', 'OF_pos' )\n",
        "\n",
        "PRL_CCM191_PRE_P, BLA_CCM191_PRE_P , dHPC_CCM191_PRE_P, vHPC_CCM191_PRE_P = data_slicing_imovel( 'CCM191', 'OF_pre' )\n",
        "PRL_CCM191_POS_P, BLA_CCM191_POS_P , dHPC_CCM191_POS_P, vHPC_CCM191_POS_P = data_slicing_imovel( 'CCM191', 'OF_pos' )\n",
        "\n",
        "\n",
        "# INESCAP\n",
        "PRL_CCM05_PRE_P, BLA_CCM05_PRE_P , dHPC_CCM05_PRE_P, vHPC_CCM05_PRE_P = data_slicing_imovel( 'CCM05', 'OF_pre' )\n",
        "PRL_CCM05_POS_P, BLA_CCM05_POS_P , dHPC_CCM05_POS_P, vHPC_CCM05_POS_P = data_slicing_imovel( 'CCM05', 'OF_pos' )\n",
        "\n",
        "PRL_CCM192_PRE_P, BLA_CCM192_PRE_P , dHPC_CCM192_PRE_P, vHPC_CCM192_PRE_P = data_slicing_imovel( 'CCM192', 'OF_pre' )\n",
        "PRL_CCM192_POS_P, BLA_CCM192_POS_P , dHPC_CCM192_POS_P, vHPC_CCM192_POS_P = data_slicing_imovel( 'CCM192', 'OF_pos' )\n",
        "\n",
        "PRL_CCM193_PRE_P, BLA_CCM193_PRE_P , dHPC_CCM193_PRE_P, vHPC_CCM193_PRE_P = data_slicing_imovel( 'CCM193', 'OF_pre' )\n",
        "PRL_CCM193_POS_P, BLA_CCM193_POS_P , dHPC_CCM193_POS_P, vHPC_CCM193_POS_P = data_slicing_imovel( 'CCM193', 'OF_pos' )\n",
        "clear_output()"
      ],
      "metadata": {
        "id": "u21fRYdLdX7z"
      },
      "execution_count": null,
      "outputs": []
    },
    {
      "cell_type": "markdown",
      "source": [
        "> # THETA TRACE FILTERED"
      ],
      "metadata": {
        "id": "by9bg4eVrh40"
      }
    },
    {
      "cell_type": "code",
      "source": [
        "# from scipy import signal as sp_signal  # Importa o módulo signal com um alias para evitar conflitos\n",
        "\n",
        "\n",
        "def basspass(data, cutfreq, filtorder, sampling_rate):\n",
        "\n",
        "        fny = sampling_rate/2\n",
        "\n",
        "        b, a = signal.butter(N = filtorder, Wn=np.array(cutfreq) / fny,\n",
        "                                         btype='bandpass')\n",
        "        dataout = signal.filtfilt(b, a, data)\n",
        "\n",
        "        return dataout\n",
        "\n",
        "\n",
        "\n",
        "theta_fcut = [4, 18]\n",
        "\n",
        "lfp_PRE = basspass(bla_pre_inescap,  [4, 18], 4, 1000)\n",
        "# lfp_POS = basspass(bla_pos_inescap, theta_fcut, 4, 1000)"
      ],
      "metadata": {
        "id": "ZDvPYNZkr5-S",
        "colab": {
          "base_uri": "https://localhost:8080/",
          "height": 227
        },
        "outputId": "c541a0d6-a0f9-4631-9251-17bbd2732c93"
      },
      "execution_count": null,
      "outputs": [
        {
          "output_type": "error",
          "ename": "NameError",
          "evalue": "name 'bla_pre_inescap' is not defined",
          "traceback": [
            "\u001b[0;31m---------------------------------------------------------------------------\u001b[0m",
            "\u001b[0;31mNameError\u001b[0m                                 Traceback (most recent call last)",
            "\u001b[0;32m<ipython-input-37-9467ab2b20b8>\u001b[0m in \u001b[0;36m<cell line: 18>\u001b[0;34m()\u001b[0m\n\u001b[1;32m     16\u001b[0m \u001b[0mtheta_fcut\u001b[0m \u001b[0;34m=\u001b[0m \u001b[0;34m[\u001b[0m\u001b[0;36m4\u001b[0m\u001b[0;34m,\u001b[0m \u001b[0;36m18\u001b[0m\u001b[0;34m]\u001b[0m\u001b[0;34m\u001b[0m\u001b[0;34m\u001b[0m\u001b[0m\n\u001b[1;32m     17\u001b[0m \u001b[0;34m\u001b[0m\u001b[0m\n\u001b[0;32m---> 18\u001b[0;31m \u001b[0mlfp_PRE\u001b[0m \u001b[0;34m=\u001b[0m \u001b[0mbasspass\u001b[0m\u001b[0;34m(\u001b[0m\u001b[0mbla_pre_inescap\u001b[0m\u001b[0;34m,\u001b[0m  \u001b[0;34m[\u001b[0m\u001b[0;36m4\u001b[0m\u001b[0;34m,\u001b[0m \u001b[0;36m18\u001b[0m\u001b[0;34m]\u001b[0m\u001b[0;34m,\u001b[0m \u001b[0;36m4\u001b[0m\u001b[0;34m,\u001b[0m \u001b[0;36m1000\u001b[0m\u001b[0;34m)\u001b[0m\u001b[0;34m\u001b[0m\u001b[0;34m\u001b[0m\u001b[0m\n\u001b[0m\u001b[1;32m     19\u001b[0m \u001b[0;31m# lfp_POS = basspass(bla_pos_inescap, theta_fcut, 4, 1000)\u001b[0m\u001b[0;34m\u001b[0m\u001b[0;34m\u001b[0m\u001b[0m\n",
            "\u001b[0;31mNameError\u001b[0m: name 'bla_pre_inescap' is not defined"
          ]
        }
      ]
    },
    {
      "cell_type": "code",
      "source": [
        "plt.plot(lfp_PRE, color = 'darkblue', label = 'Theta filtered')\n",
        "plt.plot(bla_pre_inescap, color = 'b', label = 'Original')\n"
      ],
      "metadata": {
        "id": "WFKxglYRybu-"
      },
      "execution_count": null,
      "outputs": []
    },
    {
      "cell_type": "code",
      "source": [],
      "metadata": {
        "id": "H36qP6uM14_A"
      },
      "execution_count": null,
      "outputs": []
    },
    {
      "cell_type": "markdown",
      "source": [
        "> # THETA PEAK TRIGGED AVERAGE"
      ],
      "metadata": {
        "id": "KNH1UegX1wOQ"
      }
    },
    {
      "cell_type": "code",
      "source": [
        "\n",
        "# Identificar os grupos de índices consecutivos não-NaN e seus comprimentos para cortar momentos de imobilidade menores que 2s\n",
        "def find_consecutive_groups(arr):\n",
        "    # Encontrar as mudanças de NaN para não-NaN e vice-versa\n",
        "    diff = np.diff(np.isnan(arr).view(np.int8))\n",
        "    idx, = diff.nonzero()\n",
        "\n",
        "    # Adicionar o índice do primeiro e último elemento\n",
        "    idx = np.r_[0, idx + 1, len(arr)]\n",
        "    idx_pairs = zip(idx[:-1], idx[1:])  # Formar pares de índices\n",
        "\n",
        "    return [(start, end) for start, end in idx_pairs if not np.isnan(arr[start])]\n",
        "\n",
        "\n",
        "\n",
        "\n",
        "def generating_masks(DATA,data_acel,regiao):\n",
        "\n",
        "  acel = np.array(data_acel)\n",
        "  acel = np.diff(acel, axis = 0)\n",
        "  acel = abs(pd.DataFrame(acel)).rolling(window=1000).mean()\n",
        "\n",
        "  # array booleano dizendo onde animal mexeu e não mexeu\n",
        "  parado_bool = np.array(acel <= 0.005 )\n",
        "  parado_bool = np.append(parado_bool, 0) #aqui foi adicionado um 0 pois a função diff retira um elemento do vetor, assim ele volta ao tamanho original\n",
        "\n",
        "  index_parado_all = []\n",
        "  index_ativo_all = []\n",
        "\n",
        "  for x in range(len(parado_bool)):\n",
        "      if parado_bool[x] == True:\n",
        "        index_parado_all.append(x)\n",
        "      elif parado_bool[x] == False:\n",
        "        index_ativo_all.append(x)\n",
        "\n",
        "  vector_nan = np.full(len(DATA), np.nan)\n",
        "\n",
        "  vector_nan[index_parado_all] = DATA[index_parado_all]\n",
        "\n",
        "  # Essa parte do código irá retirar pedaços muito curtos de dado (menos de 2s)\n",
        "  groups = find_consecutive_groups(vector_nan)\n",
        "\n",
        "  for start, end in groups:\n",
        "      length = end - start\n",
        "      if length < 2000:\n",
        "            vector_nan[start:end] = np.nan #transforma pedaços menores que 2s em Nan\n",
        "\n",
        "  mask_low = np.where(~np.isnan(vector_nan))[0] #pegando apenas os indices dos valores que não são Nan\n",
        "\n",
        "  vector_nan_high = np.full(len(DATA), np.nan)\n",
        "\n",
        "  vector_nan_high[index_ativo_all] = DATA[index_ativo_all]\n",
        "\n",
        "\n",
        "  # Essa parte do código irá retirar pedaços muito curtos de dado (menos de 2s)\n",
        "  groups_high = find_consecutive_groups(vector_nan_high)\n",
        "\n",
        "  for start, end in groups_high:\n",
        "      length_high = end - start\n",
        "      if length_high < 2000:\n",
        "            vector_nan_high[start:end] = np.nan #transforma pedaços menores que 2s em Nan\n",
        "\n",
        "  mask_high = np.where(~np.isnan(vector_nan_high))[0] #pegando apenas os indices dos valores que não são Nan\n",
        "\n",
        "  return(mask_low, mask_high )"
      ],
      "metadata": {
        "id": "jL8mRugM15_d"
      },
      "execution_count": null,
      "outputs": []
    },
    {
      "cell_type": "code",
      "source": [
        "def do_ta(time_ref, signal_2trigger, ta_winlen):\n",
        "\n",
        "        time_ref = time_ref[time_ref > ta_winlen//2]\n",
        "        time_ref = time_ref[time_ref < (len(signal_2trigger) - ta_winlen//2)]\n",
        "        rel_samples = np.arange(ta_winlen) - ta_winlen//2\n",
        "\n",
        "        ta_mat = np.zeros((len(time_ref),ta_winlen))\n",
        "        for ta_win_i in range(0, len(time_ref)):\n",
        "                win_samples = rel_samples + time_ref[ta_win_i]\n",
        "                ta_mat[ta_win_i] = signal_2trigger[win_samples]\n",
        "\n",
        "        ta = np.mean(ta_mat, axis=0)\n",
        "        return ta, rel_samples"
      ],
      "metadata": {
        "id": "7kZqDJw02Ccs"
      },
      "execution_count": null,
      "outputs": []
    },
    {
      "cell_type": "code",
      "source": [
        "lfp = dHPC_CCM68_PRE_P[0]\n",
        "sampling_rate = 1000\n",
        "gamma_fcut = [90, 150]\n",
        "gamma = bandpass(lfp, gamma_fcut, 3, sampling_rate)\n",
        "\n",
        "gamma_hilb = signal.hilbert(gamma)\n",
        "gamma_env = np.abs(gamma_hilb)"
      ],
      "metadata": {
        "id": "BQTIySWE5e3i"
      },
      "execution_count": null,
      "outputs": []
    },
    {
      "cell_type": "code",
      "source": [
        "\n",
        "\n",
        "theta_fcut = [4, 18]\n",
        "theta = bandpass(lfp, theta_fcut, 3, sampling_rate)\n",
        "\n",
        "theta_maxf = 12\n",
        "theta_peaks = signal.find_peaks(theta, height=0, distance=int(sampling_rate/theta_maxf))[0]\n",
        "time_ref = theta_peaks"
      ],
      "metadata": {
        "id": "Wq8anqb83a6y"
      },
      "execution_count": null,
      "outputs": []
    },
    {
      "cell_type": "code",
      "source": [
        "ta_winlen = 200\n",
        "\n",
        "ta_lfp, rel_samples = do_ta(theta_peaks, lfp, ta_winlen)\n",
        "ta_gammaenv, rel_samples = do_ta(theta_peaks, gamma_env, ta_winlen)\n",
        "\n",
        "plt.figure(figsize=(5,3))\n",
        "plt.subplot(2,1,1)\n",
        "plt.plot(rel_samples, ta_lfp, color='k', lw=2)\n",
        "plt.grid(True)\n",
        "plt.subplot(2,1,2)\n",
        "plt.plot(rel_samples, ta_gammaenv, color='darkgreen', lw=2)\n",
        "\n",
        "plt.grid(True)"
      ],
      "metadata": {
        "id": "zw27FxYz4Y-c"
      },
      "execution_count": null,
      "outputs": []
    },
    {
      "cell_type": "code",
      "source": [
        "def wvfilt(lfp,mfreq,sr=1250., w=5, s=1, normwv=True):\n",
        "\n",
        "        # computing the length of the wavelet for the desired frequency\n",
        "        wavelen = int(np.round(2*w*s*sr/mfreq))\n",
        "\n",
        "        # constructs morlet wavelet with given parameters\n",
        "        wave = signal.morlet(wavelen,w=w,s=s,complete=True)\n",
        "\n",
        "        # cutting borders\n",
        "        cumulativeEnvelope = np.cumsum(np.abs(wave))/np.sum(np.abs(wave))\n",
        "        Cut1 = next(i for (i,val) in enumerate(cumulativeEnvelope[::-1]) if val<=(1./2000))\n",
        "        Cut2 = Cut1\n",
        "        Cut1 = len(cumulativeEnvelope)-Cut1-1\n",
        "        wave = wave[range(Cut1,Cut2)]\n",
        "\n",
        "        # normalizes wavelet energy\n",
        "        if normwv:\n",
        "                wave = wave/(.5*sum(abs(wave)))\n",
        "\n",
        "        if (len(wave))>len(lfp):\n",
        "                print('ERROR: input signal needs at least '+str(len(wave))+\\\n",
        "                                                            ' time points for '+str(mfreq)+\\\n",
        "                                                                      'Hz-wavelet convolution')\n",
        "                return None\n",
        "\n",
        "        # convolving signal with wavelet\n",
        "        fsignal = np.convolve(lfp,wave,'same')\n",
        "        return fsignal\n",
        "\n",
        "def wvSpect(lfp,freqs,sampling_rate):\n",
        "        ''' lfp: array float\n",
        "            output: spectogram..\n",
        "        '''\n",
        "\n",
        "        freqs = np.array(freqs).reshape(-1,1)\n",
        "        tfr = np.zeros((np.size(freqs),len(lfp)),dtype=complex)\n",
        "        for (fi,f) in enumerate(freqs):\n",
        "                f = float(f)\n",
        "                tfr[fi,:] = wvfilt(lfp,f,sampling_rate)\n",
        "\n",
        "        output = np.abs(tfr).squeeze()\n",
        "\n",
        "        return output"
      ],
      "metadata": {
        "id": "a10s-kx17uQS"
      },
      "execution_count": null,
      "outputs": []
    },
    {
      "cell_type": "code",
      "source": [
        "nperseg = sampling_rate * 2\n",
        "noverlap = nperseg // 2\n",
        "psd_frqs, psd_t, psd = signal.spectrogram(lfp, fs=sampling_rate, \\\n",
        "                             nperseg=nperseg, noverlap=noverlap, nfft=nperseg, axis=0)"
      ],
      "metadata": {
        "id": "lV92UHXX89gp"
      },
      "execution_count": null,
      "outputs": []
    },
    {
      "cell_type": "code",
      "source": [
        "fmask = (psd_frqs>4)&(psd_frqs<20)\n",
        "# chi = chis_pfc[1]\n",
        "\n",
        "plt.figure()\n",
        "plt.pcolormesh(psd_t, psd_frqs[fmask], psd[fmask], vmax=5000)\n",
        "plt.colorbar()\n",
        "\n",
        "# tmask_pre = psd_t<180\n",
        "# tmask_pos = psd_t>180\n",
        "\n",
        "# psd_pre = np.mean(psd[fmask][:,tmask_pre], axis=1)\n",
        "# psd_pos = np.mean(psd[fmask][:,tmask_pos], axis=1)\n",
        "\n",
        "# plt.figure()\n",
        "# plt.plot(psd_frqs[fmask], psd_pre, lw=2)\n",
        "# plt.plot(psd_frqs[fmask], psd_pos, 'r', lw=2)"
      ],
      "metadata": {
        "id": "RYD1oVQ29A7g"
      },
      "execution_count": null,
      "outputs": []
    },
    {
      "cell_type": "code",
      "source": [],
      "metadata": {
        "id": "JWJafT2x_6LC"
      },
      "execution_count": null,
      "outputs": []
    },
    {
      "cell_type": "code",
      "source": [
        "theta_hilb = signal.hilbert(theta)\n",
        "theta_ph = np.angle(theta_hilb)\n",
        "\n",
        "plt.figure(figsize=(25,5))\n",
        "plt.subplot(2,1,1)\n",
        "plt.plot(theta)\n",
        "plt.subplot(2,1,2)\n",
        "plt.plot(theta_ph)\n",
        "plt.grid(True)"
      ],
      "metadata": {
        "id": "Xj04EJvk_vxF"
      },
      "execution_count": null,
      "outputs": []
    },
    {
      "cell_type": "markdown",
      "source": [
        "> # TESTES"
      ],
      "metadata": {
        "id": "EC61xohHQq9d"
      }
    },
    {
      "cell_type": "code",
      "source": [
        "sample_rate = 1000\n",
        "imf = emd.sift.iterated_mask_sift(dHPC_CCM68_PRE_P[0], sample_rate=sample_rate)\n"
      ],
      "metadata": {
        "id": "3jay69ENyECn"
      },
      "execution_count": null,
      "outputs": []
    },
    {
      "cell_type": "code",
      "source": [
        "ciclos = emd.cycles.get_cycle_vector(IP, return_good=False, mask=None, imf=None, phase_step=4.71238898038469, phase_edge=0.2617993877991494, min_len=2)"
      ],
      "metadata": {
        "id": "gabbhEJkPB4U"
      },
      "execution_count": null,
      "outputs": []
    },
    {
      "cell_type": "code",
      "source": [
        "\n",
        "IP, IF, IA = emd.spectra.frequency_transform(imf, sample_rate, 'hilbert')"
      ],
      "metadata": {
        "id": "A5okQbcuzKpw"
      },
      "execution_count": null,
      "outputs": []
    },
    {
      "cell_type": "code",
      "source": [
        "# Define frequency range (low_freq, high_freq, nsteps, spacing)\n",
        "freq_range = (4, 18, 80, 'log')\n",
        "f, hht = emd.spectra.hilberthuang(IF, IA, freq_range, sum_time=False)"
      ],
      "metadata": {
        "id": "jxgL-e1-zLSz"
      },
      "execution_count": null,
      "outputs": []
    },
    {
      "cell_type": "code",
      "source": [
        "emd.plotting.plot_imfs(imf)"
      ],
      "metadata": {
        "id": "v1qCwHNhzLM7"
      },
      "execution_count": null,
      "outputs": []
    },
    {
      "cell_type": "code",
      "source": [
        "good_cycles = emd.cycles.get_cycle_vector(IP, return_good=True, phase_step=np.pi)\n",
        "all_cycles = emd.cycles.get_cycle_vector(IP, return_good=False)"
      ],
      "metadata": {
        "id": "DYhfszA7g_3g"
      },
      "execution_count": null,
      "outputs": []
    },
    {
      "cell_type": "code",
      "source": [
        "# Compute cycle average frequency for all cycles and masked cycles\n",
        "all_cycle_freq = emd.cycles.get_cycle_stat(all_cycles[:, 2], IF[:, 2], func=np.mean)\n",
        "mask_cycle_freq = emd.cycles.get_cycle_stat(good_cycles[:, 2], IF[:, 2], func=np.mean)\n",
        "\n",
        "# Compute cycle frequency range for all cycles and for masked cycles\n",
        "all_cycle_amp = emd.cycles.get_cycle_stat(all_cycles[:, 2], IA[:, 2], func=np.mean)\n",
        "mask_cycle_amp = emd.cycles.get_cycle_stat(good_cycles[:, 2], IA[:, 2], func=np.mean)\n",
        "\n",
        "# Make a summary figures\n",
        "plt.figure()\n",
        "plt.plot(all_cycle_freq, all_cycle_amp, 'o')\n",
        "plt.plot(mask_cycle_freq, mask_cycle_amp, 'o')\n",
        "plt.xlabel('Cycle average frequency (Hz)')\n",
        "plt.ylabel('Cycle average amplitude')\n",
        "# plt.plot((9, 22), (thresh, thresh), 'k:')\n",
        "plt.legend(['All-cycles', 'Masked-cycles', 'Amp thresh'])"
      ],
      "metadata": {
        "id": "PFsQKcquny6u"
      },
      "execution_count": null,
      "outputs": []
    },
    {
      "cell_type": "markdown",
      "source": [],
      "metadata": {
        "id": "I7H5QnnG-JRa"
      }
    },
    {
      "cell_type": "code",
      "source": [
        "def pac(lfp, lentaVector, altaVector, lenta_BandWidth, alta_BandWidth, srate, numbin, all_cycles):\n",
        "    AmpFreqTransformed1 = []\n",
        "    PhaseFreq = []\n",
        "    pac_mi = []\n",
        "\n",
        "    for ii in altaVector:\n",
        "        Af1 = ii\n",
        "        Af2 = Af1 + alta_BandWidth\n",
        "\n",
        "        AmpFreq1 = eegfilt(lfp, srate, Af1, Af2)  # just filtering\n",
        "        analytic_signal1 = signal.hilbert(AmpFreq1)\n",
        "        AmpFreqTransformed1.append(np.abs(analytic_signal1))  # Aplica apenas a máscara original\n",
        "\n",
        "    faselenta = []\n",
        "    for jj in lentaVector:\n",
        "        Pf1 = jj\n",
        "        Pf2 = Pf1 + lenta_BandWidth\n",
        "        PhaseFreq = eegfilt(lfp, srate, Pf1, Pf2)\n",
        "        analytic_signal = signal.hilbert(PhaseFreq)\n",
        "        # Filtra pela máscara de ciclos válidos e pela máscara original para a fase\n",
        "        faselenta.append(np.angle(analytic_signal)[(all_cycles != 0)])\n",
        "\n",
        "    fase_lenta = faselenta\n",
        "\n",
        "    comodulogram = np.empty((len(lentaVector), len(altaVector)))\n",
        "\n",
        "    for count_lenta, lenta in enumerate(fase_lenta):\n",
        "        for count_rapida, rapida in enumerate(AmpFreqTransformed1):\n",
        "            comodulogram[count_lenta, count_rapida] = modulation_index(rapida, lenta, numbin)\n",
        "\n",
        "    return comodulogram\n"
      ],
      "metadata": {
        "id": "_J9YlTuSCfbm"
      },
      "execution_count": null,
      "outputs": []
    },
    {
      "cell_type": "code",
      "source": [
        "all_cycles.T.shape"
      ],
      "metadata": {
        "id": "H0BLed56DAsm"
      },
      "execution_count": null,
      "outputs": []
    },
    {
      "cell_type": "code",
      "source": [
        "lentaVector = np.arange(1,18,1) # bins para as ondas lentas (onde serão retiradas as fases)\n",
        "altaVector = np.arange(30,150,10) # bins para as ondas rápidas (onde serão retiradas as amplitudes)\n",
        "lenta_BandWidth = 2 # resolução para as lentas\n",
        "alta_BandWidth = 10 # resolução para as rápidas\n",
        "numbin = 18 #esse numero é fixo, manter sempre 18"
      ],
      "metadata": {
        "id": "5LOe4zIQC1Z5"
      },
      "execution_count": null,
      "outputs": []
    },
    {
      "cell_type": "code",
      "source": [
        "pac_dhpc = pac(dHPC_CCM68_PRE_P[0], lentaVector, altaVector, lenta_BandWidth, alta_BandWidth, 1000, numbin,  all_cycles.T[4])"
      ],
      "metadata": {
        "id": "ChfqUEf0CiWU"
      },
      "execution_count": null,
      "outputs": []
    },
    {
      "cell_type": "code",
      "source": [
        "plt.plot(all_cycles.T[4])"
      ],
      "metadata": {
        "id": "MBm-GSZ8LrX5"
      },
      "execution_count": null,
      "outputs": []
    },
    {
      "cell_type": "code",
      "source": [
        "\n",
        "vmin = np.percentile(pac_dhpc, 2.5) #ESSE VALOR PODE SER ALTERADO SE NECESSARIO\n",
        "vmax = np.percentile(pac_dhpc, 97.5)\n",
        "\n",
        "figura = plt.figure(figsize=(8,4.5))\n",
        "figura.suptitle('PAC ', fontweight =\"bold\", fontsize = 16) #MUDAR O NOME DA REGIÃO\n",
        "\n",
        "\n",
        "\n",
        "plt.title('PRE', fontweight =\"bold\")\n",
        "extent = [lentaVector[0]+lenta_BandWidth/2,lentaVector[-1]+lenta_BandWidth/2,(altaVector[-1]+alta_BandWidth/2)+5,altaVector[0]+alta_BandWidth/2]\n",
        "im1 = plt.imshow(pac_dhpc,extent = extent,interpolation = 'gaussian',cmap = 'jet',vmin = vmin, vmax = vmax,aspect = 'auto', label = 'PRE')\n",
        "\n",
        "plt.yticks(ticks = ((altaVector+alta_BandWidth/2)+5).astype(int))\n",
        "plt.gca().invert_yaxis()\n",
        "plt.xticks(ticks = np.round((lentaVector+lenta_BandWidth/2)-0.2).astype(int))\n",
        "\n",
        "plt.xlabel('Phase Frequency (Hz)')\n",
        "plt.ylabel('Amp Frequency (Hz)')"
      ],
      "metadata": {
        "id": "f2I3q9PwDQLE"
      },
      "execution_count": null,
      "outputs": []
    },
    {
      "cell_type": "code",
      "source": [
        "plt.figure(figsize=(10, 8))\n",
        "plt.subplots_adjust(hspace=.3)\n",
        "plt.subplot(311)\n",
        "plt.plot( imf[:sample_rate*4, 4], 'k')\n",
        "plt.gca().set_xticklabels([])\n",
        "plt.title('IMF-5')\n",
        "plt.subplot(312)\n",
        "plt.plot( IP[:sample_rate*4, 2], 'b')\n",
        "plt.gca().set_xticklabels([])\n",
        "plt.plot((0, 4), (0, 0), label='0')\n",
        "plt.plot((0, 4), (np.pi*2, np.pi*2), label='2pi')\n",
        "plt.plot((0, 4), (np.pi*2-np.pi/12, np.pi*2-np.pi/12), ':', label='Upper Thresh')\n",
        "plt.plot((0, 4), (np.pi/12, np.pi/12), ':', label='Lower Thresh')\n",
        "plt.title('Instantanous Phase')\n",
        "plt.ylabel('Radians')\n",
        "plt.subplot(313)\n",
        "plt.plot( good_cycles[:sample_rate*4, 2])\n",
        "plt.title('Good cycles')\n",
        "plt.xlabel('Time (seconds)')"
      ],
      "metadata": {
        "id": "aeY3pKYchHE7"
      },
      "execution_count": null,
      "outputs": []
    },
    {
      "cell_type": "code",
      "source": [
        "msg = 'IMF-{0} contains {1:3d} cycles of which {2:3d} ({3}%) are good'\n",
        "for ii in range(all_cycles.shape[1]):\n",
        "    all_count = all_cycles[:, ii].max()\n",
        "    good_count = good_cycles[:, ii].max()\n",
        "    percent = np.round(100*(good_count/all_count), 1)\n",
        "\n",
        "    print(msg.format(ii+1, all_count, good_count, percent))"
      ],
      "metadata": {
        "id": "oUOeoCaZh3EG"
      },
      "execution_count": null,
      "outputs": []
    },
    {
      "cell_type": "code",
      "source": [
        "import warnings\n",
        "def it_emd(x, sample_rate, mask_0='zc', N_imf=6,\n",
        "           N_iter_max=15, iter_th=0.1, N_avg=1, exclude_edges=False,\n",
        "           verbose=False, w_method='power',\n",
        "           ignore_last=False):\n",
        "    \"\"\"\n",
        "    Compute iterated masking EMD.\n",
        "\n",
        "    Parameters\n",
        "    ----------\n",
        "    x : 1D numpy array\n",
        "        Input time-series signal.\n",
        "    sample_rate : float\n",
        "        Sample rate of signal in Hz.\n",
        "    mask_0 : string or array, optional\n",
        "        Mask initialisation type. Options are 'nyquist', 'random', zero-\n",
        "        crossings ('zc'), or custom mask (numpy array matching\n",
        "        N_imf in length). The default is 'zc'.\n",
        "    N_imf : int, optional\n",
        "        Maximum number of IMFs. The default is 6.\n",
        "    N_iter_max : int, optional\n",
        "        Maximum number of iterations before convergence. The default is 15.\n",
        "    iter_th : float, optional\n",
        "        Iteration stopping threshold (all masks stable to iter_th).\n",
        "        The default is 0.1.\n",
        "    N_avg : int, optional\n",
        "        Optional averaging of N_avg iterations after convergence.\n",
        "        The default is 1.\n",
        "    exclude_edges : bool, optional\n",
        "        Optionally exclude first/last 2.5% of data. The default is False.\n",
        "    verbose : bool, optional\n",
        "        Optionally return IMFs from all iterations. The default is False.\n",
        "    w_method : string, optional\n",
        "        Weighting method for mask calculation. Options are 'avg' (simple\n",
        "        average), 'IA' (instantanous amplitude), 'power' (IA**2).\n",
        "        The default is 'power'.\n",
        "    ignore_last : bool, optional\n",
        "        Optionally exclude the last IMF (often artifactual) from\n",
        "        mask variability for convergence calculation. The default is False.\n",
        "\n",
        "    Returns\n",
        "    -------\n",
        "    list\n",
        "        [IMF, mask equilibrium, mask std, # of iterations,\n",
        "         maximum iteration flag].\n",
        "\n",
        "    \"\"\"\n",
        "\n",
        "    samples = len(x)\n",
        "\n",
        "    # Initialise mask\n",
        "    if mask_0 == 'nyquist':\n",
        "        mask = np.array([sample_rate/2**(n+1) for n in range(1, N_imf+1)])/sample_rate\n",
        "    elif mask_0 =='zc':\n",
        "        _, mask = emd.sift.mask_sift(x, max_imfs=N_imf, mask_freqs='zc',\n",
        "                                       ret_mask_freq=True)\n",
        "    elif mask_0 == 'random':\n",
        "        mask = np.random.randint(0, sample_rate/4, size=N_imf) / sample_rate\n",
        "    else:\n",
        "        mask = mask_0\n",
        "\n",
        "    # Initialise output variables and counters\n",
        "    mask_all = np.zeros((N_iter_max+N_avg, N_imf))\n",
        "    imf_all = np.zeros((N_iter_max+N_avg, N_imf, samples))\n",
        "    niters = 0; niters_c = 0\n",
        "    navg = 0\n",
        "    maxiter_flag = 0\n",
        "    continue_iter = True\n",
        "    converged = False\n",
        "\n",
        "    while continue_iter:\n",
        "        if not converged:\n",
        "            print(niters, end=' ')\n",
        "        else:\n",
        "            print('Converged, averaging... ' + str(niters_c) + ' / ' + str(N_avg))\n",
        "\n",
        "        mask_all[niters+niters_c, :len(mask)] = mask\n",
        "\n",
        "        # Compute mask sift\n",
        "        imf = emd.sift.mask_sift(x, max_imfs=N_imf, mask_freqs=mask,\n",
        "                                 mask_amp_mode='ratio_imf')\n",
        "\n",
        "        # Compute IF and weighted IF mean for next iteration\n",
        "        IP,IF,IA = emd.spectra.frequency_transform(imf, sample_rate, 'nht')\n",
        "        mask_prev = mask\n",
        "\n",
        "        if exclude_edges:\n",
        "            ex = int(0.025*samples)\n",
        "            samples_included = list(range(ex, samples-ex)) #Edge effects ignored\n",
        "        else:\n",
        "            samples_included = list(range(samples)) #All\n",
        "\n",
        "        if w_method == 'IA':\n",
        "            IF_weighted = np.average(IF[samples_included, :], 0, weights=IA[samples_included, :])\n",
        "        if w_method == 'power':\n",
        "            IF_weighted = np.average(IF[samples_included, :], 0, weights=IA[samples_included, :]**2)\n",
        "        if w_method == 'avg':\n",
        "            IF_weighted = np.mean(IF[samples_included, :], axis=0)\n",
        "\n",
        "        mask = IF_weighted/sample_rate\n",
        "        imf_all[niters+niters_c, :imf.shape[1], :] = imf.T\n",
        "\n",
        "        # Check convergence\n",
        "        l = min(len(mask), len(mask_prev))  # l to exclude potential nans\n",
        "        if ignore_last:\n",
        "            l -= 1\n",
        "        mask_variance = np.abs((mask[:l] - mask_prev[:l]) / mask_prev[:l])\n",
        "\n",
        "        if np.all(mask_variance[~np.isnan(mask_variance)] < iter_th) or converged:\n",
        "            converged = True\n",
        "            if navg < N_avg:\n",
        "                navg += 1\n",
        "            else:\n",
        "                continue_iter = False\n",
        "\n",
        "        if not converged:\n",
        "            niters += 1\n",
        "        else:\n",
        "            niters_c += 1\n",
        "\n",
        "        # Check maximum number of iterations\n",
        "        if niters >= N_iter_max:\n",
        "            warnings.warn('Maximum number of iterations reached')\n",
        "            maxiter_flag = 1\n",
        "            continue_iter = False\n",
        "\n",
        "    print('N_iter = ', niters)\n",
        "\n",
        "    # Compute final IMFs\n",
        "    if maxiter_flag == 1:\n",
        "        imf_final = imf_all[niters-1, :, :].T\n",
        "        IF_final = mask_all[niters-1, :]*sample_rate\n",
        "    else:\n",
        "        imf_final = np.nanmean(imf_all[niters:niters+N_avg, :, :], axis=0).T\n",
        "        IF_final = np.nanmean(mask_all[niters:niters+N_avg, :], axis=0)*sample_rate\n",
        "    IF_std_final = np.nanstd(mask_all[niters:niters+N_avg, :], axis=0)*sample_rate\n",
        "\n",
        "    # If no averaging, make mask variance as deviation from last iteration\n",
        "    if N_avg < 2:\n",
        "        IF_std_final = mask_variance\n",
        "\n",
        "    # Only output non-nan IMFs\n",
        "    N_imf_final = int(np.sum(~np.isnan(mask_all[niters-1, :])))\n",
        "    imf_final = imf_final[:, :N_imf_final]\n",
        "    IF_final = IF_final[:N_imf_final]\n",
        "    IF_std_final = IF_std_final[:N_imf_final]\n",
        "\n",
        "    if verbose:\n",
        "        return [niters, mask_all, imf_final, IF_final, IF_std_final, imf_all]\n",
        "    return [imf_final, IF_final, IF_std_final, niters, maxiter_flag]"
      ],
      "metadata": {
        "id": "S1bCp6JG5pNn"
      },
      "execution_count": null,
      "outputs": []
    },
    {
      "cell_type": "code",
      "source": [
        "path = '/content/drive/Shareddrives/Stress 1K/PROJETO STRESS/EXP_28_08_2023/GRUPO ESCAPAVEL/CCM68_OF_PRE_EXP'\n",
        "load = Session(path).recordnodes[0].recordings[0]\n",
        "t_raw= load.continuous[0].timestamps\n",
        "t = t_raw-t_raw[0]\n",
        "\n",
        "data_teste = pd.DataFrame(load.continuous[0].get_samples(start_sample_index=0, end_sample_index=len(t)))"
      ],
      "metadata": {
        "id": "D8-1XMLXCmkA"
      },
      "execution_count": null,
      "outputs": []
    },
    {
      "cell_type": "code",
      "source": [
        "data_teste"
      ],
      "metadata": {
        "id": "OXFWKJcqDQZ8"
      },
      "execution_count": null,
      "outputs": []
    },
    {
      "cell_type": "code",
      "source": [
        "sampling_rate = 1000\n",
        "nperseg = sampling_rate * 2\n",
        "noverlap = nperseg // 2\n",
        "psd_frqs, psd = signal.welch(data_teste, fs=sampling_rate, \\\n",
        "                             nperseg=nperseg, noverlap=noverlap, nfft=nperseg, axis=0)"
      ],
      "metadata": {
        "id": "2kIdIwarDIzJ"
      },
      "execution_count": null,
      "outputs": []
    },
    {
      "cell_type": "markdown",
      "source": [
        "![image.png](data:image/png;base64,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)"
      ],
      "metadata": {
        "id": "TTqZCkc5EOMK"
      }
    },
    {
      "cell_type": "code",
      "source": [
        "\n",
        "lentaVector = np.arange(1,16,1)\n",
        "altaVector = np.arange(30,150,10)\n",
        "lenta_BandWidth = 2\n",
        "alta_BandWidth = 10\n",
        "numbin = 18\n",
        "\n",
        "phase_prl = [] #d-1\n",
        "phase_bla = [] #d-2\n",
        "phase_dhpc = [] #d-3\n",
        "phase_vhpc = [] #v-1\n",
        "\n",
        "data_acel = df_acel[(df_acel['animal'] == 'CCM68' ) & (df_acel['condicao'] == 'OF_pre')]['acel']\n",
        "\n",
        "data_prl = data_teste[5]\n",
        "mask_prl_pre = generating_masks_parado(data_prl,data_acel,'PRL')\n",
        "mask_prl_pre = mask_prl_pre['MASK'].values\n",
        "phase_amp_hist_prl_pre = pac_histogram(data_prl,data_prl,altaVector,lenta_BandWidth,alta_BandWidth,1000,numbin,mask_prl_pre)\n",
        "phase_prl.append(phase_amp_hist_prl_pre)\n",
        "\n",
        "data_bla = data_teste[1]\n",
        "mask_bla_pre = generating_masks_parado(data_bla,data_acel,'BLA')\n",
        "mask_bla_pre = mask_bla_pre['MASK'].values\n",
        "phase_amp_hist_bla_pre = pac_histogram(data_bla,data_bla,altaVector,lenta_BandWidth,alta_BandWidth,1000,numbin,mask_bla_pre)\n",
        "phase_bla.append(phase_amp_hist_bla_pre)\n",
        "\n",
        "data_dhpc = data_teste[13]\n",
        "mask_dhpc_pre = generating_masks_parado(data_dhpc,data_acel,'dHPC')\n",
        "mask_dhpc_pre = mask_dhpc_pre['MASK'].values\n",
        "phase_amp_hist_dhpc_pre = pac_histogram(data_dhpc,data_dhpc,altaVector,lenta_BandWidth,alta_BandWidth,1000,numbin,mask_dhpc_pre)\n",
        "phase_dhpc.append(phase_amp_hist_dhpc_pre)\n",
        "\n",
        "data_vhpc = data_teste[9]\n",
        "mask_vhpc_pre = generating_masks_parado(data_vhpc,data_acel,'vHPC')\n",
        "mask_vhpc_pre = mask_vhpc_pre['MASK'].values\n",
        "phase_amp_hist_vhpc_pre = pac_histogram(data_vhpc,data_vhpc,altaVector,lenta_BandWidth,alta_BandWidth,1000,numbin,mask_vhpc_pre)\n",
        "phase_vhpc.append(phase_amp_hist_vhpc_pre)"
      ],
      "metadata": {
        "id": "WiZt4QsIGBYu"
      },
      "execution_count": null,
      "outputs": []
    },
    {
      "cell_type": "code",
      "source": [
        "t = np.linspace(0,36,1000)\n",
        "sine_wave = 2*np.sin(2*np.pi*t*0.055)+8\n",
        "\n",
        "# extent = [0,720,altaVector[-1]+alta_BandWidth/2,altaVector[0]+alta_BandWidth/2]\n",
        "extent = [0,720,30,150]\n",
        "\n",
        "pac_plot = phase_amp_hist_vhpc_pre\n",
        "vmin = 0.055\n",
        "vmax = np.percentile(pac_plot, 97.5)\n",
        "\n",
        "\n",
        "plt.imshow(np.hstack([pac_plot,pac_plot,pac_plot]),interpolation = 'gaussian',cmap = 'jet',vmin = vmin, vmax = vmax,aspect = 'auto')\n",
        "\n",
        "plt.yticks(ticks = np.arange(0.5,12.5),labels = ((altaVector+alta_BandWidth/2)+5).astype(int))\n",
        "plt.xticks(ticks = np.arange(16,52,3),labels = np.round(np.arange(0,720,60)).astype(int),rotation = 30)\n",
        "plt.plot(np.linspace(16,52,1000),sine_wave,color = 'white',linewidth = 4)\n",
        "plt.ylim([0,11])\n",
        "plt.xlim([16,52])\n",
        "\n",
        "plt.ylabel('Amp Frequency (Hz)')\n",
        "plt.xlabel('Theta Phase (deg)')\n",
        "\n",
        "plt.colorbar()\n",
        "\n",
        "\n",
        "plt.tight_layout()"
      ],
      "metadata": {
        "id": "qzDp6JJzHMi-"
      },
      "execution_count": null,
      "outputs": []
    },
    {
      "cell_type": "code",
      "source": [
        "plotfreq = [4, 20]\n",
        "plotfreq_mask = (psd_frqs>plotfreq[0]) & (psd_frqs<plotfreq[1])\n",
        "plt.pcolormesh(psd_frqs[plotfreq_mask], np.arange(35), psd[plotfreq_mask].T, cmap='jet')"
      ],
      "metadata": {
        "id": "VXx0aoLiFXzf"
      },
      "execution_count": null,
      "outputs": []
    },
    {
      "cell_type": "code",
      "source": [
        "len(psd[0])"
      ],
      "metadata": {
        "id": "dead_k4RFI4G"
      },
      "execution_count": null,
      "outputs": []
    },
    {
      "cell_type": "code",
      "source": [
        "plotfreq = [4, 20]\n",
        "plotfreq_mask = (psd_frqs>plotfreq[0]) & (psd_frqs<plotfreq[1])\n",
        "plt.pcolormesh(psd_frqs[plotfreq_mask], np.arange(35), psd[plotfreq_mask].T, cmap='jet')"
      ],
      "metadata": {
        "id": "sflFvM7WDCcA"
      },
      "execution_count": null,
      "outputs": []
    },
    {
      "cell_type": "code",
      "source": [
        "def bandpass(data, cutfreq, filtorder, sampling_rate):\n",
        "\n",
        "        fny = sampling_rate/2\n",
        "\n",
        "        b, a = signal.butter(N = filtorder, Wn=np.array(cutfreq) / fny,\n",
        "                                         btype='bandpass')\n",
        "        dataout = signal.filtfilt(b, a, data)\n",
        "\n",
        "        return dataout"
      ],
      "metadata": {
        "id": "-htobHShpm7N"
      },
      "execution_count": null,
      "outputs": []
    },
    {
      "cell_type": "code",
      "source": [
        "\n",
        "# def phase_amp_hist(amp,fase_lenta,numbin):\n",
        "\n",
        "#     position=np.zeros(numbin) # this variable will get the beginning (not the center) of each phase bin (in rads)\n",
        "#     winsize = 2*np.pi/numbin # bin de fase\n",
        "\n",
        "#     position = []\n",
        "#     for j in np.arange(1,numbin+1):\n",
        "#         position.append(-np.pi+(j-1)*winsize)\n",
        "\n",
        "\n",
        "#     nbin=numbin\n",
        "#     mean_amp = []\n",
        "#     for j in np.arange(0,nbin):\n",
        "#         boolean_array = np.logical_and(fase_lenta >=  position[j], fase_lenta < position[j]+winsize)\n",
        "#         I = np.where(boolean_array)[0]\n",
        "#         mean_amp.append(np.mean(amp[I]))\n",
        "\n",
        "#     mean_amp = [x for x in mean_amp if str(x) != 'nan']\n",
        "#     p = mean_amp/np.sum(mean_amp)\n",
        "\n",
        "#     return(p)\n",
        "\n",
        "\n",
        "# def pac_histogram(lfp,altaVector,lenta_BandWidth,alta_BandWidth,srate,numbin,mask):\n",
        "\n",
        "#     amplitude = []\n",
        "\n",
        "#     AmpFreq= bandpass(np.array(lfp),[30,150],3,1000)\n",
        "\n",
        "#     analytic_signal_alta = signal.hilbert(AmpFreq)\n",
        "#     amplitude.append(np.abs(analytic_signal_alta)[mask])\n",
        "\n",
        "\n",
        "#     PhaseFreq = bandpass(np.array(lfp),[4,18],3,1000)\n",
        "#     analytic_signal_baixa = signal.hilbert(PhaseFreq)\n",
        "#     faselenta = np.angle(analytic_signal_baixa)[mask]\n",
        "\n",
        "#     hist_freqs = []\n",
        "\n",
        "#     for count_rapida,rapida in enumerate(amplitude):\n",
        "\n",
        "#         hist_freqs.append(phase_amp_hist(rapida,faselenta,numbin))\n",
        "\n",
        "\n",
        "#     return(hist_freqs)"
      ],
      "metadata": {
        "id": "xmWFPUeoSBHK"
      },
      "execution_count": null,
      "outputs": []
    },
    {
      "cell_type": "code",
      "source": [
        "def phase_amp_hist(amp,fase_lenta,numbin):\n",
        "\n",
        "    position=np.zeros(numbin) # this variable will get the beginning (not the center) of each phase bin (in rads)\n",
        "    winsize = 2*np.pi/numbin # bin de fase\n",
        "\n",
        "    position = []\n",
        "    for j in np.arange(1,numbin+1):\n",
        "        position.append(-np.pi+(j-1)*winsize)\n",
        "\n",
        "\n",
        "    nbin=numbin\n",
        "    mean_amp = []\n",
        "    for j in np.arange(0,nbin):\n",
        "        boolean_array = np.logical_and(fase_lenta >=  position[j], fase_lenta < position[j]+winsize)\n",
        "        I = np.where(boolean_array)[0]\n",
        "        mean_amp.append(np.mean(amp[I]))\n",
        "\n",
        "    mean_amp = [x for x in mean_amp if str(x) != 'nan']\n",
        "    p = mean_amp/np.sum(mean_amp)\n",
        "\n",
        "    return(p)\n",
        "\n",
        "\n",
        "def pac_histogram(lfp_amp,lfp_fase,altaVector,lenta_BandWidth,alta_BandWidth,srate,numbin,mask):\n",
        "\n",
        "    AmpFreqTransformed1 = []\n",
        "\n",
        "    for ii in altaVector:\n",
        "        Af1 = ii\n",
        "        Af2=Af1+alta_BandWidth\n",
        "\n",
        "        AmpFreq1=eegfilt(lfp_amp,srate,Af1,Af2) # just filtering\n",
        "\n",
        "        analytic_signal1 = signal.hilbert(AmpFreq1)\n",
        "        AmpFreqTransformed1.append(np.abs(analytic_signal1)[mask])\n",
        "\n",
        "    Pf1 = 4\n",
        "    Pf2 = 18\n",
        "    PhaseFreq=eegfilt(lfp_fase,srate,Pf1,Pf2)\n",
        "    analytic_signal = signal.hilbert(PhaseFreq)\n",
        "    faselenta = np.angle(analytic_signal)[mask]\n",
        "\n",
        "    hist_freqs = []\n",
        "\n",
        "    for count_rapida,rapida in enumerate(AmpFreqTransformed1):\n",
        "\n",
        "        hist_freqs.append(phase_amp_hist(rapida,faselenta,numbin))\n",
        "\n",
        "\n",
        "    return(hist_freqs)"
      ],
      "metadata": {
        "id": "h8x0OjsYaRys"
      },
      "execution_count": null,
      "outputs": []
    },
    {
      "cell_type": "code",
      "source": [],
      "metadata": {
        "id": "JWPevl_qQK39"
      },
      "execution_count": null,
      "outputs": []
    },
    {
      "cell_type": "code",
      "source": [
        "\n"
      ],
      "metadata": {
        "id": "NplYmySb0Yp2"
      },
      "execution_count": null,
      "outputs": []
    },
    {
      "cell_type": "code",
      "source": [
        "def generating_masks_parado(DATA,data_acel,regiao): #ANIMAL PARADO\n",
        "\n",
        "\n",
        "\n",
        "  # Recuperando dado da acelerometria para definir momentos de atividade\n",
        "\n",
        "  acel = np.array(data_acel)\n",
        "  acel = np.diff(acel, axis = 0)\n",
        "  acel = abs(pd.DataFrame(acel)).rolling(window=1000).mean()\n",
        "\n",
        "  # array booleano dizendo onde animal mexeu e não mexeu\n",
        "  parado_bool = np.array(acel <= 0.005 )\n",
        "  parado_bool = np.append(parado_bool, 0) #aqui foi adicionado um 0 pois a função diff retira um elemento do vetor, assim ele volta ao tamanho original\n",
        "\n",
        "\n",
        "  index_parado_all = []\n",
        "  for x in range(len(parado_bool)):\n",
        "      if parado_bool[x] == True:\n",
        "        index_parado_all.append(x)\n",
        "\n",
        "\n",
        "  vector_nan = np.full(len(DATA), np.nan)\n",
        "\n",
        "  vector_nan[index_parado_all] = DATA[index_parado_all]\n",
        "\n",
        "\n",
        "  # Essa parte do código irá retirar pedaços muito curtos de dado (menos de 2s)\n",
        "  groups = find_consecutive_groups(vector_nan)\n",
        "\n",
        "  for start, end in groups:\n",
        "      length = end - start\n",
        "      if length < 2000:\n",
        "            vector_nan[start:end] = np.nan #transforma pedaços menores que 2s em Nan\n",
        "\n",
        "  mask = np.where(~np.isnan(vector_nan))[0] #pegando apenas os indices dos valores que não são Nan\n",
        "\n",
        "\n",
        "  return(pd.DataFrame({'MASK': mask, 'regiao': regiao}))"
      ],
      "metadata": {
        "id": "aEp53WMuPQpZ"
      },
      "execution_count": null,
      "outputs": []
    },
    {
      "cell_type": "code",
      "source": [
        "lfp = df_full[(df_full['animal'] == 'CCM68') & (df_full['condicao'] == 'OF_pre')]['data_VHPC']\n",
        "sampling_rate = 1000\n",
        "theta_fcut = [4, 18]\n",
        "theta = bandpass(lfp, theta_fcut, 3, 1000)\n",
        "\n",
        "theta_maxf = 12\n",
        "theta_peaks = signal.find_peaks(theta, height=0, distance=int(sampling_rate/theta_maxf))[0] #detectando picos para centralizar a janela\n",
        "#a variavel distance dentro de theta_peaks garante que não vai pegar dois picos de theta muito próximos"
      ],
      "metadata": {
        "id": "-FRq3uOjhj59"
      },
      "execution_count": null,
      "outputs": []
    },
    {
      "cell_type": "code",
      "source": [
        "plt.plot(lfp, color='k', lw=2)\n",
        "plt.plot(theta, color='r', lw=1)\n",
        "plt.plot(theta_peaks, theta[theta_peaks], lw=0, color='r', marker='^', markersize=8)\n",
        "plt.xlim(10000,11000)"
      ],
      "metadata": {
        "id": "jDis3smriKcP"
      },
      "execution_count": null,
      "outputs": []
    },
    {
      "cell_type": "code",
      "source": [
        "def do_ta(time_ref, signal_2trigger, ta_winlen): # função para achar o trigger avaerage (é a média de um sinal centralizado em um evento, nesse caso o evento é o pico de theta)\n",
        "\n",
        "        time_ref = time_ref[time_ref > ta_winlen//2]\n",
        "        time_ref = time_ref[time_ref < (len(signal_2trigger) - ta_winlen//2)]\n",
        "        rel_samples = np.arange(ta_winlen) - ta_winlen//2 # essa variavel vai compor o eixo x\n",
        "\n",
        "        ta_mat = np.zeros((len(time_ref),ta_winlen))\n",
        "        for ta_win_i in range(0, len(time_ref)):\n",
        "                win_samples = rel_samples + time_ref[ta_win_i]\n",
        "                ta_mat[ta_win_i] = signal_2trigger[win_samples]\n",
        "\n",
        "        ta = np.mean(ta_mat, axis=0)\n",
        "        return ta, rel_samples #\n",
        "\n",
        "ta_winlen = 400\n",
        "\n",
        "gamma_fcut = [30, 150]\n",
        "gamma = bandpass(lfp, gamma_fcut, 3, sampling_rate)\n",
        "gamma_hilb = signal.hilbert(gamma) #usando trasf hilbert para fazer o envelope\n",
        "gamma_env = np.abs(gamma_hilb)\n",
        "\n",
        "\n",
        "ta_lfp, rel_samples  = do_ta(theta_peaks, lfp, ta_winlen)\n",
        "ta_gammaenv, rel_samples_gamma = do_ta(theta_peaks, gamma_env, ta_winlen)\n",
        "\n",
        "\n",
        "plt.figure(figsize=(5,3))\n",
        "plt.subplot(2,1,1)\n",
        "plt.plot(rel_samples, ta_lfp, color='k', lw=2)\n",
        "plt.grid(True)\n",
        "plt.subplot(2,1,2)\n",
        "plt.plot(rel_samples_gamma, ta_gammaenv, color='darkgreen', lw=2)\n",
        "\n",
        "plt.grid(True)"
      ],
      "metadata": {
        "id": "cdu5z1VUjjHn"
      },
      "execution_count": null,
      "outputs": []
    },
    {
      "cell_type": "code",
      "source": [
        "time_ref = theta_peaks\n",
        "\n",
        "signal_2trigger = lfp\n",
        "ta_winlen = 400\n",
        "\n",
        "time_ref = time_ref[time_ref > ta_winlen//2]\n",
        "time_ref = time_ref[time_ref < (len(signal_2trigger) - ta_winlen//2)]\n",
        "\n",
        "ta_win_i = 3\n",
        "time_ref[ta_win_i]\n",
        "\n",
        "rel_samples = np.arange(ta_winlen) - ta_winlen//2\n",
        "win_samples = rel_samples + time_ref[ta_win_i]\n",
        "\n",
        "plt.plot(rel_samples,signal_2trigger[win_samples] )\n",
        "\n",
        "plt.plot(rel_samples, theta[win_samples])\n",
        "plt.grid(True)"
      ],
      "metadata": {
        "id": "Uo1LSCSudTDa"
      },
      "execution_count": null,
      "outputs": []
    },
    {
      "cell_type": "code",
      "source": [
        "def wvfilt(lfp,mfreq,sr=1250., w=5, s=1, normwv=True):\n",
        "\n",
        "        # computing the length of the wavelet for the desired frequency\n",
        "        wavelen = int(np.round(2*w*s*sr/mfreq))\n",
        "\n",
        "        # constructs morlet wavelet with given parameters\n",
        "        wave = signal.morlet(wavelen,w=w,s=s,complete=True)\n",
        "\n",
        "        # cutting borders\n",
        "        cumulativeEnvelope = np.cumsum(np.abs(wave))/np.sum(np.abs(wave))\n",
        "        Cut1 = next(i for (i,val) in enumerate(cumulativeEnvelope[::-1]) if val<=(1./2000))\n",
        "        Cut2 = Cut1\n",
        "        Cut1 = len(cumulativeEnvelope)-Cut1-1\n",
        "        wave = wave[range(Cut1,Cut2)]\n",
        "\n",
        "        # normalizes wavelet energy\n",
        "        if normwv:\n",
        "                wave = wave/(.5*sum(abs(wave)))\n",
        "\n",
        "        if (len(wave))>len(lfp):\n",
        "                print('ERROR: input signal needs at least '+str(len(wave))+\\\n",
        "                                                            ' time points for '+str(mfreq)+\\\n",
        "                                                                      'Hz-wavelet convolution')\n",
        "                return None\n",
        "\n",
        "        # convolving signal with wavelet\n",
        "        fsignal = np.convolve(lfp,wave,'same')\n",
        "        return fsignal\n",
        "\n",
        "\n",
        "def wvSpect(lfp,freqs,sampling_rate):\n",
        "\n",
        "        freqs = np.array(freqs).reshape(-1,1)\n",
        "        tfr = np.zeros((np.size(freqs),len(lfp)),dtype=complex)\n",
        "        for (fi,f) in enumerate(freqs):\n",
        "                f = float(f)\n",
        "                tfr[fi,:] = wvfilt(lfp,f,sampling_rate)\n",
        "\n",
        "        output = np.abs(tfr).squeeze()\n",
        "\n",
        "        return output\n"
      ],
      "metadata": {
        "id": "MB1y-JEAmjgd"
      },
      "execution_count": null,
      "outputs": []
    },
    {
      "cell_type": "code",
      "source": [
        "frequencies, times, Sxx = spectrogram(data_dhpc, fs=1000, nperseg=1000, noverlap=int(0.9*1000), nfft = 10 * 1000 )"
      ],
      "metadata": {
        "id": "tYPyHgrQ4gJh"
      },
      "execution_count": null,
      "outputs": []
    },
    {
      "cell_type": "code",
      "source": [
        "lfp = df_full[(df_full['animal'] == 'CCM68') & (df_full['condicao'] == 'OF_pre')]['data_DHPC']"
      ],
      "metadata": {
        "id": "6_KHMOAarB6E"
      },
      "execution_count": null,
      "outputs": []
    },
    {
      "cell_type": "code",
      "source": [
        "freqs = np.arange(30, 90)\n",
        "\n",
        "wvspect = wvSpect(lfp,freqs,sampling_rate)\n",
        "\n",
        "ta_wvspect = do_ta(theta_peaks, wvspect, ta_winlen)\n",
        "\n"
      ],
      "metadata": {
        "id": "7JmUz2vaQDsb"
      },
      "execution_count": null,
      "outputs": []
    },
    {
      "cell_type": "code",
      "source": [],
      "metadata": {
        "id": "EQPuwED8C65_"
      },
      "execution_count": null,
      "outputs": []
    },
    {
      "cell_type": "code",
      "source": [
        "plt.figure(figsize=(5,3))\n",
        "plt.pcolormesh(rel_samples,freqs, ta_wvspect[0],cmap='jet')\n",
        "plt.colorbar()\n",
        "plt.grid(True)"
      ],
      "metadata": {
        "id": "hGFCQJJ6rYbB"
      },
      "execution_count": null,
      "outputs": []
    },
    {
      "cell_type": "code",
      "source": [
        "\n",
        "lentaVector = np.arange(1,12,1)\n",
        "altaVector = np.arange(30,150,10)\n",
        "lenta_BandWidth = 2\n",
        "alta_BandWidth = 10\n",
        "numbin = 18\n",
        "\n",
        "phase_prl = []\n",
        "phase_bla = []\n",
        "phase_dhpc = []\n",
        "phase_vhpc = []\n",
        "\n",
        "for rato in ratos.keys():\n",
        "\n",
        "\n",
        "  data_acel = df_acel[(df_acel['animal'] == str(rato) ) & (df_acel['condicao'] == 'OF_pre')]['acel']\n",
        "\n",
        "  data_prl = df_full[(df_full['animal'] == str(rato)) & (df_full['condicao'] == 'OF_pre')]['data_PRL']\n",
        "  mask_prl_pre = generating_masks_parado(data_prl,data_acel,'PRL')\n",
        "  mask_prl_pre = mask_prl_pre['MASK'].values\n",
        "  phase_amp_hist_prl_pre = pac_histogram(data_prl,data_prl,altaVector,lenta_BandWidth,alta_BandWidth,1000,numbin,mask_prl_pre)\n",
        "  phase_prl.append(phase_amp_hist_prl_pre)\n",
        "\n",
        "  data_bla = df_full[(df_full['animal'] == str(rato)) & (df_full['condicao'] == 'OF_pre')]['data_BLA']\n",
        "  mask_bla_pre = generating_masks_parado(data_bla,data_acel,'BLA')\n",
        "  mask_bla_pre = mask_bla_pre['MASK'].values\n",
        "  phase_amp_hist_bla_pre = pac_histogram(data_bla,data_bla,altaVector,lenta_BandWidth,alta_BandWidth,1000,numbin,mask_bla_pre)\n",
        "  phase_bla.append(phase_amp_hist_bla_pre)\n",
        "\n",
        "  data_dhpc = df_full[(df_full['animal'] == str(rato)) & (df_full['condicao'] == 'OF_pre')]['data_DHPC']\n",
        "  mask_dhpc_pre = generating_masks_parado(data_dhpc,data_acel,'dHPC')\n",
        "  mask_dhpc_pre = mask_dhpc_pre['MASK'].values\n",
        "  phase_amp_hist_dhpc_pre = pac_histogram(data_dhpc,data_dhpc,altaVector,lenta_BandWidth,alta_BandWidth,1000,numbin,mask_dhpc_pre)\n",
        "  phase_dhpc.append(phase_amp_hist_dhpc_pre)\n",
        "\n",
        "  data_vhpc = df_full[(df_full['animal'] == str(rato)) & (df_full['condicao'] == 'OF_pre')]['data_VHPC']\n",
        "  mask_vhpc_pre = generating_masks_parado(data_vhpc,data_acel,'vHPC')\n",
        "  mask_vhpc_pre = mask_vhpc_pre['MASK'].values\n",
        "  phase_amp_hist_vhpc_pre = pac_histogram(data_vhpc,data_vhpc,altaVector,lenta_BandWidth,alta_BandWidth,1000,numbin,mask_vhpc_pre)\n",
        "  phase_vhpc.append(phase_amp_hist_vhpc_pre)"
      ],
      "metadata": {
        "id": "mZ6thdzIOpvE"
      },
      "execution_count": null,
      "outputs": []
    },
    {
      "cell_type": "code",
      "source": [
        "t = np.linspace(0,36,1000)\n",
        "sine_wave = 2*np.sin(2*np.pi*t*0.055)+8\n",
        "\n",
        "# extent = [0,720,altaVector[-1]+alta_BandWidth/2,altaVector[0]+alta_BandWidth/2]\n",
        "extent = [0,720,30,150]\n",
        "\n",
        "pac_plot = np.mean(phase_dhpc, axis = 0)\n",
        "vmin = 0.055\n",
        "vmax = np.percentile(pac_plot, 97.5)\n",
        "\n",
        "\n",
        "plt.imshow(np.hstack([pac_plot,pac_plot,pac_plot]),interpolation = 'gaussian',cmap = 'jet',vmin = vmin, vmax = vmax,aspect = 'auto')\n",
        "\n",
        "plt.yticks(ticks = np.arange(0.5,12.5),labels = ((altaVector+alta_BandWidth/2)+5).astype(int))\n",
        "plt.xticks(ticks = np.arange(16,52,3),labels = np.round(np.arange(0,720,60)).astype(int),rotation = 30)\n",
        "plt.plot(np.linspace(16,52,1000),sine_wave,color = 'white',linewidth = 4)\n",
        "plt.ylim([0,11])\n",
        "plt.xlim([16,52])\n",
        "\n",
        "plt.ylabel('Amp Frequency (Hz)')\n",
        "plt.xlabel('Theta Phase (deg)')\n",
        "\n",
        "plt.colorbar()\n",
        "\n",
        "\n",
        "plt.tight_layout()"
      ],
      "metadata": {
        "id": "TrOfRA8AXvH-"
      },
      "execution_count": null,
      "outputs": []
    },
    {
      "cell_type": "code",
      "source": [
        "\n",
        "def activity_versus_imobility( rato, condicao,regiao  ):\n",
        "  nperseg = 1000\n",
        "  sampling_rate = 1000\n",
        "\n",
        "  data = df_full[(df_full['animal'] == str(rato)) & (df_full['condicao'] == str(condicao))][str(regiao)]\n",
        "  cutfreq = [4,18]\n",
        "\n",
        "  data_filt = bandpass(data, cutfreq, 3, sampling_rate)\n",
        "\n",
        "  frequencies, times, Sxx = spectrogram(data_filt, fs=1000, nperseg=1000, noverlap=int(0.9*1000), nfft = 10 * 1000 )\n",
        "\n",
        "  data_acel = df_acel[(df_acel['animal'] == str(rato)) & (df_acel['condicao'] == str(condicao))]['acel']\n",
        "  acc = data_acel\n",
        "  win_size_s = nperseg / sampling_rate\n",
        "  time_array = np.arange(len(data_filt))/sampling_rate\n",
        "\n",
        "  win_acc = np.zeros(len(times))\n",
        "\n",
        "  for win_i in range(0, len(times)):\n",
        "          win_edges_s = [times[win_i] - win_size_s / 2, times[win_i] + win_size_s / 2]\n",
        "          tmask = (time_array >= win_edges_s[0]) & (time_array < win_edges_s[1])\n",
        "          win_acc_ = np.mean(acc.values[tmask])\n",
        "          win_acc[win_i] = win_acc_\n",
        "\n",
        "  thrs_high = np.percentile(win_acc, 75)\n",
        "  mask_acchigh = win_acc > thrs_high\n",
        "  Sxx_high = np.mean(Sxx[:, mask_acchigh], axis=1)\n",
        "\n",
        "  thrs_low = np.percentile(win_acc, 25)\n",
        "  mask_acclow = win_acc < thrs_low\n",
        "  Sxx_low = np.mean(Sxx[:, mask_acclow], axis=1)\n",
        "\n",
        "  return frequencies, Sxx_low, Sxx_high\n"
      ],
      "metadata": {
        "id": "2ajXlUeIVloH"
      },
      "execution_count": null,
      "outputs": []
    },
    {
      "cell_type": "code",
      "source": [
        "data1 = df_full[(df_full['animal'] == 'CCM68') & (df_full['condicao'] == 'OF_pre')]['data_DHPC']\n",
        "data2 = df_full[(df_full['animal'] == 'CCM191') & (df_full['condicao'] == 'OF_pre')]['data_DHPC']"
      ],
      "metadata": {
        "id": "ar0fMOfVZR2v"
      },
      "execution_count": null,
      "outputs": []
    },
    {
      "cell_type": "code",
      "source": [
        "len(data1)"
      ],
      "metadata": {
        "id": "8v4bOVdiZvaE"
      },
      "execution_count": null,
      "outputs": []
    },
    {
      "cell_type": "code",
      "source": [
        "f, s_low, s_high = activity_versus_imobility( 'CCM191', 'OF_pre','data_DHPC'  )"
      ],
      "metadata": {
        "id": "HQP6w83hZog4"
      },
      "execution_count": null,
      "outputs": []
    },
    {
      "cell_type": "code",
      "source": [
        "len(data2)"
      ],
      "metadata": {
        "id": "Glr2yJRSZhqN"
      },
      "execution_count": null,
      "outputs": []
    },
    {
      "cell_type": "code",
      "source": [
        "sxx_low = []\n",
        "sxx_high = []\n",
        "\n",
        "for rato in ratos.keys():\n",
        "  f, s_low, s_high = activity_versus_imobility( str(rato), 'OF_pos','data_DHPC'  )\n",
        "  sxx_low.append(s_low)\n",
        "  sxx_high.append(s_high)\n",
        "\n",
        "  # plt.figure()\n",
        "  # plt.plot(f, s_low, color='b', label = 'Low activity')\n",
        "  # plt.plot(f, s_high, color='r', label = 'High activity')\n",
        "  # plt.xlim(0,20)\n",
        "  # plt.xticks(np.arange(0, 21, 4))\n",
        "\n",
        "  # plt.ticklabel_format(style='sci', axis='y', scilimits=(0,0))\n",
        "  # plt.title(str(rato), fontweight='bold')\n",
        "  # plt.legend()\n",
        "  # plt.xlim(0,20)"
      ],
      "metadata": {
        "id": "bACu3mmUc35Y"
      },
      "execution_count": null,
      "outputs": []
    },
    {
      "cell_type": "code",
      "source": [
        "sxx_low = []\n",
        "sxx_high = []\n",
        "\n",
        "for rato in ratos.keys():\n",
        "  f, s_low, s_high = activity_versus_imobility( str(rato), 'OF_pos','data_DHPC'  )\n",
        "  sxx_low.append(s_low)\n",
        "  sxx_high.append(s_high)\n",
        "\n",
        "\n",
        "s_low = np.mean(sxx_low, 0)\n",
        "s_high = np.mean(sxx_high, 0)\n",
        "\n",
        "plt.figure()\n",
        "plt.plot(f, s_low, color='b', label = 'Low activity')\n",
        "plt.plot(f, s_high, color='r', label = 'High activity')\n",
        "plt.xlim(0,20)\n",
        "plt.xticks(np.arange(0, 21, 4))\n",
        "\n",
        "plt.ticklabel_format(style='sci', axis='y', scilimits=(0,0))\n",
        "# plt.title(str(rato), fontweight='bold')\n",
        "plt.legend()\n",
        "plt.xlim(0,20)"
      ],
      "metadata": {
        "id": "1IxPPP7acqd7"
      },
      "execution_count": null,
      "outputs": []
    },
    {
      "cell_type": "code",
      "source": [
        "s_low = np.mean(sxx_low, 0)\n",
        "s_high = np.mean(sxx_high, 0)\n",
        "\n",
        "plt.figure()\n",
        "plt.plot(f, s_low, color='b', label = 'Low activity')\n",
        "plt.plot(f, s_high, color='r', label = 'High activity')\n",
        "plt.xlim(0,20)\n",
        "plt.xticks(np.arange(0, 21, 4))\n",
        "\n",
        "plt.ticklabel_format(style='sci', axis='y', scilimits=(0,0))\n",
        "# plt.title(str(rato), fontweight='bold')\n",
        "plt.legend()\n",
        "plt.xlim(0,20)"
      ],
      "metadata": {
        "id": "a-BVdE1XbKwR"
      },
      "execution_count": null,
      "outputs": []
    },
    {
      "cell_type": "code",
      "source": [
        "F_ANIMALS_PRE = []\n",
        "S_LOW_ANIMALS_PRE = []\n",
        "S_HIGH_ANIMALS_PRE = []\n",
        "\n",
        "for rato in ratos.keys():\n",
        "  f, s_low, s_high = activity_versus_imobility( str(rato), 'OF_pre','data_DHPC'  )\n",
        "  F_ANIMALS_PRE.append(f)\n",
        "  S_LOW_ANIMALS_PRE.append(s_low)\n",
        "  S_HIGH_ANIMALS_PRE.append(s_high)\n",
        "\n"
      ],
      "metadata": {
        "id": "Z87qjwOJWdVM"
      },
      "execution_count": null,
      "outputs": []
    },
    {
      "cell_type": "code",
      "source": [
        "s_low = np.mean(S_LOW_ANIMALS_PRE, axis = 0)\n",
        "s_high = np.mean(S_HIGH_ANIMALS_PRE, axis = 0)\n",
        "f =  np.mean(F_ANIMALS_PRE, axis = 0)"
      ],
      "metadata": {
        "id": "k3uww5fdZMHW"
      },
      "execution_count": null,
      "outputs": []
    },
    {
      "cell_type": "code",
      "source": [
        "\n",
        "plt.plot(f, s_low, color='b', label = 'Low activity')\n",
        "plt.plot(f, s_high, color='r', label = 'High activity')\n",
        "plt.xlim(0,20)\n",
        "plt.xticks(np.arange(0, 21, 4))\n",
        "\n",
        "plt.ticklabel_format(style='sci', axis='y', scilimits=(0,0))\n",
        "plt.title('Low x High activity PSD - PRE STRESS', fontweight='bold')\n",
        "plt.legend()\n",
        "plt.xlim(0,20)"
      ],
      "metadata": {
        "id": "H-vKpFyQclED"
      },
      "execution_count": null,
      "outputs": []
    },
    {
      "cell_type": "code",
      "source": [
        "\n",
        "plt.plot(frequencies, Sxx_low, color='b', label = 'Low activity')\n",
        "plt.plot(frequencies, Sxx_high, color='r', label = 'High activity')\n",
        "plt.xlim(0,20)\n",
        "plt.xticks(np.arange(0, 21, 4))\n",
        "\n",
        "plt.ticklabel_format(style='sci', axis='y', scilimits=(0,0))\n",
        "plt.title('Low x High activity PSD - PRE STRESS', fontweight='bold')\n",
        "plt.legend()\n",
        "plt.xlim(0,20)"
      ],
      "metadata": {
        "id": "iaf6aiZ4Vz1_"
      },
      "execution_count": null,
      "outputs": []
    },
    {
      "cell_type": "code",
      "source": [
        "import matplotlib.pyplot as plt\n",
        "import numpy as np\n",
        "from mpl_toolkits.axes_grid1.inset_locator import inset_axes\n",
        "\n",
        "\n",
        "\n",
        "fig, ax_main = plt.subplots(figsize=(8, 6))\n",
        "\n",
        "# Configure o subplot principal para o espectrograma\n",
        "plt.pcolormesh(times, frequencies[fmask], Sxx[fmask], cmap='jet', vmin=0, vmax=20000)\n",
        "plt.ylabel('Frequency (Hz)')\n",
        "plt.xlabel('Time (s)')\n",
        "plt.xlim(0, 300)\n",
        "\n",
        "# Crie um subplot menor para o gráfico de aceleração dentro do subplot principal\n",
        "axins = inset_axes(ax_main, width=\"30%\", height=\"30%\", loc='upper right')\n",
        "axins.plot(acel, color='k')\n",
        "axins.set_ylabel('Acceleration (m/s²)')\n",
        "axins.ticklabel_format(style='sci', axis='y', scilimits=(0, 0))\n",
        "axins.set_xlim(0, 300000)\n",
        "\n",
        "# Remova os ticks do eixo x do subplot principal\n",
        "ax_main.set_xticks([])\n",
        "\n",
        "# Resto do seu código para personalizar e mostrar a figura\n",
        "plt.show()\n"
      ],
      "metadata": {
        "id": "iixmn468IpF5"
      },
      "execution_count": null,
      "outputs": []
    },
    {
      "cell_type": "code",
      "source": [],
      "metadata": {
        "id": "r_pJTDKZJYFp"
      },
      "execution_count": null,
      "outputs": []
    },
    {
      "cell_type": "code",
      "source": [
        "\n",
        "fmax = 22\n",
        "fmask = frequencies < fmax\n",
        "\n",
        "plt.pcolormesh(times, frequencies[fmask], Sxx[fmask], cmap='jet')\n",
        "\n",
        "plt.ylim(0,20)"
      ],
      "metadata": {
        "id": "yUZfwXMm7G54"
      },
      "execution_count": null,
      "outputs": []
    },
    {
      "cell_type": "code",
      "source": [
        "import matplotlib.pyplot as plt\n",
        "import numpy as np\n",
        "from mpl_toolkits.axes_grid1.inset_locator import inset_axes\n",
        "import seaborn as sns\n",
        "import pandas as pd\n",
        "\n",
        "\n",
        "\n",
        "fig, ax_main = plt.subplots(figsize=(8, 6))\n",
        "\n",
        "# Configure o subplot principal\n",
        "x = df_welch_pre_escap['f']\n",
        "y_prl = df_welch_pre_escap['mean_power_prl']\n",
        "std = np.std(y_prl) / np.sqrt(3)  # Cálculo do desvio padrão\n",
        "\n",
        "x_pos = df_welch_pos_escap['f']\n",
        "y_pos_prl = df_welch_pos_escap['mean_power_prl']\n",
        "std_pos = np.std(y_pos_prl) / np.sqrt(3)\n",
        "\n",
        "ax_main.plot(x, y_prl, linewidth=1.5, color='black', label='PRE STRESS - ESCAPABLE')\n",
        "ax_main.fill_between(x, y_prl - std, y_prl + std, color='gray', alpha=0.3, edgecolor=None)\n",
        "\n",
        "ax_main.plot(x_pos, y_pos_prl, linewidth=1.5, color='darkred', label='POS STRESS - ESCAPABLE')\n",
        "ax_main.fill_between(x_pos, y_pos_prl - std_pos, y_pos_prl + std_pos, color='darkred', alpha=0.1, edgecolor=None)\n",
        "\n",
        "x_inesc = df_welch_pre_inescap['f']\n",
        "y_prl_inesc = df_welch_pre_inescap['mean_power_prl']\n",
        "std_inesc = np.std(y_prl_inesc) / np.sqrt(3)\n",
        "\n",
        "x_pos_inesc = df_welch_pos_inescap['f']\n",
        "y_pos_prl_inesc = df_welch_pos_inescap['mean_power_prl']\n",
        "std_pos_inesc = np.std(y_pos_prl_inesc) / np.sqrt(3)\n",
        "\n",
        "ax_main.plot(x_inesc, y_prl_inesc, linewidth=1.5, linestyle='--', color='black', label='PRE STRESS - INESCAPABLE')\n",
        "ax_main.fill_between(x_inesc, y_prl_inesc - std_inesc, y_prl_inesc + std_inesc, color='gray', alpha=0.3, edgecolor=None)\n",
        "\n",
        "ax_main.plot(x_pos_inesc, y_pos_prl_inesc, linewidth=1.5, linestyle='--', color='darkred', label='POS STRESS - INESCAPABLE')\n",
        "ax_main.fill_between(x_pos_inesc, y_pos_prl_inesc - std_pos_inesc, y_pos_prl_inesc + std_pos_inesc, color='darkred', alpha=0.1, edgecolor=None)\n",
        "\n",
        "ax_main.grid(False)\n",
        "ax_main.legend(fontsize=11, loc='lower left', frameon=False)\n",
        "ax_main.set_xlabel('Frequency (Hz)')\n",
        "ax_main.set_ylabel('Power Ratio (a.u.)')\n",
        "ax_main.set_xlim(0, 20)\n",
        "ax_main.set_xticks(np.arange(0, 21, 4))\n",
        "ax_main.ticklabel_format(style='sci', axis='y', scilimits=(0, 0))\n",
        "ax_main.set_title('PRL', fontweight='bold', pad=8, fontsize=12)\n",
        "ax_main.spines['top'].set_visible(False)\n",
        "ax_main.spines['right'].set_visible(False)\n",
        "\n",
        "# Inserir subplot no canto superior direito\n",
        "\n",
        "axins = inset_axes(ax_main, width=\"35%\", height=\"40%\", loc='upper right',\n",
        "                   bbox_to_anchor=(0.01, 0.001, 0.95, 0.95),  # x0, y0, largura, altura\n",
        "                   bbox_transform=ax_main.transAxes)\n",
        "\n",
        "sns.barplot(data=df_barplot_theta_PRL, x=\"GRUPO\", y=\"PSD\", hue=\"CONDICAO\",\n",
        "            palette=['grey', 'darkred'], alpha=0.8, ax=axins)\n",
        "sns.swarmplot(data=df_swarmplot_theta_PRL, x=\"GRUPO\", y=\"PSD\", hue=\"CONDICAO\",\n",
        "              color=\"k\", size=7, dodge=True, alpha=0.7, ax=axins, legend = False)\n",
        "axins.legend(loc='upper left', bbox_to_anchor=(0.2, 1.3), fontsize='small', title='', title_fontsize='medium', ncol=2)\n",
        "\n",
        "axins.spines['top'].set_visible(False)\n",
        "axins.spines['right'].set_visible(False)\n",
        "axins.set_ylabel('Theta Power Ratio (a.u.)', fontsize = 10)\n",
        "axins.set_xlabel('')\n",
        "axins.tick_params(axis='x', labelsize='small')\n",
        "axins.ticklabel_format(style='sci', axis='y', scilimits=(0, 0))\n",
        "\n",
        "plt.show()\n",
        "\n"
      ],
      "metadata": {
        "id": "bh3nXBo_UFQj"
      },
      "execution_count": null,
      "outputs": []
    },
    {
      "cell_type": "code",
      "source": [],
      "metadata": {
        "id": "hrHZHfIYUGBF"
      },
      "execution_count": null,
      "outputs": []
    }
  ],
  "metadata": {
    "colab": {
      "collapsed_sections": [
        "oWlz5_jwf8gy",
        "qcNiRWwXW2Ys",
        "b06_89E-2euZ",
        "Py8dryqvoNMX",
        "KDgXb71D2vqL"
      ],
      "provenance": [],
      "toc_visible": true,
      "include_colab_link": true
    },
    "kernelspec": {
      "display_name": "Python 3",
      "name": "python3"
    },
    "language_info": {
      "name": "python"
    }
  },
  "nbformat": 4,
  "nbformat_minor": 0
}