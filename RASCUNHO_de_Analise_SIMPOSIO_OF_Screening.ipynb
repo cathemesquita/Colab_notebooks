{
  "cells": [
    {
      "cell_type": "markdown",
      "metadata": {
        "id": "view-in-github",
        "colab_type": "text"
      },
      "source": [
        "<a href=\"https://colab.research.google.com/github/cathemesquita/Colab_notebooks/blob/main/RASCUNHO_de_Analise_SIMPOSIO_OF_Screening.ipynb\" target=\"_parent\"><img src=\"https://colab.research.google.com/assets/colab-badge.svg\" alt=\"Open In Colab\"/></a>"
      ]
    },
    {
      "cell_type": "markdown",
      "metadata": {
        "id": "8df3S0yL25SU"
      },
      "source": [
        "> # BIBLIOTECAS"
      ]
    },
    {
      "cell_type": "code",
      "execution_count": null,
      "metadata": {
        "colab": {
          "base_uri": "https://localhost:8080/"
        },
        "id": "JPLhGP2dXU3H",
        "outputId": "3b877f6e-7172-458e-82aa-a293c36d1f2b"
      },
      "outputs": [
        {
          "output_type": "stream",
          "name": "stdout",
          "text": [
            "Looking in indexes: https://pypi.org/simple, https://us-python.pkg.dev/colab-wheels/public/simple/\n",
            "Requirement already satisfied: pip in /usr/local/lib/python3.10/dist-packages (23.1.2)\n"
          ]
        }
      ],
      "source": [
        "pip install --upgrade pip"
      ]
    },
    {
      "cell_type": "code",
      "execution_count": null,
      "metadata": {
        "colab": {
          "base_uri": "https://localhost:8080/"
        },
        "id": "RYSjS9PoXY4l",
        "outputId": "d9690dac-8d7f-40d3-f0b6-9f01b5c22b4e"
      },
      "outputs": [
        {
          "output_type": "stream",
          "name": "stdout",
          "text": [
            "Looking in indexes: https://pypi.org/simple, https://us-python.pkg.dev/colab-wheels/public/simple/\n",
            "Collecting open-ephys-python-tools\n",
            "  Downloading open-ephys-python-tools-0.1.5.tar.gz (380 kB)\n",
            "\u001b[?25l     \u001b[90m━━━━━━━━━━━━━━━━━━━━━━━━━━━━━━━━━━━━━━━━\u001b[0m \u001b[32m0.0/380.7 kB\u001b[0m \u001b[31m?\u001b[0m eta \u001b[36m-:--:--\u001b[0m\r\u001b[2K     \u001b[90m━━━━━━━━━━━━━━━━━━━━━━━━━━━━━━━━━━━━━━\u001b[0m \u001b[32m380.7/380.7 kB\u001b[0m \u001b[31m24.7 MB/s\u001b[0m eta \u001b[36m0:00:00\u001b[0m\n",
            "\u001b[?25h  Installing build dependencies ... \u001b[?25l\u001b[?25hdone\n",
            "  Getting requirements to build wheel ... \u001b[?25l\u001b[?25hdone\n",
            "  Installing backend dependencies ... \u001b[?25l\u001b[?25hdone\n",
            "  Preparing metadata (pyproject.toml) ... \u001b[?25l\u001b[?25hdone\n",
            "Requirement already satisfied: numpy in /usr/local/lib/python3.10/dist-packages (from open-ephys-python-tools) (1.22.4)\n",
            "Requirement already satisfied: pandas in /usr/local/lib/python3.10/dist-packages (from open-ephys-python-tools) (1.5.3)\n",
            "Requirement already satisfied: h5py in /usr/local/lib/python3.10/dist-packages (from open-ephys-python-tools) (3.8.0)\n",
            "Collecting zmq (from open-ephys-python-tools)\n",
            "  Downloading zmq-0.0.0.zip (2.2 kB)\n",
            "  Preparing metadata (setup.py) ... \u001b[?25l\u001b[?25hdone\n",
            "Requirement already satisfied: requests in /usr/local/lib/python3.10/dist-packages (from open-ephys-python-tools) (2.27.1)\n",
            "Requirement already satisfied: python-dateutil>=2.8.1 in /usr/local/lib/python3.10/dist-packages (from pandas->open-ephys-python-tools) (2.8.2)\n",
            "Requirement already satisfied: pytz>=2020.1 in /usr/local/lib/python3.10/dist-packages (from pandas->open-ephys-python-tools) (2022.7.1)\n",
            "Requirement already satisfied: urllib3<1.27,>=1.21.1 in /usr/local/lib/python3.10/dist-packages (from requests->open-ephys-python-tools) (1.26.15)\n",
            "Requirement already satisfied: certifi>=2017.4.17 in /usr/local/lib/python3.10/dist-packages (from requests->open-ephys-python-tools) (2022.12.7)\n",
            "Requirement already satisfied: charset-normalizer~=2.0.0 in /usr/local/lib/python3.10/dist-packages (from requests->open-ephys-python-tools) (2.0.12)\n",
            "Requirement already satisfied: idna<4,>=2.5 in /usr/local/lib/python3.10/dist-packages (from requests->open-ephys-python-tools) (3.4)\n",
            "Requirement already satisfied: pyzmq in /usr/local/lib/python3.10/dist-packages (from zmq->open-ephys-python-tools) (23.2.1)\n",
            "Requirement already satisfied: six>=1.5 in /usr/local/lib/python3.10/dist-packages (from python-dateutil>=2.8.1->pandas->open-ephys-python-tools) (1.16.0)\n",
            "Building wheels for collected packages: open-ephys-python-tools, zmq\n",
            "  Building wheel for open-ephys-python-tools (pyproject.toml) ... \u001b[?25l\u001b[?25hdone\n",
            "  Created wheel for open-ephys-python-tools: filename=open_ephys_python_tools-0.1.5-py3-none-any.whl size=38855 sha256=9ac2b3cdb4b6ff5a1da2e0280ded1ce9e566c9355dd8d192ee893311688d767a\n",
            "  Stored in directory: /root/.cache/pip/wheels/2a/5b/8b/dc10b99bc3ac10df057c67521ae3f50104fcbd2947262fad7b\n",
            "  Building wheel for zmq (setup.py) ... \u001b[?25l\u001b[?25hdone\n",
            "  Created wheel for zmq: filename=zmq-0.0.0-py3-none-any.whl size=1264 sha256=e75cce2a5dd0aa7b3c47804664ba59ebf6d7c05d5eefe975f7d553ec3676f07a\n",
            "  Stored in directory: /root/.cache/pip/wheels/ab/c5/fe/d853f71843cae26c123d37a7a5934baac20fc66f35a913951d\n",
            "Successfully built open-ephys-python-tools zmq\n",
            "Installing collected packages: zmq, open-ephys-python-tools\n",
            "Successfully installed open-ephys-python-tools-0.1.5 zmq-0.0.0\n"
          ]
        }
      ],
      "source": [
        "pip install open-ephys-python-tools"
      ]
    },
    {
      "cell_type": "code",
      "execution_count": null,
      "metadata": {
        "id": "DhmSG8a9Xckd"
      },
      "outputs": [],
      "source": [
        "from open_ephys.analysis import Session\n",
        "\n",
        "import matplotlib.pyplot as plt\n",
        "import numpy as np\n",
        "import pandas as pd\n",
        "\n",
        "import scipy as sp\n",
        "from scipy import signal\n",
        "import math\n",
        "from scipy.signal import welch, spectrogram, coherence, find_peaks, firwin, lfilter, filtfilt, hilbert\n",
        "import seaborn as sn\n",
        "import scipy.signal as sig\n",
        "\n",
        "import math\n",
        "import time as ttime\n",
        "from numpy.fft import fft, ifft, rfft, fftfreq\n",
        "from scipy.signal import firwin, lfilter, filtfilt\n",
        "from scipy.io import loadmat\n"
      ]
    },
    {
      "cell_type": "code",
      "execution_count": null,
      "metadata": {
        "id": "JJ_gyXm7Xjhc",
        "colab": {
          "base_uri": "https://localhost:8080/"
        },
        "outputId": "deefc872-cc53-4254-da95-d2af61412e1b"
      },
      "outputs": [
        {
          "output_type": "stream",
          "name": "stdout",
          "text": [
            "Mounted at /content/drive\n"
          ]
        }
      ],
      "source": [
        "from google.colab import drive\n",
        "drive.mount('/content/drive')"
      ]
    },
    {
      "cell_type": "markdown",
      "metadata": {
        "id": "E-NYZIek4ni-"
      },
      "source": [
        "> # MAPEAMENTO DOS CH DE ACORDO COM IMUNO\n",
        "# CCM 497\n",
        "* IL --> ch 1-8\n",
        "* PRL --> ch 25-32\n",
        "* CG 2 --> ch 17-24\n",
        "* CG 1 --> ch 9-16\n",
        "\n",
        "# CCM 559\n",
        "* IL --> ficou fora!\n",
        "* PRL --> ch 25-32 e ch 9-16\n",
        "* CG 2 --> não pegou\n",
        "* CG1 --> ch 17-24\n",
        "\n",
        "# DADOS ACELERÔMETRO\n",
        "* CH 32 - '33': acel_frente(eixo x)\n",
        "* CH 33 - '34': acel_cima (eixo y)\n",
        "* CH 34 - '35': acel_lado (eixo z)"
      ]
    },
    {
      "cell_type": "code",
      "execution_count": null,
      "metadata": {
        "id": "F6hhw4JWaw_Z"
      },
      "outputs": [],
      "source": [
        "ratos = {'CCM497': {'OF_pre':'/content/drive/Shareddrives/Registros open ephys Desamparo/Registros desamparo open ephys/Experimento Ephys/Dia 2 - Screening 16 12 22/OF pré-screening/CCM497',\n",
        "                  'OF_pos':'/content/drive/Shareddrives/Registros open ephys Desamparo/Registros desamparo open ephys/Experimento Ephys/Dia 2 - Screening 16 12 22/OF pós-screening/CCM497'},\n",
        "\n",
        "          'CCM559': {'OF_pre':'/content/drive/Shareddrives/Registros open ephys Desamparo/Registros desamparo open ephys/Experimento Ephys/Dia 2 - Screening 16 12 22/OF pré-screening/CCM559',\n",
        "                  'OF_pos':'/content/drive/Shareddrives/Registros open ephys Desamparo/Registros desamparo open ephys/Experimento Ephys/Dia 2 - Screening 16 12 22/OF pós-screening/CCM559'}}\n",
        "\n",
        "ch = {'CCM497': {'prl':30,\n",
        "                 'cg':9},\n",
        "      'CCM559':{'prl':28,\n",
        "                'cg':22}}"
      ]
    },
    {
      "cell_type": "markdown",
      "metadata": {
        "id": "OwV4ZXgr3Tdr"
      },
      "source": [
        "> # FUNÇÕES"
      ]
    },
    {
      "cell_type": "code",
      "execution_count": null,
      "metadata": {
        "id": "FJqUsR2Rlyy8"
      },
      "outputs": [],
      "source": [
        "# def load_data(path,ch_prl,ch_cg):\n",
        "#   load = Session(path).recordnodes[0].recordings[0]\n",
        "#   t_raw= load.continuous[0].timestamps\n",
        "#   t = t_raw-t_raw[0]\n",
        "#   data_prl = pd.DataFrame(load.continuous[0].get_samples(start_sample_index=0, end_sample_index=len(t))).iloc[:,ch_prl]\n",
        "#   data_cg = pd.DataFrame(load.continuous[0].get_samples(start_sample_index=0, end_sample_index=len(t))).iloc[:,ch_cg]\n",
        "#   data_acel = pd.DataFrame(load.continuous[0].get_samples(start_sample_index=0, end_sample_index=len(t))).iloc[:,32]\n",
        "#   return(pd.DataFrame({'data_PRL':data_prl,'data_CG': data_cg, 'data_acel': data_acel,'t': t}))"
      ]
    },
    {
      "cell_type": "code",
      "execution_count": null,
      "metadata": {
        "id": "WSVEjCWyUtiD"
      },
      "outputs": [],
      "source": [
        "def load_data(path,ch_prl,ch_cg):\n",
        "  load = Session(path).recordnodes[0].recordings[0]\n",
        "  t_raw= load.continuous[0].timestamps\n",
        "  t = t_raw-t_raw[0]\n",
        "\n",
        "  # tive que ecolher esse len pq o CCM559 tinha 30 min de dado, então padronizei p todos 10min\n",
        "  data_prl = pd.DataFrame(load.continuous[0].get_samples(start_sample_index=0, end_sample_index=len(t))).iloc[0:600000,ch_prl]\n",
        "  data_cg = pd.DataFrame(load.continuous[0].get_samples(start_sample_index=0, end_sample_index=len(t))).iloc[0:600000,ch_cg]\n",
        "  x = pd.DataFrame(load.continuous[0].get_samples(start_sample_index=0, end_sample_index=len(t))).iloc[0:600000,32]\n",
        "  y = pd.DataFrame(load.continuous[0].get_samples(start_sample_index=0, end_sample_index=len(t))).iloc[0:600000,33]\n",
        "  z = pd.DataFrame(load.continuous[0].get_samples(start_sample_index=0, end_sample_index=len(t))).iloc[0:600000,34]\n",
        "\n",
        "  x = np.array(x)\n",
        "  y = np.array(y)\n",
        "  z = np.array(z)\n",
        "  acel = abs(pd.DataFrame(np.sqrt( x**2 + y**2 + z**2  )))\n",
        "\n",
        "  acel = np.array(acel)\n",
        "  acel = np.diff(acel, axis = 0)\n",
        "  acel = abs(pd.DataFrame(acel)).rolling(window=1000).mean()\n",
        "\n",
        "  parado_bool = np.array(acel <= 0.001 )\n",
        "  index_parado = []\n",
        "  for x in range(len(parado_bool)):\n",
        "      if parado_bool[x:(x+1000)].all() == True:\n",
        "        index_parado.append(x)\n",
        "\n",
        "  prl_parado = []\n",
        "  for i in index_parado:\n",
        "    prl_parado.append(data_prl[i])\n",
        "\n",
        "  cg_parado = []\n",
        "  for i in index_parado:\n",
        "    cg_parado.append(data_cg[i])\n",
        "\n",
        "  srate = 1000\n",
        "  fc_low = 59\n",
        "  fc_high = 61\n",
        "  order = 5\n",
        "  b, a = signal.butter(order, [fc_low/(0.5*srate), fc_high/(0.5*srate)], btype='bandstop')\n",
        "\n",
        "  PRL = signal.filtfilt(b, a, prl_parado)\n",
        "  CG = signal.filtfilt(b, a, cg_parado)\n",
        "\n",
        "  return(pd.DataFrame({'data_PRL': PRL,'data_CG': CG, 'status': 'parado>1s', 'timestamp': index_parado}))"
      ]
    },
    {
      "cell_type": "markdown",
      "metadata": {
        "id": "lUV4BRqK3X61"
      },
      "source": [
        "> # ANÁLISE DOS DADOS"
      ]
    },
    {
      "cell_type": "code",
      "execution_count": null,
      "metadata": {
        "id": "85rfHDkCMYOL"
      },
      "outputs": [],
      "source": [
        "dataframes = []\n",
        "for rato in ratos.keys():\n",
        "  if rato == 'CCM497': #como só são dois ratos eu criei so 1 if, se forem mais criar elifs cm os canais de cada rato\n",
        "    ch_prl = 30\n",
        "    ch_cg = 9\n",
        "  else:\n",
        "    ch_prl = 28\n",
        "    ch_cg = 22\n",
        "  for condicao in ratos[rato].keys():\n",
        "        path = ratos[str(rato)][str(condicao)]\n",
        "\n",
        "  load = Session(path).recordnodes[0].recordings[0]\n",
        "  t_raw= load.continuous[0].timestamps\n",
        "  t = t_raw-t_raw[0]\n",
        "\n",
        "  # tive que ecolher esse len pq o CCM559 tinha 30 min de dado, então padronizei p todos 10min\n",
        "  data_prl = pd.DataFrame(load.continuous[0].get_samples(start_sample_index=0, end_sample_index=len(t))).iloc[0:600000,ch_prl]\n",
        "  data_cg = pd.DataFrame(load.continuous[0].get_samples(start_sample_index=0, end_sample_index=len(t))).iloc[0:600000,ch_cg]\n",
        "  x = pd.DataFrame(load.continuous[0].get_samples(start_sample_index=0, end_sample_index=len(t))).iloc[0:600000,32]\n",
        "  y = pd.DataFrame(load.continuous[0].get_samples(start_sample_index=0, end_sample_index=len(t))).iloc[0:600000,33]\n",
        "  z = pd.DataFrame(load.continuous[0].get_samples(start_sample_index=0, end_sample_index=len(t))).iloc[0:600000,34]\n",
        "\n",
        "  x = np.array(x)\n",
        "  y = np.array(y)\n",
        "  z = np.array(z)\n",
        "  acel = abs(pd.DataFrame(np.sqrt( x**2 + y**2 + z**2  )))\n",
        "\n",
        "  acel = np.array(acel)\n",
        "  acel = np.diff(acel, axis = 0)\n",
        "  acel = abs(pd.DataFrame(acel)).rolling(window=1000).mean()\n",
        "\n",
        "  parado_bool = np.array(acel <= 0.001 )\n",
        "  index_parado = []\n",
        "  for x in range(len(parado_bool)): #OBTENDO MOMENTOS QUE O RATO PAROU POR MAIS DE 1s\n",
        "      if parado_bool[x:(x+1000)].all() == True:\n",
        "        index_parado.append(x)\n",
        "\n",
        "  prl_parado = []\n",
        "  for i in index_parado:\n",
        "    prl_parado.append(data_prl[i])\n",
        "\n",
        "  cg_parado = []\n",
        "  for i in index_parado:\n",
        "    cg_parado.append(data_cg[i])\n",
        "\n",
        "  srate = 1000\n",
        "  fc_low = 59\n",
        "  fc_high = 61\n",
        "  order = 5\n",
        "  b, a = signal.butter(order, [fc_low/(0.5*srate), fc_high/(0.5*srate)], btype='bandstop')\n",
        "\n",
        "  PRL = signal.filtfilt(b, a, prl_parado)\n",
        "  CG = signal.filtfilt(b, a, cg_parado)\n",
        "\n",
        "\n",
        "\n",
        "\n",
        "\n",
        "\n",
        "\n",
        "\n",
        "\n",
        "\n",
        "\n",
        "\n",
        "\n",
        "\n",
        "\n",
        "\n",
        "\n",
        "        df_temp = load_data(path, ch_prl, ch_cg)\n",
        "        df_temp['animal'] = str(rato)\n",
        "        df_temp['condicao'] = str(condicao)\n",
        "        dataframes.append(df_temp)\n",
        "\n",
        "df = pd.concat(dataframes)"
      ]
    },
    {
      "cell_type": "code",
      "source": [
        "df.head()"
      ],
      "metadata": {
        "colab": {
          "base_uri": "https://localhost:8080/",
          "height": 206
        },
        "id": "OxeFxdJ2e9lo",
        "outputId": "993a93a7-9f05-4f05-d132-94c4fcdeb9bc"
      },
      "execution_count": null,
      "outputs": [
        {
          "output_type": "execute_result",
          "data": {
            "text/plain": [
              "    data_PRL    data_CG     status  timestamp  animal condicao\n",
              "0   5.054716  38.168262  parado>1s      29235  CCM497   OF_pre\n",
              "1  -9.984980  14.016962  parado>1s      29236  CCM497   OF_pre\n",
              "2 -14.097275  16.858147  parado>1s      29237  CCM497   OF_pre\n",
              "3   5.593148   9.292500  parado>1s      29238  CCM497   OF_pre\n",
              "4  -9.410811   7.751478  parado>1s      29239  CCM497   OF_pre"
            ],
            "text/html": [
              "\n",
              "  <div id=\"df-d941e65c-b0f2-423c-a0fa-de1dd6352ca0\">\n",
              "    <div class=\"colab-df-container\">\n",
              "      <div>\n",
              "<style scoped>\n",
              "    .dataframe tbody tr th:only-of-type {\n",
              "        vertical-align: middle;\n",
              "    }\n",
              "\n",
              "    .dataframe tbody tr th {\n",
              "        vertical-align: top;\n",
              "    }\n",
              "\n",
              "    .dataframe thead th {\n",
              "        text-align: right;\n",
              "    }\n",
              "</style>\n",
              "<table border=\"1\" class=\"dataframe\">\n",
              "  <thead>\n",
              "    <tr style=\"text-align: right;\">\n",
              "      <th></th>\n",
              "      <th>data_PRL</th>\n",
              "      <th>data_CG</th>\n",
              "      <th>status</th>\n",
              "      <th>timestamp</th>\n",
              "      <th>animal</th>\n",
              "      <th>condicao</th>\n",
              "    </tr>\n",
              "  </thead>\n",
              "  <tbody>\n",
              "    <tr>\n",
              "      <th>0</th>\n",
              "      <td>5.054716</td>\n",
              "      <td>38.168262</td>\n",
              "      <td>parado&gt;1s</td>\n",
              "      <td>29235</td>\n",
              "      <td>CCM497</td>\n",
              "      <td>OF_pre</td>\n",
              "    </tr>\n",
              "    <tr>\n",
              "      <th>1</th>\n",
              "      <td>-9.984980</td>\n",
              "      <td>14.016962</td>\n",
              "      <td>parado&gt;1s</td>\n",
              "      <td>29236</td>\n",
              "      <td>CCM497</td>\n",
              "      <td>OF_pre</td>\n",
              "    </tr>\n",
              "    <tr>\n",
              "      <th>2</th>\n",
              "      <td>-14.097275</td>\n",
              "      <td>16.858147</td>\n",
              "      <td>parado&gt;1s</td>\n",
              "      <td>29237</td>\n",
              "      <td>CCM497</td>\n",
              "      <td>OF_pre</td>\n",
              "    </tr>\n",
              "    <tr>\n",
              "      <th>3</th>\n",
              "      <td>5.593148</td>\n",
              "      <td>9.292500</td>\n",
              "      <td>parado&gt;1s</td>\n",
              "      <td>29238</td>\n",
              "      <td>CCM497</td>\n",
              "      <td>OF_pre</td>\n",
              "    </tr>\n",
              "    <tr>\n",
              "      <th>4</th>\n",
              "      <td>-9.410811</td>\n",
              "      <td>7.751478</td>\n",
              "      <td>parado&gt;1s</td>\n",
              "      <td>29239</td>\n",
              "      <td>CCM497</td>\n",
              "      <td>OF_pre</td>\n",
              "    </tr>\n",
              "  </tbody>\n",
              "</table>\n",
              "</div>\n",
              "      <button class=\"colab-df-convert\" onclick=\"convertToInteractive('df-d941e65c-b0f2-423c-a0fa-de1dd6352ca0')\"\n",
              "              title=\"Convert this dataframe to an interactive table.\"\n",
              "              style=\"display:none;\">\n",
              "        \n",
              "  <svg xmlns=\"http://www.w3.org/2000/svg\" height=\"24px\"viewBox=\"0 0 24 24\"\n",
              "       width=\"24px\">\n",
              "    <path d=\"M0 0h24v24H0V0z\" fill=\"none\"/>\n",
              "    <path d=\"M18.56 5.44l.94 2.06.94-2.06 2.06-.94-2.06-.94-.94-2.06-.94 2.06-2.06.94zm-11 1L8.5 8.5l.94-2.06 2.06-.94-2.06-.94L8.5 2.5l-.94 2.06-2.06.94zm10 10l.94 2.06.94-2.06 2.06-.94-2.06-.94-.94-2.06-.94 2.06-2.06.94z\"/><path d=\"M17.41 7.96l-1.37-1.37c-.4-.4-.92-.59-1.43-.59-.52 0-1.04.2-1.43.59L10.3 9.45l-7.72 7.72c-.78.78-.78 2.05 0 2.83L4 21.41c.39.39.9.59 1.41.59.51 0 1.02-.2 1.41-.59l7.78-7.78 2.81-2.81c.8-.78.8-2.07 0-2.86zM5.41 20L4 18.59l7.72-7.72 1.47 1.35L5.41 20z\"/>\n",
              "  </svg>\n",
              "      </button>\n",
              "      \n",
              "  <style>\n",
              "    .colab-df-container {\n",
              "      display:flex;\n",
              "      flex-wrap:wrap;\n",
              "      gap: 12px;\n",
              "    }\n",
              "\n",
              "    .colab-df-convert {\n",
              "      background-color: #E8F0FE;\n",
              "      border: none;\n",
              "      border-radius: 50%;\n",
              "      cursor: pointer;\n",
              "      display: none;\n",
              "      fill: #1967D2;\n",
              "      height: 32px;\n",
              "      padding: 0 0 0 0;\n",
              "      width: 32px;\n",
              "    }\n",
              "\n",
              "    .colab-df-convert:hover {\n",
              "      background-color: #E2EBFA;\n",
              "      box-shadow: 0px 1px 2px rgba(60, 64, 67, 0.3), 0px 1px 3px 1px rgba(60, 64, 67, 0.15);\n",
              "      fill: #174EA6;\n",
              "    }\n",
              "\n",
              "    [theme=dark] .colab-df-convert {\n",
              "      background-color: #3B4455;\n",
              "      fill: #D2E3FC;\n",
              "    }\n",
              "\n",
              "    [theme=dark] .colab-df-convert:hover {\n",
              "      background-color: #434B5C;\n",
              "      box-shadow: 0px 1px 3px 1px rgba(0, 0, 0, 0.15);\n",
              "      filter: drop-shadow(0px 1px 2px rgba(0, 0, 0, 0.3));\n",
              "      fill: #FFFFFF;\n",
              "    }\n",
              "  </style>\n",
              "\n",
              "      <script>\n",
              "        const buttonEl =\n",
              "          document.querySelector('#df-d941e65c-b0f2-423c-a0fa-de1dd6352ca0 button.colab-df-convert');\n",
              "        buttonEl.style.display =\n",
              "          google.colab.kernel.accessAllowed ? 'block' : 'none';\n",
              "\n",
              "        async function convertToInteractive(key) {\n",
              "          const element = document.querySelector('#df-d941e65c-b0f2-423c-a0fa-de1dd6352ca0');\n",
              "          const dataTable =\n",
              "            await google.colab.kernel.invokeFunction('convertToInteractive',\n",
              "                                                     [key], {});\n",
              "          if (!dataTable) return;\n",
              "\n",
              "          const docLinkHtml = 'Like what you see? Visit the ' +\n",
              "            '<a target=\"_blank\" href=https://colab.research.google.com/notebooks/data_table.ipynb>data table notebook</a>'\n",
              "            + ' to learn more about interactive tables.';\n",
              "          element.innerHTML = '';\n",
              "          dataTable['output_type'] = 'display_data';\n",
              "          await google.colab.output.renderOutput(dataTable, element);\n",
              "          const docLink = document.createElement('div');\n",
              "          docLink.innerHTML = docLinkHtml;\n",
              "          element.appendChild(docLink);\n",
              "        }\n",
              "      </script>\n",
              "    </div>\n",
              "  </div>\n",
              "  "
            ]
          },
          "metadata": {},
          "execution_count": 10
        }
      ]
    },
    {
      "cell_type": "code",
      "execution_count": null,
      "metadata": {
        "id": "cBcMOXlGk9YP"
      },
      "outputs": [],
      "source": [
        "# obtendo o tempo que cada animal passou parado no OF\n",
        "\n",
        "lista = []\n",
        "tempo_parado = []\n",
        "ratos_list = []\n",
        "condicoes_list = []\n",
        "\n",
        "for rato in ratos.keys():\n",
        "    for condicao in ratos[rato].keys():\n",
        "        t_parado = (len(df[(df['animal'] == str(rato)) & (df['condicao'] == str(condicao) )]['data_PRL'])) / 1000\n",
        "        tempo_parado.append(t_parado)\n",
        "        ratos_list.append(str(rato))\n",
        "        condicoes_list.append(str(condicao))\n",
        "\n",
        "temp = pd.DataFrame({'t_parado_s': tempo_parado, 'animal': ratos_list, 'condicao': condicoes_list})\n",
        "lista.append(temp)\n",
        "\n",
        "parado_segundos = pd.concat(lista)"
      ]
    },
    {
      "cell_type": "code",
      "source": [
        "parado_segundos"
      ],
      "metadata": {
        "colab": {
          "base_uri": "https://localhost:8080/",
          "height": 175
        },
        "id": "-7LzpS_bewaS",
        "outputId": "4d6826dd-b8cb-4023-8c31-d18803346bd3"
      },
      "execution_count": null,
      "outputs": [
        {
          "output_type": "execute_result",
          "data": {
            "text/plain": [
              "   t_parado_s  animal condicao\n",
              "0      11.029  CCM497   OF_pre\n",
              "1      71.207  CCM497   OF_pos\n",
              "2     189.297  CCM559   OF_pre\n",
              "3     176.729  CCM559   OF_pos"
            ],
            "text/html": [
              "\n",
              "  <div id=\"df-73d429ed-af84-4a20-a52b-88e70f45c427\">\n",
              "    <div class=\"colab-df-container\">\n",
              "      <div>\n",
              "<style scoped>\n",
              "    .dataframe tbody tr th:only-of-type {\n",
              "        vertical-align: middle;\n",
              "    }\n",
              "\n",
              "    .dataframe tbody tr th {\n",
              "        vertical-align: top;\n",
              "    }\n",
              "\n",
              "    .dataframe thead th {\n",
              "        text-align: right;\n",
              "    }\n",
              "</style>\n",
              "<table border=\"1\" class=\"dataframe\">\n",
              "  <thead>\n",
              "    <tr style=\"text-align: right;\">\n",
              "      <th></th>\n",
              "      <th>t_parado_s</th>\n",
              "      <th>animal</th>\n",
              "      <th>condicao</th>\n",
              "    </tr>\n",
              "  </thead>\n",
              "  <tbody>\n",
              "    <tr>\n",
              "      <th>0</th>\n",
              "      <td>11.029</td>\n",
              "      <td>CCM497</td>\n",
              "      <td>OF_pre</td>\n",
              "    </tr>\n",
              "    <tr>\n",
              "      <th>1</th>\n",
              "      <td>71.207</td>\n",
              "      <td>CCM497</td>\n",
              "      <td>OF_pos</td>\n",
              "    </tr>\n",
              "    <tr>\n",
              "      <th>2</th>\n",
              "      <td>189.297</td>\n",
              "      <td>CCM559</td>\n",
              "      <td>OF_pre</td>\n",
              "    </tr>\n",
              "    <tr>\n",
              "      <th>3</th>\n",
              "      <td>176.729</td>\n",
              "      <td>CCM559</td>\n",
              "      <td>OF_pos</td>\n",
              "    </tr>\n",
              "  </tbody>\n",
              "</table>\n",
              "</div>\n",
              "      <button class=\"colab-df-convert\" onclick=\"convertToInteractive('df-73d429ed-af84-4a20-a52b-88e70f45c427')\"\n",
              "              title=\"Convert this dataframe to an interactive table.\"\n",
              "              style=\"display:none;\">\n",
              "        \n",
              "  <svg xmlns=\"http://www.w3.org/2000/svg\" height=\"24px\"viewBox=\"0 0 24 24\"\n",
              "       width=\"24px\">\n",
              "    <path d=\"M0 0h24v24H0V0z\" fill=\"none\"/>\n",
              "    <path d=\"M18.56 5.44l.94 2.06.94-2.06 2.06-.94-2.06-.94-.94-2.06-.94 2.06-2.06.94zm-11 1L8.5 8.5l.94-2.06 2.06-.94-2.06-.94L8.5 2.5l-.94 2.06-2.06.94zm10 10l.94 2.06.94-2.06 2.06-.94-2.06-.94-.94-2.06-.94 2.06-2.06.94z\"/><path d=\"M17.41 7.96l-1.37-1.37c-.4-.4-.92-.59-1.43-.59-.52 0-1.04.2-1.43.59L10.3 9.45l-7.72 7.72c-.78.78-.78 2.05 0 2.83L4 21.41c.39.39.9.59 1.41.59.51 0 1.02-.2 1.41-.59l7.78-7.78 2.81-2.81c.8-.78.8-2.07 0-2.86zM5.41 20L4 18.59l7.72-7.72 1.47 1.35L5.41 20z\"/>\n",
              "  </svg>\n",
              "      </button>\n",
              "      \n",
              "  <style>\n",
              "    .colab-df-container {\n",
              "      display:flex;\n",
              "      flex-wrap:wrap;\n",
              "      gap: 12px;\n",
              "    }\n",
              "\n",
              "    .colab-df-convert {\n",
              "      background-color: #E8F0FE;\n",
              "      border: none;\n",
              "      border-radius: 50%;\n",
              "      cursor: pointer;\n",
              "      display: none;\n",
              "      fill: #1967D2;\n",
              "      height: 32px;\n",
              "      padding: 0 0 0 0;\n",
              "      width: 32px;\n",
              "    }\n",
              "\n",
              "    .colab-df-convert:hover {\n",
              "      background-color: #E2EBFA;\n",
              "      box-shadow: 0px 1px 2px rgba(60, 64, 67, 0.3), 0px 1px 3px 1px rgba(60, 64, 67, 0.15);\n",
              "      fill: #174EA6;\n",
              "    }\n",
              "\n",
              "    [theme=dark] .colab-df-convert {\n",
              "      background-color: #3B4455;\n",
              "      fill: #D2E3FC;\n",
              "    }\n",
              "\n",
              "    [theme=dark] .colab-df-convert:hover {\n",
              "      background-color: #434B5C;\n",
              "      box-shadow: 0px 1px 3px 1px rgba(0, 0, 0, 0.15);\n",
              "      filter: drop-shadow(0px 1px 2px rgba(0, 0, 0, 0.3));\n",
              "      fill: #FFFFFF;\n",
              "    }\n",
              "  </style>\n",
              "\n",
              "      <script>\n",
              "        const buttonEl =\n",
              "          document.querySelector('#df-73d429ed-af84-4a20-a52b-88e70f45c427 button.colab-df-convert');\n",
              "        buttonEl.style.display =\n",
              "          google.colab.kernel.accessAllowed ? 'block' : 'none';\n",
              "\n",
              "        async function convertToInteractive(key) {\n",
              "          const element = document.querySelector('#df-73d429ed-af84-4a20-a52b-88e70f45c427');\n",
              "          const dataTable =\n",
              "            await google.colab.kernel.invokeFunction('convertToInteractive',\n",
              "                                                     [key], {});\n",
              "          if (!dataTable) return;\n",
              "\n",
              "          const docLinkHtml = 'Like what you see? Visit the ' +\n",
              "            '<a target=\"_blank\" href=https://colab.research.google.com/notebooks/data_table.ipynb>data table notebook</a>'\n",
              "            + ' to learn more about interactive tables.';\n",
              "          element.innerHTML = '';\n",
              "          dataTable['output_type'] = 'display_data';\n",
              "          await google.colab.output.renderOutput(dataTable, element);\n",
              "          const docLink = document.createElement('div');\n",
              "          docLink.innerHTML = docLinkHtml;\n",
              "          element.appendChild(docLink);\n",
              "        }\n",
              "      </script>\n",
              "    </div>\n",
              "  </div>\n",
              "  "
            ]
          },
          "metadata": {},
          "execution_count": 12
        }
      ]
    },
    {
      "cell_type": "code",
      "source": [
        "power_prl_pre = []\n",
        "power_prl_pos = []\n",
        "power_cg_pre = []\n",
        "power_cg_pos = []\n",
        "\n",
        "for rato in ratos.keys():\n",
        "    f, p_prl_pre = welch(df[(df['animal'] == str(rato)) & (df['condicao'] == 'OF_pre' )]['data_PRL'], fs = 1000,nperseg = 1000,nfft = 10*1000)\n",
        "    power_prl_pre.append(p_prl_pre)\n",
        "\n",
        "    f, p_prl_pos = welch(df[(df['animal'] == str(rato)) & (df['condicao'] == 'OF_pos' )]['data_PRL'], fs = 1000,nperseg = 1000,nfft = 10*1000)\n",
        "    power_prl_pos.append(p_prl_pos)\n",
        "\n",
        "    f, p_prl_pre = welch(df[(df['animal'] == str(rato)) & (df['condicao'] == 'OF_pre' )]['data_CG'], fs = 1000,nperseg = 1000,nfft = 10*1000)\n",
        "    power_cg_pre.append(p_prl_pre)\n",
        "\n",
        "    f, p_prl_pos = welch(df[(df['animal'] == str(rato)) & (df['condicao'] == 'OF_pos' )]['data_CG'], fs = 1000,nperseg = 1000,nfft = 10*1000)\n",
        "    power_cg_pos.append(p_prl_pos)\n"
      ],
      "metadata": {
        "id": "5b765W43WCOO"
      },
      "execution_count": null,
      "outputs": []
    },
    {
      "cell_type": "code",
      "source": [
        "df_welch = pd.DataFrame({'mean_power_prl':(np.mean(power_prl_pre,axis = 0)*f), 'f':f})"
      ],
      "metadata": {
        "id": "CYMBlDWighKQ"
      },
      "execution_count": null,
      "outputs": []
    },
    {
      "cell_type": "code",
      "source": [
        "df_welch"
      ],
      "metadata": {
        "colab": {
          "base_uri": "https://localhost:8080/",
          "height": 423
        },
        "id": "x2abBC4FgyGh",
        "outputId": "8745bda4-b64b-4ab7-d6ad-d88a896c5838"
      },
      "execution_count": null,
      "outputs": [
        {
          "output_type": "execute_result",
          "data": {
            "text/plain": [
              "      mean_power_prl      f\n",
              "0           0.000000    0.0\n",
              "1          14.063031    0.1\n",
              "2          29.955941    0.2\n",
              "3          49.418425    0.3\n",
              "4          74.024010    0.4\n",
              "...              ...    ...\n",
              "4996       55.962853  499.6\n",
              "4997       56.415313  499.7\n",
              "4998       56.826771  499.8\n",
              "4999       57.114283  499.9\n",
              "5000       28.611991  500.0\n",
              "\n",
              "[5001 rows x 2 columns]"
            ],
            "text/html": [
              "\n",
              "  <div id=\"df-d600f6c3-8f54-4e39-86f5-cbc12566bd17\">\n",
              "    <div class=\"colab-df-container\">\n",
              "      <div>\n",
              "<style scoped>\n",
              "    .dataframe tbody tr th:only-of-type {\n",
              "        vertical-align: middle;\n",
              "    }\n",
              "\n",
              "    .dataframe tbody tr th {\n",
              "        vertical-align: top;\n",
              "    }\n",
              "\n",
              "    .dataframe thead th {\n",
              "        text-align: right;\n",
              "    }\n",
              "</style>\n",
              "<table border=\"1\" class=\"dataframe\">\n",
              "  <thead>\n",
              "    <tr style=\"text-align: right;\">\n",
              "      <th></th>\n",
              "      <th>mean_power_prl</th>\n",
              "      <th>f</th>\n",
              "    </tr>\n",
              "  </thead>\n",
              "  <tbody>\n",
              "    <tr>\n",
              "      <th>0</th>\n",
              "      <td>0.000000</td>\n",
              "      <td>0.0</td>\n",
              "    </tr>\n",
              "    <tr>\n",
              "      <th>1</th>\n",
              "      <td>14.063031</td>\n",
              "      <td>0.1</td>\n",
              "    </tr>\n",
              "    <tr>\n",
              "      <th>2</th>\n",
              "      <td>29.955941</td>\n",
              "      <td>0.2</td>\n",
              "    </tr>\n",
              "    <tr>\n",
              "      <th>3</th>\n",
              "      <td>49.418425</td>\n",
              "      <td>0.3</td>\n",
              "    </tr>\n",
              "    <tr>\n",
              "      <th>4</th>\n",
              "      <td>74.024010</td>\n",
              "      <td>0.4</td>\n",
              "    </tr>\n",
              "    <tr>\n",
              "      <th>...</th>\n",
              "      <td>...</td>\n",
              "      <td>...</td>\n",
              "    </tr>\n",
              "    <tr>\n",
              "      <th>4996</th>\n",
              "      <td>55.962853</td>\n",
              "      <td>499.6</td>\n",
              "    </tr>\n",
              "    <tr>\n",
              "      <th>4997</th>\n",
              "      <td>56.415313</td>\n",
              "      <td>499.7</td>\n",
              "    </tr>\n",
              "    <tr>\n",
              "      <th>4998</th>\n",
              "      <td>56.826771</td>\n",
              "      <td>499.8</td>\n",
              "    </tr>\n",
              "    <tr>\n",
              "      <th>4999</th>\n",
              "      <td>57.114283</td>\n",
              "      <td>499.9</td>\n",
              "    </tr>\n",
              "    <tr>\n",
              "      <th>5000</th>\n",
              "      <td>28.611991</td>\n",
              "      <td>500.0</td>\n",
              "    </tr>\n",
              "  </tbody>\n",
              "</table>\n",
              "<p>5001 rows × 2 columns</p>\n",
              "</div>\n",
              "      <button class=\"colab-df-convert\" onclick=\"convertToInteractive('df-d600f6c3-8f54-4e39-86f5-cbc12566bd17')\"\n",
              "              title=\"Convert this dataframe to an interactive table.\"\n",
              "              style=\"display:none;\">\n",
              "        \n",
              "  <svg xmlns=\"http://www.w3.org/2000/svg\" height=\"24px\"viewBox=\"0 0 24 24\"\n",
              "       width=\"24px\">\n",
              "    <path d=\"M0 0h24v24H0V0z\" fill=\"none\"/>\n",
              "    <path d=\"M18.56 5.44l.94 2.06.94-2.06 2.06-.94-2.06-.94-.94-2.06-.94 2.06-2.06.94zm-11 1L8.5 8.5l.94-2.06 2.06-.94-2.06-.94L8.5 2.5l-.94 2.06-2.06.94zm10 10l.94 2.06.94-2.06 2.06-.94-2.06-.94-.94-2.06-.94 2.06-2.06.94z\"/><path d=\"M17.41 7.96l-1.37-1.37c-.4-.4-.92-.59-1.43-.59-.52 0-1.04.2-1.43.59L10.3 9.45l-7.72 7.72c-.78.78-.78 2.05 0 2.83L4 21.41c.39.39.9.59 1.41.59.51 0 1.02-.2 1.41-.59l7.78-7.78 2.81-2.81c.8-.78.8-2.07 0-2.86zM5.41 20L4 18.59l7.72-7.72 1.47 1.35L5.41 20z\"/>\n",
              "  </svg>\n",
              "      </button>\n",
              "      \n",
              "  <style>\n",
              "    .colab-df-container {\n",
              "      display:flex;\n",
              "      flex-wrap:wrap;\n",
              "      gap: 12px;\n",
              "    }\n",
              "\n",
              "    .colab-df-convert {\n",
              "      background-color: #E8F0FE;\n",
              "      border: none;\n",
              "      border-radius: 50%;\n",
              "      cursor: pointer;\n",
              "      display: none;\n",
              "      fill: #1967D2;\n",
              "      height: 32px;\n",
              "      padding: 0 0 0 0;\n",
              "      width: 32px;\n",
              "    }\n",
              "\n",
              "    .colab-df-convert:hover {\n",
              "      background-color: #E2EBFA;\n",
              "      box-shadow: 0px 1px 2px rgba(60, 64, 67, 0.3), 0px 1px 3px 1px rgba(60, 64, 67, 0.15);\n",
              "      fill: #174EA6;\n",
              "    }\n",
              "\n",
              "    [theme=dark] .colab-df-convert {\n",
              "      background-color: #3B4455;\n",
              "      fill: #D2E3FC;\n",
              "    }\n",
              "\n",
              "    [theme=dark] .colab-df-convert:hover {\n",
              "      background-color: #434B5C;\n",
              "      box-shadow: 0px 1px 3px 1px rgba(0, 0, 0, 0.15);\n",
              "      filter: drop-shadow(0px 1px 2px rgba(0, 0, 0, 0.3));\n",
              "      fill: #FFFFFF;\n",
              "    }\n",
              "  </style>\n",
              "\n",
              "      <script>\n",
              "        const buttonEl =\n",
              "          document.querySelector('#df-d600f6c3-8f54-4e39-86f5-cbc12566bd17 button.colab-df-convert');\n",
              "        buttonEl.style.display =\n",
              "          google.colab.kernel.accessAllowed ? 'block' : 'none';\n",
              "\n",
              "        async function convertToInteractive(key) {\n",
              "          const element = document.querySelector('#df-d600f6c3-8f54-4e39-86f5-cbc12566bd17');\n",
              "          const dataTable =\n",
              "            await google.colab.kernel.invokeFunction('convertToInteractive',\n",
              "                                                     [key], {});\n",
              "          if (!dataTable) return;\n",
              "\n",
              "          const docLinkHtml = 'Like what you see? Visit the ' +\n",
              "            '<a target=\"_blank\" href=https://colab.research.google.com/notebooks/data_table.ipynb>data table notebook</a>'\n",
              "            + ' to learn more about interactive tables.';\n",
              "          element.innerHTML = '';\n",
              "          dataTable['output_type'] = 'display_data';\n",
              "          await google.colab.output.renderOutput(dataTable, element);\n",
              "          const docLink = document.createElement('div');\n",
              "          docLink.innerHTML = docLinkHtml;\n",
              "          element.appendChild(docLink);\n",
              "        }\n",
              "      </script>\n",
              "    </div>\n",
              "  </div>\n",
              "  "
            ]
          },
          "metadata": {},
          "execution_count": 35
        }
      ]
    },
    {
      "cell_type": "code",
      "source": [
        "theta_power_prl_pre = ( df_welch[(df_welch['f'] >= 4 ) & (df_welch['f'] <= 12 )]['mean_power_prl'])\n",
        "error_power = (np.std(theta_power_prl_pre)) /np.sqrt(2)"
      ],
      "metadata": {
        "id": "W66zytEfYTX7"
      },
      "execution_count": null,
      "outputs": []
    },
    {
      "cell_type": "code",
      "source": [
        "plt.plot(df_welch[(df_welch['f'] >= 4 ) & (df_welch['f'] <= 12 )]['f'],theta_power_prl_pre,linewidth = 1.5, color = 'black', label = 'LFP power')\n",
        "plt.fill_between(df_welch[(df_welch['f'] >= 4 ) & (df_welch['f'] <= 12 )]['f'],theta_power_prl_pre-2*error_power,theta_power_prl_pre+2*error_power,color = 'black',alpha = 0.3,edgecolor=None)\n",
        "plt.grid(color='grey', linestyle='--', linewidth=1 ,alpha = 0.3, axis = 'both', which = 'both')\n",
        "# plt.xscale('log')\n",
        "plt.xlim(6,12)\n",
        "# plt.yscale('log')\n",
        "# plt.ylim([10e2,0.7e5])\n",
        "plt.ylabel('Whitened Power')\n",
        "plt.xlabel('Frequency(Hz)')"
      ],
      "metadata": {
        "colab": {
          "base_uri": "https://localhost:8080/",
          "height": 466
        },
        "id": "FohPYKdAX64w",
        "outputId": "423e2d30-6e57-4b3e-ee17-5cb92d8f9906"
      },
      "execution_count": null,
      "outputs": [
        {
          "output_type": "execute_result",
          "data": {
            "text/plain": [
              "Text(0.5, 0, 'Frequency(Hz)')"
            ]
          },
          "metadata": {},
          "execution_count": 48
        },
        {
          "output_type": "display_data",
          "data": {
            "text/plain": [
              "<Figure size 640x480 with 1 Axes>"
            ],
            "image/png": "[encoded data removed]"
          },
          "metadata": {}
        }
      ]
    },
    {
      "cell_type": "code",
      "source": [
        "f,cxx = signal.coherence(lfp_odorless, resp_odorless, fs = 1000,nperseg = 1000,nfft = 10*1000)\n",
        "f,t,p = signal.spectrogram(x,fs = srate,window = ('hamming'),nperseg = int(srate/25), noverlap = int(srate/30),nfft = 10*srate)"
      ],
      "metadata": {
        "id": "zx-COUJjPCRv"
      },
      "execution_count": null,
      "outputs": []
    },
    {
      "cell_type": "markdown",
      "metadata": {
        "id": "KDgXb71D2vqL"
      },
      "source": [
        "#RASCUNHOS"
      ]
    },
    {
      "cell_type": "code",
      "execution_count": null,
      "metadata": {
        "id": "R4DziUahhV9K"
      },
      "outputs": [],
      "source": [
        "load = Session(ratos['CCM559']['OF_pre']).recordnodes[0].recordings[0]\n",
        "t_raw= load.continuous[0].timestamps\n",
        "t = t_raw-t_raw[0]\n",
        "\n",
        "prl = pd.DataFrame(load.continuous[0].get_samples(start_sample_index=0, end_sample_index=len(t))).iloc[0:600000,30]\n",
        "x = pd.DataFrame(load.continuous[0].get_samples(start_sample_index=0, end_sample_index=len(t))).iloc[0:600000,32]\n",
        "y = pd.DataFrame(load.continuous[0].get_samples(start_sample_index=0, end_sample_index=len(t))).iloc[0:600000,33]\n",
        "z = pd.DataFrame(load.continuous[0].get_samples(start_sample_index=0, end_sample_index=len(t))).iloc[0:600000,34]\n",
        "events = load.events\n",
        "\n",
        "x = np.array(x)\n",
        "y = np.array(y)\n",
        "z = np.array(z)\n",
        "acel = abs(pd.DataFrame(np.sqrt( x**2 + y**2 + z**2  )))\n",
        "\n",
        "acel = np.array(acel)\n",
        "acel = np.diff(acel, axis = 0)\n",
        "acel = abs(pd.DataFrame(acel)).rolling(window=1000).mean()\n",
        "\n",
        "parado_bool = np.array(acel  <= 0.001 )\n",
        "indices_parado = []\n",
        "for x in range(len(parado_bool)):\n",
        "    if parado_bool[x:(x+500)].all() == True:\n",
        "      indices_parado.append(x)\n",
        "\n"
      ]
    },
    {
      "cell_type": "code",
      "source": [
        "def tempo_para_pontos(tempo):\n",
        "    minutos, segundos = map(int, tempo.split(':'))\n",
        "    total_segundos = minutos * 60 + segundos\n",
        "    pontos = total_segundos * 1000\n",
        "    return pontos"
      ],
      "metadata": {
        "id": "u1UbYdocYGTQ"
      },
      "execution_count": null,
      "outputs": []
    },
    {
      "cell_type": "code",
      "execution_count": null,
      "metadata": {
        "id": "ahhIfU8ctlmZ"
      },
      "outputs": [],
      "source": [
        "csv = pd.read_csv('/content/drive/MyDrive/CCM559_OpenField_2022-12-16-095045-0000DLC_resnet50_desamparo_aprendido_catheJun4shuffle1_100000_filtered.csv')"
      ]
    },
    {
      "cell_type": "code",
      "execution_count": null,
      "metadata": {
        "id": "RDztOTzAuuua"
      },
      "outputs": [],
      "source": [
        "dataframe = pd.DataFrame({'frame': csv['scorer'], 'x': csv['DLC_resnet50_desamparo_aprendido_catheJun4shuffle1_100000.3'], 'y': csv['DLC_resnet50_desamparo_aprendido_catheJun4shuffle1_100000.4'], 'bodypart': 'cabeça' })"
      ]
    },
    {
      "cell_type": "code",
      "execution_count": null,
      "metadata": {
        "id": "zLA9PCkcvP7P"
      },
      "outputs": [],
      "source": [
        "remover = [0,1]\n",
        "dataframe.drop(remover)\n"
      ]
    },
    {
      "cell_type": "code",
      "execution_count": null,
      "metadata": {
        "id": "d5IwlcorTReV"
      },
      "outputs": [],
      "source": [
        "len(df[(df['animal'] == 'CCM559') & (df['condicao'] == 'OF_pos')]['data_PRL'])"
      ]
    },
    {
      "cell_type": "code",
      "execution_count": null,
      "metadata": {
        "id": "tP9Sx70Ou0R_"
      },
      "outputs": [],
      "source": [
        "\n",
        "plt.plot(df[(df['animal'] == 'CCM497') & (df['condicao'] == 'OF_pre')]['data_PRL'])\n",
        "plt.fill_between(f,mean_power-2*error_power,mean_power+2*error_power,color = 'black',alpha = 0.3,edgecolor=None)\n",
        "# plt.grid(color='grey', linestyle='--', linewidth=1 ,alpha = 0.3, axis = 'both', which = 'both')\n",
        "# plt.xscale('log')\n",
        "plt.xlim([0,50])\n",
        "# plt.ylim([10e2,0.7e5])\n",
        "plt.ylabel('Normalized Power')\n",
        "plt.xlabel('Frequency(Hz)')"
      ]
    },
    {
      "cell_type": "code",
      "execution_count": null,
      "metadata": {
        "id": "3dpFx8xAyx2M"
      },
      "outputs": [],
      "source": [
        "dado = df[(df['animal'] == 'CCM497') & (df['condicao'] == 'OF_pre')]['data_PRL']"
      ]
    },
    {
      "cell_type": "code",
      "execution_count": null,
      "metadata": {
        "id": "NC0dgg3RgeL5"
      },
      "outputs": [],
      "source": [
        "prl_497_pre = df[(df['animal'] == 'CCM497') & (df['condicao'] == 'OF_pre')]['data_PRL']\n",
        "prl_559_pre = df[(df['animal'] == 'CCM559') & (df['condicao'] == 'OF_pre')]['data_PRL']\n",
        "\n",
        "PRL_PRE = (prl_497_pre + prl_559_pre)/2 # media"
      ]
    },
    {
      "cell_type": "code",
      "execution_count": null,
      "metadata": {
        "id": "1D2LbSyz079E"
      },
      "outputs": [],
      "source": [
        "CCM497_OFPRE = df_final[ (df_final['animal'] =='CCM497') & (df_final['cond'] == 'OF_pre' )]['data_acel']"
      ]
    },
    {
      "cell_type": "code",
      "execution_count": null,
      "metadata": {
        "id": "8b7qxJXN26h9"
      },
      "outputs": [],
      "source": [
        "plt.plot(df_final[ (df_final['animal'] =='CCM497') & (df_final['cond'] == 'OF_pre' )]['data_acel'])"
      ]
    },
    {
      "cell_type": "code",
      "execution_count": null,
      "metadata": {
        "id": "tCxQ8-Etvo-P"
      },
      "outputs": [],
      "source": []
    },
    {
      "cell_type": "code",
      "execution_count": null,
      "metadata": {
        "id": "PBnbylc5a7nv"
      },
      "outputs": [],
      "source": [
        "\n",
        "\n",
        "session_pre = (Session(str(ratos['CCM497']['OF_pre']))).recordnodes[0].recordings[0]\n",
        "# session_pos = (Session(str(ratos['CCM497']['OF_pos']))).recordnodes[0].recordings[0]\n",
        "\n",
        "\n",
        "\n",
        "\n",
        "\n",
        "\n",
        "# data_pre = (pd.DataFrame(session_pre.continuous[0].get_samples(start_sample_index=0, end_sample_index=len(t)))).iloc[:,:32]\n",
        "\n",
        "#canal com o melhor sinal p representar cada região\n",
        "# PRL_pre = signal.filtfilt(b, a, data_pre.iloc[:,30]) #selecionando todas as linhas do canal 30\n",
        "# CG1_pre = signal.filtfilt(b, a, data_pre.iloc[:,9])\n"
      ]
    },
    {
      "cell_type": "code",
      "execution_count": null,
      "metadata": {
        "id": "-x8VHd5-EBpd"
      },
      "outputs": [],
      "source": [
        "data_PRL = pd.DataFrame(session_pre.continuous[0].get_samples(start_sample_index=0, end_sample_index=len(t_pre))).iloc[:,30]\n",
        "PRL_pre = signal.filtfilt(b, a, data_PRL)\n",
        "\n",
        "\n",
        "OF_parado = []\n",
        "for i in indices_parado:\n",
        "  OF_parado.append(data_PRL[i])\n",
        "\n",
        "f, p = welch(OF_parado, fs=1000, nperseg=1000, noverlap = (0.5*1000), nfft=10000)\n",
        "# p = p/np.mean(p)\n",
        "mean_power = mean_power = np.mean(p)*f\n",
        "error_power = (np.std(p)*f)"
      ]
    },
    {
      "cell_type": "code",
      "execution_count": null,
      "metadata": {
        "id": "wx2nojoiaUFr"
      },
      "outputs": [],
      "source": [
        "plt.plot(f,mean_power,linewidth = 1.5, color = 'black', label = 'LFP power')\n",
        "# plt.fill_between(f,mean_power-2*error_power,mean_power+2*error_power,color = 'black',alpha = 0.3,edgecolor=None)\n",
        "# plt.grid(color='grey', linestyle='--', linewidth=1 ,alpha = 0.3, axis = 'both', which = 'both')\n",
        "# plt.xscale('log')\n",
        "# plt.xlim([0.5,300])\n",
        "# plt.ylim([10e2,0.7e5])\n",
        "plt.ylabel('Whitened Power')\n",
        "plt.xlabel('Frequency(Hz)')"
      ]
    },
    {
      "cell_type": "markdown",
      "metadata": {
        "id": "J0BOJGLdU_HX"
      },
      "source": [
        ". Specifically, we employed a 1 s moving window with half a window overlap, setting the numerical frequency resolution to 0.1 Hz (by setting the nfft parameter to 10 times the sampling rate)."
      ]
    },
    {
      "cell_type": "code",
      "execution_count": null,
      "metadata": {
        "id": "UOHxY_lKObBc"
      },
      "outputs": [],
      "source": [
        "plt.plot(f, 10*np.log10(p))\n",
        "plt.xlim(0,12)\n",
        "plt.ylim(0,30)"
      ]
    },
    {
      "cell_type": "code",
      "execution_count": null,
      "metadata": {
        "id": "W-jeGcZTFb7F"
      },
      "outputs": [],
      "source": [
        "df = pd.DataFrame({'data_welch': p})\n",
        "df['freq'] = f\n",
        "df['cond'] = 'OF_pre'\n",
        "df['animal'] = 'CCM497'\n",
        "df['regiao'] = 'PRL'"
      ]
    },
    {
      "cell_type": "code",
      "execution_count": null,
      "metadata": {
        "id": "p4uW52BlHwhH"
      },
      "outputs": [],
      "source": [
        "df"
      ]
    },
    {
      "cell_type": "code",
      "execution_count": null,
      "metadata": {
        "id": "UvWXqfCLF2wa"
      },
      "outputs": [],
      "source": [
        "plt.plot(f, df['data_welch'])\n",
        "plt.xlim(0,12)\n"
      ]
    },
    {
      "cell_type": "code",
      "execution_count": null,
      "metadata": {
        "id": "afLvV4HwGPD1"
      },
      "outputs": [],
      "source": [
        "frq = df[(df['freq'] >= 4) & (df['freq'] <= 12)]['freq']\n",
        "pot = df[(df['freq'] >= 4) & (df['freq'] <= 12)]['data_welch']\n",
        "\n",
        "plt.plot(frq, 10**((10*np.log10(pot))/10))\n",
        "\n",
        "# plt.xlim(0,50)"
      ]
    },
    {
      "cell_type": "code",
      "execution_count": null,
      "metadata": {
        "id": "ci0EIttyR0Zj"
      },
      "outputs": [],
      "source": [
        "10**((10*np.log10(5))/10)"
      ]
    },
    {
      "cell_type": "code",
      "execution_count": null,
      "metadata": {
        "id": "7yY922MLGFmi"
      },
      "outputs": [],
      "source": [
        "def tempo_para_pontos(tempo):\n",
        "    minutos, segundos = map(int, tempo.split(':'))\n",
        "    total_segundos = minutos * 60 + segundos\n",
        "    pontos = total_segundos * 1000\n",
        "    return pontos"
      ]
    },
    {
      "cell_type": "code",
      "execution_count": null,
      "metadata": {
        "id": "g0EUp2aWGH6G"
      },
      "outputs": [],
      "source": [
        "print(tempo_para_pontos('4:21'))\n",
        "print(tempo_para_pontos('4:28'))"
      ]
    },
    {
      "cell_type": "code",
      "execution_count": null,
      "metadata": {
        "id": "DaJGVF6W-7X-"
      },
      "outputs": [],
      "source": [
        "plt.plot( media_movel [0:600000] )\n",
        "plt.xlim(176556,178556)\n",
        "plt.axvline(x=177556, color='r', linestyle='--')\n",
        "# plt.axvline(x=268000, color='r', linestyle='--')\n",
        "plt.axhline(y=0.1, color='r', linestyle='--')"
      ]
    },
    {
      "cell_type": "code",
      "execution_count": null,
      "metadata": {
        "id": "wMfAONDEYsXs"
      },
      "outputs": [],
      "source": [
        "df = pd.DataFrame({'data_filt': PRL_pre})\n",
        "df['cond'] = 'OF_pre'\n",
        "df['animal'] = 'CCM497'\n",
        "df['regiao'] = 'PRL'"
      ]
    },
    {
      "cell_type": "code",
      "execution_count": null,
      "metadata": {
        "id": "2MxLi3c3P1bX"
      },
      "outputs": [],
      "source": [
        "analytic_signal = hilbert(OF_parado)\n",
        "\n",
        "# Get the amplitude and phase components\n",
        "amplitude_envelope = np.abs(analytic_signal)\n",
        "instantaneous_phase = np.angle(analytic_signal)"
      ]
    },
    {
      "cell_type": "code",
      "execution_count": null,
      "metadata": {
        "id": "i3BsPXCC2PDv"
      },
      "outputs": [],
      "source": [
        "\n",
        "# for index,key in enumerate(condicao): # a funcao enumerate retorna o incice e o valor, aqui nesse caso eu vou usar só o valor que é uma key do meu dicionario 'condicao'\n",
        "#   f, p = welch(condicao[key], fs=1000, nperseg=1000, noverlap = 900)\n",
        "#   p = p/np.mean(p)\n",
        "\n",
        "#   df_temp = pd.DataFrame({'freq':f,'pot':p[0]}) #criando um df temporário com as freq e pot\n",
        "#   df_temp['cond'] = key #adicionando ao df uma coluna com a condicao do exp\n",
        "\n",
        "#   if index == 0: # aqui estou criando pela primeira vez o df, ele será atualizado no else\n",
        "#     df_final = df_temp\n",
        "#   else:\n",
        "#     df_final = pd.concat([df_final, df_temp], ignore_index=True) #todos os proximos rounds o df temporario vai ser atualizado e concatenado no df final\n",
        "\n",
        "# df_final"
      ]
    },
    {
      "cell_type": "markdown",
      "metadata": {
        "id": "tGLhMppi5NdV"
      },
      "source": [
        "## Como acessar elementos de um DataFrame:"
      ]
    },
    {
      "cell_type": "code",
      "execution_count": null,
      "metadata": {
        "id": "WorOa04P6EJa"
      },
      "outputs": [],
      "source": [
        "df_final['pot']"
      ]
    },
    {
      "cell_type": "code",
      "execution_count": null,
      "metadata": {
        "id": "_LYAMTW6xykO"
      },
      "outputs": [],
      "source": [
        "df_final['pot'].plot()"
      ]
    },
    {
      "cell_type": "code",
      "execution_count": null,
      "metadata": {
        "id": "kTdD_jYN6n55"
      },
      "outputs": [],
      "source": [
        "df_final.iloc[0:501,1].plot()"
      ]
    },
    {
      "cell_type": "code",
      "execution_count": null,
      "metadata": {
        "id": "ur_lr1Wx6GvN"
      },
      "outputs": [],
      "source": [
        "df_final.iloc[0] # iloc acessa indices numericos do df, o primeiro item são as LINHAS, o segundo são as COLUNAS"
      ]
    },
    {
      "cell_type": "code",
      "execution_count": null,
      "metadata": {
        "id": "uocFVOb57iEG"
      },
      "outputs": [],
      "source": [
        "df_final.loc[:,'cond']"
      ]
    },
    {
      "cell_type": "code",
      "execution_count": null,
      "metadata": {
        "id": "TznXicVXzz_W"
      },
      "outputs": [],
      "source": [
        "df['cond'] = 'PRL_pre' # com essa linha estou criando uma coluna em que a condicao se repete"
      ]
    },
    {
      "cell_type": "markdown",
      "metadata": {
        "id": "-bcpBFJQ8Wye"
      },
      "source": [
        "## Como filtrar um DataFrame:"
      ]
    },
    {
      "cell_type": "code",
      "execution_count": null,
      "metadata": {
        "id": "UxAGeBVA9QSD"
      },
      "outputs": [],
      "source": [
        "(df_final['cond'] == 'PRL_pre').mean() # fazendo a media vc terá a proporcao desse elemento dentro do df\n",
        "\n",
        "(df_final['cond'] == 'PRL_pre').sum() # ao somar vc conta quantos elementos correspondem a essa condicao"
      ]
    },
    {
      "cell_type": "code",
      "execution_count": null,
      "metadata": {
        "id": "cgl82vhT8zQ2"
      },
      "outputs": [],
      "source": [
        "df_final['cond'] == 'PRL_pre' #criando uma mascara booleana, ela servirá de índice para o seu df, o resultado vai mostrar só as condiçoes que estão dentro desse indice"
      ]
    },
    {
      "cell_type": "code",
      "execution_count": null,
      "metadata": {
        "id": "iZ8SQJxO9xnP"
      },
      "outputs": [],
      "source": [
        "df_final[df_final['cond'] == 'PRL_pre'] # assim esta indexando o df com uma mascara booleana, ira resultar apenas nas partes que correspondem a condicao q esta dentro do []"
      ]
    },
    {
      "cell_type": "code",
      "execution_count": null,
      "metadata": {
        "id": "-yZIA5h__dl4"
      },
      "outputs": [],
      "source": [
        "PSD_PRE = df_final.query(' (12 >= freq >= 4) and (cond == \"PRL_pre\") ') #esse query vc cria condiçoes que vai querer filtrar o df"
      ]
    },
    {
      "cell_type": "code",
      "execution_count": null,
      "metadata": {
        "id": "hVx_SG5q-R0_"
      },
      "outputs": [],
      "source": [
        "plt.plot(df_final[ (df_final['freq'] >= 4) & (df_final['freq'] <= 12) & (df_final['cond'] == 'PRL_pre')]['freq'],df_final[ (df_final['freq'] >= 4) & (df_final['freq'] <= 12) & (df_final['cond'] == 'PRL_pre')]['pot'], label = 'theta PRL_pre')\n",
        "plt.plot(df_final[ (df_final['freq'] >= 4) & (df_final['freq'] <= 12) & (df_final['cond'] == 'PRL_pos')]['freq'],df_final[ (df_final['freq'] >= 4) & (df_final['freq'] <= 12) & (df_final['cond'] == 'PRL_pos')]['pot'], label = 'theta PRL_pos')\n",
        "plt.legend()"
      ]
    },
    {
      "cell_type": "code",
      "execution_count": null,
      "metadata": {
        "id": "n9So50eICM2N"
      },
      "outputs": [],
      "source": [
        "df_final.groupby(['cond'], as_index = False)['pot'].agg({'mean_p':np.mean, 'SE':sp.stats.sem})"
      ]
    },
    {
      "cell_type": "markdown",
      "metadata": {
        "id": "JXDFnS3L-6FU"
      },
      "source": []
    },
    {
      "cell_type": "code",
      "execution_count": null,
      "metadata": {
        "id": "lsBj9ZcgqZn9"
      },
      "outputs": [],
      "source": [
        "\n",
        "\n",
        "for i in range(len(condicao)):\n",
        "    key, value = list(condicao.items())[i]\n",
        "    plt.plot(f, 10**(10*np.log10(potencia[i].transpose())/10), label = str(key))\n",
        "    plt.xlim(0, 20)\n",
        "plt.title('PSD before and after Screening session')\n",
        "plt.legend()\n",
        "\n",
        "\n",
        "\n",
        "\n",
        "\n",
        "  # for i in range(len(condicao)):\n",
        "  #   for condicao in condicao:\n",
        "  #     plt.plot(f, 10**(10*np.log10(potencia[i].transpose())/10) , label = condicao)\n",
        "  #     plt.legend()\n",
        "  #     plt.xlim(0,20)"
      ]
    },
    {
      "cell_type": "code",
      "execution_count": null,
      "metadata": {
        "id": "X9_i-gyMgjW-"
      },
      "outputs": [],
      "source": [
        "f, p = welch(PRL_pre, fs=1000, nperseg=1000, noverlap = 900)\n",
        "p = p/np.mean(p)\n",
        "sdmn_pre = sp.stats.sem(p)\n",
        "\n",
        "\n",
        "\n",
        "\n",
        "plt.plot(f, 10**(10*np.log10(p.transpose())/10) , label='PSD pre-screening')\n",
        "\n",
        "\n",
        "\n",
        "plt.xlim(0,20)\n",
        "plt.title('PRL pré-screening')"
      ]
    },
    {
      "cell_type": "code",
      "execution_count": null,
      "metadata": {
        "id": "Oiz_p5M675bU"
      },
      "outputs": [],
      "source": [
        "f, p = welch(PRL_pos, fs=1000, nperseg=1000, noverlap = 900)\n",
        "p = p/np.mean(p)\n",
        "sdmn_pre = sp.stats.sem(p)\n",
        "\n",
        "\n",
        "\n",
        "\n",
        "plt.plot(f, 10**(10*np.log10(p.transpose())/10) , label='PSD pre-screening')\n",
        "\n",
        "\n",
        "\n",
        "plt.xlim(0,20)\n",
        "plt.title('PRL pos-screening')\n",
        "\n",
        "\n",
        "\n"
      ]
    },
    {
      "cell_type": "code",
      "execution_count": null,
      "metadata": {
        "id": "jho2PGPQAdho"
      },
      "outputs": [],
      "source": [
        "f, p = welch(CG1_pre, fs=1000, nperseg=1000, noverlap = 900)\n",
        "p = p/np.mean(p)\n",
        "sdmn_pre = sp.stats.sem(p)\n",
        "\n",
        "\n",
        "\n",
        "\n",
        "plt.plot(f, 10**(10*np.log10(p.transpose())/10) , label='PSD pre-screening')\n",
        "\n",
        "\n",
        "\n",
        "plt.xlim(0,20)\n",
        "plt.title('CG1 pré-screening')\n"
      ]
    },
    {
      "cell_type": "code",
      "execution_count": null,
      "metadata": {
        "id": "JPli0c46AnK-"
      },
      "outputs": [],
      "source": [
        "f, p = welch(CG1_pos, fs=1000, nperseg=1000, noverlap = 900)\n",
        "p = p/np.mean(p)\n",
        "sdmn_pre = sp.stats.sem(p)\n",
        "\n",
        "\n",
        "\n",
        "\n",
        "plt.plot(f, 10**(10*np.log10(p.transpose())/10) , label='PSD pre-screening')\n",
        "\n",
        "\n",
        "\n",
        "plt.xlim(0,20)\n",
        "plt.title('CG1 pos-screening')\n"
      ]
    },
    {
      "cell_type": "code",
      "execution_count": null,
      "metadata": {
        "id": "c5uwK-AUEJ2x"
      },
      "outputs": [],
      "source": [
        "pip install statsmodels\n",
        "\n",
        "before = media_pre\n",
        "after = media_pos\n",
        "statistic, p_value = wilcoxon(before, after)\n",
        "# Print the test statistic and p-value\n",
        "print(\"Wilcoxon signed-rank test statistic:\", statistic)\n",
        "print(\"P-value:\", p_value)"
      ]
    },
    {
      "cell_type": "markdown",
      "metadata": {
        "id": "AOaFBkB85lrn"
      },
      "source": [
        "> # TETRODO7: CH3"
      ]
    },
    {
      "cell_type": "code",
      "execution_count": null,
      "metadata": {
        "id": "Eh6nUccJD95p"
      },
      "outputs": [],
      "source": [
        "f, p = welch(lista_filt_pre[2], fs=1000, nperseg=1000, noverlap = 900)\n",
        "f2, p2 = welch(lista_filt_pos[2], fs=1000, nperseg=1000, noverlap = 900)\n",
        "\n",
        "sdmn_dpre = sp.stats.sem(p)\n",
        "sdmn_pos = sp.stats.sem(p2)\n",
        "\n",
        "figura = plt.figure(figsize=(10,5))\n",
        "figura.suptitle('PSD, OF pre e pós sessão de screening + 4*SD', fontweight =\"bold\")\n",
        "\n",
        "figura.add_subplot(121)\n",
        "plt.plot(f, p.transpose())\n",
        "plt.fill_between(f,p.transpose(),  p.transpose() + 4*sdmn_dpre, color = 'lightblue')\n",
        "plt.fill_between(f,p.transpose(),  p.transpose() - 4*sdmn_dpre, color = 'lightblue' )\n",
        "plt.title('PSD OF pré-Screening', fontweight =\"bold\")\n",
        "plt.xlim(0,20)\n",
        "\n",
        "figura.add_subplot(122)\n",
        "plt.plot(f2, p2.transpose())\n",
        "plt.fill_between(f2,p2.transpose(),  p2.transpose() + 4*sdmn_dpre, color = 'lightblue')\n",
        "plt.fill_between(f2,p2.transpose(),  p2.transpose() - 4*sdmn_dpre, color = 'lightblue' )\n",
        "plt.title('PSD OF pós-Screening', fontweight =\"bold\")\n",
        "plt.xlim(0,20)\n"
      ]
    },
    {
      "cell_type": "code",
      "execution_count": null,
      "metadata": {
        "id": "nyeiq30xGXdS"
      },
      "outputs": [],
      "source": [
        "f, p = welch(lista_filt_pre[2], fs=1000, nperseg=1000, noverlap = 900)\n",
        "f2, p2 = welch(lista_filt_pos[2], fs=1000, nperseg=1000, noverlap = 900)\n",
        "\n",
        "sdmn_dpre = sp.stats.sem(p)\n",
        "sdmn_pos = sp.stats.sem(p2)\n",
        "\n",
        "figura = plt.figure(figsize=(10,5))\n",
        "figura.suptitle('PSD normalizado, OF pre e pós sessão de screening', fontweight =\"bold\")\n",
        "\n",
        "figura.add_subplot(121)\n",
        "plt.plot(f, 10*np.log10(p.transpose()))\n",
        "plt.title('PSD OF pré-Screening', fontweight =\"bold\")\n",
        "plt.xlim(0,20)\n",
        "plt.ylim(0,30)\n",
        "figura.add_subplot(122)\n",
        "plt.plot(f2, 10*np.log10(p2.transpose()))\n",
        "plt.title('PSD OF pós-Screening', fontweight =\"bold\")\n",
        "plt.xlim(0,20)\n",
        "plt.ylim(0,30)"
      ]
    },
    {
      "cell_type": "code",
      "execution_count": null,
      "metadata": {
        "id": "eK3j7iTtH6sR"
      },
      "outputs": [],
      "source": [
        "print(len(lista_filt_pre[2]))"
      ]
    },
    {
      "cell_type": "code",
      "execution_count": null,
      "metadata": {
        "id": "gqRCkMPqHouu"
      },
      "outputs": [],
      "source": [
        "pre = lista_filt_pre[2]\n",
        "pos = lista_filt_pos[2]\n",
        "\n",
        "sx = np.concatenate([pre, pos])\n",
        "\n",
        "f, t, Sxx = spectrogram(sx, fs=1000, nperseg=1000, noverlap=int(0.9*1000))\n",
        "plt.pcolormesh(t, f, Sxx, cmap='turbo')\n",
        "plt.ylim(0,30)\n",
        "# plt.xlim(0,50)\n",
        "plt.title( 'OF pré e pós sessão de screening ', fontweight =\"bold\" )\n",
        "plt.axvline(x=92, color = 'white', linestyle = '--')\n",
        "plt.xlabel('t(s)')\n",
        "plt.ylabel('Frequências')\n",
        "plt.colorbar()"
      ]
    },
    {
      "cell_type": "code",
      "execution_count": null,
      "metadata": {
        "id": "LJgFgoaz7Fp4"
      },
      "outputs": [],
      "source": [
        "# FILTRANDO DELTA E THETA\n",
        "window = signal.windows.hamming(1000)\n",
        "filt_theta = firwin(300, [4,8], pass_zero='bandpass', window='hamming',  fs=1000)\n",
        "\n",
        "media_theta_alltrials = (np.sum(lista_CS[2], axis=0))/30\n",
        "theta = filtfilt(filt_theta, 1, media_theta_alltrials)\n",
        "\n",
        "theta_pre = theta[0:2000]\n",
        "theta_pos = theta[2000:4000]\n",
        "\n",
        "\n",
        "f_pre, p_pre = welch(theta_pre, fs=1000, nperseg=1000, noverlap=int(0.9*1000))\n",
        "sdmn_pre = sp.stats.sem(p_pre)\n",
        "\n",
        "\n",
        "f_pos, p_pos = welch(theta_pos, fs=1000, nperseg=1000, noverlap=int(0.9*1000))\n",
        "sdmn_pos = sp.stats.sem(p_pos)"
      ]
    },
    {
      "cell_type": "code",
      "execution_count": null,
      "metadata": {
        "id": "Kj2ivmtNIM3E"
      },
      "outputs": [],
      "source": [
        "figura = plt.figure(figsize=(10,5))\n",
        "figura.suptitle('THETA pré e pós screening, +- 4*SD', fontweight =\"bold\")\n",
        "\n",
        "figura.add_subplot(121)\n",
        "plt.plot(f_pre,p_pre.transpose(), linewidth=1, color='k')\n",
        "plt.fill_between(f_pre,p_pre.transpose(),  p_pre.transpose() + 4*sdmn_pre, color = 'lightblue')\n",
        "plt.fill_between(f_pre,p_pre.transpose(),  p_pre.transpose() - 4*sdmn_pre, color = 'lightblue' )\n",
        "plt.title('Power de theta OF pré screening',fontweight =\"bold\")\n",
        "plt.xlim(0,12)\n",
        "plt.xlabel('Frequencia (Hz)')\n",
        "plt.ylabel('Power')\n",
        "\n",
        "figura.add_subplot(122)\n",
        "plt.plot(f_pos,p_pos.transpose(), linewidth=1, color='k')\n",
        "plt.fill_between(f_pos,p_pos.transpose(),  p_pos.transpose() + 4*sdmn_pos , color = 'lightblue')\n",
        "plt.fill_between(f_pos,p_pos.transpose(),  p_pos.transpose() - 4*sdmn_pos, color = 'lightblue' )\n",
        "plt.title('Power de theta OF pós screening', fontweight =\"bold\")\n",
        "plt.xlim(0,12)\n",
        "plt.xlabel('Frequencia (Hz)')\n",
        "plt.ylabel('Power')\n"
      ]
    },
    {
      "cell_type": "code",
      "execution_count": null,
      "metadata": {
        "id": "uAnZA_89zhDe"
      },
      "outputs": [],
      "source": [
        "filt_delta = firwin(300, [0.1,4], pass_zero='bandpass', window='hamming',  fs=1000)\n",
        "\n",
        "media_delta_alltrials = (np.sum(lista_CS[2], axis=0))/30\n",
        "delta = filtfilt(filt_delta, 1, media_delta_alltrials)\n",
        "\n",
        "delta_pre = delta[0:2000]\n",
        "delta_pos = delta[2000:4000]\n",
        "\n",
        "fd_pre, pd_pre = welch(delta_pre, fs=1000, nperseg=1000, noverlap=int(0.9*1000))\n",
        "sdmn_dpre = sp.stats.sem(pd_pre)\n",
        "\n",
        "fd_pos, pd_pos = welch(delta_pos, fs=1000, nperseg=1000, noverlap=int(0.9*1000))\n",
        "sdmn_dpos = sp.stats.sem(pd_pos)"
      ]
    },
    {
      "cell_type": "code",
      "execution_count": null,
      "metadata": {
        "id": "ynBwnYrP1JlY"
      },
      "outputs": [],
      "source": [
        "figura = plt.figure(figsize=(10,5))\n",
        "figura.suptitle('DELTA Média dos 30 trials, +- 4*SD', fontweight =\"bold\")\n",
        "\n",
        "figura.add_subplot(121)\n",
        "plt.plot(fd_pre,pd_pre.transpose(), linewidth=1, color='k')\n",
        "plt.fill_between(fd_pre,pd_pre.transpose(),  pd_pre.transpose() + 4*sdmn_dpre, color = 'lightblue')\n",
        "plt.fill_between(fd_pre,pd_pre.transpose(),  pd_pre.transpose() - 4*sdmn_dpre, color = 'lightblue' )\n",
        "plt.title('Power de delta PRE-CS',fontweight =\"bold\")\n",
        "plt.xlim(0,12)\n",
        "plt.xlabel('Frequencia (Hz)')\n",
        "plt.ylabel('Power')\n",
        "\n",
        "figura.add_subplot(122)\n",
        "plt.plot(fd_pos,pd_pos.transpose(), linewidth=1, color='k')\n",
        "plt.fill_between(fd_pos,pd_pos.transpose(),  pd_pos.transpose() + 4*sdmn_dpos , color = 'lightblue')\n",
        "plt.fill_between(fd_pos,pd_pos.transpose(),  pd_pos.transpose() - 4*sdmn_dpos, color = 'lightblue' )\n",
        "plt.title('Power de delta POS-CS', fontweight =\"bold\")\n",
        "plt.xlim(0,12)\n",
        "plt.xlabel('Frequencia (Hz)')\n",
        "plt.ylabel('Power')"
      ]
    },
    {
      "cell_type": "markdown",
      "metadata": {
        "id": "wM-KPwOZ45bN"
      },
      "source": [
        "* fazendo o PSD do trial 29, ele teve um espectrograma interessante"
      ]
    },
    {
      "cell_type": "code",
      "execution_count": null,
      "metadata": {
        "id": "8HK94oJt4qp2"
      },
      "outputs": [],
      "source": [
        "theta = filtfilt(filt_theta, 1, lista_CS[2][28])\n",
        "\n",
        "theta_pre = theta[0:2000]\n",
        "theta_pos = theta[2000:4000]\n",
        "\n",
        "\n",
        "f_pre, p_pre = welch(theta_pre, fs=1000, nperseg=1000, noverlap=int(0.9*1000))\n",
        "sdmn_pre = sp.stats.sem(p_pre)\n",
        "\n",
        "\n",
        "f_pos, p_pos = welch(theta_pos, fs=1000, nperseg=1000, noverlap=int(0.9*1000))\n",
        "sdmn_pos = sp.stats.sem(p_pos)\n"
      ]
    },
    {
      "cell_type": "code",
      "execution_count": null,
      "metadata": {
        "id": "uzZlzwtW44Y4"
      },
      "outputs": [],
      "source": [
        "figura = plt.figure(figsize=(10,5))\n",
        "figura.suptitle('THETA trial 29, +- 4*SD', fontweight =\"bold\")\n",
        "\n",
        "figura.add_subplot(121)\n",
        "plt.plot(f_pre,p_pre.transpose(), linewidth=1, color='k')\n",
        "plt.fill_between(f_pre,p_pre.transpose(),  p_pre.transpose() + 4*sdmn_pre, color = 'lightblue')\n",
        "plt.fill_between(f_pre,p_pre.transpose(),  p_pre.transpose() - 4*sdmn_pre, color = 'lightblue' )\n",
        "plt.title('Power de theta PRE-CS',fontweight =\"bold\")\n",
        "plt.xlim(2,12)\n",
        "plt.xlabel('Frequencia (Hz)')\n",
        "plt.ylabel('Power')\n",
        "\n",
        "figura.add_subplot(122)\n",
        "plt.plot(f_pos,p_pos.transpose(), linewidth=1, color='k')\n",
        "plt.fill_between(f_pos,p_pos.transpose(),  p_pos.transpose() + 4*sdmn_pos , color = 'lightblue')\n",
        "plt.fill_between(f_pos,p_pos.transpose(),  p_pos.transpose() - 4*sdmn_pos, color = 'lightblue' )\n",
        "plt.title('Power de theta POS-CS', fontweight =\"bold\")\n",
        "plt.xlim(2,12)\n",
        "plt.xlabel('Frequencia (Hz)')\n",
        "plt.ylabel('Power')\n"
      ]
    },
    {
      "cell_type": "markdown",
      "metadata": {
        "id": "fPVCbYZ65WV5"
      },
      "source": [
        "* estou achando estranho pq o espectrograma não está mostrando esse power todo em 6HZ! ?????????"
      ]
    },
    {
      "cell_type": "code",
      "execution_count": null,
      "metadata": {
        "id": "N5It_Oeq5M00"
      },
      "outputs": [],
      "source": [
        "filt_delta = firwin(300, [0.1,4], pass_zero='bandpass', window='hamming',  fs=1000)\n",
        "\n",
        "\n",
        "delta = filtfilt(filt_delta, 1, lista_CS[2][28] )\n",
        "\n",
        "delta_pre = delta[0:2000]\n",
        "delta_pos = delta[2000:4000]\n",
        "\n",
        "fd_pre, pd_pre = welch(delta_pre, fs=1000, nperseg=1000, noverlap=int(0.9*1000))\n",
        "sdmn_dpre = sp.stats.sem(pd_pre)\n",
        "\n",
        "fd_pos, pd_pos = welch(delta_pos, fs=1000, nperseg=1000, noverlap=int(0.9*1000))\n",
        "sdmn_dpos = sp.stats.sem(pd_pos)"
      ]
    },
    {
      "cell_type": "code",
      "execution_count": null,
      "metadata": {
        "id": "npXrkNyc6fCB"
      },
      "outputs": [],
      "source": [
        "figura = plt.figure(figsize=(10,5))\n",
        "figura.suptitle('DELTA trial 29, +- 2*SD', fontweight =\"bold\")\n",
        "\n",
        "figura.add_subplot(121)\n",
        "plt.plot(fd_pre,pd_pre.transpose(), linewidth=1, color='k')\n",
        "plt.fill_between(fd_pre,pd_pre.transpose(),  pd_pre.transpose() + 2*sdmn_dpre, color = 'lightblue')\n",
        "plt.fill_between(fd_pre,pd_pre.transpose(),  pd_pre.transpose() - 2*sdmn_dpre, color = 'lightblue' )\n",
        "plt.title('Power de delta PRE-CS',fontweight =\"bold\")\n",
        "plt.xlim(0,12)\n",
        "plt.xlabel('Frequencia (Hz)')\n",
        "plt.ylabel('Power')\n",
        "\n",
        "figura.add_subplot(122)\n",
        "plt.plot(fd_pos,pd_pos.transpose(), linewidth=1, color='k')\n",
        "plt.fill_between(fd_pos,pd_pos.transpose(),  pd_pos.transpose() + 2*sdmn_dpos , color = 'lightblue')\n",
        "plt.fill_between(fd_pos,pd_pos.transpose(),  pd_pos.transpose() - 2*sdmn_dpos, color = 'lightblue' )\n",
        "plt.title('Power de delta POS-CS', fontweight =\"bold\")\n",
        "plt.xlim(0,12)\n",
        "plt.xlabel('Frequencia (Hz)')\n",
        "plt.ylabel('Power')"
      ]
    },
    {
      "cell_type": "code",
      "execution_count": null,
      "metadata": {
        "id": "yf1vSLCd6fl6"
      },
      "outputs": [],
      "source": [
        "figura = plt.figure(figsize=(10,5))\n",
        "figura.suptitle('NORMALIZED THETA trial 29, +- 2*SD', fontweight =\"bold\")\n",
        "\n",
        "figura.add_subplot(121)\n",
        "plt.plot(f_pre,10*np.log10(p_pre.transpose()), linewidth=1, color='k')\n",
        "plt.fill_between(f_pre,10*np.log10(p_pre.transpose()),  10*np.log10(p_pre.transpose()) + 2*sdmn_pre, color = 'lightblue')\n",
        "plt.fill_between(f_pre,10*np.log10(p_pre.transpose()),  10*np.log10(p_pre.transpose()) - 2*sdmn_pre, color = 'lightblue' )\n",
        "plt.title('Power de theta PRE-CS',fontweight =\"bold\")\n",
        "plt.ylim(0,30)\n",
        "plt.xlim(2,12)\n",
        "plt.xlabel('Frequencia (Hz)')\n",
        "plt.ylabel('Power')\n",
        "\n",
        "figura.add_subplot(122)\n",
        "plt.plot(f_pos,10*np.log10(p_pos.transpose()), linewidth=1, color='k')\n",
        "plt.fill_between(f_pos,10*np.log10(p_pos.transpose()), 10*np.log10(p_pos.transpose())+ 2*sdmn_pos , color = 'lightblue')\n",
        "plt.fill_between(f_pos,10*np.log10(p_pos.transpose()), 10*np.log10(p_pos.transpose()) - 2*sdmn_pos, color = 'lightblue' )\n",
        "plt.title('Power de theta POS-CS', fontweight =\"bold\")\n",
        "plt.xlim(2,12)\n",
        "plt.ylim(0,30)\n",
        "plt.xlabel('Frequencia (Hz)')\n",
        "plt.ylabel('Power')"
      ]
    },
    {
      "cell_type": "code",
      "execution_count": null,
      "metadata": {
        "id": "Hi5gtFn6-4w0"
      },
      "outputs": [],
      "source": [
        "figura = plt.figure(figsize=(10,5))\n",
        "figura.suptitle('NORMALIZED DELTA trial 29, +- 2*SD', fontweight =\"bold\")\n",
        "\n",
        "figura.add_subplot(121)\n",
        "plt.plot(fd_pre,10*np.log10(pd_pre.transpose()), linewidth=1, color='k')\n",
        "plt.fill_between(fd_pre,10*np.log10(pd_pre.transpose()), 10*np.log10(pd_pre.transpose()) + 2*sdmn_dpre, color = 'lightblue')\n",
        "plt.fill_between(fd_pre,10*np.log10(pd_pre.transpose()), 10*np.log10(pd_pre.transpose()) - 2*sdmn_dpre, color = 'lightblue' )\n",
        "plt.title('Power de delta PRE-CS',fontweight =\"bold\")\n",
        "plt.xlim(0,12)\n",
        "plt.ylim(0,30)\n",
        "plt.xlabel('Frequencia (Hz)')\n",
        "plt.ylabel('Power')\n",
        "\n",
        "figura.add_subplot(122)\n",
        "plt.plot(fd_pos,10*np.log10(pd_pre.transpose()), linewidth=1, color='k')\n",
        "plt.fill_between(fd_pos,10*np.log10(pd_pre.transpose()), 10*np.log10(pd_pre.transpose()) + 2*sdmn_dpos , color = 'lightblue')\n",
        "plt.fill_between(fd_pos,10*np.log10(pd_pre.transpose()), 10*np.log10(pd_pre.transpose()) - 2*sdmn_dpos, color = 'lightblue' )\n",
        "plt.title('Power de delta POS-CS', fontweight =\"bold\")\n",
        "plt.xlim(0,12)\n",
        "plt.ylim(0,30)\n",
        "plt.xlabel('Frequencia (Hz)')\n",
        "plt.ylabel('Power')"
      ]
    },
    {
      "cell_type": "markdown",
      "metadata": {
        "id": "eKlnmzMiAIUG"
      },
      "source": [
        "* AO NORMALIZAR, O DELTA PARECE ESTAR MUITO PARECIDO, NÃO ENTENDI ISSO TB!!!\n",
        "\n",
        "\n",
        "\n"
      ]
    },
    {
      "cell_type": "markdown",
      "metadata": {
        "id": "AWlvUwiZnQ5A"
      },
      "source": [
        "> # US CUT"
      ]
    },
    {
      "cell_type": "code",
      "execution_count": null,
      "metadata": {
        "id": "X7DtB--ksjNt"
      },
      "outputs": [],
      "source": [
        "lista_sinais = []\n",
        "for i in range(32):\n",
        "  lista_sinais.append(data[:,[i]])\n",
        "\n",
        "\n",
        "#lista do valor máximo de cada canal\n",
        "\n",
        "lista_mean_abs = []\n",
        "for i in range(32):\n",
        "  lista_mean_abs.append(np.max(np.abs(data[:,[i]])))\n",
        "\n",
        "#definindo o threshold\n",
        "threshold = (np.max(lista_mean_abs))/5\n"
      ]
    },
    {
      "cell_type": "code",
      "execution_count": null,
      "metadata": {
        "id": "jWrzutpushIc"
      },
      "outputs": [],
      "source": [
        "shockTimestamp = np.zeros(914700)\n",
        "\n",
        "idx_shock = np.array(lista_sinais[2][:])>=threshold\n",
        "shockTimestamp[idx_shock[:,0]] = 1\n",
        "\n",
        "plt.figure(figsize=(10,5))\n",
        "plt.plot(shockTimestamp)\n",
        "# plt.xlim(20000,22000)\n"
      ]
    },
    {
      "cell_type": "code",
      "execution_count": null,
      "metadata": {
        "id": "yjW6MqiQNJC0"
      },
      "outputs": [],
      "source": [
        "intervalos=[]\n",
        "choque=0\n",
        "registrando = 0\n",
        "for i in range(0,len(shockTimestamp)):\n",
        "  if (shockTimestamp[i]==0) and (shockTimestamp[i-1]==1):\n",
        "    if(i+10000) < 913700:\n",
        "      msmbarra = False\n",
        "      for j in range(i,i+10000):\n",
        "        if(shockTimestamp[j]==1):\n",
        "          msmbarra=True\n",
        "          break\n",
        "      if msmbarra == False:\n",
        "        choque=choque+1\n",
        "        para_registrar=[]\n",
        "        for k in range(i,i+4000):\n",
        "          para_registrar.append(lista_sinais[2][k])\n",
        "        intervalos.append(para_registrar)\n",
        "    else:\n",
        "      msmbarra = False\n",
        "      for j in range(i,i+5000):\n",
        "        if(shockTimestamp[j]==1):\n",
        "          msmbarra=True\n",
        "          break\n",
        "      if msmbarra == False:\n",
        "          choque=choque+1\n",
        "          #print('queijo')\n",
        "          para_registrar=[]\n",
        "          for k in range(i,i+4000):\n",
        "            #print(k)\n",
        "            para_registrar.append(lista_sinais[2][k])\n",
        "          intervalos.append(para_registrar)"
      ]
    },
    {
      "cell_type": "code",
      "execution_count": null,
      "metadata": {
        "id": "PtEI-BtUTFcy"
      },
      "outputs": [],
      "source": [
        "intervalos"
      ]
    },
    {
      "cell_type": "code",
      "execution_count": null,
      "metadata": {
        "id": "4Y8lwYq-TKfj"
      },
      "outputs": [],
      "source": []
    }
  ],
  "metadata": {
    "colab": {
      "provenance": [],
      "include_colab_link": true
    },
    "kernelspec": {
      "display_name": "Python 3",
      "name": "python3"
    },
    "language_info": {
      "name": "python"
    }
  },
  "nbformat": 4,
  "nbformat_minor": 0
}