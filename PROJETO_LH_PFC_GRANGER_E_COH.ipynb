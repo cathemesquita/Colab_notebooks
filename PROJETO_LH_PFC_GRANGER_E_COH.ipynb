{
  "cells": [
    {
      "cell_type": "markdown",
      "metadata": {
        "id": "view-in-github",
        "colab_type": "text"
      },
      "source": [
        "<a href=\"https://colab.research.google.com/github/cathemesquita/Colab_notebooks/blob/main/PROJETO_LH_PFC_GRANGER_E_COH.ipynb\" target=\"_parent\"><img src=\"https://colab.research.google.com/assets/colab-badge.svg\" alt=\"Open In Colab\"/></a>"
      ]
    },
    {
      "cell_type": "code",
      "execution_count": null,
      "metadata": {
        "colab": {
          "base_uri": "https://localhost:8080/"
        },
        "id": "JJ_gyXm7Xjhc",
        "outputId": "2f8b2954-0b3c-4c78-81bb-4c2771febc8b"
      },
      "outputs": [
        {
          "name": "stdout",
          "output_type": "stream",
          "text": [
            "Mounted at /content/drive\n"
          ]
        }
      ],
      "source": [
        "from google.colab import drive\n",
        "drive.mount('/content/drive')"
      ]
    },
    {
      "cell_type": "markdown",
      "metadata": {
        "id": "8df3S0yL25SU"
      },
      "source": [
        "> # BIBLIOTECAS"
      ]
    },
    {
      "cell_type": "code",
      "execution_count": null,
      "metadata": {
        "id": "ApK9t2MWK5ZI"
      },
      "outputs": [],
      "source": [
        "from IPython.display import clear_output"
      ]
    },
    {
      "cell_type": "code",
      "execution_count": null,
      "metadata": {
        "colab": {
          "base_uri": "https://localhost:8080/"
        },
        "id": "RYSjS9PoXY4l",
        "outputId": "97a72673-af34-4bdb-97ff-ab0cb39a5454"
      },
      "outputs": [
        {
          "name": "stdout",
          "output_type": "stream",
          "text": [
            "Collecting open-ephys-python-tools\n",
            "  Downloading open-ephys-python-tools-0.1.7.tar.gz (381 kB)\n",
            "\u001b[2K     \u001b[90m━━━━━━━━━━━━━━━━━━━━━━━━━━━━━━━━━━━━━━━━\u001b[0m \u001b[32m381.8/381.8 kB\u001b[0m \u001b[31m3.0 MB/s\u001b[0m eta \u001b[36m0:00:00\u001b[0m\n",
            "\u001b[?25h  Installing build dependencies ... \u001b[?25l\u001b[?25hdone\n",
            "  Getting requirements to build wheel ... \u001b[?25l\u001b[?25hdone\n",
            "  Installing backend dependencies ... \u001b[?25l\u001b[?25hdone\n",
            "  Preparing metadata (pyproject.toml) ... \u001b[?25l\u001b[?25hdone\n",
            "Requirement already satisfied: numpy in /usr/local/lib/python3.10/dist-packages (from open-ephys-python-tools) (1.23.5)\n",
            "Requirement already satisfied: pandas in /usr/local/lib/python3.10/dist-packages (from open-ephys-python-tools) (1.5.3)\n",
            "Requirement already satisfied: h5py in /usr/local/lib/python3.10/dist-packages (from open-ephys-python-tools) (3.9.0)\n",
            "Collecting zmq (from open-ephys-python-tools)\n",
            "  Downloading zmq-0.0.0.zip (2.2 kB)\n",
            "  Preparing metadata (setup.py) ... \u001b[?25l\u001b[?25hdone\n",
            "Requirement already satisfied: requests in /usr/local/lib/python3.10/dist-packages (from open-ephys-python-tools) (2.31.0)\n",
            "Requirement already satisfied: python-dateutil>=2.8.1 in /usr/local/lib/python3.10/dist-packages (from pandas->open-ephys-python-tools) (2.8.2)\n",
            "Requirement already satisfied: pytz>=2020.1 in /usr/local/lib/python3.10/dist-packages (from pandas->open-ephys-python-tools) (2023.3.post1)\n",
            "Requirement already satisfied: charset-normalizer<4,>=2 in /usr/local/lib/python3.10/dist-packages (from requests->open-ephys-python-tools) (3.3.2)\n",
            "Requirement already satisfied: idna<4,>=2.5 in /usr/local/lib/python3.10/dist-packages (from requests->open-ephys-python-tools) (3.6)\n",
            "Requirement already satisfied: urllib3<3,>=1.21.1 in /usr/local/lib/python3.10/dist-packages (from requests->open-ephys-python-tools) (2.0.7)\n",
            "Requirement already satisfied: certifi>=2017.4.17 in /usr/local/lib/python3.10/dist-packages (from requests->open-ephys-python-tools) (2023.11.17)\n",
            "Requirement already satisfied: pyzmq in /usr/local/lib/python3.10/dist-packages (from zmq->open-ephys-python-tools) (23.2.1)\n",
            "Requirement already satisfied: six>=1.5 in /usr/local/lib/python3.10/dist-packages (from python-dateutil>=2.8.1->pandas->open-ephys-python-tools) (1.16.0)\n",
            "Building wheels for collected packages: open-ephys-python-tools, zmq\n",
            "  Building wheel for open-ephys-python-tools (pyproject.toml) ... \u001b[?25l\u001b[?25hdone\n",
            "  Created wheel for open-ephys-python-tools: filename=open_ephys_python_tools-0.1.7-py3-none-any.whl size=39989 sha256=809f14d44b5f24a382322d7d98135bb9b6f123f50f11f0aa19541f01501433b0\n",
            "  Stored in directory: /root/.cache/pip/wheels/99/0a/29/c0d2d399ff078b2a96c61e36a0a219a8fbb545a7acd261ce80\n",
            "  Building wheel for zmq (setup.py) ... \u001b[?25l\u001b[?25hdone\n",
            "  Created wheel for zmq: filename=zmq-0.0.0-py3-none-any.whl size=1264 sha256=aff6bd782ac4bf82c4e7ea4e232c939c5fc5bd6a9819efafcc4d00d17752c51f\n",
            "  Stored in directory: /root/.cache/pip/wheels/ab/c5/fe/d853f71843cae26c123d37a7a5934baac20fc66f35a913951d\n",
            "Successfully built open-ephys-python-tools zmq\n",
            "Installing collected packages: zmq, open-ephys-python-tools\n",
            "Successfully installed open-ephys-python-tools-0.1.7 zmq-0.0.0\n"
          ]
        }
      ],
      "source": [
        "pip install open-ephys-python-tools"
      ]
    },
    {
      "cell_type": "code",
      "execution_count": null,
      "metadata": {
        "colab": {
          "base_uri": "https://localhost:8080/"
        },
        "id": "AVX4IMkK-Jdl",
        "outputId": "9797129e-ef17-4b79-f714-9a7a1a9cb4f5"
      },
      "outputs": [
        {
          "name": "stdout",
          "output_type": "stream",
          "text": [
            "Collecting pactools\n",
            "  Downloading pactools-0.3.1-py3-none-any.whl (82 kB)\n",
            "\u001b[2K     \u001b[90m━━━━━━━━━━━━━━━━━━━━━━━━━━━━━━━━━━━━━━━━\u001b[0m \u001b[32m82.7/82.7 kB\u001b[0m \u001b[31m1.2 MB/s\u001b[0m eta \u001b[36m0:00:00\u001b[0m\n",
            "\u001b[?25hRequirement already satisfied: numpy in /usr/local/lib/python3.10/dist-packages (from pactools) (1.23.5)\n",
            "Requirement already satisfied: scipy in /usr/local/lib/python3.10/dist-packages (from pactools) (1.11.4)\n",
            "Requirement already satisfied: matplotlib in /usr/local/lib/python3.10/dist-packages (from pactools) (3.7.1)\n",
            "Requirement already satisfied: scikit-learn in /usr/local/lib/python3.10/dist-packages (from pactools) (1.2.2)\n",
            "Collecting mne (from pactools)\n",
            "  Downloading mne-1.6.1-py3-none-any.whl (8.3 MB)\n",
            "\u001b[2K     \u001b[90m━━━━━━━━━━━━━━━━━━━━━━━━━━━━━━━━━━━━━━━━\u001b[0m \u001b[32m8.3/8.3 MB\u001b[0m \u001b[31m14.6 MB/s\u001b[0m eta \u001b[36m0:00:00\u001b[0m\n",
            "\u001b[?25hRequirement already satisfied: h5py in /usr/local/lib/python3.10/dist-packages (from pactools) (3.9.0)\n",
            "Requirement already satisfied: contourpy>=1.0.1 in /usr/local/lib/python3.10/dist-packages (from matplotlib->pactools) (1.2.0)\n",
            "Requirement already satisfied: cycler>=0.10 in /usr/local/lib/python3.10/dist-packages (from matplotlib->pactools) (0.12.1)\n",
            "Requirement already satisfied: fonttools>=4.22.0 in /usr/local/lib/python3.10/dist-packages (from matplotlib->pactools) (4.47.2)\n",
            "Requirement already satisfied: kiwisolver>=1.0.1 in /usr/local/lib/python3.10/dist-packages (from matplotlib->pactools) (1.4.5)\n",
            "Requirement already satisfied: packaging>=20.0 in /usr/local/lib/python3.10/dist-packages (from matplotlib->pactools) (23.2)\n",
            "Requirement already satisfied: pillow>=6.2.0 in /usr/local/lib/python3.10/dist-packages (from matplotlib->pactools) (9.4.0)\n",
            "Requirement already satisfied: pyparsing>=2.3.1 in /usr/local/lib/python3.10/dist-packages (from matplotlib->pactools) (3.1.1)\n",
            "Requirement already satisfied: python-dateutil>=2.7 in /usr/local/lib/python3.10/dist-packages (from matplotlib->pactools) (2.8.2)\n",
            "Requirement already satisfied: tqdm in /usr/local/lib/python3.10/dist-packages (from mne->pactools) (4.66.1)\n",
            "Requirement already satisfied: pooch>=1.5 in /usr/local/lib/python3.10/dist-packages (from mne->pactools) (1.8.0)\n",
            "Requirement already satisfied: decorator in /usr/local/lib/python3.10/dist-packages (from mne->pactools) (4.4.2)\n",
            "Requirement already satisfied: jinja2 in /usr/local/lib/python3.10/dist-packages (from mne->pactools) (3.1.3)\n",
            "Requirement already satisfied: lazy-loader>=0.3 in /usr/local/lib/python3.10/dist-packages (from mne->pactools) (0.3)\n",
            "Requirement already satisfied: joblib>=1.1.1 in /usr/local/lib/python3.10/dist-packages (from scikit-learn->pactools) (1.3.2)\n",
            "Requirement already satisfied: threadpoolctl>=2.0.0 in /usr/local/lib/python3.10/dist-packages (from scikit-learn->pactools) (3.2.0)\n",
            "Requirement already satisfied: platformdirs>=2.5.0 in /usr/local/lib/python3.10/dist-packages (from pooch>=1.5->mne->pactools) (4.1.0)\n",
            "Requirement already satisfied: requests>=2.19.0 in /usr/local/lib/python3.10/dist-packages (from pooch>=1.5->mne->pactools) (2.31.0)\n",
            "Requirement already satisfied: six>=1.5 in /usr/local/lib/python3.10/dist-packages (from python-dateutil>=2.7->matplotlib->pactools) (1.16.0)\n",
            "Requirement already satisfied: MarkupSafe>=2.0 in /usr/local/lib/python3.10/dist-packages (from jinja2->mne->pactools) (2.1.3)\n",
            "Requirement already satisfied: charset-normalizer<4,>=2 in /usr/local/lib/python3.10/dist-packages (from requests>=2.19.0->pooch>=1.5->mne->pactools) (3.3.2)\n",
            "Requirement already satisfied: idna<4,>=2.5 in /usr/local/lib/python3.10/dist-packages (from requests>=2.19.0->pooch>=1.5->mne->pactools) (3.6)\n",
            "Requirement already satisfied: urllib3<3,>=1.21.1 in /usr/local/lib/python3.10/dist-packages (from requests>=2.19.0->pooch>=1.5->mne->pactools) (2.0.7)\n",
            "Requirement already satisfied: certifi>=2017.4.17 in /usr/local/lib/python3.10/dist-packages (from requests>=2.19.0->pooch>=1.5->mne->pactools) (2023.11.17)\n",
            "Installing collected packages: mne, pactools\n",
            "Successfully installed mne-1.6.1 pactools-0.3.1\n"
          ]
        }
      ],
      "source": [
        "! pip install pactools"
      ]
    },
    {
      "cell_type": "code",
      "execution_count": null,
      "metadata": {
        "colab": {
          "base_uri": "https://localhost:8080/"
        },
        "id": "DhmSG8a9Xckd",
        "outputId": "7bb99262-f048-47ee-f000-823541a76594"
      },
      "outputs": [
        {
          "name": "stderr",
          "output_type": "stream",
          "text": [
            "<frozen importlib._bootstrap>:914: ImportWarning: _PyDrive2ImportHook.find_spec() not found; falling back to find_module()\n",
            "<frozen importlib._bootstrap>:914: ImportWarning: _PyDriveImportHook.find_spec() not found; falling back to find_module()\n",
            "<frozen importlib._bootstrap>:914: ImportWarning: _GenerativeAIImportHook.find_spec() not found; falling back to find_module()\n",
            "<frozen importlib._bootstrap>:914: ImportWarning: _OpenCVImportHook.find_spec() not found; falling back to find_module()\n",
            "<frozen importlib._bootstrap>:914: ImportWarning: APICoreClientInfoImportHook.find_spec() not found; falling back to find_module()\n",
            "<frozen importlib._bootstrap>:914: ImportWarning: _BokehImportHook.find_spec() not found; falling back to find_module()\n",
            "<frozen importlib._bootstrap>:914: ImportWarning: _AltairImportHook.find_spec() not found; falling back to find_module()\n",
            "<frozen importlib._bootstrap>:914: ImportWarning: _PyDrive2ImportHook.find_spec() not found; falling back to find_module()\n",
            "<frozen importlib._bootstrap>:914: ImportWarning: _PyDriveImportHook.find_spec() not found; falling back to find_module()\n",
            "<frozen importlib._bootstrap>:914: ImportWarning: _GenerativeAIImportHook.find_spec() not found; falling back to find_module()\n",
            "<frozen importlib._bootstrap>:914: ImportWarning: _OpenCVImportHook.find_spec() not found; falling back to find_module()\n",
            "<frozen importlib._bootstrap>:914: ImportWarning: APICoreClientInfoImportHook.find_spec() not found; falling back to find_module()\n",
            "<frozen importlib._bootstrap>:914: ImportWarning: _BokehImportHook.find_spec() not found; falling back to find_module()\n",
            "<frozen importlib._bootstrap>:914: ImportWarning: _AltairImportHook.find_spec() not found; falling back to find_module()\n"
          ]
        }
      ],
      "source": [
        "from open_ephys.analysis import Session\n",
        "\n",
        "import matplotlib.pyplot as plt\n",
        "import matplotlib.gridspec as gridspec\n",
        "import matplotlib as mpl\n",
        "import numpy as np\n",
        "import pandas as pd\n",
        "\n",
        "\n",
        "from scipy import signal\n",
        "import math\n",
        "from scipy.signal import welch, spectrogram, coherence, find_peaks, firwin, lfilter, filtfilt, hilbert\n",
        "import seaborn as sn\n",
        "\n",
        "from statsmodels.tsa.stattools import grangercausalitytests\n",
        "from scipy import stats\n",
        "from scipy.stats import wilcoxon\n",
        "\n",
        "import math\n",
        "import time as ttime\n",
        "from numpy.fft import fft, ifft, rfft, fftfreq\n",
        "from scipy.signal import firwin, lfilter, filtfilt\n",
        "from scipy.io import loadmat\n",
        "\n",
        "import pactools\n",
        "from pactools import Comodulogram, REFERENCES\n",
        "\n",
        "import os\n",
        "from PIL import Image\n",
        "from scipy import signal\n",
        "\n",
        "\n",
        "\n",
        "import seaborn as sns"
      ]
    },
    {
      "cell_type": "markdown",
      "metadata": {
        "id": "OwV4ZXgr3Tdr"
      },
      "source": [
        "> # FUNÇÕES\n",
        "\n"
      ]
    },
    {
      "cell_type": "code",
      "execution_count": null,
      "metadata": {
        "id": "nm8ZofmxLCTV"
      },
      "outputs": [],
      "source": [
        "def prewiew(path):\n",
        "  load = Session(path).recordnodes[0].recordings[0]\n",
        "  t_raw= load.continuous[0].timestamps\n",
        "  t = t_raw-t_raw[0]\n",
        "\n",
        "  data = pd.DataFrame(load.continuous[0].get_samples(start_sample_index=0, end_sample_index=len(t)))\n",
        "\n",
        "  srate = 1000\n",
        "  fc_low = 45\n",
        "  fc_high = 65\n",
        "  order = 3\n",
        "  b, a = signal.butter(order, [fc_low/(0.5*srate), fc_high/(0.5*srate)], btype='bandstop')\n",
        "\n",
        "  data_filt = signal.filtfilt(b, a, data)\n",
        "\n",
        "  return (pd.DataFrame(data_filt))\n"
      ]
    },
    {
      "cell_type": "code",
      "execution_count": null,
      "metadata": {
        "id": "Joue3nnNLEkV"
      },
      "outputs": [],
      "source": [
        "def preview_plot(data):\n",
        "\n",
        "  for i in range(0,32):\n",
        "    plt.figure()\n",
        "    plt.plot(data[i])\n",
        "    plt.title('ch' + str (i+1))"
      ]
    },
    {
      "cell_type": "code",
      "execution_count": null,
      "metadata": {
        "id": "swBjfn1d-adS"
      },
      "outputs": [],
      "source": [
        "def contador_de_tempo(data_para_contar):\n",
        "  total_time = 0\n",
        "  for i in range(len(data_para_contar)):\n",
        "    total_time = total_time+ len(data_para_contar[i])/srate\n",
        "\n",
        "  return total_time"
      ]
    },
    {
      "cell_type": "code",
      "execution_count": null,
      "metadata": {
        "id": "_GMBU5LCVsEB"
      },
      "outputs": [],
      "source": [
        "# CARREGAR O DADO COMPLETO\n",
        "\n",
        "def load_data_full(path,ch_prl,ch_cg,ch_il):\n",
        "  load = Session(path).recordnodes[0].recordings[0]\n",
        "  t_raw= load.continuous[0].timestamps\n",
        "  t = t_raw-t_raw[0]\n",
        "\n",
        "  # tive que ecolher esse len pq o CCM559 tinha 30 min de dado, então padronizei p todos 10min\n",
        "  data_prl = pd.DataFrame(load.continuous[0].get_samples(start_sample_index=0, end_sample_index=len(t))).iloc[:,int(int(ch_prl)-1)]\n",
        "  data_cg = pd.DataFrame(load.continuous[0].get_samples(start_sample_index=0, end_sample_index=len(t))).iloc[:,int(int(ch_cg)-1)]\n",
        "  data_il = pd.DataFrame(load.continuous[0].get_samples(start_sample_index=0, end_sample_index=len(t))).iloc[:,int(int(ch_il)-1)]\n",
        "\n",
        "\n",
        "  srate = 1000\n",
        "  fc_low = 59\n",
        "  fc_high = 61\n",
        "  order = 5\n",
        "  b, a = signal.butter(order, [fc_low/(0.5*srate), fc_high/(0.5*srate)], btype='bandstop')\n",
        "\n",
        "  PRL = signal.filtfilt(b, a, data_prl)\n",
        "  CG = signal.filtfilt(b, a, data_cg)\n",
        "  IL = signal.filtfilt(b, a, data_il)\n",
        "\n",
        "  return(pd.DataFrame({'data_PRL': PRL,'data_CG': CG, 'data_IL': IL}))"
      ]
    },
    {
      "cell_type": "code",
      "execution_count": null,
      "metadata": {
        "id": "PftRG68sfcEy"
      },
      "outputs": [],
      "source": [
        "# CARREGAR OS DADOS DO ACELEROMETRO\n",
        "\n",
        "def load_acelerometer(path):\n",
        "    load = Session(path).recordnodes[0].recordings[0]\n",
        "    t_raw = load.continuous[0].timestamps\n",
        "    t = t_raw - t_raw[0]\n",
        "\n",
        "    x = pd.DataFrame(load.continuous[0].get_samples(start_sample_index=0, end_sample_index=len(t))).iloc[:, 32]\n",
        "    y = pd.DataFrame(load.continuous[0].get_samples(start_sample_index=0, end_sample_index=len(t))).iloc[:, 33]\n",
        "    z = pd.DataFrame(load.continuous[0].get_samples(start_sample_index=0, end_sample_index=len(t))).iloc[:, 34]\n",
        "\n",
        "    x = np.array(x)\n",
        "    y = np.array(y)\n",
        "    z = np.array(z)\n",
        "    acel = np.abs(np.sqrt(x**2 + y**2 + z**2))\n",
        "\n",
        "    df_acel = pd.DataFrame({'acel': acel})\n",
        "    df_acel['animal'] = str(rato)\n",
        "    df_acel['condicao'] = str(condicao)\n",
        "\n",
        "    return df_acel"
      ]
    },
    {
      "cell_type": "code",
      "execution_count": null,
      "metadata": {
        "id": "LFWFMxIp6yx-"
      },
      "outputs": [],
      "source": [
        "def generating_masks_parado(path,ch,regiao): #ANIMAL PARADO\n",
        "\n",
        "  load = Session(path).recordnodes[0].recordings[0]\n",
        "  t_raw= load.continuous[0].timestamps\n",
        "  t = t_raw-t_raw[0]\n",
        "\n",
        "  data = pd.DataFrame(load.continuous[0].get_samples(start_sample_index=0, end_sample_index=len(t))).iloc[:,int(int(ch)-1)]\n",
        "\n",
        "  srate = 1000\n",
        "  fc_low = 59\n",
        "  fc_high = 61\n",
        "  order = 5\n",
        "  b, a = signal.butter(order, [fc_low/(0.5*srate), fc_high/(0.5*srate)], btype='bandstop')\n",
        "\n",
        "  DATA = signal.filtfilt(b, a, data)\n",
        "\n",
        "  # Recuperando dado da acelerometria para definir momentos de atividade\n",
        "  data_acel = df_acel[(df_acel['animal'] == str(rato) ) & (df_acel['condicao'] == str(condicao))]['acel']\n",
        "\n",
        "  acel = np.array(data_acel)\n",
        "  acel = np.diff(acel, axis = 0)\n",
        "  acel = abs(pd.DataFrame(acel)).rolling(window=1000).mean()\n",
        "\n",
        "  # array booleano dizendo onde animal mexeu e não mexeu\n",
        "  parado_bool = np.array(acel <= 0.005 )\n",
        "  parado_bool = np.append(parado_bool, 0) #aqui foi adicionado um 0 pois a função diff retira um elemento do vetor, assim ele volta ao tamanho original\n",
        "\n",
        "\n",
        "  index_parado_all = []\n",
        "  for x in range(len(parado_bool)):\n",
        "      if parado_bool[x] == True:\n",
        "        index_parado_all.append(x)\n",
        "\n",
        "\n",
        "  condition = (DATA >= -400) & (DATA <= 400) #eliminando ruídos\n",
        "\n",
        "  index_sem_ruido = []\n",
        "\n",
        "  for k in range(len(condition)):\n",
        "      if condition[k] == True:\n",
        "          index_sem_ruido.append(k)\n",
        "\n",
        "  intersection = np.intersect1d(index_parado_all, index_sem_ruido) #fazendo a interseção entre condição(animal parado) e eliminação de ruídos\n",
        "\n",
        "  vector_nan = np.full(len(DATA), np.nan)\n",
        "\n",
        "  vector_nan[intersection] = DATA[intersection]\n",
        "\n",
        "\n",
        "  # Essa parte do código irá retirar pedaços muito curtos de dado (menos de 2s)\n",
        "  groups = find_consecutive_groups(vector_nan)\n",
        "\n",
        "  for start, end in groups:\n",
        "      length = end - start\n",
        "      if length < 2000:\n",
        "            vector_nan[start:end] = np.nan #transforma pedaços menores que 2s em Nan\n",
        "\n",
        "  mask = np.where(~np.isnan(vector_nan))[0] #pegando apenas os indices dos valores que não são Nan\n",
        "\n",
        "\n",
        "  return(pd.DataFrame({'MASK': mask, 'regiao': regiao}))"
      ]
    },
    {
      "cell_type": "code",
      "execution_count": null,
      "metadata": {
        "id": "BWcHhCcm6xHo"
      },
      "outputs": [],
      "source": [
        "def generating_masks_ativo(path,ch,regiao): #ANIMAL ATIVO\n",
        "\n",
        "  load = Session(path).recordnodes[0].recordings[0]\n",
        "  t_raw= load.continuous[0].timestamps\n",
        "  t = t_raw-t_raw[0]\n",
        "\n",
        "  data = pd.DataFrame(load.continuous[0].get_samples(start_sample_index=0, end_sample_index=len(t))).iloc[:,int(int(ch)-1)]\n",
        "\n",
        "  srate = 1000\n",
        "  fc_low = 59\n",
        "  fc_high = 61\n",
        "  order = 5\n",
        "  b, a = signal.butter(order, [fc_low/(0.5*srate), fc_high/(0.5*srate)], btype='bandstop')\n",
        "\n",
        "  DATA = signal.filtfilt(b, a, data)\n",
        "\n",
        "  # Recuperando dado da acelerometria para definir momentos de atividade\n",
        "  data_acel = df_acel[(df_acel['animal'] == str(rato) ) & (df_acel['condicao'] == str(condicao))]['acel']\n",
        "\n",
        "  acel = np.array(data_acel)\n",
        "  acel = np.diff(acel, axis = 0)\n",
        "  acel = abs(pd.DataFrame(acel)).rolling(window=1000).mean()\n",
        "\n",
        "  # array booleano dizendo onde animal mexeu e não mexeu\n",
        "  ativo_bool = np.array(acel >= 0.005 )\n",
        "  ativo_bool = np.append(ativo_bool, 0) #aqui foi adicionado um 0 pois a função diff retira um elemento do vetor, assim ele volta ao tamanho original\n",
        "\n",
        "\n",
        "  index_ativo_all = []\n",
        "  for x in range(len(ativo_bool)):\n",
        "      if ativo_bool[x] == True:\n",
        "        index_ativo_all.append(x)\n",
        "\n",
        "\n",
        "  condition = (DATA >= -400) & (DATA <= 400) #eliminando ruídos\n",
        "\n",
        "  index_sem_ruido = []\n",
        "\n",
        "  for k in range(len(condition)):\n",
        "      if condition[k] == True:\n",
        "          index_sem_ruido.append(k)\n",
        "\n",
        "  intersection = np.intersect1d(index_ativo_all, index_sem_ruido) #fazendo a interseção entre condição(animal parado) e eliminação de ruídos\n",
        "\n",
        "  vector_nan = np.full(len(DATA), np.nan)\n",
        "\n",
        "  vector_nan[intersection] = DATA[intersection]\n",
        "\n",
        "\n",
        "  # Essa parte do código irá retirar pedaços muito curtos de dado (menos de 2s)\n",
        "  groups = find_consecutive_groups(vector_nan)\n",
        "\n",
        "  for start, end in groups:\n",
        "      length = end - start\n",
        "      if length < 2000:\n",
        "            vector_nan[start:end] = np.nan #transforma pedaços menores que 2s em Nan\n",
        "\n",
        "  mask = np.where(~np.isnan(vector_nan))[0] #pegando apenas os indices dos valores que não são Nan\n",
        "\n",
        "\n",
        "  return(pd.DataFrame({'MASK': mask, 'regiao': regiao}))"
      ]
    },
    {
      "cell_type": "code",
      "execution_count": null,
      "metadata": {
        "id": "Pyf2yVgd6otW"
      },
      "outputs": [],
      "source": [
        "\n",
        "# Identificar os grupos de índices consecutivos não-NaN e seus comprimentos para cortar momentos de imobilidade menores que 2s\n",
        "def find_consecutive_groups(arr):\n",
        "    # Encontrar as mudanças de NaN para não-NaN e vice-versa\n",
        "    diff = np.diff(np.isnan(arr).view(np.int8))\n",
        "    idx, = diff.nonzero()\n",
        "\n",
        "    # Adicionar o índice do primeiro e último elemento\n",
        "    idx = np.r_[0, idx + 1, len(arr)]\n",
        "    idx_pairs = zip(idx[:-1], idx[1:])  # Formar pares de índices\n",
        "\n",
        "    return [(start, end) for start, end in idx_pairs if not np.isnan(arr[start])]"
      ]
    },
    {
      "cell_type": "code",
      "execution_count": null,
      "metadata": {
        "id": "4Y3zVkxO6tGY"
      },
      "outputs": [],
      "source": []
    },
    {
      "cell_type": "code",
      "execution_count": null,
      "metadata": {
        "id": "LxJTTe0GK01l"
      },
      "outputs": [],
      "source": [
        "def media_coherence(df, condicao, r1, r2):\n",
        "    filtro = (df['condicao'] == condicao) & (df['r1'] == r1) & (df['r2'] == r2)\n",
        "    media_coherence = df[filtro].groupby('indice')['coherence'].mean()\n",
        "    result_df = pd.DataFrame({'coherence': media_coherence,'r1': r1,'r2': r2,'condicao': condicao, 'regioes': str(r1)+'->'+str(r2)})\n",
        "    return (result_df)"
      ]
    },
    {
      "cell_type": "code",
      "execution_count": null,
      "metadata": {
        "id": "6GQgLGvpgMUI"
      },
      "outputs": [],
      "source": [
        "def get_psd( data_psd  ):\n",
        "\n",
        "  f, p = welch(data_psd, fs = 1000,nperseg = 1000, noverlap = int(0.9*1000), nfft = 10*1000)\n",
        "  df_psd = pd.DataFrame({'PSD': p, 'F': f})\n",
        "\n",
        "  return(df_psd )"
      ]
    },
    {
      "cell_type": "code",
      "execution_count": null,
      "metadata": {
        "id": "dFtJ1Dzs15QZ"
      },
      "outputs": [],
      "source": [
        "# Função para mapear o valor da frequencia da coerencia para o nome da banda\n",
        "def mapear_banda(valor):\n",
        "    if 0 <= valor <= 4:\n",
        "        return 'Delta'\n",
        "    elif 5 <= valor <= 10:\n",
        "        return 'Theta'\n",
        "    elif 11 <= valor <= 29:\n",
        "        return 'Alpha/beta'\n",
        "    elif 30 <= valor <= 50:\n",
        "        return 'Low gamma'\n",
        "    elif 51 <= valor <= 90:\n",
        "        return 'Mid gamma'\n",
        "    else:\n",
        "        return 'High gamma'"
      ]
    },
    {
      "cell_type": "code",
      "execution_count": null,
      "metadata": {
        "id": "63r5v9OECMKt"
      },
      "outputs": [],
      "source": [
        "def tempo_para_pontos(tempo):\n",
        "    minutos, segundos = map(int, tempo.split(':'))\n",
        "    total_segundos = minutos * 60 + segundos\n",
        "    pontos = total_segundos * 1000\n",
        "    return pontos"
      ]
    },
    {
      "cell_type": "code",
      "execution_count": null,
      "metadata": {
        "id": "-c8PtCfnCudU"
      },
      "outputs": [],
      "source": [
        "\n",
        "def eegfilt(data,srate,flow,fhigh):\n",
        "\n",
        "    # fir LS\n",
        "    trans = 0.15\n",
        "    nyq = srate*0.5\n",
        "    f=[0, (1-trans)*flow/nyq, flow/nyq, fhigh/nyq, (1+trans)*fhigh/nyq, 1]\n",
        "    m=[0,0,1,1,0,0]\n",
        "    filt_order = 3*np.fix(srate/flow)\n",
        "    if filt_order % 2 == 0:\n",
        "        filt_order = filt_order + 1\n",
        "\n",
        "    filtwts = signal.firls(filt_order,f,np.double(m))\n",
        "    data_filt = signal.filtfilt(filtwts,1, data)\n",
        "\n",
        "    return(data_filt)"
      ]
    },
    {
      "cell_type": "code",
      "execution_count": null,
      "metadata": {
        "id": "NKTpKwU8WgJZ"
      },
      "outputs": [],
      "source": [
        "#ExTRAINDO O MODULATION INDEX\n",
        "\n",
        "def modulation_index(amp,fase_lenta,numbin):\n",
        "\n",
        "    position=np.zeros(numbin) # this variable will get the beginning (not the center) of each phase bin (in rads)\n",
        "    winsize = 2*np.pi/numbin # bin de fase\n",
        "\n",
        "    position = []\n",
        "    for j in np.arange(1,numbin+1):\n",
        "        position.append(-np.pi+(j-1)*winsize)\n",
        "\n",
        "    nbin=numbin\n",
        "    mean_amp = []\n",
        "    for j in np.arange(0,nbin):\n",
        "        boolean_array = np.logical_and(fase_lenta >=  position[j], fase_lenta < position[j]+winsize)\n",
        "        I = np.where(boolean_array)[0]\n",
        "        mean_amp.append(np.mean(amp[I]))\n",
        "\n",
        "    mean_amp = [x for x in mean_amp if str(x) != 'nan']\n",
        "    p = mean_amp/np.sum(mean_amp)\n",
        "\n",
        "    entrop = -1*(np.sum(p*np.log(p)))\n",
        "    mi = (np.log(numbin)-entrop)/np.log(numbin)\n",
        "\n",
        "    return(mi)"
      ]
    },
    {
      "cell_type": "code",
      "execution_count": null,
      "metadata": {
        "id": "yJoeqOZ-42PU"
      },
      "outputs": [],
      "source": [
        "import random\n",
        "\n",
        "def generating_surrogatos(lfp,numero_surrogatos):\n",
        "    surrogatos = []\n",
        "    for i in range(numero_surrogatos):\n",
        "        split = random.randint(1, 90000)\n",
        "        surro = np.concatenate([lfp[split:], lfp[:split]])\n",
        "        surrogatos.append(surro)\n",
        "    return surrogatos"
      ]
    },
    {
      "cell_type": "code",
      "execution_count": null,
      "metadata": {
        "id": "Xica5gQMWhR-"
      },
      "outputs": [],
      "source": [
        "# ACOP FASE AMPL PARA UMA REGIÃO\n",
        "\n",
        "def pac(lfp,lentaVector,altaVector,lenta_BandWidth,alta_BandWidth,srate,numbin,mask):\n",
        "\n",
        "    AmpFreqTransformed1 = []\n",
        "    PhaseFreq = []\n",
        "\n",
        "    pac_mi = []\n",
        "\n",
        "    for ii in altaVector:\n",
        "        Af1 = ii\n",
        "        Af2=Af1+alta_BandWidth\n",
        "\n",
        "        AmpFreq1=eegfilt(lfp,srate,Af1,Af2) # just filtering\n",
        "\n",
        "        analytic_signal1 = signal.hilbert(AmpFreq1)\n",
        "        AmpFreqTransformed1.append(np.abs(analytic_signal1)[mask])\n",
        "\n",
        "    faselenta = []\n",
        "    for jj in lentaVector:\n",
        "        Pf1 = jj\n",
        "        Pf2 = Pf1 + lenta_BandWidth\n",
        "        PhaseFreq=eegfilt(lfp,srate,Pf1,Pf2)\n",
        "        analytic_signal = signal.hilbert(PhaseFreq)\n",
        "        faselenta.append(np.angle(analytic_signal)[mask])\n",
        "\n",
        "    fase_lenta = faselenta\n",
        "\n",
        "    comodulogram = np.empty((len(lentaVector),len(altaVector)))\n",
        "\n",
        "    for count_lenta,lenta in enumerate(fase_lenta):\n",
        "\n",
        "        for count_rapida,rapida in enumerate(AmpFreqTransformed1):\n",
        "\n",
        "            comodulogram[count_lenta,count_rapida] = modulation_index(rapida,lenta,numbin)\n",
        "\n",
        "\n",
        "    return(comodulogram)"
      ]
    },
    {
      "cell_type": "code",
      "execution_count": null,
      "metadata": {
        "id": "3bCSWqW267qm"
      },
      "outputs": [],
      "source": [
        "# ACOP FASE AMPL ENTRE DUAS REGIÕES\n",
        "\n",
        "def pac_entre_regioes(lfp_alta,lfp_lenta,lentaVector,altaVector,lenta_BandWidth,alta_BandWidth,srate,numbin,mask):\n",
        "\n",
        "    AmpFreqTransformed1 = []\n",
        "    PhaseFreq = []\n",
        "\n",
        "    pac_mi = []\n",
        "\n",
        "    for ii in altaVector:\n",
        "        Af1 = ii\n",
        "        Af2=Af1+alta_BandWidth\n",
        "\n",
        "        AmpFreq1=eegfilt(lfp_alta,srate,Af1,Af2) # just filtering\n",
        "\n",
        "        analytic_signal1 = signal.hilbert(AmpFreq1)\n",
        "        AmpFreqTransformed1.append(np.abs(analytic_signal1)[mask])\n",
        "\n",
        "\n",
        "    faselenta = []\n",
        "    for jj in lentaVector:\n",
        "        Pf1 = jj\n",
        "        Pf2 = Pf1 + lenta_BandWidth\n",
        "        PhaseFreq=eegfilt(lfp_lenta,srate,Pf1,Pf2)\n",
        "        analytic_signal = signal.hilbert(PhaseFreq)\n",
        "        faselenta.append(np.angle(analytic_signal)[mask])\n",
        "\n",
        "\n",
        "    fase_lenta = faselenta\n",
        "\n",
        "    comodulogram = np.empty((len(lentaVector),len(altaVector)))\n",
        "\n",
        "\n",
        "    for count_lenta,lenta in enumerate(fase_lenta):\n",
        "\n",
        "        for count_rapida,rapida in enumerate(AmpFreqTransformed1):\n",
        "\n",
        "            comodulogram[count_lenta,count_rapida] = modulation_index(rapida,lenta,numbin)\n",
        "\n",
        "\n",
        "    return(comodulogram)"
      ]
    },
    {
      "cell_type": "code",
      "execution_count": null,
      "metadata": {
        "id": "J8qNrvf6A4ZR"
      },
      "outputs": [],
      "source": [
        "# # Causalidade de granger\n",
        "\n",
        "# def grangercausality(data1,data2,r1, r2, condicao, rato,frate,flow,fhigh, lag=-1):\n",
        "\n",
        "#   envelope_data_1 = np.abs(signal.hilbert(eegfilt(data1,frate,flow,fhigh)))\n",
        "#   test_data_1 = np.squeeze(envelope_data_1)\n",
        "\n",
        "#   envelope_data_2 = np.abs(signal.hilbert(eegfilt(data2,frate,flow,fhigh)))\n",
        "#   test_data_2 = np.squeeze(envelope_data_2)\n",
        "\n",
        "#   matrix_test = np.vstack([np.diff(test_data_1),np.diff(test_data_2)]).T\n",
        "#   if lag == -1:\n",
        "#     lag = [int(math.sqrt(len(matrix_test)))]\n",
        "#   else:\n",
        "#     lag = [lag]\n",
        "\n",
        "#   gc = grangercausalitytests(matrix_test,lag,verbose = False)\n",
        "#   results_test_r = [gc[lag[0]][0]['ssr_ftest'][1],gc[lag[0]][0]['ssr_ftest'][0]]\n",
        "\n",
        "#   if results_test_r[0] != 0.0:\n",
        "#     # print(results_test_r)\n",
        "#     # print(\"Lag:\", lag)\n",
        "\n",
        "#     # p_label = []\n",
        "#     # p = results_test_r[0]\n",
        "#     # if p <= 0.01:\n",
        "#     #   p_label.append('p<0.01')\n",
        "#     # elif 0.01 < p < 0.05:\n",
        "#     #   p_label.append('p<0.05')\n",
        "#     # elif p == 0.05:\n",
        "#     #   p_label.append('p=0.05')\n",
        "#     # else:\n",
        "#     #   p_label.append('p>0.05')\n",
        "\n",
        "# df_granger = pd.DataFrame({ 'Granger Causality':  results_test_r[1], 'P value': results_test_r[0], 'r1': r1, 'r2': r2, 'regioes': str(r1)+'->'+str(r2), 'condicao': condicao, 'lag':lag}, index=['Results'])\n",
        "\n",
        "#   return(df_granger )"
      ]
    },
    {
      "cell_type": "code",
      "execution_count": null,
      "metadata": {
        "id": "yxeNW0Ry1G0b"
      },
      "outputs": [],
      "source": [
        "\n",
        "def phase_amp_hist(amp,fase_lenta,numbin):\n",
        "\n",
        "    position=np.zeros(numbin) # this variable will get the beginning (not the center) of each phase bin (in rads)\n",
        "    winsize = 2*np.pi/numbin # bin de fase\n",
        "\n",
        "    position = []\n",
        "    for j in np.arange(1,numbin+1):\n",
        "        position.append(-np.pi+(j-1)*winsize)\n",
        "\n",
        "\n",
        "    nbin=numbin\n",
        "    mean_amp = []\n",
        "    for j in np.arange(0,nbin):\n",
        "        boolean_array = np.logical_and(fase_lenta >=  position[j], fase_lenta < position[j]+winsize)\n",
        "        I = np.where(boolean_array)[0]\n",
        "        mean_amp.append(np.mean(amp[I]))\n",
        "\n",
        "    mean_amp = [x for x in mean_amp if str(x) != 'nan']\n",
        "    p = mean_amp/np.sum(mean_amp)\n",
        "\n",
        "    return(p)\n",
        "\n",
        "\n",
        "def pac_histogram(lfp_amp,lfp_fase,altaVector,lenta_BandWidth,alta_BandWidth,srate,numbin,mask):\n",
        "\n",
        "    AmpFreqTransformed1 = []\n",
        "\n",
        "    for ii in altaVector:\n",
        "        Af1 = ii\n",
        "        Af2=Af1+alta_BandWidth\n",
        "\n",
        "        AmpFreq1=eegfilt(lfp_amp,srate,Af1,Af2) # just filtering\n",
        "\n",
        "        analytic_signal1 = signal.hilbert(AmpFreq1)\n",
        "        AmpFreqTransformed1.append(np.abs(analytic_signal1)[mask])\n",
        "\n",
        "    Pf1 = 4\n",
        "    Pf2 = 12\n",
        "    PhaseFreq=eegfilt(lfp_fase,srate,Pf1,Pf2)\n",
        "    analytic_signal = signal.hilbert(PhaseFreq)\n",
        "    faselenta = np.angle(analytic_signal)[mask]\n",
        "\n",
        "    hist_freqs = []\n",
        "\n",
        "    for count_rapida,rapida in enumerate(AmpFreqTransformed1):\n",
        "\n",
        "        hist_freqs.append(phase_amp_hist(rapida,faselenta,numbin))\n",
        "\n",
        "\n",
        "    return(hist_freqs)\n"
      ]
    },
    {
      "cell_type": "markdown",
      "metadata": {
        "id": "lUV4BRqK3X61"
      },
      "source": [
        "> # ANÁLISE DOS DADOS"
      ]
    },
    {
      "cell_type": "markdown",
      "metadata": {
        "id": "OTny4bDSYmEV"
      },
      "source": [
        "NormAmp = (Amp - min(Amp)) / (max(Amp) - min(Amp)))  [texto do link](https://www.frontiersin.org/articles/10.3389/fncir.2017.00029/full)"
      ]
    },
    {
      "cell_type": "code",
      "execution_count": null,
      "metadata": {
        "id": "xTihehA7Dvcq"
      },
      "outputs": [],
      "source": [
        "ratos = { 'CCM497': { 'condicao': {'OF_pre': '/content/drive/Shareddrives/Stress 1K/PROJETO LH PFC/SCREENING/16_12_22/CCM497_OF_PRE_SCREEN',\n",
        "                                   'OF_pos': '/content/drive/Shareddrives/Stress 1K/PROJETO LH PFC/SCREENING/16_12_22/CCM497_OF_POS_SCREEN'},\n",
        "\n",
        "                      'canais': {'prl': 26,\n",
        "                                  'cg': 14,\n",
        "                                  'il': 3},\n",
        "\n",
        "                      'inicio': { 'OF_pre': 50000,\n",
        "                                  'OF_pos': 5000} ,  # VERIFICADO OF PRE E POS OK\n",
        "\n",
        "                      # 'video': {'OF_pre':\n",
        "                      #           'OF_pos':       },\n",
        "\n",
        "                      'screening': '/content/drive/Shareddrives/Stress 1K/PROJETO LH PFC/SCREENING/16_12_22/CCM497_SCREENING'   },\n",
        "\n",
        "         'CCM559': {'condicao': {'OF_pre': '/content/drive/Shareddrives/Stress 1K/PROJETO LH PFC/SCREENING/16_12_22/CCM559_OF_PRE_SCREEN',\n",
        "                                 'OF_pos': '/content/drive/Shareddrives/Stress 1K/PROJETO LH PFC/SCREENING/16_12_22/CCM559_OF_POS_SCREEN'},\n",
        "\n",
        "                    'canais': {'prl': 28,\n",
        "                               'cg': 22,\n",
        "                               'il': 7 },\n",
        "\n",
        "                    'inicio': { 'OF_pre': 390000,\n",
        "                                'OF_pos': 205000    },\n",
        "\n",
        "                                #           'video': {'OF_pre':\n",
        "                                # 'OF_pos':       },\n",
        "\n",
        "                    'screening': '/content/drive/Shareddrives/Stress 1K/PROJETO LH PFC/SCREENING/16_12_22/CCM559_SCREENING'    },\n",
        "\n",
        "          # 'CCM56': {'condicao': {'OF_pre': '/content/drive/Shareddrives/Stress 1K/PROJETO LH PFC/SCREENING/09_08_23/CCM56_OF_PRE_SCREEN',\n",
        "          #                        'OF_pos': '/content/drive/Shareddrives/Stress 1K/PROJETO LH PFC/SCREENING/09_08_23/CCM56_OF_POS_SCREEN' },\n",
        "\n",
        "          #           'canais': { 'prl': 4,\n",
        "          #                       'cg': 6,\n",
        "          #                       'il': 24 },\n",
        "\n",
        "          #           'inicio': { 'OF_pre': 40000,\n",
        "          #                       'OF_pos': 140000   } ,\n",
        "          #            'screening': '/content/drive/Shareddrives/Stress 1K/PROJETO LH PFC/SCREENING/09_08_23/CCM56_SCREENING'},\n",
        "\n",
        "          'CCM04': {'condicao': {'OF_pre': '/content/drive/Shareddrives/Stress 1K/PROJETO LH PFC/SCREENING/29_08_23/CCM04_OF_PRE_SCREEN',\n",
        "                                 'OF_pos': '/content/drive/Shareddrives/Stress 1K/PROJETO LH PFC/SCREENING/29_08_23/CCM04_OF_POS_SCREEN' },\n",
        "\n",
        "                    'canais': { 'prl': 21 ,\n",
        "                                'cg': 29,\n",
        "                                'il': 25 },\n",
        "\n",
        "                    'inicio': { 'OF_pre': 10000,\n",
        "                               'OF_pos': 490000   } ,\n",
        "\n",
        "                    'video': {'OF_pre': '/content/drive/Shareddrives/Stress 1K/PROJETO LH PFC/STRESS_mPFC-CATHERINE-2023-12-10/videos/CCM04_OF_PRE_SCREEN (1)DLC_resnet50_STRESS_mPFCDec10shuffle1_199500.csv'},\n",
        "                              # 'OF_pos':       },\n",
        "\n",
        "                    'screening': '/content/drive/Shareddrives/Stress 1K/PROJETO LH PFC/SCREENING/29_08_23/CCM04_SCREENING'     },\n",
        "\n",
        "          'CCM05': {'condicao': {'OF_pre': '/content/drive/Shareddrives/Stress 1K/PROJETO LH PFC/SCREENING/31_08_23/CCMO5_OF_PRE_SCREEN',\n",
        "                                'OF_pos': '/content/drive/Shareddrives/Stress 1K/PROJETO LH PFC/SCREENING/31_08_23/CCM05_OF_POS_SCREEN_2' },\n",
        "\n",
        "                    'canais': { 'prl':22 ,\n",
        "                                'cg':29 ,\n",
        "                                'il':27  },\n",
        "\n",
        "                    'inicio': { 'OF_pre': 590000 ,\n",
        "                                'OF_pos':  242000  } ,\n",
        "\n",
        "                     'screening':  '/content/drive/Shareddrives/Stress 1K/PROJETO LH PFC/SCREENING/31_08_23/CCMO5_SCREENING'},\n",
        "\n",
        "          'CCM192': {'condicao': {'OF_pre': '/content/drive/Shareddrives/Stress 1K/PROJETO LH PFC/SCREENING/26_10_2023/CCM192_OF_PRE_SCREEN',\n",
        "                                  'OF_pos': '/content/drive/Shareddrives/Stress 1K/PROJETO LH PFC/SCREENING/26_10_2023/CCM192_OF_POS_SCREEN' },\n",
        "\n",
        "                      'canais': { 'prl': 24,\n",
        "                                 'cg': 31,\n",
        "                                 'il': 27},\n",
        "\n",
        "                      'inicio': { 'OF_pre': 136000 ,\n",
        "                                  'OF_pos':  170000  } ,        # VERIFICADO OF PRE E POS OK\n",
        "\n",
        "                      'video': {'OF_pre': '/content/drive/Shareddrives/Stress 1K/PROJETO LH PFC/STRESS_mPFC-CATHERINE-2023-12-10/videos/Cópia de CCM192_OF_PRE_SCREENDLC_resnet50_STRESS_mPFCDec10shuffle1_199500.csv'},\n",
        "                                # 'OF_pos':       },\n",
        "\n",
        "                       'screening': '/content/drive/Shareddrives/Stress 1K/PROJETO LH PFC/SCREENING/26_10_2023/CCM192_SCREENING'},\n",
        "\n",
        "          'CCM193': {'condicao': {'OF_pre': '/content/drive/Shareddrives/Stress 1K/PROJETO LH PFC/SCREENING/31_10_2023/CCM193_OF_PRE_SCREEN',\n",
        "                                'OF_pos': '/content/drive/Shareddrives/Stress 1K/PROJETO LH PFC/SCREENING/31_10_2023/CCM193_OF_POS_SCREEN' },\n",
        "\n",
        "                    'canais': { 'prl': 21 ,\n",
        "                                'cg': 29,\n",
        "                                'il': 28},\n",
        "\n",
        "                    'inicio': { 'OF_pre': 200000,\n",
        "                                'OF_pos':  390000 } ,   # VERIFICADO OF PRE E POS OK\n",
        "\n",
        "                    # 'video': {'OF_pre':\n",
        "                    #          'OF_pos':       },\n",
        "\n",
        "                    'screening': '/content/drive/Shareddrives/Stress 1K/PROJETO LH PFC/SCREENING/31_10_2023/CCM193_SCREENING'} }"
      ]
    },
    {
      "cell_type": "markdown",
      "metadata": {
        "id": "h4W8cm6Agbwq"
      },
      "source": [
        ">> # PARADO"
      ]
    },
    {
      "cell_type": "code",
      "execution_count": null,
      "metadata": {
        "colab": {
          "background_save": true
        },
        "id": "Ut2xgeyg7lXv"
      },
      "outputs": [],
      "source": [
        "# CRIANDO DF Acelerometro\n",
        "data_acel = []\n",
        "\n",
        "for rato in ratos.keys():\n",
        "    for condicao in ratos[rato]['condicao'].keys():\n",
        "        path = ratos[str(rato)]['condicao'][str(condicao)]\n",
        "\n",
        "        df_temp_acel = load_acelerometer(str(path))\n",
        "        data_acel.append(df_temp_acel)\n",
        "\n",
        "df_acel = pd.concat(data_acel)\n",
        "clear_output()"
      ]
    },
    {
      "cell_type": "code",
      "execution_count": null,
      "metadata": {
        "colab": {
          "background_save": true
        },
        "id": "XDtsPgEjWDLT"
      },
      "outputs": [],
      "source": [
        "# CRIANDO DF COM OS DADOS COMPLETOS\n",
        "\n",
        "dataframes_full = []\n",
        "for rato in ratos.keys():\n",
        "  for condicao in ratos[rato]['condicao'].keys():\n",
        "      path = ratos[str(rato)]['condicao'][str(condicao)]\n",
        "\n",
        "      ch_prl =  ratos[rato]['canais']['prl']\n",
        "      ch_cg =  ratos[rato]['canais']['cg']\n",
        "      ch_il =  ratos[rato]['canais']['il']\n",
        "\n",
        "      df_temp_full = load_data_full(path, ch_prl, ch_cg, ch_il)\n",
        "      df_temp_full['animal'] = str(rato)\n",
        "      df_temp_full['condicao'] = str(condicao)\n",
        "\n",
        "      dataframes_full.append(df_temp_full)\n",
        "\n",
        "df_full = pd.concat(dataframes_full)\n",
        "clear_output()"
      ]
    },
    {
      "cell_type": "code",
      "execution_count": null,
      "metadata": {
        "colab": {
          "background_save": true
        },
        "id": "YzYIGVnv8CXP"
      },
      "outputs": [],
      "source": [
        "# CRIANDO DF COM AS MASCARAS PARA FILTRAR RUIDOS E SEPARAR MOMENTOS DE IMOBILIDADE\n",
        "dataframes_masks = []\n",
        "\n",
        "for rato in ratos.keys():\n",
        "    for condicao in ratos[rato]['condicao'].keys():\n",
        "        path = ratos[str(rato)]['condicao'][str(condicao)]\n",
        "\n",
        "        ch_prl = ratos[rato]['canais']['prl']\n",
        "        ch_acc = ratos[rato]['canais']['cg']\n",
        "        ch_il = ratos[rato]['canais']['il']\n",
        "\n",
        "        mask_data_prl = generating_masks_parado(path, ch_prl, 'PRL')\n",
        "        mask_data_prl['animal'] = str(rato)\n",
        "        mask_data_prl['condicao'] = str(condicao)\n",
        "\n",
        "\n",
        "        dataframes_masks.append(mask_data_prl)\n",
        "\n",
        "        mask_data_acc = generating_masks_parado(path, ch_acc, 'ACC')\n",
        "        mask_data_acc['animal'] = str(rato)\n",
        "        mask_data_acc['condicao'] = str(condicao)\n",
        "\n",
        "        dataframes_masks.append(mask_data_acc)\n",
        "\n",
        "        mask_data_il = generating_masks_parado(path, ch_il, 'IL')\n",
        "        mask_data_il['animal'] = str(rato)\n",
        "        mask_data_il['condicao'] = str(condicao)\n",
        "\n",
        "        dataframes_masks.append(mask_data_il)\n",
        "\n",
        "\n",
        "df_masks_parado = pd.concat(dataframes_masks)\n",
        "clear_output()"
      ]
    },
    {
      "cell_type": "markdown",
      "metadata": {
        "id": "285DnBzTiD1D"
      },
      "source": [
        "> # Ativo"
      ]
    },
    {
      "cell_type": "code",
      "execution_count": null,
      "metadata": {
        "id": "Vrv_d99VCX4p"
      },
      "outputs": [],
      "source": [
        "# CRIANDO DF COM AS MASCARAS PARA FILTRAR RUIDOS E SEPARAR MOMENTOS DE IMOBILIDADE\n",
        "dataframes_masks_ativo = []\n",
        "\n",
        "for rato in ratos.keys():\n",
        "    for condicao in ratos[rato]['condicao'].keys():\n",
        "        path = ratos[str(rato)]['condicao'][str(condicao)]\n",
        "\n",
        "        ch_prl = ratos[rato]['canais']['prl']\n",
        "        ch_acc = ratos[rato]['canais']['cg']\n",
        "        ch_il = ratos[rato]['canais']['il']\n",
        "\n",
        "        mask_data_prl_ativ = generating_masks_ativo(path, ch_prl, 'PRL')\n",
        "        mask_data_prl_ativ['animal'] = str(rato)\n",
        "        mask_data_prl_ativ['condicao'] = str(condicao)\n",
        "\n",
        "\n",
        "        dataframes_masks_ativo.append(mask_data_prl_ativ)\n",
        "\n",
        "        mask_data_acc_ativ = generating_masks_ativo(path, ch_acc, 'ACC')\n",
        "        mask_data_acc_ativ['animal'] = str(rato)\n",
        "        mask_data_acc_ativ['condicao'] = str(condicao)\n",
        "\n",
        "        dataframes_masks_ativo.append(mask_data_acc_ativ)\n",
        "\n",
        "        mask_data_il_ativ = generating_masks_parado(path, ch_il, 'IL')\n",
        "        mask_data_il_ativ['animal'] = str(rato)\n",
        "        mask_data_il_ativ['condicao'] = str(condicao)\n",
        "\n",
        "        dataframes_masks_ativo.append(mask_data_il_ativ)\n",
        "\n",
        "\n",
        "df_masks_ativo = pd.concat(dataframes_masks_ativo)\n",
        "clear_output()"
      ]
    },
    {
      "cell_type": "markdown",
      "metadata": {
        "id": "b06_89E-2euZ"
      },
      "source": [
        "> # COHERENCE"
      ]
    },
    {
      "cell_type": "code",
      "execution_count": null,
      "metadata": {
        "id": "Ew5r8Lst6SXh"
      },
      "outputs": [],
      "source": [
        "coher_prl_cg = []\n",
        "coher_prl_il = []\n",
        "coher_cg_il = []\n",
        "fazendo_df_coherence = []\n",
        "\n",
        "for rato in ratos.keys():\n",
        "  for condicao in ratos[rato]['condicao'].keys():\n",
        "    f,c_prl_cg = signal.coherence(df[(df['animal'] == str(rato)) & (df['condicao'] == str(condicao))]['data_PRL'], df[(df['animal'] == str(rato)) & (df['condicao'] == str(condicao))]['data_CG'], fs = 1000,nperseg = 1000, noverlap=int(0.9*1000),nfft = 10*1000)\n",
        "    r1 = 'PRL'\n",
        "    r2 = 'ACC'\n",
        "    coher_prl_cg.append(c_prl_cg)\n",
        "    df_cohe_prl_cg = pd.DataFrame({'coherence': c_prl_cg,'animal': str(rato), 'condicao': str(condicao), 'r1': r1, 'r2': r2})\n",
        "    fazendo_df_coherence.append(df_cohe_prl_cg)\n",
        "\n",
        "    f,c_prl_il = signal.coherence(df[(df['animal'] == str(rato)) & (df['condicao'] == str(condicao) )]['data_PRL'], df[(df['animal'] == str(rato)) & (df['condicao'] == str(condicao) )]['data_IL'], fs = 1000,nperseg = 1000, noverlap=int(0.9*1000),nfft = 10*1000)\n",
        "    r1 = 'PRL'\n",
        "    r2 = 'IL'\n",
        "    coher_prl_il.append(c_prl_il)\n",
        "    df_cohe_prl_il = pd.DataFrame({'coherence': c_prl_il,'animal': str(rato), 'condicao': str(condicao), 'r1': r1, 'r2': r2})\n",
        "    fazendo_df_coherence.append(df_cohe_prl_il)\n",
        "\n",
        "    f,c_cg_il = signal.coherence(df[(df['animal'] == str(rato)) & (df['condicao'] == str(condicao) )]['data_CG'], df[(df['animal'] == str(rato)) & (df['condicao'] == str(condicao) )]['data_IL'], fs = 1000,nperseg = 1000, noverlap=int(0.9*1000),nfft = 10*1000)\n",
        "    r1 = 'ACC'\n",
        "    r2 = 'IL'\n",
        "    coher_cg_il.append(c_cg_il)\n",
        "    df_cohe_cg_il = pd.DataFrame({'coherence': c_cg_il,'animal': str(rato), 'condicao': str(condicao), 'r1': r1, 'r2': r2})\n",
        "    fazendo_df_coherence.append(df_cohe_cg_il)\n",
        "\n",
        "df_coherence = pd.concat(fazendo_df_coherence)\n",
        "df_coherence['indice'] = df_coherence.index\n"
      ]
    },
    {
      "cell_type": "code",
      "source": [
        "def media_coherence(df, condicao, r1, r2):\n",
        "    filtro = (df['condicao'] == condicao) & (df['r1'] == r1) & (df['r2'] == r2)\n",
        "    media_coherence = df[filtro].groupby('indice')['coherence'].mean()\n",
        "    result_df = pd.DataFrame({'coherence': media_coherence,'r1': r1,'r2': r2,'condicao': condicao, 'regioes': str(r1)+'->'+str(r2)})\n",
        "    return (result_df)"
      ],
      "metadata": {
        "id": "4BEpExCgAK6i"
      },
      "execution_count": null,
      "outputs": []
    },
    {
      "cell_type": "code",
      "execution_count": null,
      "metadata": {
        "colab": {
          "base_uri": "https://localhost:8080/"
        },
        "id": "gx4qqPgiL99m",
        "outputId": "a84ab7e7-67bb-425a-8b0d-9c4ec3809fdb"
      },
      "outputs": [
        {
          "name": "stderr",
          "output_type": "stream",
          "text": [
            "/usr/local/lib/python3.10/dist-packages/ipykernel/ipkernel.py:283: DeprecationWarning: `should_run_async` will not call `transform_cell` automatically in the future. Please pass the result to `transformed_cell` argument and any exception that happen during thetransform in `preprocessing_exc_tuple` in IPython 7.17 and above.\n",
            "  and should_run_async(code)\n"
          ]
        }
      ],
      "source": [
        "cohe_prl_cg_pre = media_coherence(  df_coherence,'OF_pre', 'PRL', 'ACC' )\n",
        "cohe_prl_cg_pos = media_coherence(  df_coherence,'OF_pos', 'PRL', 'ACC' )\n",
        "cohe_prl_il_pre = media_coherence(  df_coherence,'OF_pre', 'PRL', 'IL' )\n",
        "cohe_prl_il_pos = media_coherence(  df_coherence,'OF_pos', 'PRL', 'IL' )\n",
        "cohe_cg_il_pre = media_coherence(  df_coherence,'OF_pre', 'ACC', 'IL')\n",
        "cohe_cg_il_pos = media_coherence(  df_coherence,'OF_pos', 'ACC', 'IL' )"
      ]
    },
    {
      "cell_type": "code",
      "execution_count": null,
      "metadata": {
        "colab": {
          "base_uri": "https://localhost:8080/"
        },
        "id": "ZdrU3KG8nW04",
        "outputId": "572cbb60-1f72-419f-fa6a-73aaad2d064d"
      },
      "outputs": [
        {
          "name": "stderr",
          "output_type": "stream",
          "text": [
            "/usr/local/lib/python3.10/dist-packages/ipykernel/ipkernel.py:283: DeprecationWarning: `should_run_async` will not call `transform_cell` automatically in the future. Please pass the result to `transformed_cell` argument and any exception that happen during thetransform in `preprocessing_exc_tuple` in IPython 7.17 and above.\n",
            "  and should_run_async(code)\n"
          ]
        }
      ],
      "source": [
        "result_coh = pd.concat([cohe_prl_cg_pre, cohe_prl_cg_pos, cohe_prl_il_pre, cohe_prl_il_pos, cohe_cg_il_pre,  cohe_cg_il_pos], axis=0 )\n",
        "result_coh['frequencia'] = result_coh.index\n",
        "\n",
        "\n",
        "# Criando nova coluna 'banda' usando a função apply()\n",
        "result_coh['banda'] = result_coh['frequencia'].apply(mapear_banda)\n",
        "\n",
        "coh = result_coh.drop(columns='frequencia')\n"
      ]
    },
    {
      "cell_type": "code",
      "execution_count": null,
      "metadata": {
        "colab": {
          "base_uri": "https://localhost:8080/",
          "height": 490
        },
        "id": "Bkbqqe7cMElM",
        "outputId": "c876b3d4-7705-435b-90bb-89b19b71bedd"
      },
      "outputs": [
        {
          "data": {
            "image/png": "[encoded data removed]",
            "text/plain": [
              "<Figure size 1150x500 with 11 Axes>"
            ]
          },
          "metadata": {},
          "output_type": "display_data"
        }
      ],
      "source": [
        "canais = ['PRL', 'AC', 'IL']\n",
        "\n",
        "f, axs = plt.subplots( 2,5, figsize=(11.5,5), gridspec_kw={'hspace': 0.5})\n",
        "plt.suptitle('Coherence mPFC', fontsize=16, fontweight='bold', y=1.1, x=0.5)\n",
        "bandas_coh = ['Delta', 'Theta', 'Alpha/beta', 'Low gamma',  'Mid gamma']\n",
        "heatmap_pre = []\n",
        "heatmap_pos = []\n",
        "for banda in range(len(bandas_coh)):\n",
        "    for i in range(len(canais)):\n",
        "        for j in range(len(canais)):\n",
        "            pre = coh[ (coh.banda == bandas_coh[banda] )  & (coh.condicao == 'OF_pre') ]\n",
        "\n",
        "            pos = coh[ (coh.banda == bandas_coh[banda] )  & (coh.condicao == 'OF_pos') ]\n",
        "\n",
        "    # mask = np.tril(np.ones_like(pre, dtype=bool))\n",
        "    pivot_pre = pre.pivot_table(index='r1', columns='r2', values='coherence')\n",
        "    pivot_pos = pos.pivot_table(index='r1', columns='r2', values='coherence')\n",
        "    im1 = sns.heatmap(pivot_pre,  vmin = 0, vmax = 1.0, ax=axs[1,banda], square=True, annot=True,  cmap = 'jet', fmt=\".1f\", cbar=False)\n",
        "    im2 = sns.heatmap(pivot_pos,   vmin = 0,vmax = 1.0, ax=axs[0,banda], square=True, annot=True,   cmap = 'jet', fmt=\".1f\", cbar=False)\n",
        "    axs[0,banda].set_title( bandas_coh[banda] , fontweight='bold',  pad = 12, fontsize = 12)\n",
        "    axs[1,banda].set_title( None)\n",
        "    axs[0,banda].set_ylabel(None)\n",
        "    axs[0,banda].set_xlabel(None)\n",
        "    axs[1,banda].set_xlabel(None)\n",
        "    axs[1,banda].set_ylabel(None)\n",
        "    heatmap_pre.append(im1)\n",
        "    heatmap_pos.append(im2)\n",
        "\n",
        "plt.text(-0.35, 0.5, 'Pre Stress', fontsize=12, fontweight='bold', transform=axs[0, 0].transAxes, ha='center', va='center', rotation='vertical')\n",
        "plt.text(-0.35, 0.5, 'Pos Stress', fontsize=12, fontweight='bold', transform=axs[1, 0].transAxes, ha='center', va='center', rotation='vertical')\n",
        "\n",
        "\n",
        "f.subplots_adjust(bottom=0.25)\n",
        "\n",
        "cax = f.add_axes([0.92, 0.25, 0.015, 0.63])  # Posição e tamanho da colorbar\n",
        "cmap = mpl.cm.jet\n",
        "norm = mpl.colors.Normalize(vmin=0, vmax=1)\n",
        "\n",
        "cb = mpl.colorbar.ColorbarBase(cax, cmap=cmap, norm=norm, orientation='vertical', ticks=[0, 0.5, 1])\n",
        "cb.outline.set_visible(False)\n",
        "cb.set_label('Coherence', fontweight='bold')\n",
        "\n",
        "\n",
        "# plt.tight_layout()\n",
        "plt.savefig('/content/drive/Shareddrives/Stress 1K/PROJETO LH PFC/FIGURES/heatmap_coherence_mPFC.jpeg', dpi=600)\n"
      ]
    },
    {
      "cell_type": "markdown",
      "metadata": {
        "id": "Py8dryqvoNMX"
      },
      "source": [
        "# > Causalidade de Granger tranform bipolar\n",
        "\n",
        "\n",
        "![image.png](data:image/png;base64,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)"
      ]
    },
    {
      "cell_type": "code",
      "execution_count": null,
      "metadata": {
        "id": "syJHINzUlQeE"
      },
      "outputs": [],
      "source": [
        "\n",
        "def load_data_granger(path,inicio,final,ch_prl_1,ch_prl_2,ch_cg_1,ch_cg_2,ch_il_1,ch_il_2):\n",
        "  load = Session(path).recordnodes[0].recordings[0]\n",
        "  t_raw= load.continuous[0].timestamps\n",
        "  t = t_raw-t_raw[0]\n",
        "\n",
        "\n",
        "  data_prl_1 = pd.DataFrame(load.continuous[0].get_samples(start_sample_index=0, end_sample_index=len(t))).iloc[inicio:final,int(int(ch_prl_1)-1)]\n",
        "  data_cg_1 = pd.DataFrame(load.continuous[0].get_samples(start_sample_index=0, end_sample_index=len(t))).iloc[inicio:final,int(int(ch_cg_1)-1)]\n",
        "  data_il_1 = pd.DataFrame(load.continuous[0].get_samples(start_sample_index=0, end_sample_index=len(t))).iloc[inicio:final,int(int(ch_il_1)-1)]\n",
        "\n",
        "  data_prl_2 = pd.DataFrame(load.continuous[0].get_samples(start_sample_index=0, end_sample_index=len(t))).iloc[inicio:final,int(int(ch_prl_2)-1)]\n",
        "  data_cg_2 = pd.DataFrame(load.continuous[0].get_samples(start_sample_index=0, end_sample_index=len(t))).iloc[inicio:final,int(int(ch_cg_2)-1)]\n",
        "  data_il_2 = pd.DataFrame(load.continuous[0].get_samples(start_sample_index=0, end_sample_index=len(t))).iloc[inicio:final,int(int(ch_il_2)-1)]\n",
        "\n",
        "  data_prl = data_prl_1 - data_prl_2\n",
        "  data_cg = data_cg_1 - data_cg_2\n",
        "  data_il = data_il_1 - data_il_2\n",
        "\n",
        "  srate = 1000\n",
        "  fc_low = 55\n",
        "  fc_high = 61\n",
        "  order = 5\n",
        "  b, a = signal.butter(order, [fc_low/(0.5*srate), fc_high/(0.5*srate)], btype='bandstop')\n",
        "\n",
        "  PRL = signal.filtfilt(b, a, data_prl)\n",
        "  CG = signal.filtfilt(b, a, data_cg)\n",
        "  IL = signal.filtfilt(b, a, data_il)\n",
        "\n",
        "  return(pd.DataFrame({'PRL': PRL,'ACC': CG, 'IL': IL}))"
      ]
    },
    {
      "cell_type": "code",
      "execution_count": null,
      "metadata": {
        "id": "iQUAFxWWeU70"
      },
      "outputs": [],
      "source": [
        "dict_granger = {'CCM497': { 'condicao': {'OF_pre': '/content/drive/Shareddrives/Stress 1K/PROJETO LH PFC/SCREENING/16_12_22/CCM497_OF_PRE_SCREEN',\n",
        "                                   'OF_pos': '/content/drive/Shareddrives/Stress 1K/PROJETO LH PFC/SCREENING/16_12_22/CCM497_OF_POS_SCREEN'},\n",
        "\n",
        "                      'canais': {'prl_1': 26,\n",
        "                                 'prl_2': 32,\n",
        "                                  'cg_1': 14,\n",
        "                                  'cg_2': 17,\n",
        "                                  'il_1': 3,\n",
        "                                  'il_2': 8 },\n",
        "\n",
        "                      'inicio': { 'OF_pre': 50000,\n",
        "                                  'OF_pos': 5000}}}   # VERIFICADO OF PRE E POS OK\n",
        "\n",
        "\n",
        "\n",
        "         'CCM559': {'condicao': {'OF_pre': '/content/drive/Shareddrives/Stress 1K/PROJETO LH PFC/SCREENING/16_12_22/CCM559_OF_PRE_SCREEN',\n",
        "                                 'OF_pos': '/content/drive/Shareddrives/Stress 1K/PROJETO LH PFC/SCREENING/16_12_22/CCM559_OF_POS_SCREEN'},\n",
        "\n",
        "                     'canais': {'prl_1': 28,\n",
        "                                 'prl_2': 30,\n",
        "                                  'cg_1': 21,\n",
        "                                  'cg_2': 10  ,\n",
        "                                  'il_1': 7\n",
        "                                  'il_2':2  },\n",
        "\n",
        "                    'inicio': { 'OF_pre': 23000,\n",
        "                                'OF_pos': 471000    }  },\n",
        "\n",
        "        #   # 'CCM56': {'condicao': {'OF_pre': '/content/drive/Shareddrives/Stress 1K/PROJETO LH PFC/SCREENING/09_08_23/CCM56_OF_PRE_SCREEN',\n",
        "        #   #                        'OF_pos': '/content/drive/Shareddrives/Stress 1K/PROJETO LH PFC/SCREENING/09_08_23/CCM56_OF_POS_SCREEN' },\n",
        "\n",
        "        #   #           'canais': { 'prl': 4,\n",
        "        #   #                       'cg': 6,\n",
        "        #   #                       'il': 24 },\n",
        "\n",
        "        #   #           'inicio': { 'OF_pre': 40000,\n",
        "        #   #                       'OF_pos': 140000   } ,\n",
        "        #   #            'screening': '/content/drive/Shareddrives/Stress 1K/PROJETO LH PFC/SCREENING/09_08_23/CCM56_SCREENING'},\n",
        "\n",
        "          'CCM04': {'condicao': {'OF_pre': '/content/drive/Shareddrives/Stress 1K/PROJETO LH PFC/SCREENING/29_08_23/CCM04_OF_PRE_SCREEN',\n",
        "                                 'OF_pos': '/content/drive/Shareddrives/Stress 1K/PROJETO LH PFC/SCREENING/29_08_23/CCM04_OF_POS_SCREEN' },\n",
        "\n",
        "                     'canais': {'prl_1': 21,\n",
        "                                 'prl_2':   ,\n",
        "                                  'cg_1': 29,\n",
        "                                  'cg_2':   ,\n",
        "                                  'il_1': 25\n",
        "                                  'il_2':  },\n",
        "\n",
        "                    'inicio': { 'OF_pre': 10000,\n",
        "                               'OF_pos': 490000   }  },\n",
        "\n",
        "        #   'CCM05': {'condicao': {'OF_pre': '/content/drive/Shareddrives/Stress 1K/PROJETO LH PFC/SCREENING/31_08_23/CCMO5_OF_PRE_SCREEN',\n",
        "        #                         'OF_pos': '/content/drive/Shareddrives/Stress 1K/PROJETO LH PFC/SCREENING/31_08_23/CCM05_OF_POS_SCREEN_2' },\n",
        "\n",
        "\n",
        "        #               'canais': {'prl_1': 22,\n",
        "        #                          'prl_2':   ,\n",
        "        #                           'cg_1': 29,\n",
        "        #                           'cg_2':   ,\n",
        "        #                           'il_1': 27\n",
        "        #                           'il_2':  },\n",
        "\n",
        "        #             'inicio': { 'OF_pre': 590000 ,\n",
        "        #                         'OF_pos':  242000  } },\n",
        "\n",
        "        #   'CCM192': {'condicao': {'OF_pre': '/content/drive/Shareddrives/Stress 1K/PROJETO LH PFC/SCREENING/26_10_2023/CCM192_OF_PRE_SCREEN',\n",
        "        #                           'OF_pos': '/content/drive/Shareddrives/Stress 1K/PROJETO LH PFC/SCREENING/26_10_2023/CCM192_OF_POS_SCREEN' },\n",
        "\n",
        "        #               'canais': {'prl_1': 24,\n",
        "        #                          'prl_2':   ,\n",
        "        #                           'cg_1': 31,\n",
        "        #                           'cg_2':   ,\n",
        "        #                           'il_1': 27\n",
        "        #                           'il_2':  },\n",
        "\n",
        "        #               'inicio': { 'OF_pre': 136000 ,\n",
        "        #                           'OF_pos':  170000  }   },\n",
        "\n",
        "        #   'CCM193': {'condicao': {'OF_pre': '/content/drive/Shareddrives/Stress 1K/PROJETO LH PFC/SCREENING/31_10_2023/CCM193_OF_PRE_SCREEN',\n",
        "        #                         'OF_pos': '/content/drive/Shareddrives/Stress 1K/PROJETO LH PFC/SCREENING/31_10_2023/CCM193_OF_POS_SCREEN' },\n",
        "\n",
        "\n",
        "        #               'canais': {'prl_1': 21,\n",
        "        #                          'prl_2':   ,\n",
        "        #                           'cg_1': 29,\n",
        "        #                           'cg_2':   ,\n",
        "        #                           'il_1': 28\n",
        "        #                           'il_2':  },\n",
        "\n",
        "        #             'inicio': { 'OF_pre': 200000,\n",
        "        #                         'OF_pos':  390000 }  } }\n",
        "\n"
      ]
    },
    {
      "cell_type": "code",
      "execution_count": null,
      "metadata": {
        "colab": {
          "base_uri": "https://localhost:8080/"
        },
        "id": "y6sGI4vIlATR",
        "outputId": "3ffa4ee4-3b9d-43e0-f13b-60f0cd85ab86"
      },
      "outputs": [
        {
          "name": "stderr",
          "output_type": "stream",
          "text": [
            "/usr/local/lib/python3.10/dist-packages/open_ephys/analysis/formats/BinaryRecording.py:141: ResourceWarning: unclosed file <_io.TextIOWrapper name='/content/drive/Shareddrives/Stress 1K/PROJETO LH PFC/SCREENING/16_12_22/CCM497_OF_PRE_SCREEN/Record Node 101/experiment1/recording1/structure.oebin' mode='r' encoding='UTF-8'>\n",
            "  self.info = json.load(open(os.path.join(self.directory, 'structure.oebin')))\n",
            "ResourceWarning: Enable tracemalloc to get the object allocation traceback\n",
            "/usr/local/lib/python3.10/dist-packages/open_ephys/analysis/formats/BinaryRecording.py:141: ResourceWarning: unclosed file <_io.TextIOWrapper name='/content/drive/Shareddrives/Stress 1K/PROJETO LH PFC/SCREENING/16_12_22/CCM497_OF_PRE_SCREEN/Record Node 101/experiment1/recording2/structure.oebin' mode='r' encoding='UTF-8'>\n",
            "  self.info = json.load(open(os.path.join(self.directory, 'structure.oebin')))\n",
            "ResourceWarning: Enable tracemalloc to get the object allocation traceback\n",
            "/usr/local/lib/python3.10/dist-packages/open_ephys/analysis/formats/BinaryRecording.py:141: ResourceWarning: unclosed file <_io.TextIOWrapper name='/content/drive/Shareddrives/Stress 1K/PROJETO LH PFC/SCREENING/16_12_22/CCM497_OF_POS_SCREEN/Record Node 101/experiment1/recording1/structure.oebin' mode='r' encoding='UTF-8'>\n",
            "  self.info = json.load(open(os.path.join(self.directory, 'structure.oebin')))\n",
            "ResourceWarning: Enable tracemalloc to get the object allocation traceback\n"
          ]
        }
      ],
      "source": [
        "dataframes_granger = []\n",
        "\n",
        "for condicao in dict_granger['CCM497']['condicao'].keys():\n",
        "      path = dict_granger['CCM497']['condicao'][str(condicao)]\n",
        "      inicio = dict_granger['CCM497']['inicio'][str(condicao)]\n",
        "      final = inicio + 15000\n",
        "\n",
        "      ch_prl_1 =  dict_granger['CCM497']['canais']['prl_1']\n",
        "      ch_cg_1 =  dict_granger['CCM497']['canais']['cg_1']\n",
        "      ch_il_1 =  dict_granger['CCM497']['canais']['il_1']\n",
        "\n",
        "      ch_prl_2 =  dict_granger['CCM497']['canais']['prl_2']\n",
        "      ch_cg_2 =  dict_granger['CCM497']['canais']['cg_2']\n",
        "      ch_il_2 =  dict_granger['CCM497']['canais']['il_2']\n",
        "\n",
        "      df_temp_granger = load_data_granger(path,inicio,final, ch_prl_1,ch_prl_2,ch_cg_1,ch_cg_2,ch_il_1,ch_il_2)\n",
        "      df_temp_granger['animal'] = 'CCM497'\n",
        "      df_temp_granger['condicao'] = str(condicao)\n",
        "\n",
        "      dataframes_granger.append(df_temp_granger)\n",
        "\n",
        "df_GRANGER = pd.concat(dataframes_granger)"
      ]
    },
    {
      "cell_type": "code",
      "execution_count": null,
      "metadata": {
        "colab": {
          "base_uri": "https://localhost:8080/"
        },
        "id": "pNTIqCYQxuxg",
        "outputId": "37c80415-0759-45d8-dd45-93de0ba109b3"
      },
      "outputs": [
        {
          "name": "stderr",
          "output_type": "stream",
          "text": [
            "/usr/local/lib/python3.10/dist-packages/statsmodels/tsa/stattools.py:1488: FutureWarning: verbose is deprecated since functions should not print results\n",
            "  warnings.warn(\n",
            "/usr/local/lib/python3.10/dist-packages/statsmodels/tsa/stattools.py:1488: FutureWarning: verbose is deprecated since functions should not print results\n",
            "  warnings.warn(\n",
            "/usr/local/lib/python3.10/dist-packages/statsmodels/tsa/stattools.py:1488: FutureWarning: verbose is deprecated since functions should not print results\n",
            "  warnings.warn(\n",
            "/usr/local/lib/python3.10/dist-packages/statsmodels/tsa/stattools.py:1488: FutureWarning: verbose is deprecated since functions should not print results\n",
            "  warnings.warn(\n"
          ]
        }
      ],
      "source": [
        "faz_df_granger = []\n",
        "\n",
        "for condicao in dict_granger['CCM497']['condicao'].keys():\n",
        "  prl = df_GRANGER[( df_GRANGER  ['animal'] == 'CCM497') & (df_GRANGER['condicao'] == str(condicao))]['PRL']\n",
        "  acc =  df_GRANGER[( df_GRANGER  ['animal'] == 'CCM497') & (df_GRANGER['condicao'] == str(condicao))]['ACC']\n",
        "  il = df_GRANGER[( df_GRANGER  ['animal'] == 'CCM497') & (df_GRANGER['condicao'] == str(condicao))]['IL']\n",
        "\n",
        "  gc_prl_cg = grangercausality(prl,acc,'PRL','ACC',str(condicao),'CCM497',1000,1,100)\n",
        "  faz_df_granger.append(gc_prl_cg)\n",
        "\n",
        "  gc_cg_prl = grangercausality(acc,prl,'ACC','PRL',str(condicao),'CCM497',1000,1,100)\n",
        "  faz_df_granger.append(gc_cg_prl)\n",
        "\n",
        "df_final_granger = pd.concat(faz_df_granger)"
      ]
    },
    {
      "cell_type": "code",
      "execution_count": null,
      "metadata": {
        "colab": {
          "base_uri": "https://localhost:8080/",
          "height": 175
        },
        "id": "HHALdc9L0U_Y",
        "outputId": "1a4f2beb-ac20-495a-d864-8d907a274428"
      },
      "outputs": [
        {
          "data": {
            "text/html": [
              "\n",
              "  <div id=\"df-d7b2a284-afcf-4af2-a9f9-b6fd4fdbb9f8\" class=\"colab-df-container\">\n",
              "    <div>\n",
              "<style scoped>\n",
              "    .dataframe tbody tr th:only-of-type {\n",
              "        vertical-align: middle;\n",
              "    }\n",
              "\n",
              "    .dataframe tbody tr th {\n",
              "        vertical-align: top;\n",
              "    }\n",
              "\n",
              "    .dataframe thead th {\n",
              "        text-align: right;\n",
              "    }\n",
              "</style>\n",
              "<table border=\"1\" class=\"dataframe\">\n",
              "  <thead>\n",
              "    <tr style=\"text-align: right;\">\n",
              "      <th></th>\n",
              "      <th>Granger Causality</th>\n",
              "      <th>P value</th>\n",
              "      <th>r1</th>\n",
              "      <th>r2</th>\n",
              "      <th>regioes</th>\n",
              "      <th>condicao</th>\n",
              "    </tr>\n",
              "  </thead>\n",
              "  <tbody>\n",
              "    <tr>\n",
              "      <th>Results</th>\n",
              "      <td>1193.159361</td>\n",
              "      <td>p&lt;0.01</td>\n",
              "      <td>PRL</td>\n",
              "      <td>ACC</td>\n",
              "      <td>PRL-&gt;ACC</td>\n",
              "      <td>OF_pre</td>\n",
              "    </tr>\n",
              "    <tr>\n",
              "      <th>Results</th>\n",
              "      <td>212.130041</td>\n",
              "      <td>p&lt;0.01</td>\n",
              "      <td>ACC</td>\n",
              "      <td>PRL</td>\n",
              "      <td>ACC-&gt;PRL</td>\n",
              "      <td>OF_pre</td>\n",
              "    </tr>\n",
              "    <tr>\n",
              "      <th>Results</th>\n",
              "      <td>484.209626</td>\n",
              "      <td>p&lt;0.01</td>\n",
              "      <td>PRL</td>\n",
              "      <td>ACC</td>\n",
              "      <td>PRL-&gt;ACC</td>\n",
              "      <td>OF_pos</td>\n",
              "    </tr>\n",
              "    <tr>\n",
              "      <th>Results</th>\n",
              "      <td>5.466058</td>\n",
              "      <td>p&lt;0.01</td>\n",
              "      <td>ACC</td>\n",
              "      <td>PRL</td>\n",
              "      <td>ACC-&gt;PRL</td>\n",
              "      <td>OF_pos</td>\n",
              "    </tr>\n",
              "  </tbody>\n",
              "</table>\n",
              "</div>\n",
              "    <div class=\"colab-df-buttons\">\n",
              "\n",
              "  <div class=\"colab-df-container\">\n",
              "    <button class=\"colab-df-convert\" onclick=\"convertToInteractive('df-d7b2a284-afcf-4af2-a9f9-b6fd4fdbb9f8')\"\n",
              "            title=\"Convert this dataframe to an interactive table.\"\n",
              "            style=\"display:none;\">\n",
              "\n",
              "  <svg xmlns=\"http://www.w3.org/2000/svg\" height=\"24px\" viewBox=\"0 -960 960 960\">\n",
              "    <path d=\"M120-120v-720h720v720H120Zm60-500h600v-160H180v160Zm220 220h160v-160H400v160Zm0 220h160v-160H400v160ZM180-400h160v-160H180v160Zm440 0h160v-160H620v160ZM180-180h160v-160H180v160Zm440 0h160v-160H620v160Z\"/>\n",
              "  </svg>\n",
              "    </button>\n",
              "\n",
              "  <style>\n",
              "    .colab-df-container {\n",
              "      display:flex;\n",
              "      gap: 12px;\n",
              "    }\n",
              "\n",
              "    .colab-df-convert {\n",
              "      background-color: #E8F0FE;\n",
              "      border: none;\n",
              "      border-radius: 50%;\n",
              "      cursor: pointer;\n",
              "      display: none;\n",
              "      fill: #1967D2;\n",
              "      height: 32px;\n",
              "      padding: 0 0 0 0;\n",
              "      width: 32px;\n",
              "    }\n",
              "\n",
              "    .colab-df-convert:hover {\n",
              "      background-color: #E2EBFA;\n",
              "      box-shadow: 0px 1px 2px rgba(60, 64, 67, 0.3), 0px 1px 3px 1px rgba(60, 64, 67, 0.15);\n",
              "      fill: #174EA6;\n",
              "    }\n",
              "\n",
              "    .colab-df-buttons div {\n",
              "      margin-bottom: 4px;\n",
              "    }\n",
              "\n",
              "    [theme=dark] .colab-df-convert {\n",
              "      background-color: #3B4455;\n",
              "      fill: #D2E3FC;\n",
              "    }\n",
              "\n",
              "    [theme=dark] .colab-df-convert:hover {\n",
              "      background-color: #434B5C;\n",
              "      box-shadow: 0px 1px 3px 1px rgba(0, 0, 0, 0.15);\n",
              "      filter: drop-shadow(0px 1px 2px rgba(0, 0, 0, 0.3));\n",
              "      fill: #FFFFFF;\n",
              "    }\n",
              "  </style>\n",
              "\n",
              "    <script>\n",
              "      const buttonEl =\n",
              "        document.querySelector('#df-d7b2a284-afcf-4af2-a9f9-b6fd4fdbb9f8 button.colab-df-convert');\n",
              "      buttonEl.style.display =\n",
              "        google.colab.kernel.accessAllowed ? 'block' : 'none';\n",
              "\n",
              "      async function convertToInteractive(key) {\n",
              "        const element = document.querySelector('#df-d7b2a284-afcf-4af2-a9f9-b6fd4fdbb9f8');\n",
              "        const dataTable =\n",
              "          await google.colab.kernel.invokeFunction('convertToInteractive',\n",
              "                                                    [key], {});\n",
              "        if (!dataTable) return;\n",
              "\n",
              "        const docLinkHtml = 'Like what you see? Visit the ' +\n",
              "          '<a target=\"_blank\" href=https://colab.research.google.com/notebooks/data_table.ipynb>data table notebook</a>'\n",
              "          + ' to learn more about interactive tables.';\n",
              "        element.innerHTML = '';\n",
              "        dataTable['output_type'] = 'display_data';\n",
              "        await google.colab.output.renderOutput(dataTable, element);\n",
              "        const docLink = document.createElement('div');\n",
              "        docLink.innerHTML = docLinkHtml;\n",
              "        element.appendChild(docLink);\n",
              "      }\n",
              "    </script>\n",
              "  </div>\n",
              "\n",
              "\n",
              "<div id=\"df-4a74ec50-5cf2-455d-8958-658f90e32634\">\n",
              "  <button class=\"colab-df-quickchart\" onclick=\"quickchart('df-4a74ec50-5cf2-455d-8958-658f90e32634')\"\n",
              "            title=\"Suggest charts\"\n",
              "            style=\"display:none;\">\n",
              "\n",
              "<svg xmlns=\"http://www.w3.org/2000/svg\" height=\"24px\"viewBox=\"0 0 24 24\"\n",
              "     width=\"24px\">\n",
              "    <g>\n",
              "        <path d=\"M19 3H5c-1.1 0-2 .9-2 2v14c0 1.1.9 2 2 2h14c1.1 0 2-.9 2-2V5c0-1.1-.9-2-2-2zM9 17H7v-7h2v7zm4 0h-2V7h2v10zm4 0h-2v-4h2v4z\"/>\n",
              "    </g>\n",
              "</svg>\n",
              "  </button>\n",
              "\n",
              "<style>\n",
              "  .colab-df-quickchart {\n",
              "      --bg-color: #E8F0FE;\n",
              "      --fill-color: #1967D2;\n",
              "      --hover-bg-color: #E2EBFA;\n",
              "      --hover-fill-color: #174EA6;\n",
              "      --disabled-fill-color: #AAA;\n",
              "      --disabled-bg-color: #DDD;\n",
              "  }\n",
              "\n",
              "  [theme=dark] .colab-df-quickchart {\n",
              "      --bg-color: #3B4455;\n",
              "      --fill-color: #D2E3FC;\n",
              "      --hover-bg-color: #434B5C;\n",
              "      --hover-fill-color: #FFFFFF;\n",
              "      --disabled-bg-color: #3B4455;\n",
              "      --disabled-fill-color: #666;\n",
              "  }\n",
              "\n",
              "  .colab-df-quickchart {\n",
              "    background-color: var(--bg-color);\n",
              "    border: none;\n",
              "    border-radius: 50%;\n",
              "    cursor: pointer;\n",
              "    display: none;\n",
              "    fill: var(--fill-color);\n",
              "    height: 32px;\n",
              "    padding: 0;\n",
              "    width: 32px;\n",
              "  }\n",
              "\n",
              "  .colab-df-quickchart:hover {\n",
              "    background-color: var(--hover-bg-color);\n",
              "    box-shadow: 0 1px 2px rgba(60, 64, 67, 0.3), 0 1px 3px 1px rgba(60, 64, 67, 0.15);\n",
              "    fill: var(--button-hover-fill-color);\n",
              "  }\n",
              "\n",
              "  .colab-df-quickchart-complete:disabled,\n",
              "  .colab-df-quickchart-complete:disabled:hover {\n",
              "    background-color: var(--disabled-bg-color);\n",
              "    fill: var(--disabled-fill-color);\n",
              "    box-shadow: none;\n",
              "  }\n",
              "\n",
              "  .colab-df-spinner {\n",
              "    border: 2px solid var(--fill-color);\n",
              "    border-color: transparent;\n",
              "    border-bottom-color: var(--fill-color);\n",
              "    animation:\n",
              "      spin 1s steps(1) infinite;\n",
              "  }\n",
              "\n",
              "  @keyframes spin {\n",
              "    0% {\n",
              "      border-color: transparent;\n",
              "      border-bottom-color: var(--fill-color);\n",
              "      border-left-color: var(--fill-color);\n",
              "    }\n",
              "    20% {\n",
              "      border-color: transparent;\n",
              "      border-left-color: var(--fill-color);\n",
              "      border-top-color: var(--fill-color);\n",
              "    }\n",
              "    30% {\n",
              "      border-color: transparent;\n",
              "      border-left-color: var(--fill-color);\n",
              "      border-top-color: var(--fill-color);\n",
              "      border-right-color: var(--fill-color);\n",
              "    }\n",
              "    40% {\n",
              "      border-color: transparent;\n",
              "      border-right-color: var(--fill-color);\n",
              "      border-top-color: var(--fill-color);\n",
              "    }\n",
              "    60% {\n",
              "      border-color: transparent;\n",
              "      border-right-color: var(--fill-color);\n",
              "    }\n",
              "    80% {\n",
              "      border-color: transparent;\n",
              "      border-right-color: var(--fill-color);\n",
              "      border-bottom-color: var(--fill-color);\n",
              "    }\n",
              "    90% {\n",
              "      border-color: transparent;\n",
              "      border-bottom-color: var(--fill-color);\n",
              "    }\n",
              "  }\n",
              "</style>\n",
              "\n",
              "  <script>\n",
              "    async function quickchart(key) {\n",
              "      const quickchartButtonEl =\n",
              "        document.querySelector('#' + key + ' button');\n",
              "      quickchartButtonEl.disabled = true;  // To prevent multiple clicks.\n",
              "      quickchartButtonEl.classList.add('colab-df-spinner');\n",
              "      try {\n",
              "        const charts = await google.colab.kernel.invokeFunction(\n",
              "            'suggestCharts', [key], {});\n",
              "      } catch (error) {\n",
              "        console.error('Error during call to suggestCharts:', error);\n",
              "      }\n",
              "      quickchartButtonEl.classList.remove('colab-df-spinner');\n",
              "      quickchartButtonEl.classList.add('colab-df-quickchart-complete');\n",
              "    }\n",
              "    (() => {\n",
              "      let quickchartButtonEl =\n",
              "        document.querySelector('#df-4a74ec50-5cf2-455d-8958-658f90e32634 button');\n",
              "      quickchartButtonEl.style.display =\n",
              "        google.colab.kernel.accessAllowed ? 'block' : 'none';\n",
              "    })();\n",
              "  </script>\n",
              "</div>\n",
              "    </div>\n",
              "  </div>\n"
            ],
            "text/plain": [
              "         Granger Causality P value   r1   r2   regioes condicao\n",
              "Results        1193.159361  p<0.01  PRL  ACC  PRL->ACC   OF_pre\n",
              "Results         212.130041  p<0.01  ACC  PRL  ACC->PRL   OF_pre\n",
              "Results         484.209626  p<0.01  PRL  ACC  PRL->ACC   OF_pos\n",
              "Results           5.466058  p<0.01  ACC  PRL  ACC->PRL   OF_pos"
            ]
          },
          "execution_count": 76,
          "metadata": {},
          "output_type": "execute_result"
        }
      ],
      "source": [
        "df_final_granger"
      ]
    },
    {
      "cell_type": "code",
      "execution_count": null,
      "metadata": {
        "id": "crX2WzIY03SO"
      },
      "outputs": [],
      "source": [
        "df_final_granger['Granger Causality'] = np.log10(df_final_granger['Granger Causality'])\n",
        "df_final_granger.rename(columns={'condicao': 'Condition', 'regioes': 'Direction'}, inplace=True)"
      ]
    },
    {
      "cell_type": "code",
      "execution_count": null,
      "metadata": {
        "colab": {
          "base_uri": "https://localhost:8080/",
          "height": 175
        },
        "id": "YT6M_TXGEh2E",
        "outputId": "d6230018-2e3c-41cb-e35e-a647d7a04ef0"
      },
      "outputs": [
        {
          "ename": "NameError",
          "evalue": "ignored",
          "output_type": "error",
          "traceback": [
            "\u001b[0;31m---------------------------------------------------------------------------\u001b[0m",
            "\u001b[0;31mNameError\u001b[0m                                 Traceback (most recent call last)",
            "\u001b[0;32m<ipython-input-93-9cc06e46a2ec>\u001b[0m in \u001b[0;36m<cell line: 1>\u001b[0;34m()\u001b[0m\n\u001b[0;32m----> 1\u001b[0;31m \u001b[0mprl\u001b[0m\u001b[0;34m\u001b[0m\u001b[0;34m\u001b[0m\u001b[0m\n\u001b[0m",
            "\u001b[0;31mNameError\u001b[0m: name 'prl' is not defined"
          ]
        }
      ],
      "source": [
        "prl"
      ]
    },
    {
      "cell_type": "code",
      "execution_count": null,
      "metadata": {
        "id": "RGLpUpGPCwLh"
      },
      "outputs": [],
      "source": [
        "surrogatos = np.copy(prl)\n",
        "np.random.shuffle(surrogatos)"
      ]
    },
    {
      "cell_type": "code",
      "execution_count": null,
      "metadata": {
        "colab": {
          "base_uri": "https://localhost:8080/"
        },
        "id": "IsesI67OE1oH",
        "outputId": "88f1e0d5-8871-40da-bdf2-5d49a5c2406d"
      },
      "outputs": [
        {
          "data": {
            "text/plain": [
              "array([ 12.16450248, -17.85080738, -36.74035835, ...,   2.94488471,\n",
              "       -10.76711736,  20.77259416])"
            ]
          },
          "execution_count": 98,
          "metadata": {},
          "output_type": "execute_result"
        }
      ],
      "source": [
        "surrogatos"
      ]
    },
    {
      "cell_type": "code",
      "execution_count": null,
      "metadata": {
        "id": "ug5vs6mwGXLU"
      },
      "outputs": [],
      "source": [
        "import numpy as np\n",
        "import matplotlib.pyplot as plt\n",
        "\n",
        "# Defina os parâmetros do sinal\n",
        "fs = 1000  # Taxa de amostragem (Hz)\n",
        "duracao = 15  # Duração do sinal em segundos\n",
        "frequencia = 10  # Frequência do sinal em Hz\n",
        "\n",
        "# Crie um vetor de tempo\n",
        "tempo = np.arange(0, duracao, 1/fs)\n",
        "\n",
        "# Gere o sinal de LFP (neste exemplo, uma senoide)\n",
        "sinal_lfp = np.sin(2 * np.pi * frequencia * tempo)\n",
        "\n"
      ]
    },
    {
      "cell_type": "code",
      "execution_count": null,
      "metadata": {
        "colab": {
          "base_uri": "https://localhost:8080/"
        },
        "id": "Wwz-TRnztSKi",
        "outputId": "a3127460-267d-40c3-f004-41bf5056be6c"
      },
      "outputs": [
        {
          "name": "stderr",
          "output_type": "stream",
          "text": [
            "/usr/local/lib/python3.10/dist-packages/ipykernel/ipkernel.py:283: DeprecationWarning: `should_run_async` will not call `transform_cell` automatically in the future. Please pass the result to `transformed_cell` argument and any exception that happen during thetransform in `preprocessing_exc_tuple` in IPython 7.17 and above.\n",
            "  and should_run_async(code)\n"
          ]
        }
      ],
      "source": [
        "prl = np.mean(data_prl_pre,axis = 0)"
      ]
    },
    {
      "cell_type": "code",
      "execution_count": null,
      "metadata": {
        "id": "6snv7ngqrsP4"
      },
      "outputs": [],
      "source": [
        "sinal_fake = np.random.rand(3,15000)"
      ]
    },
    {
      "cell_type": "code",
      "execution_count": null,
      "metadata": {
        "colab": {
          "base_uri": "https://localhost:8080/"
        },
        "id": "eNYSTk6PsVIr",
        "outputId": "ebd6a5ed-f2ed-4199-e0ad-83b9332723b1"
      },
      "outputs": [
        {
          "data": {
            "text/plain": [
              "array([[0.05165187, 0.91625663, 0.81712878, ..., 0.6280472 , 0.0251632 ,\n",
              "        0.40134024],\n",
              "       [0.06942471, 0.72261124, 0.87613886, ..., 0.11664898, 0.65873176,\n",
              "        0.89037943],\n",
              "       [0.62321098, 0.76415684, 0.05018338, ..., 0.97447855, 0.9494869 ,\n",
              "        0.27032281]])"
            ]
          },
          "execution_count": 88,
          "metadata": {},
          "output_type": "execute_result"
        }
      ],
      "source": [
        "sinal_fake"
      ]
    },
    {
      "cell_type": "code",
      "execution_count": null,
      "metadata": {
        "colab": {
          "base_uri": "https://localhost:8080/"
        },
        "id": "jDrt77-_GcKP",
        "outputId": "54a0a684-2c18-4d99-ad9c-0931689db676"
      },
      "outputs": [
        {
          "data": {
            "text/plain": [
              "array([ 0.        ,  0.06279052,  0.12533323, ..., -0.18738131,\n",
              "       -0.12533323, -0.06279052])"
            ]
          },
          "execution_count": 106,
          "metadata": {},
          "output_type": "execute_result"
        }
      ],
      "source": [
        "sinal_lfp"
      ]
    },
    {
      "cell_type": "code",
      "execution_count": null,
      "metadata": {
        "colab": {
          "base_uri": "https://localhost:8080/",
          "height": 1000
        },
        "id": "F4cxdiMdD5H8",
        "outputId": "90258d01-fe1c-4c74-c7d9-87065b491669"
      },
      "outputs": [
        {
          "name": "stdout",
          "output_type": "stream",
          "text": [
            "Lag: [1]\n",
            "{1: ({'ssr_ftest': (503.6991058138977, 9.488766496056339e-110, 14995.0, 1), 'ssr_chi2test': (503.7998792261979, 1.4164441820766331e-111, 1), 'lrtest': (495.5231146136066, 8.954861608351254e-110, 1), 'params_ftest': (503.69910581389854, 9.488766496048248e-110, 14995.0, 1.0)}, [<statsmodels.regression.linear_model.RegressionResultsWrapper object at 0x79f5f2b42530>, <statsmodels.regression.linear_model.RegressionResultsWrapper object at 0x79f5f2b43520>, array([[0., 1., 0.]])])}\n",
            "[9.488766496056339e-110, 503.6991058138977]\n"
          ]
        },
        {
          "name": "stderr",
          "output_type": "stream",
          "text": [
            "/usr/local/lib/python3.10/dist-packages/statsmodels/tsa/stattools.py:1488: FutureWarning: verbose is deprecated since functions should not print results\n",
            "  warnings.warn(\n"
          ]
        },
        {
          "name": "stdout",
          "output_type": "stream",
          "text": [
            "Lag: [1]\n",
            "{1: ({'ssr_ftest': (3169.7495530183514, 0.0, 14995.0, 1), 'ssr_chi2test': (3170.383714316054, 0.0, 1), 'lrtest': (2876.1074584659073, 0.0, 1), 'params_ftest': (3169.749553018338, 0.0, 14995.0, 1.0)}, [<statsmodels.regression.linear_model.RegressionResultsWrapper object at 0x79f5f2b421a0>, <statsmodels.regression.linear_model.RegressionResultsWrapper object at 0x79f5f2b43d00>, array([[0., 1., 0.]])])}\n",
            "[0.0, 3169.7495530183514]\n",
            "         Granger Causality P value   r1 r2 regioes condicao\n",
            "Results         503.699106  p<0.01  PRL  x  PRL->x   OF_pos\n",
            "         Granger Causality P value   r1 r2 regioes condicao\n",
            "Results        3169.749553  p<0.01  PRL  x  PRL->x   OF_pos\n"
          ]
        },
        {
          "name": "stderr",
          "output_type": "stream",
          "text": [
            "/usr/local/lib/python3.10/dist-packages/statsmodels/tsa/stattools.py:1488: FutureWarning: verbose is deprecated since functions should not print results\n",
            "  warnings.warn(\n"
          ]
        },
        {
          "name": "stdout",
          "output_type": "stream",
          "text": [
            "Lag: [2]\n",
            "{2: ({'ssr_ftest': (35.55424351538795, 3.9399612255849616e-16, 14992.0, 2), 'ssr_chi2test': (71.13220250804072, 3.5796328306588775e-16, 2), 'lrtest': (70.96404062374495, 3.893627241648811e-16, 2), 'params_ftest': (35.55424351538918, 3.939961225577935e-16, 14992.0, 2.0)}, [<statsmodels.regression.linear_model.RegressionResultsWrapper object at 0x79f5f2b42c80>, <statsmodels.regression.linear_model.RegressionResultsWrapper object at 0x79f5f2b43400>, array([[0., 0., 1., 0., 0.],\n",
            "       [0., 0., 0., 1., 0.]])])}\n",
            "[3.9399612255849616e-16, 35.55424351538795]\n"
          ]
        },
        {
          "name": "stderr",
          "output_type": "stream",
          "text": [
            "/usr/local/lib/python3.10/dist-packages/statsmodels/tsa/stattools.py:1488: FutureWarning: verbose is deprecated since functions should not print results\n",
            "  warnings.warn(\n"
          ]
        },
        {
          "name": "stdout",
          "output_type": "stream",
          "text": [
            "Lag: [2]\n",
            "{2: ({'ssr_ftest': (843.6503973070203, 0.0, 14992.0, 2), 'ssr_chi2test': (1687.8635283368974, 0.0, 2), 'lrtest': (1599.4563212615321, 0.0, 2), 'params_ftest': (843.6503973070226, 0.0, 14992.0, 2.0)}, [<statsmodels.regression.linear_model.RegressionResultsWrapper object at 0x79f5f2b421a0>, <statsmodels.regression.linear_model.RegressionResultsWrapper object at 0x79f5f2b41780>, array([[0., 0., 1., 0., 0.],\n",
            "       [0., 0., 0., 1., 0.]])])}\n",
            "[0.0, 843.6503973070203]\n",
            "         Granger Causality P value   r1 r2 regioes condicao\n",
            "Results          35.554244  p<0.01  PRL  x  PRL->x   OF_pos\n",
            "         Granger Causality P value   r1 r2 regioes condicao\n",
            "Results         843.650397  p<0.01  PRL  x  PRL->x   OF_pos\n"
          ]
        },
        {
          "name": "stderr",
          "output_type": "stream",
          "text": [
            "/usr/local/lib/python3.10/dist-packages/statsmodels/tsa/stattools.py:1488: FutureWarning: verbose is deprecated since functions should not print results\n",
            "  warnings.warn(\n"
          ]
        },
        {
          "name": "stdout",
          "output_type": "stream",
          "text": [
            "Lag: [3]\n",
            "{3: ({'ssr_ftest': (594.0891843587465, 0.0, 14989.0, 3), 'ssr_chi2test': (1783.0998883135155, 0.0, 3), 'lrtest': (1684.8089796237182, 0.0, 3), 'params_ftest': (594.0891843587476, 0.0, 14989.0, 3.0)}, [<statsmodels.regression.linear_model.RegressionResultsWrapper object at 0x79f5f2b42f80>, <statsmodels.regression.linear_model.RegressionResultsWrapper object at 0x79f5f2b41810>, array([[0., 0., 0., 1., 0., 0., 0.],\n",
            "       [0., 0., 0., 0., 1., 0., 0.],\n",
            "       [0., 0., 0., 0., 0., 1., 0.]])])}\n",
            "[0.0, 594.0891843587465]\n"
          ]
        },
        {
          "name": "stderr",
          "output_type": "stream",
          "text": [
            "/usr/local/lib/python3.10/dist-packages/statsmodels/tsa/stattools.py:1488: FutureWarning: verbose is deprecated since functions should not print results\n",
            "  warnings.warn(\n"
          ]
        },
        {
          "name": "stdout",
          "output_type": "stream",
          "text": [
            "Lag: [3]\n",
            "{3: ({'ssr_ftest': (1322.2444618441948, 0.0, 14989.0, 3), 'ssr_chi2test': (3968.585886279714, 0.0, 3), 'lrtest': (3520.9084458316793, 0.0, 3), 'params_ftest': (1322.2444618442107, 0.0, 14989.0, 3.0)}, [<statsmodels.regression.linear_model.RegressionResultsWrapper object at 0x79f5f2b42f80>, <statsmodels.regression.linear_model.RegressionResultsWrapper object at 0x79f5f2b43970>, array([[0., 0., 0., 1., 0., 0., 0.],\n",
            "       [0., 0., 0., 0., 1., 0., 0.],\n",
            "       [0., 0., 0., 0., 0., 1., 0.]])])}\n",
            "[0.0, 1322.2444618441948]\n",
            "         Granger Causality P value   r1 r2 regioes condicao\n",
            "Results         594.089184  p<0.01  PRL  x  PRL->x   OF_pos\n",
            "         Granger Causality P value   r1 r2 regioes condicao\n",
            "Results        1322.244462  p<0.01  PRL  x  PRL->x   OF_pos\n"
          ]
        },
        {
          "name": "stderr",
          "output_type": "stream",
          "text": [
            "/usr/local/lib/python3.10/dist-packages/statsmodels/tsa/stattools.py:1488: FutureWarning: verbose is deprecated since functions should not print results\n",
            "  warnings.warn(\n"
          ]
        },
        {
          "name": "stdout",
          "output_type": "stream",
          "text": [
            "Lag: [4]\n",
            "{4: ({'ssr_ftest': (658.1230110144114, 0.0, 14986.0, 4), 'ssr_chi2test': (2634.073014856826, 0.0, 4), 'lrtest': (2426.679879600648, 0.0, 4), 'params_ftest': (658.1230110144068, 0.0, 14986.0, 4.0)}, [<statsmodels.regression.linear_model.RegressionResultsWrapper object at 0x79f5f2b43a60>, <statsmodels.regression.linear_model.RegressionResultsWrapper object at 0x79f5f2b413c0>, array([[0., 0., 0., 0., 1., 0., 0., 0., 0.],\n",
            "       [0., 0., 0., 0., 0., 1., 0., 0., 0.],\n",
            "       [0., 0., 0., 0., 0., 0., 1., 0., 0.],\n",
            "       [0., 0., 0., 0., 0., 0., 0., 1., 0.]])])}\n",
            "[0.0, 658.1230110144114]\n"
          ]
        },
        {
          "name": "stderr",
          "output_type": "stream",
          "text": [
            "/usr/local/lib/python3.10/dist-packages/statsmodels/tsa/stattools.py:1488: FutureWarning: verbose is deprecated since functions should not print results\n",
            "  warnings.warn(\n"
          ]
        },
        {
          "name": "stdout",
          "output_type": "stream",
          "text": [
            "Lag: [4]\n",
            "{4: ({'ssr_ftest': (2319.998103392574, 0.0, 14986.0, 4), 'ssr_chi2test': (9285.565610669066, 0.0, 4), 'lrtest': (7226.981938524696, 0.0, 4), 'params_ftest': (2319.9981033925933, 0.0, 14986.0, 4.0)}, [<statsmodels.regression.linear_model.RegressionResultsWrapper object at 0x79f5f2b40eb0>, <statsmodels.regression.linear_model.RegressionResultsWrapper object at 0x79f5f2b41210>, array([[0., 0., 0., 0., 1., 0., 0., 0., 0.],\n",
            "       [0., 0., 0., 0., 0., 1., 0., 0., 0.],\n",
            "       [0., 0., 0., 0., 0., 0., 1., 0., 0.],\n",
            "       [0., 0., 0., 0., 0., 0., 0., 1., 0.]])])}\n",
            "[0.0, 2319.998103392574]\n",
            "         Granger Causality P value   r1 r2 regioes condicao\n",
            "Results         658.123011  p<0.01  PRL  x  PRL->x   OF_pos\n",
            "         Granger Causality P value   r1 r2 regioes condicao\n",
            "Results        2319.998103  p<0.01  PRL  x  PRL->x   OF_pos\n"
          ]
        },
        {
          "name": "stderr",
          "output_type": "stream",
          "text": [
            "/usr/local/lib/python3.10/dist-packages/statsmodels/tsa/stattools.py:1488: FutureWarning: verbose is deprecated since functions should not print results\n",
            "  warnings.warn(\n"
          ]
        },
        {
          "name": "stdout",
          "output_type": "stream",
          "text": [
            "Lag: [5]\n",
            "{5: ({'ssr_ftest': (2506.861491503344, 0.0, 14983.0, 5), 'ssr_chi2test': (12543.509712207548, 0.0, 5), 'lrtest': (9114.836762404186, 0.0, 5), 'params_ftest': (2506.8614915033386, 0.0, 14983.0, 5.0)}, [<statsmodels.regression.linear_model.RegressionResultsWrapper object at 0x79f5f2b429b0>, <statsmodels.regression.linear_model.RegressionResultsWrapper object at 0x79f5f2b43640>, array([[0., 0., 0., 0., 0., 1., 0., 0., 0., 0., 0.],\n",
            "       [0., 0., 0., 0., 0., 0., 1., 0., 0., 0., 0.],\n",
            "       [0., 0., 0., 0., 0., 0., 0., 1., 0., 0., 0.],\n",
            "       [0., 0., 0., 0., 0., 0., 0., 0., 1., 0., 0.],\n",
            "       [0., 0., 0., 0., 0., 0., 0., 0., 0., 1., 0.]])])}\n",
            "[0.0, 2506.861491503344]\n"
          ]
        },
        {
          "name": "stderr",
          "output_type": "stream",
          "text": [
            "/usr/local/lib/python3.10/dist-packages/statsmodels/tsa/stattools.py:1488: FutureWarning: verbose is deprecated since functions should not print results\n",
            "  warnings.warn(\n"
          ]
        },
        {
          "name": "stdout",
          "output_type": "stream",
          "text": [
            "Lag: [5]\n",
            "{5: ({'ssr_ftest': (954.5766820332378, 0.0, 14983.0, 5), 'ssr_chi2test': (4776.387495964216, 0.0, 5), 'lrtest': (4146.3675309546525, 0.0, 5), 'params_ftest': (954.576682033261, 0.0, 14983.0, 5.0)}, [<statsmodels.regression.linear_model.RegressionResultsWrapper object at 0x79f5f2b43b80>, <statsmodels.regression.linear_model.RegressionResultsWrapper object at 0x79f5f2b42c50>, array([[0., 0., 0., 0., 0., 1., 0., 0., 0., 0., 0.],\n",
            "       [0., 0., 0., 0., 0., 0., 1., 0., 0., 0., 0.],\n",
            "       [0., 0., 0., 0., 0., 0., 0., 1., 0., 0., 0.],\n",
            "       [0., 0., 0., 0., 0., 0., 0., 0., 1., 0., 0.],\n",
            "       [0., 0., 0., 0., 0., 0., 0., 0., 0., 1., 0.]])])}\n",
            "[0.0, 954.5766820332378]\n",
            "         Granger Causality P value   r1 r2 regioes condicao\n",
            "Results        2506.861492  p<0.01  PRL  x  PRL->x   OF_pos\n",
            "         Granger Causality P value   r1 r2 regioes condicao\n",
            "Results         954.576682  p<0.01  PRL  x  PRL->x   OF_pos\n"
          ]
        },
        {
          "name": "stderr",
          "output_type": "stream",
          "text": [
            "/usr/local/lib/python3.10/dist-packages/statsmodels/tsa/stattools.py:1488: FutureWarning: verbose is deprecated since functions should not print results\n",
            "  warnings.warn(\n"
          ]
        },
        {
          "name": "stdout",
          "output_type": "stream",
          "text": [
            "Lag: [6]\n",
            "{6: ({'ssr_ftest': (3735.819155792822, 0.0, 14980.0, 6), 'ssr_chi2test': (22434.367130628216, 0.0, 6), 'lrtest': (13715.877560372348, 0.0, 6), 'params_ftest': (3735.8191557928235, 0.0, 14980.0, 6.0)}, [<statsmodels.regression.linear_model.RegressionResultsWrapper object at 0x79f5f2b43ca0>, <statsmodels.regression.linear_model.RegressionResultsWrapper object at 0x79f5f2b42380>, array([[0., 0., 0., 0., 0., 0., 1., 0., 0., 0., 0., 0., 0.],\n",
            "       [0., 0., 0., 0., 0., 0., 0., 1., 0., 0., 0., 0., 0.],\n",
            "       [0., 0., 0., 0., 0., 0., 0., 0., 1., 0., 0., 0., 0.],\n",
            "       [0., 0., 0., 0., 0., 0., 0., 0., 0., 1., 0., 0., 0.],\n",
            "       [0., 0., 0., 0., 0., 0., 0., 0., 0., 0., 1., 0., 0.],\n",
            "       [0., 0., 0., 0., 0., 0., 0., 0., 0., 0., 0., 1., 0.]])])}\n",
            "[0.0, 3735.819155792822]\n"
          ]
        },
        {
          "name": "stderr",
          "output_type": "stream",
          "text": [
            "/usr/local/lib/python3.10/dist-packages/statsmodels/tsa/stattools.py:1488: FutureWarning: verbose is deprecated since functions should not print results\n",
            "  warnings.warn(\n"
          ]
        },
        {
          "name": "stdout",
          "output_type": "stream",
          "text": [
            "Lag: [6]\n",
            "{6: ({'ssr_ftest': (3029.8623242771514, 0.0, 14980.0, 6), 'ssr_chi2test': (18194.950264841387, 0.0, 6), 'lrtest': (11913.48938640824, 0.0, 6), 'params_ftest': (3029.8623242771732, 0.0, 14980.0, 6.0)}, [<statsmodels.regression.linear_model.RegressionResultsWrapper object at 0x79f5f2b421d0>, <statsmodels.regression.linear_model.RegressionResultsWrapper object at 0x79f5f2b40070>, array([[0., 0., 0., 0., 0., 0., 1., 0., 0., 0., 0., 0., 0.],\n",
            "       [0., 0., 0., 0., 0., 0., 0., 1., 0., 0., 0., 0., 0.],\n",
            "       [0., 0., 0., 0., 0., 0., 0., 0., 1., 0., 0., 0., 0.],\n",
            "       [0., 0., 0., 0., 0., 0., 0., 0., 0., 1., 0., 0., 0.],\n",
            "       [0., 0., 0., 0., 0., 0., 0., 0., 0., 0., 1., 0., 0.],\n",
            "       [0., 0., 0., 0., 0., 0., 0., 0., 0., 0., 0., 1., 0.]])])}\n",
            "[0.0, 3029.8623242771514]\n",
            "         Granger Causality P value   r1 r2 regioes condicao\n",
            "Results        3735.819156  p<0.01  PRL  x  PRL->x   OF_pos\n",
            "         Granger Causality P value   r1 r2 regioes condicao\n",
            "Results        3029.862324  p<0.01  PRL  x  PRL->x   OF_pos\n"
          ]
        },
        {
          "name": "stderr",
          "output_type": "stream",
          "text": [
            "/usr/local/lib/python3.10/dist-packages/statsmodels/tsa/stattools.py:1488: FutureWarning: verbose is deprecated since functions should not print results\n",
            "  warnings.warn(\n"
          ]
        },
        {
          "name": "stdout",
          "output_type": "stream",
          "text": [
            "Lag: [7]\n",
            "{7: ({'ssr_ftest': (4142.627377440709, 0.0, 14977.0, 7), 'ssr_chi2test': (29027.434566210715, 0.0, 7), 'lrtest': (16148.100667811581, 0.0, 7), 'params_ftest': (4142.627377440778, 0.0, 14977.0, 7.0)}, [<statsmodels.regression.linear_model.RegressionResultsWrapper object at 0x79f5f2b42bf0>, <statsmodels.regression.linear_model.RegressionResultsWrapper object at 0x79f5f2b43790>, array([[0., 0., 0., 0., 0., 0., 0., 1., 0., 0., 0., 0., 0., 0., 0.],\n",
            "       [0., 0., 0., 0., 0., 0., 0., 0., 1., 0., 0., 0., 0., 0., 0.],\n",
            "       [0., 0., 0., 0., 0., 0., 0., 0., 0., 1., 0., 0., 0., 0., 0.],\n",
            "       [0., 0., 0., 0., 0., 0., 0., 0., 0., 0., 1., 0., 0., 0., 0.],\n",
            "       [0., 0., 0., 0., 0., 0., 0., 0., 0., 0., 0., 1., 0., 0., 0.],\n",
            "       [0., 0., 0., 0., 0., 0., 0., 0., 0., 0., 0., 0., 1., 0., 0.],\n",
            "       [0., 0., 0., 0., 0., 0., 0., 0., 0., 0., 0., 0., 0., 1., 0.]])])}\n",
            "[0.0, 4142.627377440709]\n"
          ]
        },
        {
          "name": "stderr",
          "output_type": "stream",
          "text": [
            "/usr/local/lib/python3.10/dist-packages/statsmodels/tsa/stattools.py:1488: FutureWarning: verbose is deprecated since functions should not print results\n",
            "  warnings.warn(\n"
          ]
        },
        {
          "name": "stdout",
          "output_type": "stream",
          "text": [
            "Lag: [7]\n",
            "{7: ({'ssr_ftest': (3506.6783223702214, 0.0, 14977.0, 7), 'ssr_chi2test': (24571.33270099623, 0.0, 7), 'lrtest': (14548.027240644617, 0.0, 7), 'params_ftest': (3506.6783223703724, 0.0, 14977.0, 7.0)}, [<statsmodels.regression.linear_model.RegressionResultsWrapper object at 0x79f5f2b404f0>, <statsmodels.regression.linear_model.RegressionResultsWrapper object at 0x79f5f2b42dd0>, array([[0., 0., 0., 0., 0., 0., 0., 1., 0., 0., 0., 0., 0., 0., 0.],\n",
            "       [0., 0., 0., 0., 0., 0., 0., 0., 1., 0., 0., 0., 0., 0., 0.],\n",
            "       [0., 0., 0., 0., 0., 0., 0., 0., 0., 1., 0., 0., 0., 0., 0.],\n",
            "       [0., 0., 0., 0., 0., 0., 0., 0., 0., 0., 1., 0., 0., 0., 0.],\n",
            "       [0., 0., 0., 0., 0., 0., 0., 0., 0., 0., 0., 1., 0., 0., 0.],\n",
            "       [0., 0., 0., 0., 0., 0., 0., 0., 0., 0., 0., 0., 1., 0., 0.],\n",
            "       [0., 0., 0., 0., 0., 0., 0., 0., 0., 0., 0., 0., 0., 1., 0.]])])}\n",
            "[0.0, 3506.6783223702214]\n",
            "         Granger Causality P value   r1 r2 regioes condicao\n",
            "Results        4142.627377  p<0.01  PRL  x  PRL->x   OF_pos\n",
            "         Granger Causality P value   r1 r2 regioes condicao\n",
            "Results        3506.678322  p<0.01  PRL  x  PRL->x   OF_pos\n"
          ]
        },
        {
          "name": "stderr",
          "output_type": "stream",
          "text": [
            "/usr/local/lib/python3.10/dist-packages/statsmodels/tsa/stattools.py:1488: FutureWarning: verbose is deprecated since functions should not print results\n",
            "  warnings.warn(\n"
          ]
        },
        {
          "name": "stdout",
          "output_type": "stream",
          "text": [
            "Lag: [8]\n",
            "{8: ({'ssr_ftest': (3114.22824518025, 0.0, 14974.0, 8), 'ssr_chi2test': (24942.110657671765, 0.0, 8), 'lrtest': (14687.519194536959, 0.0, 8), 'params_ftest': (3114.2282451795363, 0.0, 14974.0, 8.0)}, [<statsmodels.regression.linear_model.RegressionResultsWrapper object at 0x79f5f2b41510>, <statsmodels.regression.linear_model.RegressionResultsWrapper object at 0x79f5f2b42890>, array([[0., 0., 0., 0., 0., 0., 0., 0., 1., 0., 0., 0., 0., 0., 0., 0.,\n",
            "        0.],\n",
            "       [0., 0., 0., 0., 0., 0., 0., 0., 0., 1., 0., 0., 0., 0., 0., 0.,\n",
            "        0.],\n",
            "       [0., 0., 0., 0., 0., 0., 0., 0., 0., 0., 1., 0., 0., 0., 0., 0.,\n",
            "        0.],\n",
            "       [0., 0., 0., 0., 0., 0., 0., 0., 0., 0., 0., 1., 0., 0., 0., 0.,\n",
            "        0.],\n",
            "       [0., 0., 0., 0., 0., 0., 0., 0., 0., 0., 0., 0., 1., 0., 0., 0.,\n",
            "        0.],\n",
            "       [0., 0., 0., 0., 0., 0., 0., 0., 0., 0., 0., 0., 0., 1., 0., 0.,\n",
            "        0.],\n",
            "       [0., 0., 0., 0., 0., 0., 0., 0., 0., 0., 0., 0., 0., 0., 1., 0.,\n",
            "        0.],\n",
            "       [0., 0., 0., 0., 0., 0., 0., 0., 0., 0., 0., 0., 0., 0., 0., 1.,\n",
            "        0.]])])}\n",
            "[0.0, 3114.22824518025]\n"
          ]
        },
        {
          "name": "stderr",
          "output_type": "stream",
          "text": [
            "/usr/local/lib/python3.10/dist-packages/statsmodels/tsa/stattools.py:1488: FutureWarning: verbose is deprecated since functions should not print results\n",
            "  warnings.warn(\n"
          ]
        },
        {
          "name": "stdout",
          "output_type": "stream",
          "text": [
            "Lag: [8]\n",
            "{8: ({'ssr_ftest': (2332.3441046210705, 0.0, 14974.0, 8), 'ssr_chi2test': (18679.93614124454, 0.0, 8), 'lrtest': (12130.492562549363, 0.0, 8), 'params_ftest': (2332.344104621686, 0.0, 14974.0, 8.0)}, [<statsmodels.regression.linear_model.RegressionResultsWrapper object at 0x79f5f2b41510>, <statsmodels.regression.linear_model.RegressionResultsWrapper object at 0x79f5f2b40a60>, array([[0., 0., 0., 0., 0., 0., 0., 0., 1., 0., 0., 0., 0., 0., 0., 0.,\n",
            "        0.],\n",
            "       [0., 0., 0., 0., 0., 0., 0., 0., 0., 1., 0., 0., 0., 0., 0., 0.,\n",
            "        0.],\n",
            "       [0., 0., 0., 0., 0., 0., 0., 0., 0., 0., 1., 0., 0., 0., 0., 0.,\n",
            "        0.],\n",
            "       [0., 0., 0., 0., 0., 0., 0., 0., 0., 0., 0., 1., 0., 0., 0., 0.,\n",
            "        0.],\n",
            "       [0., 0., 0., 0., 0., 0., 0., 0., 0., 0., 0., 0., 1., 0., 0., 0.,\n",
            "        0.],\n",
            "       [0., 0., 0., 0., 0., 0., 0., 0., 0., 0., 0., 0., 0., 1., 0., 0.,\n",
            "        0.],\n",
            "       [0., 0., 0., 0., 0., 0., 0., 0., 0., 0., 0., 0., 0., 0., 1., 0.,\n",
            "        0.],\n",
            "       [0., 0., 0., 0., 0., 0., 0., 0., 0., 0., 0., 0., 0., 0., 0., 1.,\n",
            "        0.]])])}\n",
            "[0.0, 2332.3441046210705]\n",
            "         Granger Causality P value   r1 r2 regioes condicao\n",
            "Results        3114.228245  p<0.01  PRL  x  PRL->x   OF_pos\n",
            "         Granger Causality P value   r1 r2 regioes condicao\n",
            "Results        2332.344105  p<0.01  PRL  x  PRL->x   OF_pos\n"
          ]
        },
        {
          "name": "stderr",
          "output_type": "stream",
          "text": [
            "/usr/local/lib/python3.10/dist-packages/statsmodels/tsa/stattools.py:1488: FutureWarning: verbose is deprecated since functions should not print results\n",
            "  warnings.warn(\n"
          ]
        },
        {
          "name": "stdout",
          "output_type": "stream",
          "text": [
            "Lag: [9]\n",
            "{9: ({'ssr_ftest': (4030.3019137339857, 0.0, 14971.0, 9), 'ssr_chi2test': (36318.75166534313, 0.0, 9), 'lrtest': (18444.86556892295, 0.0, 9), 'params_ftest': (4030.3019137325773, 0.0, 14971.0, 9.0)}, [<statsmodels.regression.linear_model.RegressionResultsWrapper object at 0x79f5f2b43eb0>, <statsmodels.regression.linear_model.RegressionResultsWrapper object at 0x79f5f2b429b0>, array([[0., 0., 0., 0., 0., 0., 0., 0., 0., 1., 0., 0., 0., 0., 0., 0.,\n",
            "        0., 0., 0.],\n",
            "       [0., 0., 0., 0., 0., 0., 0., 0., 0., 0., 1., 0., 0., 0., 0., 0.,\n",
            "        0., 0., 0.],\n",
            "       [0., 0., 0., 0., 0., 0., 0., 0., 0., 0., 0., 1., 0., 0., 0., 0.,\n",
            "        0., 0., 0.],\n",
            "       [0., 0., 0., 0., 0., 0., 0., 0., 0., 0., 0., 0., 1., 0., 0., 0.,\n",
            "        0., 0., 0.],\n",
            "       [0., 0., 0., 0., 0., 0., 0., 0., 0., 0., 0., 0., 0., 1., 0., 0.,\n",
            "        0., 0., 0.],\n",
            "       [0., 0., 0., 0., 0., 0., 0., 0., 0., 0., 0., 0., 0., 0., 1., 0.,\n",
            "        0., 0., 0.],\n",
            "       [0., 0., 0., 0., 0., 0., 0., 0., 0., 0., 0., 0., 0., 0., 0., 1.,\n",
            "        0., 0., 0.],\n",
            "       [0., 0., 0., 0., 0., 0., 0., 0., 0., 0., 0., 0., 0., 0., 0., 0.,\n",
            "        1., 0., 0.],\n",
            "       [0., 0., 0., 0., 0., 0., 0., 0., 0., 0., 0., 0., 0., 0., 0., 0.,\n",
            "        0., 1., 0.]])])}\n",
            "[0.0, 4030.3019137339857]\n"
          ]
        },
        {
          "name": "stderr",
          "output_type": "stream",
          "text": [
            "/usr/local/lib/python3.10/dist-packages/statsmodels/tsa/stattools.py:1488: FutureWarning: verbose is deprecated since functions should not print results\n",
            "  warnings.warn(\n"
          ]
        },
        {
          "name": "stdout",
          "output_type": "stream",
          "text": [
            "Lag: [9]\n",
            "{9: ({'ssr_ftest': (2961.71259732371, 0.0, 14971.0, 9), 'ssr_chi2test': (26689.242302113536, 0.0, 9), 'lrtest': (15329.072394437913, 0.0, 9), 'params_ftest': (2961.712597323007, 0.0, 14971.0, 9.0)}, [<statsmodels.regression.linear_model.RegressionResultsWrapper object at 0x79f5f2b43ca0>, <statsmodels.regression.linear_model.RegressionResultsWrapper object at 0x79f5f2b41f30>, array([[0., 0., 0., 0., 0., 0., 0., 0., 0., 1., 0., 0., 0., 0., 0., 0.,\n",
            "        0., 0., 0.],\n",
            "       [0., 0., 0., 0., 0., 0., 0., 0., 0., 0., 1., 0., 0., 0., 0., 0.,\n",
            "        0., 0., 0.],\n",
            "       [0., 0., 0., 0., 0., 0., 0., 0., 0., 0., 0., 1., 0., 0., 0., 0.,\n",
            "        0., 0., 0.],\n",
            "       [0., 0., 0., 0., 0., 0., 0., 0., 0., 0., 0., 0., 1., 0., 0., 0.,\n",
            "        0., 0., 0.],\n",
            "       [0., 0., 0., 0., 0., 0., 0., 0., 0., 0., 0., 0., 0., 1., 0., 0.,\n",
            "        0., 0., 0.],\n",
            "       [0., 0., 0., 0., 0., 0., 0., 0., 0., 0., 0., 0., 0., 0., 1., 0.,\n",
            "        0., 0., 0.],\n",
            "       [0., 0., 0., 0., 0., 0., 0., 0., 0., 0., 0., 0., 0., 0., 0., 1.,\n",
            "        0., 0., 0.],\n",
            "       [0., 0., 0., 0., 0., 0., 0., 0., 0., 0., 0., 0., 0., 0., 0., 0.,\n",
            "        1., 0., 0.],\n",
            "       [0., 0., 0., 0., 0., 0., 0., 0., 0., 0., 0., 0., 0., 0., 0., 0.,\n",
            "        0., 1., 0.]])])}\n",
            "[0.0, 2961.71259732371]\n",
            "         Granger Causality P value   r1 r2 regioes condicao\n",
            "Results        4030.301914  p<0.01  PRL  x  PRL->x   OF_pos\n",
            "         Granger Causality P value   r1 r2 regioes condicao\n",
            "Results        2961.712597  p<0.01  PRL  x  PRL->x   OF_pos\n"
          ]
        },
        {
          "name": "stderr",
          "output_type": "stream",
          "text": [
            "/usr/local/lib/python3.10/dist-packages/statsmodels/tsa/stattools.py:1488: FutureWarning: verbose is deprecated since functions should not print results\n",
            "  warnings.warn(\n"
          ]
        },
        {
          "name": "stdout",
          "output_type": "stream",
          "text": [
            "Lag: [10]\n",
            "{10: ({'ssr_ftest': (4054.6935673429066, 0.0, 14968.0, 10), 'ssr_chi2test': (40603.82274245245, 0.0, 10), 'lrtest': (19646.644489569357, 0.0, 10), 'params_ftest': (4054.693567345007, 0.0, 14968.0, 10.0)}, [<statsmodels.regression.linear_model.RegressionResultsWrapper object at 0x79f5f2b41210>, <statsmodels.regression.linear_model.RegressionResultsWrapper object at 0x79f5f2b40070>, array([[0., 0., 0., 0., 0., 0., 0., 0., 0., 0., 1., 0., 0., 0., 0., 0.,\n",
            "        0., 0., 0., 0., 0.],\n",
            "       [0., 0., 0., 0., 0., 0., 0., 0., 0., 0., 0., 1., 0., 0., 0., 0.,\n",
            "        0., 0., 0., 0., 0.],\n",
            "       [0., 0., 0., 0., 0., 0., 0., 0., 0., 0., 0., 0., 1., 0., 0., 0.,\n",
            "        0., 0., 0., 0., 0.],\n",
            "       [0., 0., 0., 0., 0., 0., 0., 0., 0., 0., 0., 0., 0., 1., 0., 0.,\n",
            "        0., 0., 0., 0., 0.],\n",
            "       [0., 0., 0., 0., 0., 0., 0., 0., 0., 0., 0., 0., 0., 0., 1., 0.,\n",
            "        0., 0., 0., 0., 0.],\n",
            "       [0., 0., 0., 0., 0., 0., 0., 0., 0., 0., 0., 0., 0., 0., 0., 1.,\n",
            "        0., 0., 0., 0., 0.],\n",
            "       [0., 0., 0., 0., 0., 0., 0., 0., 0., 0., 0., 0., 0., 0., 0., 0.,\n",
            "        1., 0., 0., 0., 0.],\n",
            "       [0., 0., 0., 0., 0., 0., 0., 0., 0., 0., 0., 0., 0., 0., 0., 0.,\n",
            "        0., 1., 0., 0., 0.],\n",
            "       [0., 0., 0., 0., 0., 0., 0., 0., 0., 0., 0., 0., 0., 0., 0., 0.,\n",
            "        0., 0., 1., 0., 0.],\n",
            "       [0., 0., 0., 0., 0., 0., 0., 0., 0., 0., 0., 0., 0., 0., 0., 0.,\n",
            "        0., 0., 0., 1., 0.]])])}\n",
            "[0.0, 4054.6935673429066]\n"
          ]
        },
        {
          "name": "stderr",
          "output_type": "stream",
          "text": [
            "/usr/local/lib/python3.10/dist-packages/statsmodels/tsa/stattools.py:1488: FutureWarning: verbose is deprecated since functions should not print results\n",
            "  warnings.warn(\n"
          ]
        },
        {
          "name": "stdout",
          "output_type": "stream",
          "text": [
            "Lag: [10]\n",
            "{10: ({'ssr_ftest': (3194.019896799106, 0.0, 14968.0, 10), 'ssr_chi2test': (31985.01084521767, 0.0, 10), 'lrtest': (17121.60328245355, 0.0, 10), 'params_ftest': (3194.019896799457, 0.0, 14968.0, 10.0)}, [<statsmodels.regression.linear_model.RegressionResultsWrapper object at 0x79f5f2b42ad0>, <statsmodels.regression.linear_model.RegressionResultsWrapper object at 0x79f5f2b437f0>, array([[0., 0., 0., 0., 0., 0., 0., 0., 0., 0., 1., 0., 0., 0., 0., 0.,\n",
            "        0., 0., 0., 0., 0.],\n",
            "       [0., 0., 0., 0., 0., 0., 0., 0., 0., 0., 0., 1., 0., 0., 0., 0.,\n",
            "        0., 0., 0., 0., 0.],\n",
            "       [0., 0., 0., 0., 0., 0., 0., 0., 0., 0., 0., 0., 1., 0., 0., 0.,\n",
            "        0., 0., 0., 0., 0.],\n",
            "       [0., 0., 0., 0., 0., 0., 0., 0., 0., 0., 0., 0., 0., 1., 0., 0.,\n",
            "        0., 0., 0., 0., 0.],\n",
            "       [0., 0., 0., 0., 0., 0., 0., 0., 0., 0., 0., 0., 0., 0., 1., 0.,\n",
            "        0., 0., 0., 0., 0.],\n",
            "       [0., 0., 0., 0., 0., 0., 0., 0., 0., 0., 0., 0., 0., 0., 0., 1.,\n",
            "        0., 0., 0., 0., 0.],\n",
            "       [0., 0., 0., 0., 0., 0., 0., 0., 0., 0., 0., 0., 0., 0., 0., 0.,\n",
            "        1., 0., 0., 0., 0.],\n",
            "       [0., 0., 0., 0., 0., 0., 0., 0., 0., 0., 0., 0., 0., 0., 0., 0.,\n",
            "        0., 1., 0., 0., 0.],\n",
            "       [0., 0., 0., 0., 0., 0., 0., 0., 0., 0., 0., 0., 0., 0., 0., 0.,\n",
            "        0., 0., 1., 0., 0.],\n",
            "       [0., 0., 0., 0., 0., 0., 0., 0., 0., 0., 0., 0., 0., 0., 0., 0.,\n",
            "        0., 0., 0., 1., 0.]])])}\n",
            "[0.0, 3194.019896799106]\n",
            "         Granger Causality P value   r1 r2 regioes condicao\n",
            "Results        4054.693567  p<0.01  PRL  x  PRL->x   OF_pos\n",
            "         Granger Causality P value   r1 r2 regioes condicao\n",
            "Results        3194.019897  p<0.01  PRL  x  PRL->x   OF_pos\n"
          ]
        },
        {
          "name": "stderr",
          "output_type": "stream",
          "text": [
            "/usr/local/lib/python3.10/dist-packages/statsmodels/tsa/stattools.py:1488: FutureWarning: verbose is deprecated since functions should not print results\n",
            "  warnings.warn(\n"
          ]
        },
        {
          "name": "stdout",
          "output_type": "stream",
          "text": [
            "Lag: [11]\n",
            "{11: ({'ssr_ftest': (3484.8424977530776, 0.0, 14965.0, 11), 'ssr_chi2test': (38392.18262075205, 0.0, 11), 'lrtest': (19037.602986560087, 0.0, 11), 'params_ftest': (3484.8424977510335, 0.0, 14965.0, 11.0)}, [<statsmodels.regression.linear_model.RegressionResultsWrapper object at 0x79f5f2b404f0>, <statsmodels.regression.linear_model.RegressionResultsWrapper object at 0x79f5f2b43850>, array([[0., 0., 0., 0., 0., 0., 0., 0., 0., 0., 0., 1., 0., 0., 0., 0.,\n",
            "        0., 0., 0., 0., 0., 0., 0.],\n",
            "       [0., 0., 0., 0., 0., 0., 0., 0., 0., 0., 0., 0., 1., 0., 0., 0.,\n",
            "        0., 0., 0., 0., 0., 0., 0.],\n",
            "       [0., 0., 0., 0., 0., 0., 0., 0., 0., 0., 0., 0., 0., 1., 0., 0.,\n",
            "        0., 0., 0., 0., 0., 0., 0.],\n",
            "       [0., 0., 0., 0., 0., 0., 0., 0., 0., 0., 0., 0., 0., 0., 1., 0.,\n",
            "        0., 0., 0., 0., 0., 0., 0.],\n",
            "       [0., 0., 0., 0., 0., 0., 0., 0., 0., 0., 0., 0., 0., 0., 0., 1.,\n",
            "        0., 0., 0., 0., 0., 0., 0.],\n",
            "       [0., 0., 0., 0., 0., 0., 0., 0., 0., 0., 0., 0., 0., 0., 0., 0.,\n",
            "        1., 0., 0., 0., 0., 0., 0.],\n",
            "       [0., 0., 0., 0., 0., 0., 0., 0., 0., 0., 0., 0., 0., 0., 0., 0.,\n",
            "        0., 1., 0., 0., 0., 0., 0.],\n",
            "       [0., 0., 0., 0., 0., 0., 0., 0., 0., 0., 0., 0., 0., 0., 0., 0.,\n",
            "        0., 0., 1., 0., 0., 0., 0.],\n",
            "       [0., 0., 0., 0., 0., 0., 0., 0., 0., 0., 0., 0., 0., 0., 0., 0.,\n",
            "        0., 0., 0., 1., 0., 0., 0.],\n",
            "       [0., 0., 0., 0., 0., 0., 0., 0., 0., 0., 0., 0., 0., 0., 0., 0.,\n",
            "        0., 0., 0., 0., 1., 0., 0.],\n",
            "       [0., 0., 0., 0., 0., 0., 0., 0., 0., 0., 0., 0., 0., 0., 0., 0.,\n",
            "        0., 0., 0., 0., 0., 1., 0.]])])}\n",
            "[0.0, 3484.8424977530776]\n"
          ]
        },
        {
          "name": "stderr",
          "output_type": "stream",
          "text": [
            "/usr/local/lib/python3.10/dist-packages/statsmodels/tsa/stattools.py:1488: FutureWarning: verbose is deprecated since functions should not print results\n",
            "  warnings.warn(\n"
          ]
        },
        {
          "name": "stdout",
          "output_type": "stream",
          "text": [
            "Lag: [11]\n",
            "{11: ({'ssr_ftest': (2366.222611567535, 0.0, 14965.0, 11), 'ssr_chi2test': (26068.45235709431, 0.0, 11), 'lrtest': (15103.37950487266, 0.0, 11), 'params_ftest': (2366.2226115661924, 0.0, 14965.0, 11.0)}, [<statsmodels.regression.linear_model.RegressionResultsWrapper object at 0x79f5f2b43970>, <statsmodels.regression.linear_model.RegressionResultsWrapper object at 0x79f5f2b42ce0>, array([[0., 0., 0., 0., 0., 0., 0., 0., 0., 0., 0., 1., 0., 0., 0., 0.,\n",
            "        0., 0., 0., 0., 0., 0., 0.],\n",
            "       [0., 0., 0., 0., 0., 0., 0., 0., 0., 0., 0., 0., 1., 0., 0., 0.,\n",
            "        0., 0., 0., 0., 0., 0., 0.],\n",
            "       [0., 0., 0., 0., 0., 0., 0., 0., 0., 0., 0., 0., 0., 1., 0., 0.,\n",
            "        0., 0., 0., 0., 0., 0., 0.],\n",
            "       [0., 0., 0., 0., 0., 0., 0., 0., 0., 0., 0., 0., 0., 0., 1., 0.,\n",
            "        0., 0., 0., 0., 0., 0., 0.],\n",
            "       [0., 0., 0., 0., 0., 0., 0., 0., 0., 0., 0., 0., 0., 0., 0., 1.,\n",
            "        0., 0., 0., 0., 0., 0., 0.],\n",
            "       [0., 0., 0., 0., 0., 0., 0., 0., 0., 0., 0., 0., 0., 0., 0., 0.,\n",
            "        1., 0., 0., 0., 0., 0., 0.],\n",
            "       [0., 0., 0., 0., 0., 0., 0., 0., 0., 0., 0., 0., 0., 0., 0., 0.,\n",
            "        0., 1., 0., 0., 0., 0., 0.],\n",
            "       [0., 0., 0., 0., 0., 0., 0., 0., 0., 0., 0., 0., 0., 0., 0., 0.,\n",
            "        0., 0., 1., 0., 0., 0., 0.],\n",
            "       [0., 0., 0., 0., 0., 0., 0., 0., 0., 0., 0., 0., 0., 0., 0., 0.,\n",
            "        0., 0., 0., 1., 0., 0., 0.],\n",
            "       [0., 0., 0., 0., 0., 0., 0., 0., 0., 0., 0., 0., 0., 0., 0., 0.,\n",
            "        0., 0., 0., 0., 1., 0., 0.],\n",
            "       [0., 0., 0., 0., 0., 0., 0., 0., 0., 0., 0., 0., 0., 0., 0., 0.,\n",
            "        0., 0., 0., 0., 0., 1., 0.]])])}\n",
            "[0.0, 2366.222611567535]\n",
            "         Granger Causality P value   r1 r2 regioes condicao\n",
            "Results        3484.842498  p<0.01  PRL  x  PRL->x   OF_pos\n",
            "         Granger Causality P value   r1 r2 regioes condicao\n",
            "Results        2366.222612  p<0.01  PRL  x  PRL->x   OF_pos\n"
          ]
        },
        {
          "name": "stderr",
          "output_type": "stream",
          "text": [
            "/usr/local/lib/python3.10/dist-packages/statsmodels/tsa/stattools.py:1488: FutureWarning: verbose is deprecated since functions should not print results\n",
            "  warnings.warn(\n"
          ]
        },
        {
          "name": "stdout",
          "output_type": "stream",
          "text": [
            "Lag: [12]\n",
            "{12: ({'ssr_ftest': (3530.073218748187, 0.0, 14962.0, 12), 'ssr_chi2test': (42431.65940065158, 0.0, 12), 'lrtest': (20130.331107355887, 0.0, 12), 'params_ftest': (3530.073218750676, 0.0, 14962.0, 12.0)}, [<statsmodels.regression.linear_model.RegressionResultsWrapper object at 0x79f5f2b42d10>, <statsmodels.regression.linear_model.RegressionResultsWrapper object at 0x79f5f2b41ff0>, array([[0., 0., 0., 0., 0., 0., 0., 0., 0., 0., 0., 0., 1., 0., 0., 0.,\n",
            "        0., 0., 0., 0., 0., 0., 0., 0., 0.],\n",
            "       [0., 0., 0., 0., 0., 0., 0., 0., 0., 0., 0., 0., 0., 1., 0., 0.,\n",
            "        0., 0., 0., 0., 0., 0., 0., 0., 0.],\n",
            "       [0., 0., 0., 0., 0., 0., 0., 0., 0., 0., 0., 0., 0., 0., 1., 0.,\n",
            "        0., 0., 0., 0., 0., 0., 0., 0., 0.],\n",
            "       [0., 0., 0., 0., 0., 0., 0., 0., 0., 0., 0., 0., 0., 0., 0., 1.,\n",
            "        0., 0., 0., 0., 0., 0., 0., 0., 0.],\n",
            "       [0., 0., 0., 0., 0., 0., 0., 0., 0., 0., 0., 0., 0., 0., 0., 0.,\n",
            "        1., 0., 0., 0., 0., 0., 0., 0., 0.],\n",
            "       [0., 0., 0., 0., 0., 0., 0., 0., 0., 0., 0., 0., 0., 0., 0., 0.,\n",
            "        0., 1., 0., 0., 0., 0., 0., 0., 0.],\n",
            "       [0., 0., 0., 0., 0., 0., 0., 0., 0., 0., 0., 0., 0., 0., 0., 0.,\n",
            "        0., 0., 1., 0., 0., 0., 0., 0., 0.],\n",
            "       [0., 0., 0., 0., 0., 0., 0., 0., 0., 0., 0., 0., 0., 0., 0., 0.,\n",
            "        0., 0., 0., 1., 0., 0., 0., 0., 0.],\n",
            "       [0., 0., 0., 0., 0., 0., 0., 0., 0., 0., 0., 0., 0., 0., 0., 0.,\n",
            "        0., 0., 0., 0., 1., 0., 0., 0., 0.],\n",
            "       [0., 0., 0., 0., 0., 0., 0., 0., 0., 0., 0., 0., 0., 0., 0., 0.,\n",
            "        0., 0., 0., 0., 0., 1., 0., 0., 0.],\n",
            "       [0., 0., 0., 0., 0., 0., 0., 0., 0., 0., 0., 0., 0., 0., 0., 0.,\n",
            "        0., 0., 0., 0., 0., 0., 1., 0., 0.],\n",
            "       [0., 0., 0., 0., 0., 0., 0., 0., 0., 0., 0., 0., 0., 0., 0., 0.,\n",
            "        0., 0., 0., 0., 0., 0., 0., 1., 0.]])])}\n",
            "[0.0, 3530.073218748187]\n"
          ]
        },
        {
          "name": "stderr",
          "output_type": "stream",
          "text": [
            "/usr/local/lib/python3.10/dist-packages/statsmodels/tsa/stattools.py:1488: FutureWarning: verbose is deprecated since functions should not print results\n",
            "  warnings.warn(\n"
          ]
        },
        {
          "name": "stdout",
          "output_type": "stream",
          "text": [
            "Lag: [12]\n",
            "{12: ({'ssr_ftest': (1248.8279133088545, 0.0, 14962.0, 12), 'ssr_chi2test': (15010.974952621149, 0.0, 12), 'lrtest': (10400.179479776183, 0.0, 12), 'params_ftest': (1248.827913308435, 0.0, 14962.0, 12.0)}, [<statsmodels.regression.linear_model.RegressionResultsWrapper object at 0x79f5f2b41210>, <statsmodels.regression.linear_model.RegressionResultsWrapper object at 0x79f5f2b437f0>, array([[0., 0., 0., 0., 0., 0., 0., 0., 0., 0., 0., 0., 1., 0., 0., 0.,\n",
            "        0., 0., 0., 0., 0., 0., 0., 0., 0.],\n",
            "       [0., 0., 0., 0., 0., 0., 0., 0., 0., 0., 0., 0., 0., 1., 0., 0.,\n",
            "        0., 0., 0., 0., 0., 0., 0., 0., 0.],\n",
            "       [0., 0., 0., 0., 0., 0., 0., 0., 0., 0., 0., 0., 0., 0., 1., 0.,\n",
            "        0., 0., 0., 0., 0., 0., 0., 0., 0.],\n",
            "       [0., 0., 0., 0., 0., 0., 0., 0., 0., 0., 0., 0., 0., 0., 0., 1.,\n",
            "        0., 0., 0., 0., 0., 0., 0., 0., 0.],\n",
            "       [0., 0., 0., 0., 0., 0., 0., 0., 0., 0., 0., 0., 0., 0., 0., 0.,\n",
            "        1., 0., 0., 0., 0., 0., 0., 0., 0.],\n",
            "       [0., 0., 0., 0., 0., 0., 0., 0., 0., 0., 0., 0., 0., 0., 0., 0.,\n",
            "        0., 1., 0., 0., 0., 0., 0., 0., 0.],\n",
            "       [0., 0., 0., 0., 0., 0., 0., 0., 0., 0., 0., 0., 0., 0., 0., 0.,\n",
            "        0., 0., 1., 0., 0., 0., 0., 0., 0.],\n",
            "       [0., 0., 0., 0., 0., 0., 0., 0., 0., 0., 0., 0., 0., 0., 0., 0.,\n",
            "        0., 0., 0., 1., 0., 0., 0., 0., 0.],\n",
            "       [0., 0., 0., 0., 0., 0., 0., 0., 0., 0., 0., 0., 0., 0., 0., 0.,\n",
            "        0., 0., 0., 0., 1., 0., 0., 0., 0.],\n",
            "       [0., 0., 0., 0., 0., 0., 0., 0., 0., 0., 0., 0., 0., 0., 0., 0.,\n",
            "        0., 0., 0., 0., 0., 1., 0., 0., 0.],\n",
            "       [0., 0., 0., 0., 0., 0., 0., 0., 0., 0., 0., 0., 0., 0., 0., 0.,\n",
            "        0., 0., 0., 0., 0., 0., 1., 0., 0.],\n",
            "       [0., 0., 0., 0., 0., 0., 0., 0., 0., 0., 0., 0., 0., 0., 0., 0.,\n",
            "        0., 0., 0., 0., 0., 0., 0., 1., 0.]])])}\n",
            "[0.0, 1248.8279133088545]\n",
            "         Granger Causality P value   r1 r2 regioes condicao\n",
            "Results        3530.073219  p<0.01  PRL  x  PRL->x   OF_pos\n",
            "         Granger Causality P value   r1 r2 regioes condicao\n",
            "Results        1248.827913  p<0.01  PRL  x  PRL->x   OF_pos\n"
          ]
        },
        {
          "name": "stderr",
          "output_type": "stream",
          "text": [
            "/usr/local/lib/python3.10/dist-packages/statsmodels/tsa/stattools.py:1488: FutureWarning: verbose is deprecated since functions should not print results\n",
            "  warnings.warn(\n"
          ]
        },
        {
          "name": "stdout",
          "output_type": "stream",
          "text": [
            "Lag: [13]\n",
            "{13: ({'ssr_ftest': (2825.169212126342, 0.0, 14959.0, 13), 'ssr_chi2test': (36793.4899102901, 0.0, 13), 'lrtest': (18580.807080885745, 0.0, 13), 'params_ftest': (2825.169212125538, 0.0, 14959.0, 13.0)}, [<statsmodels.regression.linear_model.RegressionResultsWrapper object at 0x79f5f2b42890>, <statsmodels.regression.linear_model.RegressionResultsWrapper object at 0x79f5f2b41600>, array([[0., 0., 0., 0., 0., 0., 0., 0., 0., 0., 0., 0., 0., 1., 0., 0.,\n",
            "        0., 0., 0., 0., 0., 0., 0., 0., 0., 0., 0.],\n",
            "       [0., 0., 0., 0., 0., 0., 0., 0., 0., 0., 0., 0., 0., 0., 1., 0.,\n",
            "        0., 0., 0., 0., 0., 0., 0., 0., 0., 0., 0.],\n",
            "       [0., 0., 0., 0., 0., 0., 0., 0., 0., 0., 0., 0., 0., 0., 0., 1.,\n",
            "        0., 0., 0., 0., 0., 0., 0., 0., 0., 0., 0.],\n",
            "       [0., 0., 0., 0., 0., 0., 0., 0., 0., 0., 0., 0., 0., 0., 0., 0.,\n",
            "        1., 0., 0., 0., 0., 0., 0., 0., 0., 0., 0.],\n",
            "       [0., 0., 0., 0., 0., 0., 0., 0., 0., 0., 0., 0., 0., 0., 0., 0.,\n",
            "        0., 1., 0., 0., 0., 0., 0., 0., 0., 0., 0.],\n",
            "       [0., 0., 0., 0., 0., 0., 0., 0., 0., 0., 0., 0., 0., 0., 0., 0.,\n",
            "        0., 0., 1., 0., 0., 0., 0., 0., 0., 0., 0.],\n",
            "       [0., 0., 0., 0., 0., 0., 0., 0., 0., 0., 0., 0., 0., 0., 0., 0.,\n",
            "        0., 0., 0., 1., 0., 0., 0., 0., 0., 0., 0.],\n",
            "       [0., 0., 0., 0., 0., 0., 0., 0., 0., 0., 0., 0., 0., 0., 0., 0.,\n",
            "        0., 0., 0., 0., 1., 0., 0., 0., 0., 0., 0.],\n",
            "       [0., 0., 0., 0., 0., 0., 0., 0., 0., 0., 0., 0., 0., 0., 0., 0.,\n",
            "        0., 0., 0., 0., 0., 1., 0., 0., 0., 0., 0.],\n",
            "       [0., 0., 0., 0., 0., 0., 0., 0., 0., 0., 0., 0., 0., 0., 0., 0.,\n",
            "        0., 0., 0., 0., 0., 0., 1., 0., 0., 0., 0.],\n",
            "       [0., 0., 0., 0., 0., 0., 0., 0., 0., 0., 0., 0., 0., 0., 0., 0.,\n",
            "        0., 0., 0., 0., 0., 0., 0., 1., 0., 0., 0.],\n",
            "       [0., 0., 0., 0., 0., 0., 0., 0., 0., 0., 0., 0., 0., 0., 0., 0.,\n",
            "        0., 0., 0., 0., 0., 0., 0., 0., 1., 0., 0.],\n",
            "       [0., 0., 0., 0., 0., 0., 0., 0., 0., 0., 0., 0., 0., 0., 0., 0.,\n",
            "        0., 0., 0., 0., 0., 0., 0., 0., 0., 1., 0.]])])}\n",
            "[0.0, 2825.169212126342]\n"
          ]
        },
        {
          "name": "stderr",
          "output_type": "stream",
          "text": [
            "/usr/local/lib/python3.10/dist-packages/statsmodels/tsa/stattools.py:1488: FutureWarning: verbose is deprecated since functions should not print results\n",
            "  warnings.warn(\n"
          ]
        },
        {
          "name": "stdout",
          "output_type": "stream",
          "text": [
            "Lag: [13]\n",
            "{13: ({'ssr_ftest': (1071.0467638391733, 0.0, 14959.0, 13), 'ssr_chi2test': (13948.73911609199, 0.0, 13), 'lrtest': (9859.686331746401, 0.0, 13), 'params_ftest': (1071.0467638396128, 0.0, 14959.0, 13.0)}, [<statsmodels.regression.linear_model.RegressionResultsWrapper object at 0x79f5f2b41930>, <statsmodels.regression.linear_model.RegressionResultsWrapper object at 0x79f5f2b413c0>, array([[0., 0., 0., 0., 0., 0., 0., 0., 0., 0., 0., 0., 0., 1., 0., 0.,\n",
            "        0., 0., 0., 0., 0., 0., 0., 0., 0., 0., 0.],\n",
            "       [0., 0., 0., 0., 0., 0., 0., 0., 0., 0., 0., 0., 0., 0., 1., 0.,\n",
            "        0., 0., 0., 0., 0., 0., 0., 0., 0., 0., 0.],\n",
            "       [0., 0., 0., 0., 0., 0., 0., 0., 0., 0., 0., 0., 0., 0., 0., 1.,\n",
            "        0., 0., 0., 0., 0., 0., 0., 0., 0., 0., 0.],\n",
            "       [0., 0., 0., 0., 0., 0., 0., 0., 0., 0., 0., 0., 0., 0., 0., 0.,\n",
            "        1., 0., 0., 0., 0., 0., 0., 0., 0., 0., 0.],\n",
            "       [0., 0., 0., 0., 0., 0., 0., 0., 0., 0., 0., 0., 0., 0., 0., 0.,\n",
            "        0., 1., 0., 0., 0., 0., 0., 0., 0., 0., 0.],\n",
            "       [0., 0., 0., 0., 0., 0., 0., 0., 0., 0., 0., 0., 0., 0., 0., 0.,\n",
            "        0., 0., 1., 0., 0., 0., 0., 0., 0., 0., 0.],\n",
            "       [0., 0., 0., 0., 0., 0., 0., 0., 0., 0., 0., 0., 0., 0., 0., 0.,\n",
            "        0., 0., 0., 1., 0., 0., 0., 0., 0., 0., 0.],\n",
            "       [0., 0., 0., 0., 0., 0., 0., 0., 0., 0., 0., 0., 0., 0., 0., 0.,\n",
            "        0., 0., 0., 0., 1., 0., 0., 0., 0., 0., 0.],\n",
            "       [0., 0., 0., 0., 0., 0., 0., 0., 0., 0., 0., 0., 0., 0., 0., 0.,\n",
            "        0., 0., 0., 0., 0., 1., 0., 0., 0., 0., 0.],\n",
            "       [0., 0., 0., 0., 0., 0., 0., 0., 0., 0., 0., 0., 0., 0., 0., 0.,\n",
            "        0., 0., 0., 0., 0., 0., 1., 0., 0., 0., 0.],\n",
            "       [0., 0., 0., 0., 0., 0., 0., 0., 0., 0., 0., 0., 0., 0., 0., 0.,\n",
            "        0., 0., 0., 0., 0., 0., 0., 1., 0., 0., 0.],\n",
            "       [0., 0., 0., 0., 0., 0., 0., 0., 0., 0., 0., 0., 0., 0., 0., 0.,\n",
            "        0., 0., 0., 0., 0., 0., 0., 0., 1., 0., 0.],\n",
            "       [0., 0., 0., 0., 0., 0., 0., 0., 0., 0., 0., 0., 0., 0., 0., 0.,\n",
            "        0., 0., 0., 0., 0., 0., 0., 0., 0., 1., 0.]])])}\n",
            "[0.0, 1071.0467638391733]\n",
            "         Granger Causality P value   r1 r2 regioes condicao\n",
            "Results        2825.169212  p<0.01  PRL  x  PRL->x   OF_pos\n",
            "         Granger Causality P value   r1 r2 regioes condicao\n",
            "Results        1071.046764  p<0.01  PRL  x  PRL->x   OF_pos\n"
          ]
        },
        {
          "name": "stderr",
          "output_type": "stream",
          "text": [
            "/usr/local/lib/python3.10/dist-packages/statsmodels/tsa/stattools.py:1488: FutureWarning: verbose is deprecated since functions should not print results\n",
            "  warnings.warn(\n"
          ]
        },
        {
          "name": "stdout",
          "output_type": "stream",
          "text": [
            "Lag: [14]\n",
            "{14: ({'ssr_ftest': (3231.6378062195286, 0.0, 14956.0, 14), 'ssr_chi2test': (45330.65628288278, 0.0, 14), 'lrtest': (20867.242006554152, 0.0, 14), 'params_ftest': (3231.6378062229082, 0.0, 14956.0, 14.0)}, [<statsmodels.regression.linear_model.RegressionResultsWrapper object at 0x79f5f2b40130>, <statsmodels.regression.linear_model.RegressionResultsWrapper object at 0x79f5f2b402e0>, array([[0., 0., 0., 0., 0., 0., 0., 0., 0., 0., 0., 0., 0., 0., 1., 0.,\n",
            "        0., 0., 0., 0., 0., 0., 0., 0., 0., 0., 0., 0., 0.],\n",
            "       [0., 0., 0., 0., 0., 0., 0., 0., 0., 0., 0., 0., 0., 0., 0., 1.,\n",
            "        0., 0., 0., 0., 0., 0., 0., 0., 0., 0., 0., 0., 0.],\n",
            "       [0., 0., 0., 0., 0., 0., 0., 0., 0., 0., 0., 0., 0., 0., 0., 0.,\n",
            "        1., 0., 0., 0., 0., 0., 0., 0., 0., 0., 0., 0., 0.],\n",
            "       [0., 0., 0., 0., 0., 0., 0., 0., 0., 0., 0., 0., 0., 0., 0., 0.,\n",
            "        0., 1., 0., 0., 0., 0., 0., 0., 0., 0., 0., 0., 0.],\n",
            "       [0., 0., 0., 0., 0., 0., 0., 0., 0., 0., 0., 0., 0., 0., 0., 0.,\n",
            "        0., 0., 1., 0., 0., 0., 0., 0., 0., 0., 0., 0., 0.],\n",
            "       [0., 0., 0., 0., 0., 0., 0., 0., 0., 0., 0., 0., 0., 0., 0., 0.,\n",
            "        0., 0., 0., 1., 0., 0., 0., 0., 0., 0., 0., 0., 0.],\n",
            "       [0., 0., 0., 0., 0., 0., 0., 0., 0., 0., 0., 0., 0., 0., 0., 0.,\n",
            "        0., 0., 0., 0., 1., 0., 0., 0., 0., 0., 0., 0., 0.],\n",
            "       [0., 0., 0., 0., 0., 0., 0., 0., 0., 0., 0., 0., 0., 0., 0., 0.,\n",
            "        0., 0., 0., 0., 0., 1., 0., 0., 0., 0., 0., 0., 0.],\n",
            "       [0., 0., 0., 0., 0., 0., 0., 0., 0., 0., 0., 0., 0., 0., 0., 0.,\n",
            "        0., 0., 0., 0., 0., 0., 1., 0., 0., 0., 0., 0., 0.],\n",
            "       [0., 0., 0., 0., 0., 0., 0., 0., 0., 0., 0., 0., 0., 0., 0., 0.,\n",
            "        0., 0., 0., 0., 0., 0., 0., 1., 0., 0., 0., 0., 0.],\n",
            "       [0., 0., 0., 0., 0., 0., 0., 0., 0., 0., 0., 0., 0., 0., 0., 0.,\n",
            "        0., 0., 0., 0., 0., 0., 0., 0., 1., 0., 0., 0., 0.],\n",
            "       [0., 0., 0., 0., 0., 0., 0., 0., 0., 0., 0., 0., 0., 0., 0., 0.,\n",
            "        0., 0., 0., 0., 0., 0., 0., 0., 0., 1., 0., 0., 0.],\n",
            "       [0., 0., 0., 0., 0., 0., 0., 0., 0., 0., 0., 0., 0., 0., 0., 0.,\n",
            "        0., 0., 0., 0., 0., 0., 0., 0., 0., 0., 1., 0., 0.],\n",
            "       [0., 0., 0., 0., 0., 0., 0., 0., 0., 0., 0., 0., 0., 0., 0., 0.,\n",
            "        0., 0., 0., 0., 0., 0., 0., 0., 0., 0., 0., 1., 0.]])])}\n",
            "[0.0, 3231.6378062195286]\n"
          ]
        },
        {
          "name": "stderr",
          "output_type": "stream",
          "text": [
            "/usr/local/lib/python3.10/dist-packages/statsmodels/tsa/stattools.py:1488: FutureWarning: verbose is deprecated since functions should not print results\n",
            "  warnings.warn(\n"
          ]
        },
        {
          "name": "stdout",
          "output_type": "stream",
          "text": [
            "Lag: [14]\n",
            "{14: ({'ssr_ftest': (1032.9073930769557, 0.0, 14956.0, 14), 'ssr_chi2test': (14488.743112704902, 0.0, 14), 'lrtest': (10136.604782349663, 0.0, 14), 'params_ftest': (1032.9073930765608, 0.0, 14956.0, 14.0)}, [<statsmodels.regression.linear_model.RegressionResultsWrapper object at 0x79f5f2b42d10>, <statsmodels.regression.linear_model.RegressionResultsWrapper object at 0x79f5f2b43ca0>, array([[0., 0., 0., 0., 0., 0., 0., 0., 0., 0., 0., 0., 0., 0., 1., 0.,\n",
            "        0., 0., 0., 0., 0., 0., 0., 0., 0., 0., 0., 0., 0.],\n",
            "       [0., 0., 0., 0., 0., 0., 0., 0., 0., 0., 0., 0., 0., 0., 0., 1.,\n",
            "        0., 0., 0., 0., 0., 0., 0., 0., 0., 0., 0., 0., 0.],\n",
            "       [0., 0., 0., 0., 0., 0., 0., 0., 0., 0., 0., 0., 0., 0., 0., 0.,\n",
            "        1., 0., 0., 0., 0., 0., 0., 0., 0., 0., 0., 0., 0.],\n",
            "       [0., 0., 0., 0., 0., 0., 0., 0., 0., 0., 0., 0., 0., 0., 0., 0.,\n",
            "        0., 1., 0., 0., 0., 0., 0., 0., 0., 0., 0., 0., 0.],\n",
            "       [0., 0., 0., 0., 0., 0., 0., 0., 0., 0., 0., 0., 0., 0., 0., 0.,\n",
            "        0., 0., 1., 0., 0., 0., 0., 0., 0., 0., 0., 0., 0.],\n",
            "       [0., 0., 0., 0., 0., 0., 0., 0., 0., 0., 0., 0., 0., 0., 0., 0.,\n",
            "        0., 0., 0., 1., 0., 0., 0., 0., 0., 0., 0., 0., 0.],\n",
            "       [0., 0., 0., 0., 0., 0., 0., 0., 0., 0., 0., 0., 0., 0., 0., 0.,\n",
            "        0., 0., 0., 0., 1., 0., 0., 0., 0., 0., 0., 0., 0.],\n",
            "       [0., 0., 0., 0., 0., 0., 0., 0., 0., 0., 0., 0., 0., 0., 0., 0.,\n",
            "        0., 0., 0., 0., 0., 1., 0., 0., 0., 0., 0., 0., 0.],\n",
            "       [0., 0., 0., 0., 0., 0., 0., 0., 0., 0., 0., 0., 0., 0., 0., 0.,\n",
            "        0., 0., 0., 0., 0., 0., 1., 0., 0., 0., 0., 0., 0.],\n",
            "       [0., 0., 0., 0., 0., 0., 0., 0., 0., 0., 0., 0., 0., 0., 0., 0.,\n",
            "        0., 0., 0., 0., 0., 0., 0., 1., 0., 0., 0., 0., 0.],\n",
            "       [0., 0., 0., 0., 0., 0., 0., 0., 0., 0., 0., 0., 0., 0., 0., 0.,\n",
            "        0., 0., 0., 0., 0., 0., 0., 0., 1., 0., 0., 0., 0.],\n",
            "       [0., 0., 0., 0., 0., 0., 0., 0., 0., 0., 0., 0., 0., 0., 0., 0.,\n",
            "        0., 0., 0., 0., 0., 0., 0., 0., 0., 1., 0., 0., 0.],\n",
            "       [0., 0., 0., 0., 0., 0., 0., 0., 0., 0., 0., 0., 0., 0., 0., 0.,\n",
            "        0., 0., 0., 0., 0., 0., 0., 0., 0., 0., 1., 0., 0.],\n",
            "       [0., 0., 0., 0., 0., 0., 0., 0., 0., 0., 0., 0., 0., 0., 0., 0.,\n",
            "        0., 0., 0., 0., 0., 0., 0., 0., 0., 0., 0., 1., 0.]])])}\n",
            "[0.0, 1032.9073930769557]\n",
            "         Granger Causality P value   r1 r2 regioes condicao\n",
            "Results        3231.637806  p<0.01  PRL  x  PRL->x   OF_pos\n",
            "         Granger Causality P value   r1 r2 regioes condicao\n",
            "Results        1032.907393  p<0.01  PRL  x  PRL->x   OF_pos\n"
          ]
        },
        {
          "name": "stderr",
          "output_type": "stream",
          "text": [
            "/usr/local/lib/python3.10/dist-packages/statsmodels/tsa/stattools.py:1488: FutureWarning: verbose is deprecated since functions should not print results\n",
            "  warnings.warn(\n"
          ]
        },
        {
          "name": "stdout",
          "output_type": "stream",
          "text": [
            "Lag: [15]\n",
            "{15: ({'ssr_ftest': (2639.4733859608186, 0.0, 14953.0, 15), 'ssr_chi2test': (39674.18165107695, 0.0, 15), 'lrtest': (19391.03336884163, 0.0, 15), 'params_ftest': (2639.4733859524927, 0.0, 14953.0, 15.0)}, [<statsmodels.regression.linear_model.RegressionResultsWrapper object at 0x79f5f2b42800>, <statsmodels.regression.linear_model.RegressionResultsWrapper object at 0x79f5f2b40130>, array([[0., 0., 0., 0., 0., 0., 0., 0., 0., 0., 0., 0., 0., 0., 0., 1.,\n",
            "        0., 0., 0., 0., 0., 0., 0., 0., 0., 0., 0., 0., 0., 0., 0.],\n",
            "       [0., 0., 0., 0., 0., 0., 0., 0., 0., 0., 0., 0., 0., 0., 0., 0.,\n",
            "        1., 0., 0., 0., 0., 0., 0., 0., 0., 0., 0., 0., 0., 0., 0.],\n",
            "       [0., 0., 0., 0., 0., 0., 0., 0., 0., 0., 0., 0., 0., 0., 0., 0.,\n",
            "        0., 1., 0., 0., 0., 0., 0., 0., 0., 0., 0., 0., 0., 0., 0.],\n",
            "       [0., 0., 0., 0., 0., 0., 0., 0., 0., 0., 0., 0., 0., 0., 0., 0.,\n",
            "        0., 0., 1., 0., 0., 0., 0., 0., 0., 0., 0., 0., 0., 0., 0.],\n",
            "       [0., 0., 0., 0., 0., 0., 0., 0., 0., 0., 0., 0., 0., 0., 0., 0.,\n",
            "        0., 0., 0., 1., 0., 0., 0., 0., 0., 0., 0., 0., 0., 0., 0.],\n",
            "       [0., 0., 0., 0., 0., 0., 0., 0., 0., 0., 0., 0., 0., 0., 0., 0.,\n",
            "        0., 0., 0., 0., 1., 0., 0., 0., 0., 0., 0., 0., 0., 0., 0.],\n",
            "       [0., 0., 0., 0., 0., 0., 0., 0., 0., 0., 0., 0., 0., 0., 0., 0.,\n",
            "        0., 0., 0., 0., 0., 1., 0., 0., 0., 0., 0., 0., 0., 0., 0.],\n",
            "       [0., 0., 0., 0., 0., 0., 0., 0., 0., 0., 0., 0., 0., 0., 0., 0.,\n",
            "        0., 0., 0., 0., 0., 0., 1., 0., 0., 0., 0., 0., 0., 0., 0.],\n",
            "       [0., 0., 0., 0., 0., 0., 0., 0., 0., 0., 0., 0., 0., 0., 0., 0.,\n",
            "        0., 0., 0., 0., 0., 0., 0., 1., 0., 0., 0., 0., 0., 0., 0.],\n",
            "       [0., 0., 0., 0., 0., 0., 0., 0., 0., 0., 0., 0., 0., 0., 0., 0.,\n",
            "        0., 0., 0., 0., 0., 0., 0., 0., 1., 0., 0., 0., 0., 0., 0.],\n",
            "       [0., 0., 0., 0., 0., 0., 0., 0., 0., 0., 0., 0., 0., 0., 0., 0.,\n",
            "        0., 0., 0., 0., 0., 0., 0., 0., 0., 1., 0., 0., 0., 0., 0.],\n",
            "       [0., 0., 0., 0., 0., 0., 0., 0., 0., 0., 0., 0., 0., 0., 0., 0.,\n",
            "        0., 0., 0., 0., 0., 0., 0., 0., 0., 0., 1., 0., 0., 0., 0.],\n",
            "       [0., 0., 0., 0., 0., 0., 0., 0., 0., 0., 0., 0., 0., 0., 0., 0.,\n",
            "        0., 0., 0., 0., 0., 0., 0., 0., 0., 0., 0., 1., 0., 0., 0.],\n",
            "       [0., 0., 0., 0., 0., 0., 0., 0., 0., 0., 0., 0., 0., 0., 0., 0.,\n",
            "        0., 0., 0., 0., 0., 0., 0., 0., 0., 0., 0., 0., 1., 0., 0.],\n",
            "       [0., 0., 0., 0., 0., 0., 0., 0., 0., 0., 0., 0., 0., 0., 0., 0.,\n",
            "        0., 0., 0., 0., 0., 0., 0., 0., 0., 0., 0., 0., 0., 1., 0.]])])}\n",
            "[0.0, 2639.4733859608186]\n"
          ]
        },
        {
          "name": "stderr",
          "output_type": "stream",
          "text": [
            "/usr/local/lib/python3.10/dist-packages/statsmodels/tsa/stattools.py:1488: FutureWarning: verbose is deprecated since functions should not print results\n",
            "  warnings.warn(\n"
          ]
        },
        {
          "name": "stdout",
          "output_type": "stream",
          "text": [
            "Lag: [15]\n",
            "{15: ({'ssr_ftest': (1004.1315215591343, 0.0, 14953.0, 15), 'ssr_chi2test': (15093.198741766271, 0.0, 15), 'lrtest': (10440.617489567026, 0.0, 15), 'params_ftest': (1004.1315215585854, 0.0, 14953.0, 15.0)}, [<statsmodels.regression.linear_model.RegressionResultsWrapper object at 0x79f5f2b41030>, <statsmodels.regression.linear_model.RegressionResultsWrapper object at 0x79f5f2b411b0>, array([[0., 0., 0., 0., 0., 0., 0., 0., 0., 0., 0., 0., 0., 0., 0., 1.,\n",
            "        0., 0., 0., 0., 0., 0., 0., 0., 0., 0., 0., 0., 0., 0., 0.],\n",
            "       [0., 0., 0., 0., 0., 0., 0., 0., 0., 0., 0., 0., 0., 0., 0., 0.,\n",
            "        1., 0., 0., 0., 0., 0., 0., 0., 0., 0., 0., 0., 0., 0., 0.],\n",
            "       [0., 0., 0., 0., 0., 0., 0., 0., 0., 0., 0., 0., 0., 0., 0., 0.,\n",
            "        0., 1., 0., 0., 0., 0., 0., 0., 0., 0., 0., 0., 0., 0., 0.],\n",
            "       [0., 0., 0., 0., 0., 0., 0., 0., 0., 0., 0., 0., 0., 0., 0., 0.,\n",
            "        0., 0., 1., 0., 0., 0., 0., 0., 0., 0., 0., 0., 0., 0., 0.],\n",
            "       [0., 0., 0., 0., 0., 0., 0., 0., 0., 0., 0., 0., 0., 0., 0., 0.,\n",
            "        0., 0., 0., 1., 0., 0., 0., 0., 0., 0., 0., 0., 0., 0., 0.],\n",
            "       [0., 0., 0., 0., 0., 0., 0., 0., 0., 0., 0., 0., 0., 0., 0., 0.,\n",
            "        0., 0., 0., 0., 1., 0., 0., 0., 0., 0., 0., 0., 0., 0., 0.],\n",
            "       [0., 0., 0., 0., 0., 0., 0., 0., 0., 0., 0., 0., 0., 0., 0., 0.,\n",
            "        0., 0., 0., 0., 0., 1., 0., 0., 0., 0., 0., 0., 0., 0., 0.],\n",
            "       [0., 0., 0., 0., 0., 0., 0., 0., 0., 0., 0., 0., 0., 0., 0., 0.,\n",
            "        0., 0., 0., 0., 0., 0., 1., 0., 0., 0., 0., 0., 0., 0., 0.],\n",
            "       [0., 0., 0., 0., 0., 0., 0., 0., 0., 0., 0., 0., 0., 0., 0., 0.,\n",
            "        0., 0., 0., 0., 0., 0., 0., 1., 0., 0., 0., 0., 0., 0., 0.],\n",
            "       [0., 0., 0., 0., 0., 0., 0., 0., 0., 0., 0., 0., 0., 0., 0., 0.,\n",
            "        0., 0., 0., 0., 0., 0., 0., 0., 1., 0., 0., 0., 0., 0., 0.],\n",
            "       [0., 0., 0., 0., 0., 0., 0., 0., 0., 0., 0., 0., 0., 0., 0., 0.,\n",
            "        0., 0., 0., 0., 0., 0., 0., 0., 0., 1., 0., 0., 0., 0., 0.],\n",
            "       [0., 0., 0., 0., 0., 0., 0., 0., 0., 0., 0., 0., 0., 0., 0., 0.,\n",
            "        0., 0., 0., 0., 0., 0., 0., 0., 0., 0., 1., 0., 0., 0., 0.],\n",
            "       [0., 0., 0., 0., 0., 0., 0., 0., 0., 0., 0., 0., 0., 0., 0., 0.,\n",
            "        0., 0., 0., 0., 0., 0., 0., 0., 0., 0., 0., 1., 0., 0., 0.],\n",
            "       [0., 0., 0., 0., 0., 0., 0., 0., 0., 0., 0., 0., 0., 0., 0., 0.,\n",
            "        0., 0., 0., 0., 0., 0., 0., 0., 0., 0., 0., 0., 1., 0., 0.],\n",
            "       [0., 0., 0., 0., 0., 0., 0., 0., 0., 0., 0., 0., 0., 0., 0., 0.,\n",
            "        0., 0., 0., 0., 0., 0., 0., 0., 0., 0., 0., 0., 0., 1., 0.]])])}\n",
            "[0.0, 1004.1315215591343]\n",
            "         Granger Causality P value   r1 r2 regioes condicao\n",
            "Results        2639.473386  p<0.01  PRL  x  PRL->x   OF_pos\n",
            "         Granger Causality P value   r1 r2 regioes condicao\n",
            "Results        1004.131522  p<0.01  PRL  x  PRL->x   OF_pos\n"
          ]
        },
        {
          "name": "stderr",
          "output_type": "stream",
          "text": [
            "/usr/local/lib/python3.10/dist-packages/statsmodels/tsa/stattools.py:1488: FutureWarning: verbose is deprecated since functions should not print results\n",
            "  warnings.warn(\n"
          ]
        },
        {
          "name": "stdout",
          "output_type": "stream",
          "text": [
            "Lag: [16]\n",
            "{16: ({'ssr_ftest': (2352.0562263462843, 0.0, 14950.0, 16), 'ssr_chi2test': (37715.968898297135, 0.0, 16), 'lrtest': (18843.814417663845, 0.0, 16), 'params_ftest': (2352.056226352925, 0.0, 14950.0, 16.0)}, [<statsmodels.regression.linear_model.RegressionResultsWrapper object at 0x79f5f2b41210>, <statsmodels.regression.linear_model.RegressionResultsWrapper object at 0x79f5f2b43b20>, array([[0., 0., 0., 0., 0., 0., 0., 0., 0., 0., 0., 0., 0., 0., 0., 0.,\n",
            "        1., 0., 0., 0., 0., 0., 0., 0., 0., 0., 0., 0., 0., 0., 0., 0.,\n",
            "        0.],\n",
            "       [0., 0., 0., 0., 0., 0., 0., 0., 0., 0., 0., 0., 0., 0., 0., 0.,\n",
            "        0., 1., 0., 0., 0., 0., 0., 0., 0., 0., 0., 0., 0., 0., 0., 0.,\n",
            "        0.],\n",
            "       [0., 0., 0., 0., 0., 0., 0., 0., 0., 0., 0., 0., 0., 0., 0., 0.,\n",
            "        0., 0., 1., 0., 0., 0., 0., 0., 0., 0., 0., 0., 0., 0., 0., 0.,\n",
            "        0.],\n",
            "       [0., 0., 0., 0., 0., 0., 0., 0., 0., 0., 0., 0., 0., 0., 0., 0.,\n",
            "        0., 0., 0., 1., 0., 0., 0., 0., 0., 0., 0., 0., 0., 0., 0., 0.,\n",
            "        0.],\n",
            "       [0., 0., 0., 0., 0., 0., 0., 0., 0., 0., 0., 0., 0., 0., 0., 0.,\n",
            "        0., 0., 0., 0., 1., 0., 0., 0., 0., 0., 0., 0., 0., 0., 0., 0.,\n",
            "        0.],\n",
            "       [0., 0., 0., 0., 0., 0., 0., 0., 0., 0., 0., 0., 0., 0., 0., 0.,\n",
            "        0., 0., 0., 0., 0., 1., 0., 0., 0., 0., 0., 0., 0., 0., 0., 0.,\n",
            "        0.],\n",
            "       [0., 0., 0., 0., 0., 0., 0., 0., 0., 0., 0., 0., 0., 0., 0., 0.,\n",
            "        0., 0., 0., 0., 0., 0., 1., 0., 0., 0., 0., 0., 0., 0., 0., 0.,\n",
            "        0.],\n",
            "       [0., 0., 0., 0., 0., 0., 0., 0., 0., 0., 0., 0., 0., 0., 0., 0.,\n",
            "        0., 0., 0., 0., 0., 0., 0., 1., 0., 0., 0., 0., 0., 0., 0., 0.,\n",
            "        0.],\n",
            "       [0., 0., 0., 0., 0., 0., 0., 0., 0., 0., 0., 0., 0., 0., 0., 0.,\n",
            "        0., 0., 0., 0., 0., 0., 0., 0., 1., 0., 0., 0., 0., 0., 0., 0.,\n",
            "        0.],\n",
            "       [0., 0., 0., 0., 0., 0., 0., 0., 0., 0., 0., 0., 0., 0., 0., 0.,\n",
            "        0., 0., 0., 0., 0., 0., 0., 0., 0., 1., 0., 0., 0., 0., 0., 0.,\n",
            "        0.],\n",
            "       [0., 0., 0., 0., 0., 0., 0., 0., 0., 0., 0., 0., 0., 0., 0., 0.,\n",
            "        0., 0., 0., 0., 0., 0., 0., 0., 0., 0., 1., 0., 0., 0., 0., 0.,\n",
            "        0.],\n",
            "       [0., 0., 0., 0., 0., 0., 0., 0., 0., 0., 0., 0., 0., 0., 0., 0.,\n",
            "        0., 0., 0., 0., 0., 0., 0., 0., 0., 0., 0., 1., 0., 0., 0., 0.,\n",
            "        0.],\n",
            "       [0., 0., 0., 0., 0., 0., 0., 0., 0., 0., 0., 0., 0., 0., 0., 0.,\n",
            "        0., 0., 0., 0., 0., 0., 0., 0., 0., 0., 0., 0., 1., 0., 0., 0.,\n",
            "        0.],\n",
            "       [0., 0., 0., 0., 0., 0., 0., 0., 0., 0., 0., 0., 0., 0., 0., 0.,\n",
            "        0., 0., 0., 0., 0., 0., 0., 0., 0., 0., 0., 0., 0., 1., 0., 0.,\n",
            "        0.],\n",
            "       [0., 0., 0., 0., 0., 0., 0., 0., 0., 0., 0., 0., 0., 0., 0., 0.,\n",
            "        0., 0., 0., 0., 0., 0., 0., 0., 0., 0., 0., 0., 0., 0., 1., 0.,\n",
            "        0.],\n",
            "       [0., 0., 0., 0., 0., 0., 0., 0., 0., 0., 0., 0., 0., 0., 0., 0.,\n",
            "        0., 0., 0., 0., 0., 0., 0., 0., 0., 0., 0., 0., 0., 0., 0., 1.,\n",
            "        0.]])])}\n",
            "[0.0, 2352.0562263462843]\n"
          ]
        },
        {
          "name": "stderr",
          "output_type": "stream",
          "text": [
            "/usr/local/lib/python3.10/dist-packages/statsmodels/tsa/stattools.py:1488: FutureWarning: verbose is deprecated since functions should not print results\n",
            "  warnings.warn(\n"
          ]
        },
        {
          "name": "stdout",
          "output_type": "stream",
          "text": [
            "Lag: [16]\n",
            "{16: ({'ssr_ftest': (584.3808364434715, 0.0, 14950.0, 16), 'ssr_chi2test': (9370.732385212075, 0.0, 16), 'lrtest': (7278.275330234203, 0.0, 16), 'params_ftest': (584.3808364440631, 0.0, 14950.0, 16.0)}, [<statsmodels.regression.linear_model.RegressionResultsWrapper object at 0x79f5f2b416c0>, <statsmodels.regression.linear_model.RegressionResultsWrapper object at 0x79f5f2b437f0>, array([[0., 0., 0., 0., 0., 0., 0., 0., 0., 0., 0., 0., 0., 0., 0., 0.,\n",
            "        1., 0., 0., 0., 0., 0., 0., 0., 0., 0., 0., 0., 0., 0., 0., 0.,\n",
            "        0.],\n",
            "       [0., 0., 0., 0., 0., 0., 0., 0., 0., 0., 0., 0., 0., 0., 0., 0.,\n",
            "        0., 1., 0., 0., 0., 0., 0., 0., 0., 0., 0., 0., 0., 0., 0., 0.,\n",
            "        0.],\n",
            "       [0., 0., 0., 0., 0., 0., 0., 0., 0., 0., 0., 0., 0., 0., 0., 0.,\n",
            "        0., 0., 1., 0., 0., 0., 0., 0., 0., 0., 0., 0., 0., 0., 0., 0.,\n",
            "        0.],\n",
            "       [0., 0., 0., 0., 0., 0., 0., 0., 0., 0., 0., 0., 0., 0., 0., 0.,\n",
            "        0., 0., 0., 1., 0., 0., 0., 0., 0., 0., 0., 0., 0., 0., 0., 0.,\n",
            "        0.],\n",
            "       [0., 0., 0., 0., 0., 0., 0., 0., 0., 0., 0., 0., 0., 0., 0., 0.,\n",
            "        0., 0., 0., 0., 1., 0., 0., 0., 0., 0., 0., 0., 0., 0., 0., 0.,\n",
            "        0.],\n",
            "       [0., 0., 0., 0., 0., 0., 0., 0., 0., 0., 0., 0., 0., 0., 0., 0.,\n",
            "        0., 0., 0., 0., 0., 1., 0., 0., 0., 0., 0., 0., 0., 0., 0., 0.,\n",
            "        0.],\n",
            "       [0., 0., 0., 0., 0., 0., 0., 0., 0., 0., 0., 0., 0., 0., 0., 0.,\n",
            "        0., 0., 0., 0., 0., 0., 1., 0., 0., 0., 0., 0., 0., 0., 0., 0.,\n",
            "        0.],\n",
            "       [0., 0., 0., 0., 0., 0., 0., 0., 0., 0., 0., 0., 0., 0., 0., 0.,\n",
            "        0., 0., 0., 0., 0., 0., 0., 1., 0., 0., 0., 0., 0., 0., 0., 0.,\n",
            "        0.],\n",
            "       [0., 0., 0., 0., 0., 0., 0., 0., 0., 0., 0., 0., 0., 0., 0., 0.,\n",
            "        0., 0., 0., 0., 0., 0., 0., 0., 1., 0., 0., 0., 0., 0., 0., 0.,\n",
            "        0.],\n",
            "       [0., 0., 0., 0., 0., 0., 0., 0., 0., 0., 0., 0., 0., 0., 0., 0.,\n",
            "        0., 0., 0., 0., 0., 0., 0., 0., 0., 1., 0., 0., 0., 0., 0., 0.,\n",
            "        0.],\n",
            "       [0., 0., 0., 0., 0., 0., 0., 0., 0., 0., 0., 0., 0., 0., 0., 0.,\n",
            "        0., 0., 0., 0., 0., 0., 0., 0., 0., 0., 1., 0., 0., 0., 0., 0.,\n",
            "        0.],\n",
            "       [0., 0., 0., 0., 0., 0., 0., 0., 0., 0., 0., 0., 0., 0., 0., 0.,\n",
            "        0., 0., 0., 0., 0., 0., 0., 0., 0., 0., 0., 1., 0., 0., 0., 0.,\n",
            "        0.],\n",
            "       [0., 0., 0., 0., 0., 0., 0., 0., 0., 0., 0., 0., 0., 0., 0., 0.,\n",
            "        0., 0., 0., 0., 0., 0., 0., 0., 0., 0., 0., 0., 1., 0., 0., 0.,\n",
            "        0.],\n",
            "       [0., 0., 0., 0., 0., 0., 0., 0., 0., 0., 0., 0., 0., 0., 0., 0.,\n",
            "        0., 0., 0., 0., 0., 0., 0., 0., 0., 0., 0., 0., 0., 1., 0., 0.,\n",
            "        0.],\n",
            "       [0., 0., 0., 0., 0., 0., 0., 0., 0., 0., 0., 0., 0., 0., 0., 0.,\n",
            "        0., 0., 0., 0., 0., 0., 0., 0., 0., 0., 0., 0., 0., 0., 1., 0.,\n",
            "        0.],\n",
            "       [0., 0., 0., 0., 0., 0., 0., 0., 0., 0., 0., 0., 0., 0., 0., 0.,\n",
            "        0., 0., 0., 0., 0., 0., 0., 0., 0., 0., 0., 0., 0., 0., 0., 1.,\n",
            "        0.]])])}\n",
            "[0.0, 584.3808364434715]\n",
            "         Granger Causality P value   r1 r2 regioes condicao\n",
            "Results        2352.056226  p<0.01  PRL  x  PRL->x   OF_pos\n",
            "         Granger Causality P value   r1 r2 regioes condicao\n",
            "Results         584.380836  p<0.01  PRL  x  PRL->x   OF_pos\n"
          ]
        },
        {
          "name": "stderr",
          "output_type": "stream",
          "text": [
            "/usr/local/lib/python3.10/dist-packages/statsmodels/tsa/stattools.py:1488: FutureWarning: verbose is deprecated since functions should not print results\n",
            "  warnings.warn(\n"
          ]
        },
        {
          "name": "stdout",
          "output_type": "stream",
          "text": [
            "Lag: [17]\n",
            "{17: ({'ssr_ftest': (2493.8379467207483, 0.0, 14947.0, 17), 'ssr_chi2test': (42494.51809741715, 0.0, 17), 'lrtest': (20143.7035582409, 0.0, 17), 'params_ftest': (2493.8379467350687, 0.0, 14947.0, 17.0)}, [<statsmodels.regression.linear_model.RegressionResultsWrapper object at 0x79f5f2b40130>, <statsmodels.regression.linear_model.RegressionResultsWrapper object at 0x79f5f2b429b0>, array([[0., 0., 0., 0., 0., 0., 0., 0., 0., 0., 0., 0., 0., 0., 0., 0.,\n",
            "        0., 1., 0., 0., 0., 0., 0., 0., 0., 0., 0., 0., 0., 0., 0., 0.,\n",
            "        0., 0., 0.],\n",
            "       [0., 0., 0., 0., 0., 0., 0., 0., 0., 0., 0., 0., 0., 0., 0., 0.,\n",
            "        0., 0., 1., 0., 0., 0., 0., 0., 0., 0., 0., 0., 0., 0., 0., 0.,\n",
            "        0., 0., 0.],\n",
            "       [0., 0., 0., 0., 0., 0., 0., 0., 0., 0., 0., 0., 0., 0., 0., 0.,\n",
            "        0., 0., 0., 1., 0., 0., 0., 0., 0., 0., 0., 0., 0., 0., 0., 0.,\n",
            "        0., 0., 0.],\n",
            "       [0., 0., 0., 0., 0., 0., 0., 0., 0., 0., 0., 0., 0., 0., 0., 0.,\n",
            "        0., 0., 0., 0., 1., 0., 0., 0., 0., 0., 0., 0., 0., 0., 0., 0.,\n",
            "        0., 0., 0.],\n",
            "       [0., 0., 0., 0., 0., 0., 0., 0., 0., 0., 0., 0., 0., 0., 0., 0.,\n",
            "        0., 0., 0., 0., 0., 1., 0., 0., 0., 0., 0., 0., 0., 0., 0., 0.,\n",
            "        0., 0., 0.],\n",
            "       [0., 0., 0., 0., 0., 0., 0., 0., 0., 0., 0., 0., 0., 0., 0., 0.,\n",
            "        0., 0., 0., 0., 0., 0., 1., 0., 0., 0., 0., 0., 0., 0., 0., 0.,\n",
            "        0., 0., 0.],\n",
            "       [0., 0., 0., 0., 0., 0., 0., 0., 0., 0., 0., 0., 0., 0., 0., 0.,\n",
            "        0., 0., 0., 0., 0., 0., 0., 1., 0., 0., 0., 0., 0., 0., 0., 0.,\n",
            "        0., 0., 0.],\n",
            "       [0., 0., 0., 0., 0., 0., 0., 0., 0., 0., 0., 0., 0., 0., 0., 0.,\n",
            "        0., 0., 0., 0., 0., 0., 0., 0., 1., 0., 0., 0., 0., 0., 0., 0.,\n",
            "        0., 0., 0.],\n",
            "       [0., 0., 0., 0., 0., 0., 0., 0., 0., 0., 0., 0., 0., 0., 0., 0.,\n",
            "        0., 0., 0., 0., 0., 0., 0., 0., 0., 1., 0., 0., 0., 0., 0., 0.,\n",
            "        0., 0., 0.],\n",
            "       [0., 0., 0., 0., 0., 0., 0., 0., 0., 0., 0., 0., 0., 0., 0., 0.,\n",
            "        0., 0., 0., 0., 0., 0., 0., 0., 0., 0., 1., 0., 0., 0., 0., 0.,\n",
            "        0., 0., 0.],\n",
            "       [0., 0., 0., 0., 0., 0., 0., 0., 0., 0., 0., 0., 0., 0., 0., 0.,\n",
            "        0., 0., 0., 0., 0., 0., 0., 0., 0., 0., 0., 1., 0., 0., 0., 0.,\n",
            "        0., 0., 0.],\n",
            "       [0., 0., 0., 0., 0., 0., 0., 0., 0., 0., 0., 0., 0., 0., 0., 0.,\n",
            "        0., 0., 0., 0., 0., 0., 0., 0., 0., 0., 0., 0., 1., 0., 0., 0.,\n",
            "        0., 0., 0.],\n",
            "       [0., 0., 0., 0., 0., 0., 0., 0., 0., 0., 0., 0., 0., 0., 0., 0.,\n",
            "        0., 0., 0., 0., 0., 0., 0., 0., 0., 0., 0., 0., 0., 1., 0., 0.,\n",
            "        0., 0., 0.],\n",
            "       [0., 0., 0., 0., 0., 0., 0., 0., 0., 0., 0., 0., 0., 0., 0., 0.,\n",
            "        0., 0., 0., 0., 0., 0., 0., 0., 0., 0., 0., 0., 0., 0., 1., 0.,\n",
            "        0., 0., 0.],\n",
            "       [0., 0., 0., 0., 0., 0., 0., 0., 0., 0., 0., 0., 0., 0., 0., 0.,\n",
            "        0., 0., 0., 0., 0., 0., 0., 0., 0., 0., 0., 0., 0., 0., 0., 1.,\n",
            "        0., 0., 0.],\n",
            "       [0., 0., 0., 0., 0., 0., 0., 0., 0., 0., 0., 0., 0., 0., 0., 0.,\n",
            "        0., 0., 0., 0., 0., 0., 0., 0., 0., 0., 0., 0., 0., 0., 0., 0.,\n",
            "        1., 0., 0.],\n",
            "       [0., 0., 0., 0., 0., 0., 0., 0., 0., 0., 0., 0., 0., 0., 0., 0.,\n",
            "        0., 0., 0., 0., 0., 0., 0., 0., 0., 0., 0., 0., 0., 0., 0., 0.,\n",
            "        0., 1., 0.]])])}\n",
            "[0.0, 2493.8379467207483]\n"
          ]
        },
        {
          "name": "stderr",
          "output_type": "stream",
          "text": [
            "/usr/local/lib/python3.10/dist-packages/statsmodels/tsa/stattools.py:1488: FutureWarning: verbose is deprecated since functions should not print results\n",
            "  warnings.warn(\n"
          ]
        },
        {
          "name": "stdout",
          "output_type": "stream",
          "text": [
            "Lag: [17]\n",
            "{17: ({'ssr_ftest': (639.3341038998884, 0.0, 14947.0, 17), 'ssr_chi2test': (10894.129943043969, 0.0, 17), 'lrtest': (8187.235105131986, 0.0, 17), 'params_ftest': (639.334103900212, 0.0, 14947.0, 17.0)}, [<statsmodels.regression.linear_model.RegressionResultsWrapper object at 0x79f5f2b429b0>, <statsmodels.regression.linear_model.RegressionResultsWrapper object at 0x79f5f2b43f10>, array([[0., 0., 0., 0., 0., 0., 0., 0., 0., 0., 0., 0., 0., 0., 0., 0.,\n",
            "        0., 1., 0., 0., 0., 0., 0., 0., 0., 0., 0., 0., 0., 0., 0., 0.,\n",
            "        0., 0., 0.],\n",
            "       [0., 0., 0., 0., 0., 0., 0., 0., 0., 0., 0., 0., 0., 0., 0., 0.,\n",
            "        0., 0., 1., 0., 0., 0., 0., 0., 0., 0., 0., 0., 0., 0., 0., 0.,\n",
            "        0., 0., 0.],\n",
            "       [0., 0., 0., 0., 0., 0., 0., 0., 0., 0., 0., 0., 0., 0., 0., 0.,\n",
            "        0., 0., 0., 1., 0., 0., 0., 0., 0., 0., 0., 0., 0., 0., 0., 0.,\n",
            "        0., 0., 0.],\n",
            "       [0., 0., 0., 0., 0., 0., 0., 0., 0., 0., 0., 0., 0., 0., 0., 0.,\n",
            "        0., 0., 0., 0., 1., 0., 0., 0., 0., 0., 0., 0., 0., 0., 0., 0.,\n",
            "        0., 0., 0.],\n",
            "       [0., 0., 0., 0., 0., 0., 0., 0., 0., 0., 0., 0., 0., 0., 0., 0.,\n",
            "        0., 0., 0., 0., 0., 1., 0., 0., 0., 0., 0., 0., 0., 0., 0., 0.,\n",
            "        0., 0., 0.],\n",
            "       [0., 0., 0., 0., 0., 0., 0., 0., 0., 0., 0., 0., 0., 0., 0., 0.,\n",
            "        0., 0., 0., 0., 0., 0., 1., 0., 0., 0., 0., 0., 0., 0., 0., 0.,\n",
            "        0., 0., 0.],\n",
            "       [0., 0., 0., 0., 0., 0., 0., 0., 0., 0., 0., 0., 0., 0., 0., 0.,\n",
            "        0., 0., 0., 0., 0., 0., 0., 1., 0., 0., 0., 0., 0., 0., 0., 0.,\n",
            "        0., 0., 0.],\n",
            "       [0., 0., 0., 0., 0., 0., 0., 0., 0., 0., 0., 0., 0., 0., 0., 0.,\n",
            "        0., 0., 0., 0., 0., 0., 0., 0., 1., 0., 0., 0., 0., 0., 0., 0.,\n",
            "        0., 0., 0.],\n",
            "       [0., 0., 0., 0., 0., 0., 0., 0., 0., 0., 0., 0., 0., 0., 0., 0.,\n",
            "        0., 0., 0., 0., 0., 0., 0., 0., 0., 1., 0., 0., 0., 0., 0., 0.,\n",
            "        0., 0., 0.],\n",
            "       [0., 0., 0., 0., 0., 0., 0., 0., 0., 0., 0., 0., 0., 0., 0., 0.,\n",
            "        0., 0., 0., 0., 0., 0., 0., 0., 0., 0., 1., 0., 0., 0., 0., 0.,\n",
            "        0., 0., 0.],\n",
            "       [0., 0., 0., 0., 0., 0., 0., 0., 0., 0., 0., 0., 0., 0., 0., 0.,\n",
            "        0., 0., 0., 0., 0., 0., 0., 0., 0., 0., 0., 1., 0., 0., 0., 0.,\n",
            "        0., 0., 0.],\n",
            "       [0., 0., 0., 0., 0., 0., 0., 0., 0., 0., 0., 0., 0., 0., 0., 0.,\n",
            "        0., 0., 0., 0., 0., 0., 0., 0., 0., 0., 0., 0., 1., 0., 0., 0.,\n",
            "        0., 0., 0.],\n",
            "       [0., 0., 0., 0., 0., 0., 0., 0., 0., 0., 0., 0., 0., 0., 0., 0.,\n",
            "        0., 0., 0., 0., 0., 0., 0., 0., 0., 0., 0., 0., 0., 1., 0., 0.,\n",
            "        0., 0., 0.],\n",
            "       [0., 0., 0., 0., 0., 0., 0., 0., 0., 0., 0., 0., 0., 0., 0., 0.,\n",
            "        0., 0., 0., 0., 0., 0., 0., 0., 0., 0., 0., 0., 0., 0., 1., 0.,\n",
            "        0., 0., 0.],\n",
            "       [0., 0., 0., 0., 0., 0., 0., 0., 0., 0., 0., 0., 0., 0., 0., 0.,\n",
            "        0., 0., 0., 0., 0., 0., 0., 0., 0., 0., 0., 0., 0., 0., 0., 1.,\n",
            "        0., 0., 0.],\n",
            "       [0., 0., 0., 0., 0., 0., 0., 0., 0., 0., 0., 0., 0., 0., 0., 0.,\n",
            "        0., 0., 0., 0., 0., 0., 0., 0., 0., 0., 0., 0., 0., 0., 0., 0.,\n",
            "        1., 0., 0.],\n",
            "       [0., 0., 0., 0., 0., 0., 0., 0., 0., 0., 0., 0., 0., 0., 0., 0.,\n",
            "        0., 0., 0., 0., 0., 0., 0., 0., 0., 0., 0., 0., 0., 0., 0., 0.,\n",
            "        0., 1., 0.]])])}\n",
            "[0.0, 639.3341038998884]\n",
            "         Granger Causality P value   r1 r2 regioes condicao\n",
            "Results        2493.837947  p<0.01  PRL  x  PRL->x   OF_pos\n",
            "         Granger Causality P value   r1 r2 regioes condicao\n",
            "Results         639.334104  p<0.01  PRL  x  PRL->x   OF_pos\n"
          ]
        },
        {
          "name": "stderr",
          "output_type": "stream",
          "text": [
            "/usr/local/lib/python3.10/dist-packages/statsmodels/tsa/stattools.py:1488: FutureWarning: verbose is deprecated since functions should not print results\n",
            "  warnings.warn(\n"
          ]
        },
        {
          "name": "stdout",
          "output_type": "stream",
          "text": [
            "Lag: [18]\n",
            "{18: ({'ssr_ftest': (2266.9165857429693, 0.0, 14944.0, 18), 'ssr_chi2test': (40905.52681198324, 0.0, 18), 'lrtest': (19723.094676670386, 0.0, 18), 'params_ftest': (2266.9165857502794, 0.0, 14944.0, 18.0)}, [<statsmodels.regression.linear_model.RegressionResultsWrapper object at 0x79f5f2b42c80>, <statsmodels.regression.linear_model.RegressionResultsWrapper object at 0x79f5f2b43d00>, array([[0., 0., 0., 0., 0., 0., 0., 0., 0., 0., 0., 0., 0., 0., 0., 0.,\n",
            "        0., 0., 1., 0., 0., 0., 0., 0., 0., 0., 0., 0., 0., 0., 0., 0.,\n",
            "        0., 0., 0., 0., 0.],\n",
            "       [0., 0., 0., 0., 0., 0., 0., 0., 0., 0., 0., 0., 0., 0., 0., 0.,\n",
            "        0., 0., 0., 1., 0., 0., 0., 0., 0., 0., 0., 0., 0., 0., 0., 0.,\n",
            "        0., 0., 0., 0., 0.],\n",
            "       [0., 0., 0., 0., 0., 0., 0., 0., 0., 0., 0., 0., 0., 0., 0., 0.,\n",
            "        0., 0., 0., 0., 1., 0., 0., 0., 0., 0., 0., 0., 0., 0., 0., 0.,\n",
            "        0., 0., 0., 0., 0.],\n",
            "       [0., 0., 0., 0., 0., 0., 0., 0., 0., 0., 0., 0., 0., 0., 0., 0.,\n",
            "        0., 0., 0., 0., 0., 1., 0., 0., 0., 0., 0., 0., 0., 0., 0., 0.,\n",
            "        0., 0., 0., 0., 0.],\n",
            "       [0., 0., 0., 0., 0., 0., 0., 0., 0., 0., 0., 0., 0., 0., 0., 0.,\n",
            "        0., 0., 0., 0., 0., 0., 1., 0., 0., 0., 0., 0., 0., 0., 0., 0.,\n",
            "        0., 0., 0., 0., 0.],\n",
            "       [0., 0., 0., 0., 0., 0., 0., 0., 0., 0., 0., 0., 0., 0., 0., 0.,\n",
            "        0., 0., 0., 0., 0., 0., 0., 1., 0., 0., 0., 0., 0., 0., 0., 0.,\n",
            "        0., 0., 0., 0., 0.],\n",
            "       [0., 0., 0., 0., 0., 0., 0., 0., 0., 0., 0., 0., 0., 0., 0., 0.,\n",
            "        0., 0., 0., 0., 0., 0., 0., 0., 1., 0., 0., 0., 0., 0., 0., 0.,\n",
            "        0., 0., 0., 0., 0.],\n",
            "       [0., 0., 0., 0., 0., 0., 0., 0., 0., 0., 0., 0., 0., 0., 0., 0.,\n",
            "        0., 0., 0., 0., 0., 0., 0., 0., 0., 1., 0., 0., 0., 0., 0., 0.,\n",
            "        0., 0., 0., 0., 0.],\n",
            "       [0., 0., 0., 0., 0., 0., 0., 0., 0., 0., 0., 0., 0., 0., 0., 0.,\n",
            "        0., 0., 0., 0., 0., 0., 0., 0., 0., 0., 1., 0., 0., 0., 0., 0.,\n",
            "        0., 0., 0., 0., 0.],\n",
            "       [0., 0., 0., 0., 0., 0., 0., 0., 0., 0., 0., 0., 0., 0., 0., 0.,\n",
            "        0., 0., 0., 0., 0., 0., 0., 0., 0., 0., 0., 1., 0., 0., 0., 0.,\n",
            "        0., 0., 0., 0., 0.],\n",
            "       [0., 0., 0., 0., 0., 0., 0., 0., 0., 0., 0., 0., 0., 0., 0., 0.,\n",
            "        0., 0., 0., 0., 0., 0., 0., 0., 0., 0., 0., 0., 1., 0., 0., 0.,\n",
            "        0., 0., 0., 0., 0.],\n",
            "       [0., 0., 0., 0., 0., 0., 0., 0., 0., 0., 0., 0., 0., 0., 0., 0.,\n",
            "        0., 0., 0., 0., 0., 0., 0., 0., 0., 0., 0., 0., 0., 1., 0., 0.,\n",
            "        0., 0., 0., 0., 0.],\n",
            "       [0., 0., 0., 0., 0., 0., 0., 0., 0., 0., 0., 0., 0., 0., 0., 0.,\n",
            "        0., 0., 0., 0., 0., 0., 0., 0., 0., 0., 0., 0., 0., 0., 1., 0.,\n",
            "        0., 0., 0., 0., 0.],\n",
            "       [0., 0., 0., 0., 0., 0., 0., 0., 0., 0., 0., 0., 0., 0., 0., 0.,\n",
            "        0., 0., 0., 0., 0., 0., 0., 0., 0., 0., 0., 0., 0., 0., 0., 1.,\n",
            "        0., 0., 0., 0., 0.],\n",
            "       [0., 0., 0., 0., 0., 0., 0., 0., 0., 0., 0., 0., 0., 0., 0., 0.,\n",
            "        0., 0., 0., 0., 0., 0., 0., 0., 0., 0., 0., 0., 0., 0., 0., 0.,\n",
            "        1., 0., 0., 0., 0.],\n",
            "       [0., 0., 0., 0., 0., 0., 0., 0., 0., 0., 0., 0., 0., 0., 0., 0.,\n",
            "        0., 0., 0., 0., 0., 0., 0., 0., 0., 0., 0., 0., 0., 0., 0., 0.,\n",
            "        0., 1., 0., 0., 0.],\n",
            "       [0., 0., 0., 0., 0., 0., 0., 0., 0., 0., 0., 0., 0., 0., 0., 0.,\n",
            "        0., 0., 0., 0., 0., 0., 0., 0., 0., 0., 0., 0., 0., 0., 0., 0.,\n",
            "        0., 0., 1., 0., 0.],\n",
            "       [0., 0., 0., 0., 0., 0., 0., 0., 0., 0., 0., 0., 0., 0., 0., 0.,\n",
            "        0., 0., 0., 0., 0., 0., 0., 0., 0., 0., 0., 0., 0., 0., 0., 0.,\n",
            "        0., 0., 0., 1., 0.]])])}\n",
            "[0.0, 2266.9165857429693]\n"
          ]
        },
        {
          "name": "stderr",
          "output_type": "stream",
          "text": [
            "/usr/local/lib/python3.10/dist-packages/statsmodels/tsa/stattools.py:1488: FutureWarning: verbose is deprecated since functions should not print results\n",
            "  warnings.warn(\n"
          ]
        },
        {
          "name": "stdout",
          "output_type": "stream",
          "text": [
            "Lag: [18]\n",
            "{18: ({'ssr_ftest': (616.7477608572593, 0.0, 14944.0, 18), 'ssr_chi2test': (11128.945911218336, 0.0, 18), 'lrtest': (8322.44855599117, 0.0, 18), 'params_ftest': (616.7477608555323, 0.0, 14944.0, 18.0)}, [<statsmodels.regression.linear_model.RegressionResultsWrapper object at 0x79f5f2b40130>, <statsmodels.regression.linear_model.RegressionResultsWrapper object at 0x79f5f2b43ca0>, array([[0., 0., 0., 0., 0., 0., 0., 0., 0., 0., 0., 0., 0., 0., 0., 0.,\n",
            "        0., 0., 1., 0., 0., 0., 0., 0., 0., 0., 0., 0., 0., 0., 0., 0.,\n",
            "        0., 0., 0., 0., 0.],\n",
            "       [0., 0., 0., 0., 0., 0., 0., 0., 0., 0., 0., 0., 0., 0., 0., 0.,\n",
            "        0., 0., 0., 1., 0., 0., 0., 0., 0., 0., 0., 0., 0., 0., 0., 0.,\n",
            "        0., 0., 0., 0., 0.],\n",
            "       [0., 0., 0., 0., 0., 0., 0., 0., 0., 0., 0., 0., 0., 0., 0., 0.,\n",
            "        0., 0., 0., 0., 1., 0., 0., 0., 0., 0., 0., 0., 0., 0., 0., 0.,\n",
            "        0., 0., 0., 0., 0.],\n",
            "       [0., 0., 0., 0., 0., 0., 0., 0., 0., 0., 0., 0., 0., 0., 0., 0.,\n",
            "        0., 0., 0., 0., 0., 1., 0., 0., 0., 0., 0., 0., 0., 0., 0., 0.,\n",
            "        0., 0., 0., 0., 0.],\n",
            "       [0., 0., 0., 0., 0., 0., 0., 0., 0., 0., 0., 0., 0., 0., 0., 0.,\n",
            "        0., 0., 0., 0., 0., 0., 1., 0., 0., 0., 0., 0., 0., 0., 0., 0.,\n",
            "        0., 0., 0., 0., 0.],\n",
            "       [0., 0., 0., 0., 0., 0., 0., 0., 0., 0., 0., 0., 0., 0., 0., 0.,\n",
            "        0., 0., 0., 0., 0., 0., 0., 1., 0., 0., 0., 0., 0., 0., 0., 0.,\n",
            "        0., 0., 0., 0., 0.],\n",
            "       [0., 0., 0., 0., 0., 0., 0., 0., 0., 0., 0., 0., 0., 0., 0., 0.,\n",
            "        0., 0., 0., 0., 0., 0., 0., 0., 1., 0., 0., 0., 0., 0., 0., 0.,\n",
            "        0., 0., 0., 0., 0.],\n",
            "       [0., 0., 0., 0., 0., 0., 0., 0., 0., 0., 0., 0., 0., 0., 0., 0.,\n",
            "        0., 0., 0., 0., 0., 0., 0., 0., 0., 1., 0., 0., 0., 0., 0., 0.,\n",
            "        0., 0., 0., 0., 0.],\n",
            "       [0., 0., 0., 0., 0., 0., 0., 0., 0., 0., 0., 0., 0., 0., 0., 0.,\n",
            "        0., 0., 0., 0., 0., 0., 0., 0., 0., 0., 1., 0., 0., 0., 0., 0.,\n",
            "        0., 0., 0., 0., 0.],\n",
            "       [0., 0., 0., 0., 0., 0., 0., 0., 0., 0., 0., 0., 0., 0., 0., 0.,\n",
            "        0., 0., 0., 0., 0., 0., 0., 0., 0., 0., 0., 1., 0., 0., 0., 0.,\n",
            "        0., 0., 0., 0., 0.],\n",
            "       [0., 0., 0., 0., 0., 0., 0., 0., 0., 0., 0., 0., 0., 0., 0., 0.,\n",
            "        0., 0., 0., 0., 0., 0., 0., 0., 0., 0., 0., 0., 1., 0., 0., 0.,\n",
            "        0., 0., 0., 0., 0.],\n",
            "       [0., 0., 0., 0., 0., 0., 0., 0., 0., 0., 0., 0., 0., 0., 0., 0.,\n",
            "        0., 0., 0., 0., 0., 0., 0., 0., 0., 0., 0., 0., 0., 1., 0., 0.,\n",
            "        0., 0., 0., 0., 0.],\n",
            "       [0., 0., 0., 0., 0., 0., 0., 0., 0., 0., 0., 0., 0., 0., 0., 0.,\n",
            "        0., 0., 0., 0., 0., 0., 0., 0., 0., 0., 0., 0., 0., 0., 1., 0.,\n",
            "        0., 0., 0., 0., 0.],\n",
            "       [0., 0., 0., 0., 0., 0., 0., 0., 0., 0., 0., 0., 0., 0., 0., 0.,\n",
            "        0., 0., 0., 0., 0., 0., 0., 0., 0., 0., 0., 0., 0., 0., 0., 1.,\n",
            "        0., 0., 0., 0., 0.],\n",
            "       [0., 0., 0., 0., 0., 0., 0., 0., 0., 0., 0., 0., 0., 0., 0., 0.,\n",
            "        0., 0., 0., 0., 0., 0., 0., 0., 0., 0., 0., 0., 0., 0., 0., 0.,\n",
            "        1., 0., 0., 0., 0.],\n",
            "       [0., 0., 0., 0., 0., 0., 0., 0., 0., 0., 0., 0., 0., 0., 0., 0.,\n",
            "        0., 0., 0., 0., 0., 0., 0., 0., 0., 0., 0., 0., 0., 0., 0., 0.,\n",
            "        0., 1., 0., 0., 0.],\n",
            "       [0., 0., 0., 0., 0., 0., 0., 0., 0., 0., 0., 0., 0., 0., 0., 0.,\n",
            "        0., 0., 0., 0., 0., 0., 0., 0., 0., 0., 0., 0., 0., 0., 0., 0.,\n",
            "        0., 0., 1., 0., 0.],\n",
            "       [0., 0., 0., 0., 0., 0., 0., 0., 0., 0., 0., 0., 0., 0., 0., 0.,\n",
            "        0., 0., 0., 0., 0., 0., 0., 0., 0., 0., 0., 0., 0., 0., 0., 0.,\n",
            "        0., 0., 0., 1., 0.]])])}\n",
            "[0.0, 616.7477608572593]\n",
            "         Granger Causality P value   r1 r2 regioes condicao\n",
            "Results        2266.916586  p<0.01  PRL  x  PRL->x   OF_pos\n",
            "         Granger Causality P value   r1 r2 regioes condicao\n",
            "Results         616.747761  p<0.01  PRL  x  PRL->x   OF_pos\n"
          ]
        },
        {
          "name": "stderr",
          "output_type": "stream",
          "text": [
            "/usr/local/lib/python3.10/dist-packages/statsmodels/tsa/stattools.py:1488: FutureWarning: verbose is deprecated since functions should not print results\n",
            "  warnings.warn(\n"
          ]
        },
        {
          "name": "stdout",
          "output_type": "stream",
          "text": [
            "Lag: [19]\n",
            "{19: ({'ssr_ftest': (2184.600014249603, 0.0, 14941.0, 19), 'ssr_chi2test': (41615.74567001686, 0.0, 19), 'lrtest': (19911.683235026314, 0.0, 19), 'params_ftest': (2184.6000142551366, 0.0, 14941.0, 19.0)}, [<statsmodels.regression.linear_model.RegressionResultsWrapper object at 0x79f5f2b41510>, <statsmodels.regression.linear_model.RegressionResultsWrapper object at 0x79f5f2b43f10>, array([[0., 0., 0., 0., 0., 0., 0., 0., 0., 0., 0., 0., 0., 0., 0., 0.,\n",
            "        0., 0., 0., 1., 0., 0., 0., 0., 0., 0., 0., 0., 0., 0., 0., 0.,\n",
            "        0., 0., 0., 0., 0., 0., 0.],\n",
            "       [0., 0., 0., 0., 0., 0., 0., 0., 0., 0., 0., 0., 0., 0., 0., 0.,\n",
            "        0., 0., 0., 0., 1., 0., 0., 0., 0., 0., 0., 0., 0., 0., 0., 0.,\n",
            "        0., 0., 0., 0., 0., 0., 0.],\n",
            "       [0., 0., 0., 0., 0., 0., 0., 0., 0., 0., 0., 0., 0., 0., 0., 0.,\n",
            "        0., 0., 0., 0., 0., 1., 0., 0., 0., 0., 0., 0., 0., 0., 0., 0.,\n",
            "        0., 0., 0., 0., 0., 0., 0.],\n",
            "       [0., 0., 0., 0., 0., 0., 0., 0., 0., 0., 0., 0., 0., 0., 0., 0.,\n",
            "        0., 0., 0., 0., 0., 0., 1., 0., 0., 0., 0., 0., 0., 0., 0., 0.,\n",
            "        0., 0., 0., 0., 0., 0., 0.],\n",
            "       [0., 0., 0., 0., 0., 0., 0., 0., 0., 0., 0., 0., 0., 0., 0., 0.,\n",
            "        0., 0., 0., 0., 0., 0., 0., 1., 0., 0., 0., 0., 0., 0., 0., 0.,\n",
            "        0., 0., 0., 0., 0., 0., 0.],\n",
            "       [0., 0., 0., 0., 0., 0., 0., 0., 0., 0., 0., 0., 0., 0., 0., 0.,\n",
            "        0., 0., 0., 0., 0., 0., 0., 0., 1., 0., 0., 0., 0., 0., 0., 0.,\n",
            "        0., 0., 0., 0., 0., 0., 0.],\n",
            "       [0., 0., 0., 0., 0., 0., 0., 0., 0., 0., 0., 0., 0., 0., 0., 0.,\n",
            "        0., 0., 0., 0., 0., 0., 0., 0., 0., 1., 0., 0., 0., 0., 0., 0.,\n",
            "        0., 0., 0., 0., 0., 0., 0.],\n",
            "       [0., 0., 0., 0., 0., 0., 0., 0., 0., 0., 0., 0., 0., 0., 0., 0.,\n",
            "        0., 0., 0., 0., 0., 0., 0., 0., 0., 0., 1., 0., 0., 0., 0., 0.,\n",
            "        0., 0., 0., 0., 0., 0., 0.],\n",
            "       [0., 0., 0., 0., 0., 0., 0., 0., 0., 0., 0., 0., 0., 0., 0., 0.,\n",
            "        0., 0., 0., 0., 0., 0., 0., 0., 0., 0., 0., 1., 0., 0., 0., 0.,\n",
            "        0., 0., 0., 0., 0., 0., 0.],\n",
            "       [0., 0., 0., 0., 0., 0., 0., 0., 0., 0., 0., 0., 0., 0., 0., 0.,\n",
            "        0., 0., 0., 0., 0., 0., 0., 0., 0., 0., 0., 0., 1., 0., 0., 0.,\n",
            "        0., 0., 0., 0., 0., 0., 0.],\n",
            "       [0., 0., 0., 0., 0., 0., 0., 0., 0., 0., 0., 0., 0., 0., 0., 0.,\n",
            "        0., 0., 0., 0., 0., 0., 0., 0., 0., 0., 0., 0., 0., 1., 0., 0.,\n",
            "        0., 0., 0., 0., 0., 0., 0.],\n",
            "       [0., 0., 0., 0., 0., 0., 0., 0., 0., 0., 0., 0., 0., 0., 0., 0.,\n",
            "        0., 0., 0., 0., 0., 0., 0., 0., 0., 0., 0., 0., 0., 0., 1., 0.,\n",
            "        0., 0., 0., 0., 0., 0., 0.],\n",
            "       [0., 0., 0., 0., 0., 0., 0., 0., 0., 0., 0., 0., 0., 0., 0., 0.,\n",
            "        0., 0., 0., 0., 0., 0., 0., 0., 0., 0., 0., 0., 0., 0., 0., 1.,\n",
            "        0., 0., 0., 0., 0., 0., 0.],\n",
            "       [0., 0., 0., 0., 0., 0., 0., 0., 0., 0., 0., 0., 0., 0., 0., 0.,\n",
            "        0., 0., 0., 0., 0., 0., 0., 0., 0., 0., 0., 0., 0., 0., 0., 0.,\n",
            "        1., 0., 0., 0., 0., 0., 0.],\n",
            "       [0., 0., 0., 0., 0., 0., 0., 0., 0., 0., 0., 0., 0., 0., 0., 0.,\n",
            "        0., 0., 0., 0., 0., 0., 0., 0., 0., 0., 0., 0., 0., 0., 0., 0.,\n",
            "        0., 1., 0., 0., 0., 0., 0.],\n",
            "       [0., 0., 0., 0., 0., 0., 0., 0., 0., 0., 0., 0., 0., 0., 0., 0.,\n",
            "        0., 0., 0., 0., 0., 0., 0., 0., 0., 0., 0., 0., 0., 0., 0., 0.,\n",
            "        0., 0., 1., 0., 0., 0., 0.],\n",
            "       [0., 0., 0., 0., 0., 0., 0., 0., 0., 0., 0., 0., 0., 0., 0., 0.,\n",
            "        0., 0., 0., 0., 0., 0., 0., 0., 0., 0., 0., 0., 0., 0., 0., 0.,\n",
            "        0., 0., 0., 1., 0., 0., 0.],\n",
            "       [0., 0., 0., 0., 0., 0., 0., 0., 0., 0., 0., 0., 0., 0., 0., 0.,\n",
            "        0., 0., 0., 0., 0., 0., 0., 0., 0., 0., 0., 0., 0., 0., 0., 0.,\n",
            "        0., 0., 0., 0., 1., 0., 0.],\n",
            "       [0., 0., 0., 0., 0., 0., 0., 0., 0., 0., 0., 0., 0., 0., 0., 0.,\n",
            "        0., 0., 0., 0., 0., 0., 0., 0., 0., 0., 0., 0., 0., 0., 0., 0.,\n",
            "        0., 0., 0., 0., 0., 1., 0.]])])}\n",
            "[0.0, 2184.600014249603]\n"
          ]
        },
        {
          "name": "stderr",
          "output_type": "stream",
          "text": [
            "/usr/local/lib/python3.10/dist-packages/statsmodels/tsa/stattools.py:1488: FutureWarning: verbose is deprecated since functions should not print results\n",
            "  warnings.warn(\n"
          ]
        },
        {
          "name": "stdout",
          "output_type": "stream",
          "text": [
            "Lag: [19]\n",
            "{19: ({'ssr_ftest': (535.1296263217879, 0.0, 14941.0, 19), 'ssr_chi2test': (10194.002693508284, 0.0, 19), 'lrtest': (7776.055754742643, 0.0, 19), 'params_ftest': (535.1296263222029, 0.0, 14941.0, 19.0)}, [<statsmodels.regression.linear_model.RegressionResultsWrapper object at 0x79f5f2b41930>, <statsmodels.regression.linear_model.RegressionResultsWrapper object at 0x79f5f2b411b0>, array([[0., 0., 0., 0., 0., 0., 0., 0., 0., 0., 0., 0., 0., 0., 0., 0.,\n",
            "        0., 0., 0., 1., 0., 0., 0., 0., 0., 0., 0., 0., 0., 0., 0., 0.,\n",
            "        0., 0., 0., 0., 0., 0., 0.],\n",
            "       [0., 0., 0., 0., 0., 0., 0., 0., 0., 0., 0., 0., 0., 0., 0., 0.,\n",
            "        0., 0., 0., 0., 1., 0., 0., 0., 0., 0., 0., 0., 0., 0., 0., 0.,\n",
            "        0., 0., 0., 0., 0., 0., 0.],\n",
            "       [0., 0., 0., 0., 0., 0., 0., 0., 0., 0., 0., 0., 0., 0., 0., 0.,\n",
            "        0., 0., 0., 0., 0., 1., 0., 0., 0., 0., 0., 0., 0., 0., 0., 0.,\n",
            "        0., 0., 0., 0., 0., 0., 0.],\n",
            "       [0., 0., 0., 0., 0., 0., 0., 0., 0., 0., 0., 0., 0., 0., 0., 0.,\n",
            "        0., 0., 0., 0., 0., 0., 1., 0., 0., 0., 0., 0., 0., 0., 0., 0.,\n",
            "        0., 0., 0., 0., 0., 0., 0.],\n",
            "       [0., 0., 0., 0., 0., 0., 0., 0., 0., 0., 0., 0., 0., 0., 0., 0.,\n",
            "        0., 0., 0., 0., 0., 0., 0., 1., 0., 0., 0., 0., 0., 0., 0., 0.,\n",
            "        0., 0., 0., 0., 0., 0., 0.],\n",
            "       [0., 0., 0., 0., 0., 0., 0., 0., 0., 0., 0., 0., 0., 0., 0., 0.,\n",
            "        0., 0., 0., 0., 0., 0., 0., 0., 1., 0., 0., 0., 0., 0., 0., 0.,\n",
            "        0., 0., 0., 0., 0., 0., 0.],\n",
            "       [0., 0., 0., 0., 0., 0., 0., 0., 0., 0., 0., 0., 0., 0., 0., 0.,\n",
            "        0., 0., 0., 0., 0., 0., 0., 0., 0., 1., 0., 0., 0., 0., 0., 0.,\n",
            "        0., 0., 0., 0., 0., 0., 0.],\n",
            "       [0., 0., 0., 0., 0., 0., 0., 0., 0., 0., 0., 0., 0., 0., 0., 0.,\n",
            "        0., 0., 0., 0., 0., 0., 0., 0., 0., 0., 1., 0., 0., 0., 0., 0.,\n",
            "        0., 0., 0., 0., 0., 0., 0.],\n",
            "       [0., 0., 0., 0., 0., 0., 0., 0., 0., 0., 0., 0., 0., 0., 0., 0.,\n",
            "        0., 0., 0., 0., 0., 0., 0., 0., 0., 0., 0., 1., 0., 0., 0., 0.,\n",
            "        0., 0., 0., 0., 0., 0., 0.],\n",
            "       [0., 0., 0., 0., 0., 0., 0., 0., 0., 0., 0., 0., 0., 0., 0., 0.,\n",
            "        0., 0., 0., 0., 0., 0., 0., 0., 0., 0., 0., 0., 1., 0., 0., 0.,\n",
            "        0., 0., 0., 0., 0., 0., 0.],\n",
            "       [0., 0., 0., 0., 0., 0., 0., 0., 0., 0., 0., 0., 0., 0., 0., 0.,\n",
            "        0., 0., 0., 0., 0., 0., 0., 0., 0., 0., 0., 0., 0., 1., 0., 0.,\n",
            "        0., 0., 0., 0., 0., 0., 0.],\n",
            "       [0., 0., 0., 0., 0., 0., 0., 0., 0., 0., 0., 0., 0., 0., 0., 0.,\n",
            "        0., 0., 0., 0., 0., 0., 0., 0., 0., 0., 0., 0., 0., 0., 1., 0.,\n",
            "        0., 0., 0., 0., 0., 0., 0.],\n",
            "       [0., 0., 0., 0., 0., 0., 0., 0., 0., 0., 0., 0., 0., 0., 0., 0.,\n",
            "        0., 0., 0., 0., 0., 0., 0., 0., 0., 0., 0., 0., 0., 0., 0., 1.,\n",
            "        0., 0., 0., 0., 0., 0., 0.],\n",
            "       [0., 0., 0., 0., 0., 0., 0., 0., 0., 0., 0., 0., 0., 0., 0., 0.,\n",
            "        0., 0., 0., 0., 0., 0., 0., 0., 0., 0., 0., 0., 0., 0., 0., 0.,\n",
            "        1., 0., 0., 0., 0., 0., 0.],\n",
            "       [0., 0., 0., 0., 0., 0., 0., 0., 0., 0., 0., 0., 0., 0., 0., 0.,\n",
            "        0., 0., 0., 0., 0., 0., 0., 0., 0., 0., 0., 0., 0., 0., 0., 0.,\n",
            "        0., 1., 0., 0., 0., 0., 0.],\n",
            "       [0., 0., 0., 0., 0., 0., 0., 0., 0., 0., 0., 0., 0., 0., 0., 0.,\n",
            "        0., 0., 0., 0., 0., 0., 0., 0., 0., 0., 0., 0., 0., 0., 0., 0.,\n",
            "        0., 0., 1., 0., 0., 0., 0.],\n",
            "       [0., 0., 0., 0., 0., 0., 0., 0., 0., 0., 0., 0., 0., 0., 0., 0.,\n",
            "        0., 0., 0., 0., 0., 0., 0., 0., 0., 0., 0., 0., 0., 0., 0., 0.,\n",
            "        0., 0., 0., 1., 0., 0., 0.],\n",
            "       [0., 0., 0., 0., 0., 0., 0., 0., 0., 0., 0., 0., 0., 0., 0., 0.,\n",
            "        0., 0., 0., 0., 0., 0., 0., 0., 0., 0., 0., 0., 0., 0., 0., 0.,\n",
            "        0., 0., 0., 0., 1., 0., 0.],\n",
            "       [0., 0., 0., 0., 0., 0., 0., 0., 0., 0., 0., 0., 0., 0., 0., 0.,\n",
            "        0., 0., 0., 0., 0., 0., 0., 0., 0., 0., 0., 0., 0., 0., 0., 0.,\n",
            "        0., 0., 0., 0., 0., 1., 0.]])])}\n",
            "[0.0, 535.1296263217879]\n",
            "         Granger Causality P value   r1 r2 regioes condicao\n",
            "Results        2184.600014  p<0.01  PRL  x  PRL->x   OF_pos\n",
            "         Granger Causality P value   r1 r2 regioes condicao\n",
            "Results         535.129626  p<0.01  PRL  x  PRL->x   OF_pos\n"
          ]
        },
        {
          "name": "stderr",
          "output_type": "stream",
          "text": [
            "/usr/local/lib/python3.10/dist-packages/statsmodels/tsa/stattools.py:1488: FutureWarning: verbose is deprecated since functions should not print results\n",
            "  warnings.warn(\n"
          ]
        },
        {
          "name": "stdout",
          "output_type": "stream",
          "text": [
            "Lag: [20]\n",
            "{20: ({'ssr_ftest': (2073.724476727314, 0.0, 14938.0, 20), 'ssr_chi2test': (41588.32365363294, 0.0, 20), 'lrtest': (19903.82973769307, 0.0, 20), 'params_ftest': (2073.72447670874, 0.0, 14938.0, 20.0)}, [<statsmodels.regression.linear_model.RegressionResultsWrapper object at 0x79f5f2b43d00>, <statsmodels.regression.linear_model.RegressionResultsWrapper object at 0x79f5f2b43f10>, array([[0., 0., 0., 0., 0., 0., 0., 0., 0., 0., 0., 0., 0., 0., 0., 0.,\n",
            "        0., 0., 0., 0., 1., 0., 0., 0., 0., 0., 0., 0., 0., 0., 0., 0.,\n",
            "        0., 0., 0., 0., 0., 0., 0., 0., 0.],\n",
            "       [0., 0., 0., 0., 0., 0., 0., 0., 0., 0., 0., 0., 0., 0., 0., 0.,\n",
            "        0., 0., 0., 0., 0., 1., 0., 0., 0., 0., 0., 0., 0., 0., 0., 0.,\n",
            "        0., 0., 0., 0., 0., 0., 0., 0., 0.],\n",
            "       [0., 0., 0., 0., 0., 0., 0., 0., 0., 0., 0., 0., 0., 0., 0., 0.,\n",
            "        0., 0., 0., 0., 0., 0., 1., 0., 0., 0., 0., 0., 0., 0., 0., 0.,\n",
            "        0., 0., 0., 0., 0., 0., 0., 0., 0.],\n",
            "       [0., 0., 0., 0., 0., 0., 0., 0., 0., 0., 0., 0., 0., 0., 0., 0.,\n",
            "        0., 0., 0., 0., 0., 0., 0., 1., 0., 0., 0., 0., 0., 0., 0., 0.,\n",
            "        0., 0., 0., 0., 0., 0., 0., 0., 0.],\n",
            "       [0., 0., 0., 0., 0., 0., 0., 0., 0., 0., 0., 0., 0., 0., 0., 0.,\n",
            "        0., 0., 0., 0., 0., 0., 0., 0., 1., 0., 0., 0., 0., 0., 0., 0.,\n",
            "        0., 0., 0., 0., 0., 0., 0., 0., 0.],\n",
            "       [0., 0., 0., 0., 0., 0., 0., 0., 0., 0., 0., 0., 0., 0., 0., 0.,\n",
            "        0., 0., 0., 0., 0., 0., 0., 0., 0., 1., 0., 0., 0., 0., 0., 0.,\n",
            "        0., 0., 0., 0., 0., 0., 0., 0., 0.],\n",
            "       [0., 0., 0., 0., 0., 0., 0., 0., 0., 0., 0., 0., 0., 0., 0., 0.,\n",
            "        0., 0., 0., 0., 0., 0., 0., 0., 0., 0., 1., 0., 0., 0., 0., 0.,\n",
            "        0., 0., 0., 0., 0., 0., 0., 0., 0.],\n",
            "       [0., 0., 0., 0., 0., 0., 0., 0., 0., 0., 0., 0., 0., 0., 0., 0.,\n",
            "        0., 0., 0., 0., 0., 0., 0., 0., 0., 0., 0., 1., 0., 0., 0., 0.,\n",
            "        0., 0., 0., 0., 0., 0., 0., 0., 0.],\n",
            "       [0., 0., 0., 0., 0., 0., 0., 0., 0., 0., 0., 0., 0., 0., 0., 0.,\n",
            "        0., 0., 0., 0., 0., 0., 0., 0., 0., 0., 0., 0., 1., 0., 0., 0.,\n",
            "        0., 0., 0., 0., 0., 0., 0., 0., 0.],\n",
            "       [0., 0., 0., 0., 0., 0., 0., 0., 0., 0., 0., 0., 0., 0., 0., 0.,\n",
            "        0., 0., 0., 0., 0., 0., 0., 0., 0., 0., 0., 0., 0., 1., 0., 0.,\n",
            "        0., 0., 0., 0., 0., 0., 0., 0., 0.],\n",
            "       [0., 0., 0., 0., 0., 0., 0., 0., 0., 0., 0., 0., 0., 0., 0., 0.,\n",
            "        0., 0., 0., 0., 0., 0., 0., 0., 0., 0., 0., 0., 0., 0., 1., 0.,\n",
            "        0., 0., 0., 0., 0., 0., 0., 0., 0.],\n",
            "       [0., 0., 0., 0., 0., 0., 0., 0., 0., 0., 0., 0., 0., 0., 0., 0.,\n",
            "        0., 0., 0., 0., 0., 0., 0., 0., 0., 0., 0., 0., 0., 0., 0., 1.,\n",
            "        0., 0., 0., 0., 0., 0., 0., 0., 0.],\n",
            "       [0., 0., 0., 0., 0., 0., 0., 0., 0., 0., 0., 0., 0., 0., 0., 0.,\n",
            "        0., 0., 0., 0., 0., 0., 0., 0., 0., 0., 0., 0., 0., 0., 0., 0.,\n",
            "        1., 0., 0., 0., 0., 0., 0., 0., 0.],\n",
            "       [0., 0., 0., 0., 0., 0., 0., 0., 0., 0., 0., 0., 0., 0., 0., 0.,\n",
            "        0., 0., 0., 0., 0., 0., 0., 0., 0., 0., 0., 0., 0., 0., 0., 0.,\n",
            "        0., 1., 0., 0., 0., 0., 0., 0., 0.],\n",
            "       [0., 0., 0., 0., 0., 0., 0., 0., 0., 0., 0., 0., 0., 0., 0., 0.,\n",
            "        0., 0., 0., 0., 0., 0., 0., 0., 0., 0., 0., 0., 0., 0., 0., 0.,\n",
            "        0., 0., 1., 0., 0., 0., 0., 0., 0.],\n",
            "       [0., 0., 0., 0., 0., 0., 0., 0., 0., 0., 0., 0., 0., 0., 0., 0.,\n",
            "        0., 0., 0., 0., 0., 0., 0., 0., 0., 0., 0., 0., 0., 0., 0., 0.,\n",
            "        0., 0., 0., 1., 0., 0., 0., 0., 0.],\n",
            "       [0., 0., 0., 0., 0., 0., 0., 0., 0., 0., 0., 0., 0., 0., 0., 0.,\n",
            "        0., 0., 0., 0., 0., 0., 0., 0., 0., 0., 0., 0., 0., 0., 0., 0.,\n",
            "        0., 0., 0., 0., 1., 0., 0., 0., 0.],\n",
            "       [0., 0., 0., 0., 0., 0., 0., 0., 0., 0., 0., 0., 0., 0., 0., 0.,\n",
            "        0., 0., 0., 0., 0., 0., 0., 0., 0., 0., 0., 0., 0., 0., 0., 0.,\n",
            "        0., 0., 0., 0., 0., 1., 0., 0., 0.],\n",
            "       [0., 0., 0., 0., 0., 0., 0., 0., 0., 0., 0., 0., 0., 0., 0., 0.,\n",
            "        0., 0., 0., 0., 0., 0., 0., 0., 0., 0., 0., 0., 0., 0., 0., 0.,\n",
            "        0., 0., 0., 0., 0., 0., 1., 0., 0.],\n",
            "       [0., 0., 0., 0., 0., 0., 0., 0., 0., 0., 0., 0., 0., 0., 0., 0.,\n",
            "        0., 0., 0., 0., 0., 0., 0., 0., 0., 0., 0., 0., 0., 0., 0., 0.,\n",
            "        0., 0., 0., 0., 0., 0., 0., 1., 0.]])])}\n",
            "[0.0, 2073.724476727314]\n"
          ]
        },
        {
          "name": "stderr",
          "output_type": "stream",
          "text": [
            "/usr/local/lib/python3.10/dist-packages/statsmodels/tsa/stattools.py:1488: FutureWarning: verbose is deprecated since functions should not print results\n",
            "  warnings.warn(\n"
          ]
        },
        {
          "name": "stdout",
          "output_type": "stream",
          "text": [
            "Lag: [20]\n",
            "{20: ({'ssr_ftest': (538.5025882853257, 0.0, 14938.0, 20), 'ssr_chi2test': (10799.612089872666, 0.0, 20), 'lrtest': (8132.038272904756, 0.0, 20), 'params_ftest': (538.5025882849536, 0.0, 14938.0, 20.0)}, [<statsmodels.regression.linear_model.RegressionResultsWrapper object at 0x79f5f2b43ca0>, <statsmodels.regression.linear_model.RegressionResultsWrapper object at 0x79f5f2b43f10>, array([[0., 0., 0., 0., 0., 0., 0., 0., 0., 0., 0., 0., 0., 0., 0., 0.,\n",
            "        0., 0., 0., 0., 1., 0., 0., 0., 0., 0., 0., 0., 0., 0., 0., 0.,\n",
            "        0., 0., 0., 0., 0., 0., 0., 0., 0.],\n",
            "       [0., 0., 0., 0., 0., 0., 0., 0., 0., 0., 0., 0., 0., 0., 0., 0.,\n",
            "        0., 0., 0., 0., 0., 1., 0., 0., 0., 0., 0., 0., 0., 0., 0., 0.,\n",
            "        0., 0., 0., 0., 0., 0., 0., 0., 0.],\n",
            "       [0., 0., 0., 0., 0., 0., 0., 0., 0., 0., 0., 0., 0., 0., 0., 0.,\n",
            "        0., 0., 0., 0., 0., 0., 1., 0., 0., 0., 0., 0., 0., 0., 0., 0.,\n",
            "        0., 0., 0., 0., 0., 0., 0., 0., 0.],\n",
            "       [0., 0., 0., 0., 0., 0., 0., 0., 0., 0., 0., 0., 0., 0., 0., 0.,\n",
            "        0., 0., 0., 0., 0., 0., 0., 1., 0., 0., 0., 0., 0., 0., 0., 0.,\n",
            "        0., 0., 0., 0., 0., 0., 0., 0., 0.],\n",
            "       [0., 0., 0., 0., 0., 0., 0., 0., 0., 0., 0., 0., 0., 0., 0., 0.,\n",
            "        0., 0., 0., 0., 0., 0., 0., 0., 1., 0., 0., 0., 0., 0., 0., 0.,\n",
            "        0., 0., 0., 0., 0., 0., 0., 0., 0.],\n",
            "       [0., 0., 0., 0., 0., 0., 0., 0., 0., 0., 0., 0., 0., 0., 0., 0.,\n",
            "        0., 0., 0., 0., 0., 0., 0., 0., 0., 1., 0., 0., 0., 0., 0., 0.,\n",
            "        0., 0., 0., 0., 0., 0., 0., 0., 0.],\n",
            "       [0., 0., 0., 0., 0., 0., 0., 0., 0., 0., 0., 0., 0., 0., 0., 0.,\n",
            "        0., 0., 0., 0., 0., 0., 0., 0., 0., 0., 1., 0., 0., 0., 0., 0.,\n",
            "        0., 0., 0., 0., 0., 0., 0., 0., 0.],\n",
            "       [0., 0., 0., 0., 0., 0., 0., 0., 0., 0., 0., 0., 0., 0., 0., 0.,\n",
            "        0., 0., 0., 0., 0., 0., 0., 0., 0., 0., 0., 1., 0., 0., 0., 0.,\n",
            "        0., 0., 0., 0., 0., 0., 0., 0., 0.],\n",
            "       [0., 0., 0., 0., 0., 0., 0., 0., 0., 0., 0., 0., 0., 0., 0., 0.,\n",
            "        0., 0., 0., 0., 0., 0., 0., 0., 0., 0., 0., 0., 1., 0., 0., 0.,\n",
            "        0., 0., 0., 0., 0., 0., 0., 0., 0.],\n",
            "       [0., 0., 0., 0., 0., 0., 0., 0., 0., 0., 0., 0., 0., 0., 0., 0.,\n",
            "        0., 0., 0., 0., 0., 0., 0., 0., 0., 0., 0., 0., 0., 1., 0., 0.,\n",
            "        0., 0., 0., 0., 0., 0., 0., 0., 0.],\n",
            "       [0., 0., 0., 0., 0., 0., 0., 0., 0., 0., 0., 0., 0., 0., 0., 0.,\n",
            "        0., 0., 0., 0., 0., 0., 0., 0., 0., 0., 0., 0., 0., 0., 1., 0.,\n",
            "        0., 0., 0., 0., 0., 0., 0., 0., 0.],\n",
            "       [0., 0., 0., 0., 0., 0., 0., 0., 0., 0., 0., 0., 0., 0., 0., 0.,\n",
            "        0., 0., 0., 0., 0., 0., 0., 0., 0., 0., 0., 0., 0., 0., 0., 1.,\n",
            "        0., 0., 0., 0., 0., 0., 0., 0., 0.],\n",
            "       [0., 0., 0., 0., 0., 0., 0., 0., 0., 0., 0., 0., 0., 0., 0., 0.,\n",
            "        0., 0., 0., 0., 0., 0., 0., 0., 0., 0., 0., 0., 0., 0., 0., 0.,\n",
            "        1., 0., 0., 0., 0., 0., 0., 0., 0.],\n",
            "       [0., 0., 0., 0., 0., 0., 0., 0., 0., 0., 0., 0., 0., 0., 0., 0.,\n",
            "        0., 0., 0., 0., 0., 0., 0., 0., 0., 0., 0., 0., 0., 0., 0., 0.,\n",
            "        0., 1., 0., 0., 0., 0., 0., 0., 0.],\n",
            "       [0., 0., 0., 0., 0., 0., 0., 0., 0., 0., 0., 0., 0., 0., 0., 0.,\n",
            "        0., 0., 0., 0., 0., 0., 0., 0., 0., 0., 0., 0., 0., 0., 0., 0.,\n",
            "        0., 0., 1., 0., 0., 0., 0., 0., 0.],\n",
            "       [0., 0., 0., 0., 0., 0., 0., 0., 0., 0., 0., 0., 0., 0., 0., 0.,\n",
            "        0., 0., 0., 0., 0., 0., 0., 0., 0., 0., 0., 0., 0., 0., 0., 0.,\n",
            "        0., 0., 0., 1., 0., 0., 0., 0., 0.],\n",
            "       [0., 0., 0., 0., 0., 0., 0., 0., 0., 0., 0., 0., 0., 0., 0., 0.,\n",
            "        0., 0., 0., 0., 0., 0., 0., 0., 0., 0., 0., 0., 0., 0., 0., 0.,\n",
            "        0., 0., 0., 0., 1., 0., 0., 0., 0.],\n",
            "       [0., 0., 0., 0., 0., 0., 0., 0., 0., 0., 0., 0., 0., 0., 0., 0.,\n",
            "        0., 0., 0., 0., 0., 0., 0., 0., 0., 0., 0., 0., 0., 0., 0., 0.,\n",
            "        0., 0., 0., 0., 0., 1., 0., 0., 0.],\n",
            "       [0., 0., 0., 0., 0., 0., 0., 0., 0., 0., 0., 0., 0., 0., 0., 0.,\n",
            "        0., 0., 0., 0., 0., 0., 0., 0., 0., 0., 0., 0., 0., 0., 0., 0.,\n",
            "        0., 0., 0., 0., 0., 0., 1., 0., 0.],\n",
            "       [0., 0., 0., 0., 0., 0., 0., 0., 0., 0., 0., 0., 0., 0., 0., 0.,\n",
            "        0., 0., 0., 0., 0., 0., 0., 0., 0., 0., 0., 0., 0., 0., 0., 0.,\n",
            "        0., 0., 0., 0., 0., 0., 0., 1., 0.]])])}\n",
            "[0.0, 538.5025882853257]\n",
            "         Granger Causality P value   r1 r2 regioes condicao\n",
            "Results        2073.724477  p<0.01  PRL  x  PRL->x   OF_pos\n",
            "         Granger Causality P value   r1 r2 regioes condicao\n",
            "Results         538.502588  p<0.01  PRL  x  PRL->x   OF_pos\n"
          ]
        },
        {
          "name": "stderr",
          "output_type": "stream",
          "text": [
            "/usr/local/lib/python3.10/dist-packages/statsmodels/tsa/stattools.py:1488: FutureWarning: verbose is deprecated since functions should not print results\n",
            "  warnings.warn(\n"
          ]
        },
        {
          "name": "stdout",
          "output_type": "stream",
          "text": [
            "Lag: [21]\n",
            "{21: ({'ssr_ftest': (1935.2510725886007, 0.0, 14935.0, 21), 'ssr_chi2test': (40757.28167859882, 0.0, 21), 'lrtest': (19681.554998323787, 0.0, 21), 'params_ftest': (1935.2510725873692, 0.0, 14935.0, 21.0)}, [<statsmodels.regression.linear_model.RegressionResultsWrapper object at 0x79f5f2b43370>, <statsmodels.regression.linear_model.RegressionResultsWrapper object at 0x79f5f2b42e00>, array([[0., 0., 0., 0., 0., 0., 0., 0., 0., 0., 0., 0., 0., 0., 0., 0.,\n",
            "        0., 0., 0., 0., 0., 1., 0., 0., 0., 0., 0., 0., 0., 0., 0., 0.,\n",
            "        0., 0., 0., 0., 0., 0., 0., 0., 0., 0., 0.],\n",
            "       [0., 0., 0., 0., 0., 0., 0., 0., 0., 0., 0., 0., 0., 0., 0., 0.,\n",
            "        0., 0., 0., 0., 0., 0., 1., 0., 0., 0., 0., 0., 0., 0., 0., 0.,\n",
            "        0., 0., 0., 0., 0., 0., 0., 0., 0., 0., 0.],\n",
            "       [0., 0., 0., 0., 0., 0., 0., 0., 0., 0., 0., 0., 0., 0., 0., 0.,\n",
            "        0., 0., 0., 0., 0., 0., 0., 1., 0., 0., 0., 0., 0., 0., 0., 0.,\n",
            "        0., 0., 0., 0., 0., 0., 0., 0., 0., 0., 0.],\n",
            "       [0., 0., 0., 0., 0., 0., 0., 0., 0., 0., 0., 0., 0., 0., 0., 0.,\n",
            "        0., 0., 0., 0., 0., 0., 0., 0., 1., 0., 0., 0., 0., 0., 0., 0.,\n",
            "        0., 0., 0., 0., 0., 0., 0., 0., 0., 0., 0.],\n",
            "       [0., 0., 0., 0., 0., 0., 0., 0., 0., 0., 0., 0., 0., 0., 0., 0.,\n",
            "        0., 0., 0., 0., 0., 0., 0., 0., 0., 1., 0., 0., 0., 0., 0., 0.,\n",
            "        0., 0., 0., 0., 0., 0., 0., 0., 0., 0., 0.],\n",
            "       [0., 0., 0., 0., 0., 0., 0., 0., 0., 0., 0., 0., 0., 0., 0., 0.,\n",
            "        0., 0., 0., 0., 0., 0., 0., 0., 0., 0., 1., 0., 0., 0., 0., 0.,\n",
            "        0., 0., 0., 0., 0., 0., 0., 0., 0., 0., 0.],\n",
            "       [0., 0., 0., 0., 0., 0., 0., 0., 0., 0., 0., 0., 0., 0., 0., 0.,\n",
            "        0., 0., 0., 0., 0., 0., 0., 0., 0., 0., 0., 1., 0., 0., 0., 0.,\n",
            "        0., 0., 0., 0., 0., 0., 0., 0., 0., 0., 0.],\n",
            "       [0., 0., 0., 0., 0., 0., 0., 0., 0., 0., 0., 0., 0., 0., 0., 0.,\n",
            "        0., 0., 0., 0., 0., 0., 0., 0., 0., 0., 0., 0., 1., 0., 0., 0.,\n",
            "        0., 0., 0., 0., 0., 0., 0., 0., 0., 0., 0.],\n",
            "       [0., 0., 0., 0., 0., 0., 0., 0., 0., 0., 0., 0., 0., 0., 0., 0.,\n",
            "        0., 0., 0., 0., 0., 0., 0., 0., 0., 0., 0., 0., 0., 1., 0., 0.,\n",
            "        0., 0., 0., 0., 0., 0., 0., 0., 0., 0., 0.],\n",
            "       [0., 0., 0., 0., 0., 0., 0., 0., 0., 0., 0., 0., 0., 0., 0., 0.,\n",
            "        0., 0., 0., 0., 0., 0., 0., 0., 0., 0., 0., 0., 0., 0., 1., 0.,\n",
            "        0., 0., 0., 0., 0., 0., 0., 0., 0., 0., 0.],\n",
            "       [0., 0., 0., 0., 0., 0., 0., 0., 0., 0., 0., 0., 0., 0., 0., 0.,\n",
            "        0., 0., 0., 0., 0., 0., 0., 0., 0., 0., 0., 0., 0., 0., 0., 1.,\n",
            "        0., 0., 0., 0., 0., 0., 0., 0., 0., 0., 0.],\n",
            "       [0., 0., 0., 0., 0., 0., 0., 0., 0., 0., 0., 0., 0., 0., 0., 0.,\n",
            "        0., 0., 0., 0., 0., 0., 0., 0., 0., 0., 0., 0., 0., 0., 0., 0.,\n",
            "        1., 0., 0., 0., 0., 0., 0., 0., 0., 0., 0.],\n",
            "       [0., 0., 0., 0., 0., 0., 0., 0., 0., 0., 0., 0., 0., 0., 0., 0.,\n",
            "        0., 0., 0., 0., 0., 0., 0., 0., 0., 0., 0., 0., 0., 0., 0., 0.,\n",
            "        0., 1., 0., 0., 0., 0., 0., 0., 0., 0., 0.],\n",
            "       [0., 0., 0., 0., 0., 0., 0., 0., 0., 0., 0., 0., 0., 0., 0., 0.,\n",
            "        0., 0., 0., 0., 0., 0., 0., 0., 0., 0., 0., 0., 0., 0., 0., 0.,\n",
            "        0., 0., 1., 0., 0., 0., 0., 0., 0., 0., 0.],\n",
            "       [0., 0., 0., 0., 0., 0., 0., 0., 0., 0., 0., 0., 0., 0., 0., 0.,\n",
            "        0., 0., 0., 0., 0., 0., 0., 0., 0., 0., 0., 0., 0., 0., 0., 0.,\n",
            "        0., 0., 0., 1., 0., 0., 0., 0., 0., 0., 0.],\n",
            "       [0., 0., 0., 0., 0., 0., 0., 0., 0., 0., 0., 0., 0., 0., 0., 0.,\n",
            "        0., 0., 0., 0., 0., 0., 0., 0., 0., 0., 0., 0., 0., 0., 0., 0.,\n",
            "        0., 0., 0., 0., 1., 0., 0., 0., 0., 0., 0.],\n",
            "       [0., 0., 0., 0., 0., 0., 0., 0., 0., 0., 0., 0., 0., 0., 0., 0.,\n",
            "        0., 0., 0., 0., 0., 0., 0., 0., 0., 0., 0., 0., 0., 0., 0., 0.,\n",
            "        0., 0., 0., 0., 0., 1., 0., 0., 0., 0., 0.],\n",
            "       [0., 0., 0., 0., 0., 0., 0., 0., 0., 0., 0., 0., 0., 0., 0., 0.,\n",
            "        0., 0., 0., 0., 0., 0., 0., 0., 0., 0., 0., 0., 0., 0., 0., 0.,\n",
            "        0., 0., 0., 0., 0., 0., 1., 0., 0., 0., 0.],\n",
            "       [0., 0., 0., 0., 0., 0., 0., 0., 0., 0., 0., 0., 0., 0., 0., 0.,\n",
            "        0., 0., 0., 0., 0., 0., 0., 0., 0., 0., 0., 0., 0., 0., 0., 0.,\n",
            "        0., 0., 0., 0., 0., 0., 0., 1., 0., 0., 0.],\n",
            "       [0., 0., 0., 0., 0., 0., 0., 0., 0., 0., 0., 0., 0., 0., 0., 0.,\n",
            "        0., 0., 0., 0., 0., 0., 0., 0., 0., 0., 0., 0., 0., 0., 0., 0.,\n",
            "        0., 0., 0., 0., 0., 0., 0., 0., 1., 0., 0.],\n",
            "       [0., 0., 0., 0., 0., 0., 0., 0., 0., 0., 0., 0., 0., 0., 0., 0.,\n",
            "        0., 0., 0., 0., 0., 0., 0., 0., 0., 0., 0., 0., 0., 0., 0., 0.,\n",
            "        0., 0., 0., 0., 0., 0., 0., 0., 0., 1., 0.]])])}\n",
            "[0.0, 1935.2510725886007]\n"
          ]
        },
        {
          "name": "stderr",
          "output_type": "stream",
          "text": [
            "/usr/local/lib/python3.10/dist-packages/statsmodels/tsa/stattools.py:1488: FutureWarning: verbose is deprecated since functions should not print results\n",
            "  warnings.warn(\n"
          ]
        },
        {
          "name": "stdout",
          "output_type": "stream",
          "text": [
            "Lag: [21]\n",
            "{21: ({'ssr_ftest': (532.5889631035782, 0.0, 14935.0, 21), 'ssr_chi2test': (11216.569620132124, 0.0, 21), 'lrtest': (8372.247643119714, 0.0, 21), 'params_ftest': (532.5889631030652, 0.0, 14935.0, 21.0)}, [<statsmodels.regression.linear_model.RegressionResultsWrapper object at 0x79f5f2b43f10>, <statsmodels.regression.linear_model.RegressionResultsWrapper object at 0x79f5f2b42c80>, array([[0., 0., 0., 0., 0., 0., 0., 0., 0., 0., 0., 0., 0., 0., 0., 0.,\n",
            "        0., 0., 0., 0., 0., 1., 0., 0., 0., 0., 0., 0., 0., 0., 0., 0.,\n",
            "        0., 0., 0., 0., 0., 0., 0., 0., 0., 0., 0.],\n",
            "       [0., 0., 0., 0., 0., 0., 0., 0., 0., 0., 0., 0., 0., 0., 0., 0.,\n",
            "        0., 0., 0., 0., 0., 0., 1., 0., 0., 0., 0., 0., 0., 0., 0., 0.,\n",
            "        0., 0., 0., 0., 0., 0., 0., 0., 0., 0., 0.],\n",
            "       [0., 0., 0., 0., 0., 0., 0., 0., 0., 0., 0., 0., 0., 0., 0., 0.,\n",
            "        0., 0., 0., 0., 0., 0., 0., 1., 0., 0., 0., 0., 0., 0., 0., 0.,\n",
            "        0., 0., 0., 0., 0., 0., 0., 0., 0., 0., 0.],\n",
            "       [0., 0., 0., 0., 0., 0., 0., 0., 0., 0., 0., 0., 0., 0., 0., 0.,\n",
            "        0., 0., 0., 0., 0., 0., 0., 0., 1., 0., 0., 0., 0., 0., 0., 0.,\n",
            "        0., 0., 0., 0., 0., 0., 0., 0., 0., 0., 0.],\n",
            "       [0., 0., 0., 0., 0., 0., 0., 0., 0., 0., 0., 0., 0., 0., 0., 0.,\n",
            "        0., 0., 0., 0., 0., 0., 0., 0., 0., 1., 0., 0., 0., 0., 0., 0.,\n",
            "        0., 0., 0., 0., 0., 0., 0., 0., 0., 0., 0.],\n",
            "       [0., 0., 0., 0., 0., 0., 0., 0., 0., 0., 0., 0., 0., 0., 0., 0.,\n",
            "        0., 0., 0., 0., 0., 0., 0., 0., 0., 0., 1., 0., 0., 0., 0., 0.,\n",
            "        0., 0., 0., 0., 0., 0., 0., 0., 0., 0., 0.],\n",
            "       [0., 0., 0., 0., 0., 0., 0., 0., 0., 0., 0., 0., 0., 0., 0., 0.,\n",
            "        0., 0., 0., 0., 0., 0., 0., 0., 0., 0., 0., 1., 0., 0., 0., 0.,\n",
            "        0., 0., 0., 0., 0., 0., 0., 0., 0., 0., 0.],\n",
            "       [0., 0., 0., 0., 0., 0., 0., 0., 0., 0., 0., 0., 0., 0., 0., 0.,\n",
            "        0., 0., 0., 0., 0., 0., 0., 0., 0., 0., 0., 0., 1., 0., 0., 0.,\n",
            "        0., 0., 0., 0., 0., 0., 0., 0., 0., 0., 0.],\n",
            "       [0., 0., 0., 0., 0., 0., 0., 0., 0., 0., 0., 0., 0., 0., 0., 0.,\n",
            "        0., 0., 0., 0., 0., 0., 0., 0., 0., 0., 0., 0., 0., 1., 0., 0.,\n",
            "        0., 0., 0., 0., 0., 0., 0., 0., 0., 0., 0.],\n",
            "       [0., 0., 0., 0., 0., 0., 0., 0., 0., 0., 0., 0., 0., 0., 0., 0.,\n",
            "        0., 0., 0., 0., 0., 0., 0., 0., 0., 0., 0., 0., 0., 0., 1., 0.,\n",
            "        0., 0., 0., 0., 0., 0., 0., 0., 0., 0., 0.],\n",
            "       [0., 0., 0., 0., 0., 0., 0., 0., 0., 0., 0., 0., 0., 0., 0., 0.,\n",
            "        0., 0., 0., 0., 0., 0., 0., 0., 0., 0., 0., 0., 0., 0., 0., 1.,\n",
            "        0., 0., 0., 0., 0., 0., 0., 0., 0., 0., 0.],\n",
            "       [0., 0., 0., 0., 0., 0., 0., 0., 0., 0., 0., 0., 0., 0., 0., 0.,\n",
            "        0., 0., 0., 0., 0., 0., 0., 0., 0., 0., 0., 0., 0., 0., 0., 0.,\n",
            "        1., 0., 0., 0., 0., 0., 0., 0., 0., 0., 0.],\n",
            "       [0., 0., 0., 0., 0., 0., 0., 0., 0., 0., 0., 0., 0., 0., 0., 0.,\n",
            "        0., 0., 0., 0., 0., 0., 0., 0., 0., 0., 0., 0., 0., 0., 0., 0.,\n",
            "        0., 1., 0., 0., 0., 0., 0., 0., 0., 0., 0.],\n",
            "       [0., 0., 0., 0., 0., 0., 0., 0., 0., 0., 0., 0., 0., 0., 0., 0.,\n",
            "        0., 0., 0., 0., 0., 0., 0., 0., 0., 0., 0., 0., 0., 0., 0., 0.,\n",
            "        0., 0., 1., 0., 0., 0., 0., 0., 0., 0., 0.],\n",
            "       [0., 0., 0., 0., 0., 0., 0., 0., 0., 0., 0., 0., 0., 0., 0., 0.,\n",
            "        0., 0., 0., 0., 0., 0., 0., 0., 0., 0., 0., 0., 0., 0., 0., 0.,\n",
            "        0., 0., 0., 1., 0., 0., 0., 0., 0., 0., 0.],\n",
            "       [0., 0., 0., 0., 0., 0., 0., 0., 0., 0., 0., 0., 0., 0., 0., 0.,\n",
            "        0., 0., 0., 0., 0., 0., 0., 0., 0., 0., 0., 0., 0., 0., 0., 0.,\n",
            "        0., 0., 0., 0., 1., 0., 0., 0., 0., 0., 0.],\n",
            "       [0., 0., 0., 0., 0., 0., 0., 0., 0., 0., 0., 0., 0., 0., 0., 0.,\n",
            "        0., 0., 0., 0., 0., 0., 0., 0., 0., 0., 0., 0., 0., 0., 0., 0.,\n",
            "        0., 0., 0., 0., 0., 1., 0., 0., 0., 0., 0.],\n",
            "       [0., 0., 0., 0., 0., 0., 0., 0., 0., 0., 0., 0., 0., 0., 0., 0.,\n",
            "        0., 0., 0., 0., 0., 0., 0., 0., 0., 0., 0., 0., 0., 0., 0., 0.,\n",
            "        0., 0., 0., 0., 0., 0., 1., 0., 0., 0., 0.],\n",
            "       [0., 0., 0., 0., 0., 0., 0., 0., 0., 0., 0., 0., 0., 0., 0., 0.,\n",
            "        0., 0., 0., 0., 0., 0., 0., 0., 0., 0., 0., 0., 0., 0., 0., 0.,\n",
            "        0., 0., 0., 0., 0., 0., 0., 1., 0., 0., 0.],\n",
            "       [0., 0., 0., 0., 0., 0., 0., 0., 0., 0., 0., 0., 0., 0., 0., 0.,\n",
            "        0., 0., 0., 0., 0., 0., 0., 0., 0., 0., 0., 0., 0., 0., 0., 0.,\n",
            "        0., 0., 0., 0., 0., 0., 0., 0., 1., 0., 0.],\n",
            "       [0., 0., 0., 0., 0., 0., 0., 0., 0., 0., 0., 0., 0., 0., 0., 0.,\n",
            "        0., 0., 0., 0., 0., 0., 0., 0., 0., 0., 0., 0., 0., 0., 0., 0.,\n",
            "        0., 0., 0., 0., 0., 0., 0., 0., 0., 1., 0.]])])}\n",
            "[0.0, 532.5889631035782]\n",
            "         Granger Causality P value   r1 r2 regioes condicao\n",
            "Results        1935.251073  p<0.01  PRL  x  PRL->x   OF_pos\n",
            "         Granger Causality P value   r1 r2 regioes condicao\n",
            "Results         532.588963  p<0.01  PRL  x  PRL->x   OF_pos"
          ]
        },
        {
          "name": "stderr",
          "output_type": "stream",
          "text": [
            "/usr/local/lib/python3.10/dist-packages/statsmodels/tsa/stattools.py:1488: FutureWarning: verbose is deprecated since functions should not print results\n",
            "  warnings.warn(\n"
          ]
        },
        {
          "name": "stdout",
          "output_type": "stream",
          "text": [
            "\n",
            "Lag: [22]\n",
            "{22: ({'ssr_ftest': (1769.3020985804676, 0.0, 14932.0, 22), 'ssr_chi2test': (39041.95189322747, 0.0, 22), 'lrtest': (19212.783981645363, 0.0, 22), 'params_ftest': (1769.3020985823512, 0.0, 14932.0, 22.0)}, [<statsmodels.regression.linear_model.RegressionResultsWrapper object at 0x79f5f2b413c0>, <statsmodels.regression.linear_model.RegressionResultsWrapper object at 0x79f5f2b42800>, array([[0., 0., 0., 0., 0., 0., 0., 0., 0., 0., 0., 0., 0., 0., 0., 0.,\n",
            "        0., 0., 0., 0., 0., 0., 1., 0., 0., 0., 0., 0., 0., 0., 0., 0.,\n",
            "        0., 0., 0., 0., 0., 0., 0., 0., 0., 0., 0., 0., 0.],\n",
            "       [0., 0., 0., 0., 0., 0., 0., 0., 0., 0., 0., 0., 0., 0., 0., 0.,\n",
            "        0., 0., 0., 0., 0., 0., 0., 1., 0., 0., 0., 0., 0., 0., 0., 0.,\n",
            "        0., 0., 0., 0., 0., 0., 0., 0., 0., 0., 0., 0., 0.],\n",
            "       [0., 0., 0., 0., 0., 0., 0., 0., 0., 0., 0., 0., 0., 0., 0., 0.,\n",
            "        0., 0., 0., 0., 0., 0., 0., 0., 1., 0., 0., 0., 0., 0., 0., 0.,\n",
            "        0., 0., 0., 0., 0., 0., 0., 0., 0., 0., 0., 0., 0.],\n",
            "       [0., 0., 0., 0., 0., 0., 0., 0., 0., 0., 0., 0., 0., 0., 0., 0.,\n",
            "        0., 0., 0., 0., 0., 0., 0., 0., 0., 1., 0., 0., 0., 0., 0., 0.,\n",
            "        0., 0., 0., 0., 0., 0., 0., 0., 0., 0., 0., 0., 0.],\n",
            "       [0., 0., 0., 0., 0., 0., 0., 0., 0., 0., 0., 0., 0., 0., 0., 0.,\n",
            "        0., 0., 0., 0., 0., 0., 0., 0., 0., 0., 1., 0., 0., 0., 0., 0.,\n",
            "        0., 0., 0., 0., 0., 0., 0., 0., 0., 0., 0., 0., 0.],\n",
            "       [0., 0., 0., 0., 0., 0., 0., 0., 0., 0., 0., 0., 0., 0., 0., 0.,\n",
            "        0., 0., 0., 0., 0., 0., 0., 0., 0., 0., 0., 1., 0., 0., 0., 0.,\n",
            "        0., 0., 0., 0., 0., 0., 0., 0., 0., 0., 0., 0., 0.],\n",
            "       [0., 0., 0., 0., 0., 0., 0., 0., 0., 0., 0., 0., 0., 0., 0., 0.,\n",
            "        0., 0., 0., 0., 0., 0., 0., 0., 0., 0., 0., 0., 1., 0., 0., 0.,\n",
            "        0., 0., 0., 0., 0., 0., 0., 0., 0., 0., 0., 0., 0.],\n",
            "       [0., 0., 0., 0., 0., 0., 0., 0., 0., 0., 0., 0., 0., 0., 0., 0.,\n",
            "        0., 0., 0., 0., 0., 0., 0., 0., 0., 0., 0., 0., 0., 1., 0., 0.,\n",
            "        0., 0., 0., 0., 0., 0., 0., 0., 0., 0., 0., 0., 0.],\n",
            "       [0., 0., 0., 0., 0., 0., 0., 0., 0., 0., 0., 0., 0., 0., 0., 0.,\n",
            "        0., 0., 0., 0., 0., 0., 0., 0., 0., 0., 0., 0., 0., 0., 1., 0.,\n",
            "        0., 0., 0., 0., 0., 0., 0., 0., 0., 0., 0., 0., 0.],\n",
            "       [0., 0., 0., 0., 0., 0., 0., 0., 0., 0., 0., 0., 0., 0., 0., 0.,\n",
            "        0., 0., 0., 0., 0., 0., 0., 0., 0., 0., 0., 0., 0., 0., 0., 1.,\n",
            "        0., 0., 0., 0., 0., 0., 0., 0., 0., 0., 0., 0., 0.],\n",
            "       [0., 0., 0., 0., 0., 0., 0., 0., 0., 0., 0., 0., 0., 0., 0., 0.,\n",
            "        0., 0., 0., 0., 0., 0., 0., 0., 0., 0., 0., 0., 0., 0., 0., 0.,\n",
            "        1., 0., 0., 0., 0., 0., 0., 0., 0., 0., 0., 0., 0.],\n",
            "       [0., 0., 0., 0., 0., 0., 0., 0., 0., 0., 0., 0., 0., 0., 0., 0.,\n",
            "        0., 0., 0., 0., 0., 0., 0., 0., 0., 0., 0., 0., 0., 0., 0., 0.,\n",
            "        0., 1., 0., 0., 0., 0., 0., 0., 0., 0., 0., 0., 0.],\n",
            "       [0., 0., 0., 0., 0., 0., 0., 0., 0., 0., 0., 0., 0., 0., 0., 0.,\n",
            "        0., 0., 0., 0., 0., 0., 0., 0., 0., 0., 0., 0., 0., 0., 0., 0.,\n",
            "        0., 0., 1., 0., 0., 0., 0., 0., 0., 0., 0., 0., 0.],\n",
            "       [0., 0., 0., 0., 0., 0., 0., 0., 0., 0., 0., 0., 0., 0., 0., 0.,\n",
            "        0., 0., 0., 0., 0., 0., 0., 0., 0., 0., 0., 0., 0., 0., 0., 0.,\n",
            "        0., 0., 0., 1., 0., 0., 0., 0., 0., 0., 0., 0., 0.],\n",
            "       [0., 0., 0., 0., 0., 0., 0., 0., 0., 0., 0., 0., 0., 0., 0., 0.,\n",
            "        0., 0., 0., 0., 0., 0., 0., 0., 0., 0., 0., 0., 0., 0., 0., 0.,\n",
            "        0., 0., 0., 0., 1., 0., 0., 0., 0., 0., 0., 0., 0.],\n",
            "       [0., 0., 0., 0., 0., 0., 0., 0., 0., 0., 0., 0., 0., 0., 0., 0.,\n",
            "        0., 0., 0., 0., 0., 0., 0., 0., 0., 0., 0., 0., 0., 0., 0., 0.,\n",
            "        0., 0., 0., 0., 0., 1., 0., 0., 0., 0., 0., 0., 0.],\n",
            "       [0., 0., 0., 0., 0., 0., 0., 0., 0., 0., 0., 0., 0., 0., 0., 0.,\n",
            "        0., 0., 0., 0., 0., 0., 0., 0., 0., 0., 0., 0., 0., 0., 0., 0.,\n",
            "        0., 0., 0., 0., 0., 0., 1., 0., 0., 0., 0., 0., 0.],\n",
            "       [0., 0., 0., 0., 0., 0., 0., 0., 0., 0., 0., 0., 0., 0., 0., 0.,\n",
            "        0., 0., 0., 0., 0., 0., 0., 0., 0., 0., 0., 0., 0., 0., 0., 0.,\n",
            "        0., 0., 0., 0., 0., 0., 0., 1., 0., 0., 0., 0., 0.],\n",
            "       [0., 0., 0., 0., 0., 0., 0., 0., 0., 0., 0., 0., 0., 0., 0., 0.,\n",
            "        0., 0., 0., 0., 0., 0., 0., 0., 0., 0., 0., 0., 0., 0., 0., 0.,\n",
            "        0., 0., 0., 0., 0., 0., 0., 0., 1., 0., 0., 0., 0.],\n",
            "       [0., 0., 0., 0., 0., 0., 0., 0., 0., 0., 0., 0., 0., 0., 0., 0.,\n",
            "        0., 0., 0., 0., 0., 0., 0., 0., 0., 0., 0., 0., 0., 0., 0., 0.,\n",
            "        0., 0., 0., 0., 0., 0., 0., 0., 0., 1., 0., 0., 0.],\n",
            "       [0., 0., 0., 0., 0., 0., 0., 0., 0., 0., 0., 0., 0., 0., 0., 0.,\n",
            "        0., 0., 0., 0., 0., 0., 0., 0., 0., 0., 0., 0., 0., 0., 0., 0.,\n",
            "        0., 0., 0., 0., 0., 0., 0., 0., 0., 0., 1., 0., 0.],\n",
            "       [0., 0., 0., 0., 0., 0., 0., 0., 0., 0., 0., 0., 0., 0., 0., 0.,\n",
            "        0., 0., 0., 0., 0., 0., 0., 0., 0., 0., 0., 0., 0., 0., 0., 0.,\n",
            "        0., 0., 0., 0., 0., 0., 0., 0., 0., 0., 0., 1., 0.]])])}\n",
            "[0.0, 1769.3020985804676]\n"
          ]
        },
        {
          "name": "stderr",
          "output_type": "stream",
          "text": [
            "/usr/local/lib/python3.10/dist-packages/statsmodels/tsa/stattools.py:1488: FutureWarning: verbose is deprecated since functions should not print results\n",
            "  warnings.warn(\n"
          ]
        },
        {
          "name": "stdout",
          "output_type": "stream",
          "text": [
            "Lag: [22]\n",
            "{22: ({'ssr_ftest': (511.8107500934586, 0.0, 14932.0, 22), 'ssr_chi2test': (11293.769842706537, 0.0, 22), 'lrtest': (8416.193611073482, 0.0, 22), 'params_ftest': (511.8107500937726, 0.0, 14932.0, 22.0)}, [<statsmodels.regression.linear_model.RegressionResultsWrapper object at 0x79f5f2b41930>, <statsmodels.regression.linear_model.RegressionResultsWrapper object at 0x79f5f2b41600>, array([[0., 0., 0., 0., 0., 0., 0., 0., 0., 0., 0., 0., 0., 0., 0., 0.,\n",
            "        0., 0., 0., 0., 0., 0., 1., 0., 0., 0., 0., 0., 0., 0., 0., 0.,\n",
            "        0., 0., 0., 0., 0., 0., 0., 0., 0., 0., 0., 0., 0.],\n",
            "       [0., 0., 0., 0., 0., 0., 0., 0., 0., 0., 0., 0., 0., 0., 0., 0.,\n",
            "        0., 0., 0., 0., 0., 0., 0., 1., 0., 0., 0., 0., 0., 0., 0., 0.,\n",
            "        0., 0., 0., 0., 0., 0., 0., 0., 0., 0., 0., 0., 0.],\n",
            "       [0., 0., 0., 0., 0., 0., 0., 0., 0., 0., 0., 0., 0., 0., 0., 0.,\n",
            "        0., 0., 0., 0., 0., 0., 0., 0., 1., 0., 0., 0., 0., 0., 0., 0.,\n",
            "        0., 0., 0., 0., 0., 0., 0., 0., 0., 0., 0., 0., 0.],\n",
            "       [0., 0., 0., 0., 0., 0., 0., 0., 0., 0., 0., 0., 0., 0., 0., 0.,\n",
            "        0., 0., 0., 0., 0., 0., 0., 0., 0., 1., 0., 0., 0., 0., 0., 0.,\n",
            "        0., 0., 0., 0., 0., 0., 0., 0., 0., 0., 0., 0., 0.],\n",
            "       [0., 0., 0., 0., 0., 0., 0., 0., 0., 0., 0., 0., 0., 0., 0., 0.,\n",
            "        0., 0., 0., 0., 0., 0., 0., 0., 0., 0., 1., 0., 0., 0., 0., 0.,\n",
            "        0., 0., 0., 0., 0., 0., 0., 0., 0., 0., 0., 0., 0.],\n",
            "       [0., 0., 0., 0., 0., 0., 0., 0., 0., 0., 0., 0., 0., 0., 0., 0.,\n",
            "        0., 0., 0., 0., 0., 0., 0., 0., 0., 0., 0., 1., 0., 0., 0., 0.,\n",
            "        0., 0., 0., 0., 0., 0., 0., 0., 0., 0., 0., 0., 0.],\n",
            "       [0., 0., 0., 0., 0., 0., 0., 0., 0., 0., 0., 0., 0., 0., 0., 0.,\n",
            "        0., 0., 0., 0., 0., 0., 0., 0., 0., 0., 0., 0., 1., 0., 0., 0.,\n",
            "        0., 0., 0., 0., 0., 0., 0., 0., 0., 0., 0., 0., 0.],\n",
            "       [0., 0., 0., 0., 0., 0., 0., 0., 0., 0., 0., 0., 0., 0., 0., 0.,\n",
            "        0., 0., 0., 0., 0., 0., 0., 0., 0., 0., 0., 0., 0., 1., 0., 0.,\n",
            "        0., 0., 0., 0., 0., 0., 0., 0., 0., 0., 0., 0., 0.],\n",
            "       [0., 0., 0., 0., 0., 0., 0., 0., 0., 0., 0., 0., 0., 0., 0., 0.,\n",
            "        0., 0., 0., 0., 0., 0., 0., 0., 0., 0., 0., 0., 0., 0., 1., 0.,\n",
            "        0., 0., 0., 0., 0., 0., 0., 0., 0., 0., 0., 0., 0.],\n",
            "       [0., 0., 0., 0., 0., 0., 0., 0., 0., 0., 0., 0., 0., 0., 0., 0.,\n",
            "        0., 0., 0., 0., 0., 0., 0., 0., 0., 0., 0., 0., 0., 0., 0., 1.,\n",
            "        0., 0., 0., 0., 0., 0., 0., 0., 0., 0., 0., 0., 0.],\n",
            "       [0., 0., 0., 0., 0., 0., 0., 0., 0., 0., 0., 0., 0., 0., 0., 0.,\n",
            "        0., 0., 0., 0., 0., 0., 0., 0., 0., 0., 0., 0., 0., 0., 0., 0.,\n",
            "        1., 0., 0., 0., 0., 0., 0., 0., 0., 0., 0., 0., 0.],\n",
            "       [0., 0., 0., 0., 0., 0., 0., 0., 0., 0., 0., 0., 0., 0., 0., 0.,\n",
            "        0., 0., 0., 0., 0., 0., 0., 0., 0., 0., 0., 0., 0., 0., 0., 0.,\n",
            "        0., 1., 0., 0., 0., 0., 0., 0., 0., 0., 0., 0., 0.],\n",
            "       [0., 0., 0., 0., 0., 0., 0., 0., 0., 0., 0., 0., 0., 0., 0., 0.,\n",
            "        0., 0., 0., 0., 0., 0., 0., 0., 0., 0., 0., 0., 0., 0., 0., 0.,\n",
            "        0., 0., 1., 0., 0., 0., 0., 0., 0., 0., 0., 0., 0.],\n",
            "       [0., 0., 0., 0., 0., 0., 0., 0., 0., 0., 0., 0., 0., 0., 0., 0.,\n",
            "        0., 0., 0., 0., 0., 0., 0., 0., 0., 0., 0., 0., 0., 0., 0., 0.,\n",
            "        0., 0., 0., 1., 0., 0., 0., 0., 0., 0., 0., 0., 0.],\n",
            "       [0., 0., 0., 0., 0., 0., 0., 0., 0., 0., 0., 0., 0., 0., 0., 0.,\n",
            "        0., 0., 0., 0., 0., 0., 0., 0., 0., 0., 0., 0., 0., 0., 0., 0.,\n",
            "        0., 0., 0., 0., 1., 0., 0., 0., 0., 0., 0., 0., 0.],\n",
            "       [0., 0., 0., 0., 0., 0., 0., 0., 0., 0., 0., 0., 0., 0., 0., 0.,\n",
            "        0., 0., 0., 0., 0., 0., 0., 0., 0., 0., 0., 0., 0., 0., 0., 0.,\n",
            "        0., 0., 0., 0., 0., 1., 0., 0., 0., 0., 0., 0., 0.],\n",
            "       [0., 0., 0., 0., 0., 0., 0., 0., 0., 0., 0., 0., 0., 0., 0., 0.,\n",
            "        0., 0., 0., 0., 0., 0., 0., 0., 0., 0., 0., 0., 0., 0., 0., 0.,\n",
            "        0., 0., 0., 0., 0., 0., 1., 0., 0., 0., 0., 0., 0.],\n",
            "       [0., 0., 0., 0., 0., 0., 0., 0., 0., 0., 0., 0., 0., 0., 0., 0.,\n",
            "        0., 0., 0., 0., 0., 0., 0., 0., 0., 0., 0., 0., 0., 0., 0., 0.,\n",
            "        0., 0., 0., 0., 0., 0., 0., 1., 0., 0., 0., 0., 0.],\n",
            "       [0., 0., 0., 0., 0., 0., 0., 0., 0., 0., 0., 0., 0., 0., 0., 0.,\n",
            "        0., 0., 0., 0., 0., 0., 0., 0., 0., 0., 0., 0., 0., 0., 0., 0.,\n",
            "        0., 0., 0., 0., 0., 0., 0., 0., 1., 0., 0., 0., 0.],\n",
            "       [0., 0., 0., 0., 0., 0., 0., 0., 0., 0., 0., 0., 0., 0., 0., 0.,\n",
            "        0., 0., 0., 0., 0., 0., 0., 0., 0., 0., 0., 0., 0., 0., 0., 0.,\n",
            "        0., 0., 0., 0., 0., 0., 0., 0., 0., 1., 0., 0., 0.],\n",
            "       [0., 0., 0., 0., 0., 0., 0., 0., 0., 0., 0., 0., 0., 0., 0., 0.,\n",
            "        0., 0., 0., 0., 0., 0., 0., 0., 0., 0., 0., 0., 0., 0., 0., 0.,\n",
            "        0., 0., 0., 0., 0., 0., 0., 0., 0., 0., 1., 0., 0.],\n",
            "       [0., 0., 0., 0., 0., 0., 0., 0., 0., 0., 0., 0., 0., 0., 0., 0.,\n",
            "        0., 0., 0., 0., 0., 0., 0., 0., 0., 0., 0., 0., 0., 0., 0., 0.,\n",
            "        0., 0., 0., 0., 0., 0., 0., 0., 0., 0., 0., 1., 0.]])])}\n",
            "[0.0, 511.8107500934586]\n",
            "         Granger Causality P value   r1 r2 regioes condicao\n",
            "Results        1769.302099  p<0.01  PRL  x  PRL->x   OF_pos\n",
            "         Granger Causality P value   r1 r2 regioes condicao\n",
            "Results          511.81075  p<0.01  PRL  x  PRL->x   OF_pos\n"
          ]
        },
        {
          "name": "stderr",
          "output_type": "stream",
          "text": [
            "/usr/local/lib/python3.10/dist-packages/statsmodels/tsa/stattools.py:1488: FutureWarning: verbose is deprecated since functions should not print results\n",
            "  warnings.warn(\n"
          ]
        },
        {
          "name": "stdout",
          "output_type": "stream",
          "text": [
            "Lag: [23]\n",
            "{23: ({'ssr_ftest': (1621.8005511279132, 0.0, 14929.0, 23), 'ssr_chi2test': (37418.84628809079, 0.0, 23), 'lrtest': (18755.333078587428, 0.0, 23), 'params_ftest': (1621.8005511206006, 0.0, 14929.0, 23.0)}, [<statsmodels.regression.linear_model.RegressionResultsWrapper object at 0x79f5f2b42e00>, <statsmodels.regression.linear_model.RegressionResultsWrapper object at 0x79f5f2b411b0>, array([[0., 0., 0., ..., 0., 0., 0.],\n",
            "       [0., 0., 0., ..., 0., 0., 0.],\n",
            "       [0., 0., 0., ..., 0., 0., 0.],\n",
            "       ...,\n",
            "       [0., 0., 0., ..., 0., 0., 0.],\n",
            "       [0., 0., 0., ..., 1., 0., 0.],\n",
            "       [0., 0., 0., ..., 0., 1., 0.]])])}\n",
            "[0.0, 1621.8005511279132]\n"
          ]
        },
        {
          "name": "stderr",
          "output_type": "stream",
          "text": [
            "/usr/local/lib/python3.10/dist-packages/statsmodels/tsa/stattools.py:1488: FutureWarning: verbose is deprecated since functions should not print results\n",
            "  warnings.warn(\n"
          ]
        },
        {
          "name": "stdout",
          "output_type": "stream",
          "text": [
            "Lag: [23]\n",
            "{23: ({'ssr_ftest': (447.8890045168048, 0.0, 14929.0, 23), 'ssr_chi2test': (10333.878479992254, 0.0, 23), 'lrtest': (7858.593902699533, 0.0, 23), 'params_ftest': (447.88900451748384, 0.0, 14929.0, 23.0)}, [<statsmodels.regression.linear_model.RegressionResultsWrapper object at 0x79f5f2b41510>, <statsmodels.regression.linear_model.RegressionResultsWrapper object at 0x79f5f2b411b0>, array([[0., 0., 0., ..., 0., 0., 0.],\n",
            "       [0., 0., 0., ..., 0., 0., 0.],\n",
            "       [0., 0., 0., ..., 0., 0., 0.],\n",
            "       ...,\n",
            "       [0., 0., 0., ..., 0., 0., 0.],\n",
            "       [0., 0., 0., ..., 1., 0., 0.],\n",
            "       [0., 0., 0., ..., 0., 1., 0.]])])}\n",
            "[0.0, 447.8890045168048]\n",
            "         Granger Causality P value   r1 r2 regioes condicao\n",
            "Results        1621.800551  p<0.01  PRL  x  PRL->x   OF_pos\n",
            "         Granger Causality P value   r1 r2 regioes condicao\n",
            "Results         447.889005  p<0.01  PRL  x  PRL->x   OF_pos\n"
          ]
        },
        {
          "name": "stderr",
          "output_type": "stream",
          "text": [
            "/usr/local/lib/python3.10/dist-packages/statsmodels/tsa/stattools.py:1488: FutureWarning: verbose is deprecated since functions should not print results\n",
            "  warnings.warn(\n"
          ]
        },
        {
          "name": "stdout",
          "output_type": "stream",
          "text": [
            "Lag: [24]\n",
            "{24: ({'ssr_ftest': (1511.4006559198406, 0.0, 14926.0, 24), 'ssr_chi2test': (36392.69702114369, 0.0, 24), 'lrtest': (18458.59483985114, 0.0, 24), 'params_ftest': (1511.4006559126426, 0.0, 14926.0, 24.0)}, [<statsmodels.regression.linear_model.RegressionResultsWrapper object at 0x79f5f2b42e00>, <statsmodels.regression.linear_model.RegressionResultsWrapper object at 0x79f5f2b41510>, array([[0., 0., 0., ..., 0., 0., 0.],\n",
            "       [0., 0., 0., ..., 0., 0., 0.],\n",
            "       [0., 0., 0., ..., 0., 0., 0.],\n",
            "       ...,\n",
            "       [0., 0., 0., ..., 0., 0., 0.],\n",
            "       [0., 0., 0., ..., 1., 0., 0.],\n",
            "       [0., 0., 0., ..., 0., 1., 0.]])])}\n",
            "[0.0, 1511.4006559198406]\n"
          ]
        },
        {
          "name": "stderr",
          "output_type": "stream",
          "text": [
            "/usr/local/lib/python3.10/dist-packages/statsmodels/tsa/stattools.py:1488: FutureWarning: verbose is deprecated since functions should not print results\n",
            "  warnings.warn(\n"
          ]
        },
        {
          "name": "stdout",
          "output_type": "stream",
          "text": [
            "Lag: [24]\n",
            "{24: ({'ssr_ftest': (477.4924937017208, 0.0, 14926.0, 24), 'ssr_chi2test': (11497.44085732269, 0.0, 24), 'lrtest': (8531.588151008415, 0.0, 24), 'params_ftest': (477.49249370071544, 0.0, 14926.0, 24.0)}, [<statsmodels.regression.linear_model.RegressionResultsWrapper object at 0x79f5f2b43ca0>, <statsmodels.regression.linear_model.RegressionResultsWrapper object at 0x79f5f2b41600>, array([[0., 0., 0., ..., 0., 0., 0.],\n",
            "       [0., 0., 0., ..., 0., 0., 0.],\n",
            "       [0., 0., 0., ..., 0., 0., 0.],\n",
            "       ...,\n",
            "       [0., 0., 0., ..., 0., 0., 0.],\n",
            "       [0., 0., 0., ..., 1., 0., 0.],\n",
            "       [0., 0., 0., ..., 0., 1., 0.]])])}\n",
            "[0.0, 477.4924937017208]\n",
            "         Granger Causality P value   r1 r2 regioes condicao\n",
            "Results        1511.400656  p<0.01  PRL  x  PRL->x   OF_pos\n",
            "         Granger Causality P value   r1 r2 regioes condicao\n",
            "Results         477.492494  p<0.01  PRL  x  PRL->x   OF_pos\n"
          ]
        },
        {
          "name": "stderr",
          "output_type": "stream",
          "text": [
            "/usr/local/lib/python3.10/dist-packages/statsmodels/tsa/stattools.py:1488: FutureWarning: verbose is deprecated since functions should not print results\n",
            "  warnings.warn(\n"
          ]
        },
        {
          "name": "stdout",
          "output_type": "stream",
          "text": [
            "Lag: [25]\n"
          ]
        },
        {
          "name": "stderr",
          "output_type": "stream",
          "text": [
            "/usr/local/lib/python3.10/dist-packages/statsmodels/tsa/stattools.py:1488: FutureWarning: verbose is deprecated since functions should not print results\n",
            "  warnings.warn(\n"
          ]
        },
        {
          "name": "stdout",
          "output_type": "stream",
          "text": [
            "{25: ({'ssr_ftest': (1483.4802705196314, 0.0, 14923.0, 25), 'ssr_chi2test': (37213.75321778624, 0.0, 25), 'lrtest': (18695.525518259616, 0.0, 25), 'params_ftest': (1483.4802705188768, 0.0, 14923.0, 25.0)}, [<statsmodels.regression.linear_model.RegressionResultsWrapper object at 0x79f5f2b411b0>, <statsmodels.regression.linear_model.RegressionResultsWrapper object at 0x79f5f2b43d00>, array([[0., 0., 0., ..., 0., 0., 0.],\n",
            "       [0., 0., 0., ..., 0., 0., 0.],\n",
            "       [0., 0., 0., ..., 0., 0., 0.],\n",
            "       ...,\n",
            "       [0., 0., 0., ..., 0., 0., 0.],\n",
            "       [0., 0., 0., ..., 1., 0., 0.],\n",
            "       [0., 0., 0., ..., 0., 1., 0.]])])}\n",
            "[0.0, 1483.4802705196314]\n",
            "Lag: [25]\n"
          ]
        },
        {
          "name": "stderr",
          "output_type": "stream",
          "text": [
            "/usr/local/lib/python3.10/dist-packages/statsmodels/tsa/stattools.py:1488: FutureWarning: verbose is deprecated since functions should not print results\n",
            "  warnings.warn(\n"
          ]
        },
        {
          "name": "stdout",
          "output_type": "stream",
          "text": [
            "{25: ({'ssr_ftest': (478.56420381902615, 0.0, 14923.0, 25), 'ssr_chi2test': (12004.99294375477, 0.0, 25), 'lrtest': (8815.840081525384, 0.0, 25), 'params_ftest': (478.56420381692874, 0.0, 14923.0, 25.0)}, [<statsmodels.regression.linear_model.RegressionResultsWrapper object at 0x79f5f2b40130>, <statsmodels.regression.linear_model.RegressionResultsWrapper object at 0x79f5f2b42c80>, array([[0., 0., 0., ..., 0., 0., 0.],\n",
            "       [0., 0., 0., ..., 0., 0., 0.],\n",
            "       [0., 0., 0., ..., 0., 0., 0.],\n",
            "       ...,\n",
            "       [0., 0., 0., ..., 0., 0., 0.],\n",
            "       [0., 0., 0., ..., 1., 0., 0.],\n",
            "       [0., 0., 0., ..., 0., 1., 0.]])])}\n",
            "[0.0, 478.56420381902615]\n",
            "         Granger Causality P value   r1 r2 regioes condicao\n",
            "Results        1483.480271  p<0.01  PRL  x  PRL->x   OF_pos\n",
            "         Granger Causality P value   r1 r2 regioes condicao\n",
            "Results         478.564204  p<0.01  PRL  x  PRL->x   OF_pos\n",
            "Lag: [26]\n",
            "{26: ({'ssr_ftest': (1518.0424384103524, 0.0, 14920.0, 26), 'ssr_chi2test': (39609.308658731454, 0.0, 26), 'lrtest': (19366.995054450934, 0.0, 26), 'params_ftest': (1518.0424384448065, 0.0, 14920.0, 26.0)}, [<statsmodels.regression.linear_model.RegressionResultsWrapper object at 0x79f5f2b41600>, <statsmodels.regression.linear_model.RegressionResultsWrapper object at 0x79f5f2b413c0>, array([[0., 0., 0., ..., 0., 0., 0.],\n",
            "       [0., 0., 0., ..., 0., 0., 0.],\n",
            "       [0., 0., 0., ..., 0., 0., 0.],\n",
            "       ...,\n",
            "       [0., 0., 0., ..., 0., 0., 0.],\n",
            "       [0., 0., 0., ..., 1., 0., 0.],\n",
            "       [0., 0., 0., ..., 0., 1., 0.]])])}\n",
            "[0.0, 1518.0424384103524]\n"
          ]
        },
        {
          "name": "stderr",
          "output_type": "stream",
          "text": [
            "/usr/local/lib/python3.10/dist-packages/statsmodels/tsa/stattools.py:1488: FutureWarning: verbose is deprecated since functions should not print results\n",
            "  warnings.warn(\n"
          ]
        },
        {
          "name": "stdout",
          "output_type": "stream",
          "text": [
            "Lag: [26]\n",
            "{26: ({'ssr_ftest': (444.8328841742598, 0.0, 14920.0, 26), 'ssr_chi2test': (11606.739419790281, 0.0, 26), 'lrtest': (8593.014738825033, 0.0, 26), 'params_ftest': (444.83288417481486, 0.0, 14920.0, 26.0)}, [<statsmodels.regression.linear_model.RegressionResultsWrapper object at 0x79f5f2b43f10>, <statsmodels.regression.linear_model.RegressionResultsWrapper object at 0x79f5f2b43ca0>, array([[0., 0., 0., ..., 0., 0., 0.],\n",
            "       [0., 0., 0., ..., 0., 0., 0.],\n",
            "       [0., 0., 0., ..., 0., 0., 0.],\n",
            "       ...,\n",
            "       [0., 0., 0., ..., 0., 0., 0.],\n",
            "       [0., 0., 0., ..., 1., 0., 0.],\n",
            "       [0., 0., 0., ..., 0., 1., 0.]])])}\n",
            "[0.0, 444.8328841742598]\n",
            "         Granger Causality P value   r1 r2 regioes condicao\n",
            "Results        1518.042438  p<0.01  PRL  x  PRL->x   OF_pos\n",
            "         Granger Causality P value   r1 r2 regioes condicao\n",
            "Results         444.832884  p<0.01  PRL  x  PRL->x   OF_pos\n"
          ]
        },
        {
          "name": "stderr",
          "output_type": "stream",
          "text": [
            "/usr/local/lib/python3.10/dist-packages/statsmodels/tsa/stattools.py:1488: FutureWarning: verbose is deprecated since functions should not print results\n",
            "  warnings.warn(\n"
          ]
        },
        {
          "name": "stdout",
          "output_type": "stream",
          "text": [
            "Lag: [27]\n"
          ]
        },
        {
          "name": "stderr",
          "output_type": "stream",
          "text": [
            "/usr/local/lib/python3.10/dist-packages/statsmodels/tsa/stattools.py:1488: FutureWarning: verbose is deprecated since functions should not print results\n",
            "  warnings.warn(\n"
          ]
        },
        {
          "name": "stdout",
          "output_type": "stream",
          "text": [
            "{27: ({'ssr_ftest': (1405.1171927678517, 0.0, 14917.0, 27), 'ssr_chi2test': (38078.04481284759, 0.0, 27), 'lrtest': (18940.38728643651, 0.0, 27), 'params_ftest': (1405.1171927628775, 0.0, 14917.0, 27.0)}, [<statsmodels.regression.linear_model.RegressionResultsWrapper object at 0x79f5f2b411b0>, <statsmodels.regression.linear_model.RegressionResultsWrapper object at 0x79f5f2b41510>, array([[0., 0., 0., ..., 0., 0., 0.],\n",
            "       [0., 0., 0., ..., 0., 0., 0.],\n",
            "       [0., 0., 0., ..., 0., 0., 0.],\n",
            "       ...,\n",
            "       [0., 0., 0., ..., 0., 0., 0.],\n",
            "       [0., 0., 0., ..., 1., 0., 0.],\n",
            "       [0., 0., 0., ..., 0., 1., 0.]])])}\n",
            "[0.0, 1405.1171927678517]\n"
          ]
        },
        {
          "ename": "KeyboardInterrupt",
          "evalue": "ignored",
          "output_type": "error",
          "traceback": [
            "\u001b[0;31m---------------------------------------------------------------------------\u001b[0m",
            "\u001b[0;31mKeyboardInterrupt\u001b[0m                         Traceback (most recent call last)",
            "\u001b[0;32m<ipython-input-132-377ba19f9981>\u001b[0m in \u001b[0;36m<cell line: 1>\u001b[0;34m()\u001b[0m\n\u001b[1;32m      1\u001b[0m \u001b[0;32mfor\u001b[0m \u001b[0mi\u001b[0m \u001b[0;32min\u001b[0m \u001b[0mrange\u001b[0m\u001b[0;34m(\u001b[0m\u001b[0;36m1\u001b[0m\u001b[0;34m,\u001b[0m \u001b[0;36m31\u001b[0m\u001b[0;34m)\u001b[0m\u001b[0;34m:\u001b[0m\u001b[0;34m\u001b[0m\u001b[0;34m\u001b[0m\u001b[0m\n\u001b[1;32m      2\u001b[0m   \u001b[0mgc_prl_x\u001b[0m \u001b[0;34m=\u001b[0m \u001b[0mgrangercausality\u001b[0m\u001b[0;34m(\u001b[0m\u001b[0mprl\u001b[0m\u001b[0;34m[\u001b[0m\u001b[0;36m0\u001b[0m\u001b[0;34m:\u001b[0m\u001b[0mlen\u001b[0m\u001b[0;34m(\u001b[0m\u001b[0msinal_fake\u001b[0m\u001b[0;34m[\u001b[0m\u001b[0;36m2\u001b[0m\u001b[0;34m]\u001b[0m\u001b[0;34m)\u001b[0m\u001b[0;34m]\u001b[0m\u001b[0;34m,\u001b[0m\u001b[0msinal_fake\u001b[0m\u001b[0;34m[\u001b[0m\u001b[0;36m2\u001b[0m\u001b[0;34m]\u001b[0m\u001b[0;34m,\u001b[0m\u001b[0;34m'PRL'\u001b[0m\u001b[0;34m,\u001b[0m\u001b[0;34m'x'\u001b[0m\u001b[0;34m,\u001b[0m\u001b[0mstr\u001b[0m\u001b[0;34m(\u001b[0m\u001b[0mcondicao\u001b[0m\u001b[0;34m)\u001b[0m\u001b[0;34m,\u001b[0m\u001b[0;34m'CCM497'\u001b[0m\u001b[0;34m,\u001b[0m\u001b[0;36m1000\u001b[0m\u001b[0;34m,\u001b[0m\u001b[0;36m1\u001b[0m\u001b[0;34m,\u001b[0m\u001b[0;36m100\u001b[0m\u001b[0;34m,\u001b[0m \u001b[0mlag\u001b[0m\u001b[0;34m=\u001b[0m\u001b[0mi\u001b[0m\u001b[0;34m)\u001b[0m\u001b[0;34m\u001b[0m\u001b[0;34m\u001b[0m\u001b[0m\n\u001b[0;32m----> 3\u001b[0;31m   \u001b[0mgc_x_prl\u001b[0m \u001b[0;34m=\u001b[0m \u001b[0mgrangercausality\u001b[0m\u001b[0;34m(\u001b[0m\u001b[0msinal_fake\u001b[0m\u001b[0;34m[\u001b[0m\u001b[0;36m2\u001b[0m\u001b[0;34m]\u001b[0m\u001b[0;34m,\u001b[0m\u001b[0mprl\u001b[0m\u001b[0;34m[\u001b[0m\u001b[0;36m0\u001b[0m\u001b[0;34m:\u001b[0m\u001b[0mlen\u001b[0m\u001b[0;34m(\u001b[0m\u001b[0msinal_fake\u001b[0m\u001b[0;34m[\u001b[0m\u001b[0;36m2\u001b[0m\u001b[0;34m]\u001b[0m\u001b[0;34m)\u001b[0m\u001b[0;34m]\u001b[0m\u001b[0;34m,\u001b[0m\u001b[0;34m'PRL'\u001b[0m\u001b[0;34m,\u001b[0m\u001b[0;34m'x'\u001b[0m\u001b[0;34m,\u001b[0m\u001b[0mstr\u001b[0m\u001b[0;34m(\u001b[0m\u001b[0mcondicao\u001b[0m\u001b[0;34m)\u001b[0m\u001b[0;34m,\u001b[0m\u001b[0;34m'CCM497'\u001b[0m\u001b[0;34m,\u001b[0m\u001b[0;36m1000\u001b[0m\u001b[0;34m,\u001b[0m\u001b[0;36m1\u001b[0m\u001b[0;34m,\u001b[0m\u001b[0;36m100\u001b[0m\u001b[0;34m,\u001b[0m \u001b[0mlag\u001b[0m\u001b[0;34m=\u001b[0m\u001b[0mi\u001b[0m\u001b[0;34m)\u001b[0m\u001b[0;34m\u001b[0m\u001b[0;34m\u001b[0m\u001b[0m\n\u001b[0m\u001b[1;32m      4\u001b[0m   \u001b[0mprint\u001b[0m\u001b[0;34m(\u001b[0m\u001b[0mgc_prl_x\u001b[0m\u001b[0;34m)\u001b[0m\u001b[0;34m\u001b[0m\u001b[0;34m\u001b[0m\u001b[0m\n\u001b[1;32m      5\u001b[0m   \u001b[0mprint\u001b[0m\u001b[0;34m(\u001b[0m\u001b[0mgc_x_prl\u001b[0m\u001b[0;34m)\u001b[0m\u001b[0;34m\u001b[0m\u001b[0;34m\u001b[0m\u001b[0m\n",
            "\u001b[0;32m<ipython-input-131-7828f5639af7>\u001b[0m in \u001b[0;36mgrangercausality\u001b[0;34m(data1, data2, r1, r2, condicao, rato, frate, flow, fhigh, lag)\u001b[0m\n\u001b[1;32m      3\u001b[0m \u001b[0;32mdef\u001b[0m \u001b[0mgrangercausality\u001b[0m\u001b[0;34m(\u001b[0m\u001b[0mdata1\u001b[0m\u001b[0;34m,\u001b[0m\u001b[0mdata2\u001b[0m\u001b[0;34m,\u001b[0m\u001b[0mr1\u001b[0m\u001b[0;34m,\u001b[0m \u001b[0mr2\u001b[0m\u001b[0;34m,\u001b[0m \u001b[0mcondicao\u001b[0m\u001b[0;34m,\u001b[0m \u001b[0mrato\u001b[0m\u001b[0;34m,\u001b[0m\u001b[0mfrate\u001b[0m\u001b[0;34m,\u001b[0m\u001b[0mflow\u001b[0m\u001b[0;34m,\u001b[0m\u001b[0mfhigh\u001b[0m\u001b[0;34m,\u001b[0m \u001b[0mlag\u001b[0m\u001b[0;34m=\u001b[0m\u001b[0;34m-\u001b[0m\u001b[0;36m1\u001b[0m\u001b[0;34m)\u001b[0m\u001b[0;34m:\u001b[0m\u001b[0;34m\u001b[0m\u001b[0;34m\u001b[0m\u001b[0m\n\u001b[1;32m      4\u001b[0m \u001b[0;34m\u001b[0m\u001b[0m\n\u001b[0;32m----> 5\u001b[0;31m   \u001b[0menvelope_data_1\u001b[0m \u001b[0;34m=\u001b[0m \u001b[0mnp\u001b[0m\u001b[0;34m.\u001b[0m\u001b[0mabs\u001b[0m\u001b[0;34m(\u001b[0m\u001b[0msignal\u001b[0m\u001b[0;34m.\u001b[0m\u001b[0mhilbert\u001b[0m\u001b[0;34m(\u001b[0m\u001b[0meegfilt\u001b[0m\u001b[0;34m(\u001b[0m\u001b[0mdata1\u001b[0m\u001b[0;34m,\u001b[0m\u001b[0mfrate\u001b[0m\u001b[0;34m,\u001b[0m\u001b[0mflow\u001b[0m\u001b[0;34m,\u001b[0m\u001b[0mfhigh\u001b[0m\u001b[0;34m)\u001b[0m\u001b[0;34m)\u001b[0m\u001b[0;34m)\u001b[0m\u001b[0;34m\u001b[0m\u001b[0;34m\u001b[0m\u001b[0m\n\u001b[0m\u001b[1;32m      6\u001b[0m   \u001b[0mtest_data_1\u001b[0m \u001b[0;34m=\u001b[0m \u001b[0mnp\u001b[0m\u001b[0;34m.\u001b[0m\u001b[0msqueeze\u001b[0m\u001b[0;34m(\u001b[0m\u001b[0menvelope_data_1\u001b[0m\u001b[0;34m)\u001b[0m\u001b[0;34m\u001b[0m\u001b[0;34m\u001b[0m\u001b[0m\n\u001b[1;32m      7\u001b[0m \u001b[0;34m\u001b[0m\u001b[0m\n",
            "\u001b[0;32m<ipython-input-53-813b3768443b>\u001b[0m in \u001b[0;36meegfilt\u001b[0;34m(data, srate, flow, fhigh)\u001b[0m\n\u001b[1;32m     11\u001b[0m \u001b[0;34m\u001b[0m\u001b[0m\n\u001b[1;32m     12\u001b[0m     \u001b[0mfiltwts\u001b[0m \u001b[0;34m=\u001b[0m \u001b[0msignal\u001b[0m\u001b[0;34m.\u001b[0m\u001b[0mfirls\u001b[0m\u001b[0;34m(\u001b[0m\u001b[0mfilt_order\u001b[0m\u001b[0;34m,\u001b[0m\u001b[0mf\u001b[0m\u001b[0;34m,\u001b[0m\u001b[0mnp\u001b[0m\u001b[0;34m.\u001b[0m\u001b[0mdouble\u001b[0m\u001b[0;34m(\u001b[0m\u001b[0mm\u001b[0m\u001b[0;34m)\u001b[0m\u001b[0;34m)\u001b[0m\u001b[0;34m\u001b[0m\u001b[0;34m\u001b[0m\u001b[0m\n\u001b[0;32m---> 13\u001b[0;31m     \u001b[0mdata_filt\u001b[0m \u001b[0;34m=\u001b[0m \u001b[0msignal\u001b[0m\u001b[0;34m.\u001b[0m\u001b[0mfiltfilt\u001b[0m\u001b[0;34m(\u001b[0m\u001b[0mfiltwts\u001b[0m\u001b[0;34m,\u001b[0m\u001b[0;36m1\u001b[0m\u001b[0;34m,\u001b[0m \u001b[0mdata\u001b[0m\u001b[0;34m)\u001b[0m\u001b[0;34m\u001b[0m\u001b[0;34m\u001b[0m\u001b[0m\n\u001b[0m\u001b[1;32m     14\u001b[0m \u001b[0;34m\u001b[0m\u001b[0m\n\u001b[1;32m     15\u001b[0m     \u001b[0;32mreturn\u001b[0m\u001b[0;34m(\u001b[0m\u001b[0mdata_filt\u001b[0m\u001b[0;34m)\u001b[0m\u001b[0;34m\u001b[0m\u001b[0;34m\u001b[0m\u001b[0m\n",
            "\u001b[0;32m/usr/local/lib/python3.10/dist-packages/scipy/signal/_signaltools.py\u001b[0m in \u001b[0;36mfiltfilt\u001b[0;34m(b, a, x, axis, padtype, padlen, method, irlen)\u001b[0m\n\u001b[1;32m   4161\u001b[0m \u001b[0;34m\u001b[0m\u001b[0m\n\u001b[1;32m   4162\u001b[0m     \u001b[0;31m# Get the steady state of the filter's step response.\u001b[0m\u001b[0;34m\u001b[0m\u001b[0;34m\u001b[0m\u001b[0m\n\u001b[0;32m-> 4163\u001b[0;31m     \u001b[0mzi\u001b[0m \u001b[0;34m=\u001b[0m \u001b[0mlfilter_zi\u001b[0m\u001b[0;34m(\u001b[0m\u001b[0mb\u001b[0m\u001b[0;34m,\u001b[0m \u001b[0ma\u001b[0m\u001b[0;34m)\u001b[0m\u001b[0;34m\u001b[0m\u001b[0;34m\u001b[0m\u001b[0m\n\u001b[0m\u001b[1;32m   4164\u001b[0m \u001b[0;34m\u001b[0m\u001b[0m\n\u001b[1;32m   4165\u001b[0m     \u001b[0;31m# Reshape zi and create x0 so that zi*x0 broadcasts\u001b[0m\u001b[0;34m\u001b[0m\u001b[0;34m\u001b[0m\u001b[0m\n",
            "\u001b[0;32m/usr/local/lib/python3.10/dist-packages/scipy/signal/_signaltools.py\u001b[0m in \u001b[0;36mlfilter_zi\u001b[0;34m(b, a)\u001b[0m\n\u001b[1;32m   3715\u001b[0m     \u001b[0mB\u001b[0m \u001b[0;34m=\u001b[0m \u001b[0mb\u001b[0m\u001b[0;34m[\u001b[0m\u001b[0;36m1\u001b[0m\u001b[0;34m:\u001b[0m\u001b[0;34m]\u001b[0m \u001b[0;34m-\u001b[0m \u001b[0ma\u001b[0m\u001b[0;34m[\u001b[0m\u001b[0;36m1\u001b[0m\u001b[0;34m:\u001b[0m\u001b[0;34m]\u001b[0m \u001b[0;34m*\u001b[0m \u001b[0mb\u001b[0m\u001b[0;34m[\u001b[0m\u001b[0;36m0\u001b[0m\u001b[0;34m]\u001b[0m\u001b[0;34m\u001b[0m\u001b[0;34m\u001b[0m\u001b[0m\n\u001b[1;32m   3716\u001b[0m     \u001b[0;31m# Solve zi = A*zi + B\u001b[0m\u001b[0;34m\u001b[0m\u001b[0;34m\u001b[0m\u001b[0m\n\u001b[0;32m-> 3717\u001b[0;31m     \u001b[0mzi\u001b[0m \u001b[0;34m=\u001b[0m \u001b[0mnp\u001b[0m\u001b[0;34m.\u001b[0m\u001b[0mlinalg\u001b[0m\u001b[0;34m.\u001b[0m\u001b[0msolve\u001b[0m\u001b[0;34m(\u001b[0m\u001b[0mIminusA\u001b[0m\u001b[0;34m,\u001b[0m \u001b[0mB\u001b[0m\u001b[0;34m)\u001b[0m\u001b[0;34m\u001b[0m\u001b[0;34m\u001b[0m\u001b[0m\n\u001b[0m\u001b[1;32m   3718\u001b[0m \u001b[0;34m\u001b[0m\u001b[0m\n\u001b[1;32m   3719\u001b[0m     \u001b[0;31m# For future reference: we could also use the following\u001b[0m\u001b[0;34m\u001b[0m\u001b[0;34m\u001b[0m\u001b[0m\n",
            "\u001b[0;32m/usr/local/lib/python3.10/dist-packages/numpy/core/overrides.py\u001b[0m in \u001b[0;36msolve\u001b[0;34m(*args, **kwargs)\u001b[0m\n",
            "\u001b[0;32m/usr/local/lib/python3.10/dist-packages/numpy/linalg/linalg.py\u001b[0m in \u001b[0;36msolve\u001b[0;34m(a, b)\u001b[0m\n\u001b[1;32m    398\u001b[0m     \u001b[0msignature\u001b[0m \u001b[0;34m=\u001b[0m \u001b[0;34m'DD->D'\u001b[0m \u001b[0;32mif\u001b[0m \u001b[0misComplexType\u001b[0m\u001b[0;34m(\u001b[0m\u001b[0mt\u001b[0m\u001b[0;34m)\u001b[0m \u001b[0;32melse\u001b[0m \u001b[0;34m'dd->d'\u001b[0m\u001b[0;34m\u001b[0m\u001b[0;34m\u001b[0m\u001b[0m\n\u001b[1;32m    399\u001b[0m     \u001b[0mextobj\u001b[0m \u001b[0;34m=\u001b[0m \u001b[0mget_linalg_error_extobj\u001b[0m\u001b[0;34m(\u001b[0m\u001b[0m_raise_linalgerror_singular\u001b[0m\u001b[0;34m)\u001b[0m\u001b[0;34m\u001b[0m\u001b[0;34m\u001b[0m\u001b[0m\n\u001b[0;32m--> 400\u001b[0;31m     \u001b[0mr\u001b[0m \u001b[0;34m=\u001b[0m \u001b[0mgufunc\u001b[0m\u001b[0;34m(\u001b[0m\u001b[0ma\u001b[0m\u001b[0;34m,\u001b[0m \u001b[0mb\u001b[0m\u001b[0;34m,\u001b[0m \u001b[0msignature\u001b[0m\u001b[0;34m=\u001b[0m\u001b[0msignature\u001b[0m\u001b[0;34m,\u001b[0m \u001b[0mextobj\u001b[0m\u001b[0;34m=\u001b[0m\u001b[0mextobj\u001b[0m\u001b[0;34m)\u001b[0m\u001b[0;34m\u001b[0m\u001b[0;34m\u001b[0m\u001b[0m\n\u001b[0m\u001b[1;32m    401\u001b[0m \u001b[0;34m\u001b[0m\u001b[0m\n\u001b[1;32m    402\u001b[0m     \u001b[0;32mreturn\u001b[0m \u001b[0mwrap\u001b[0m\u001b[0;34m(\u001b[0m\u001b[0mr\u001b[0m\u001b[0;34m.\u001b[0m\u001b[0mastype\u001b[0m\u001b[0;34m(\u001b[0m\u001b[0mresult_t\u001b[0m\u001b[0;34m,\u001b[0m \u001b[0mcopy\u001b[0m\u001b[0;34m=\u001b[0m\u001b[0;32mFalse\u001b[0m\u001b[0;34m)\u001b[0m\u001b[0;34m)\u001b[0m\u001b[0;34m\u001b[0m\u001b[0;34m\u001b[0m\u001b[0m\n",
            "\u001b[0;31mKeyboardInterrupt\u001b[0m: "
          ]
        }
      ],
      "source": [
        "for i in range(1, 31):\n",
        "  gc_prl_x = grangercausality(prl[0:len(sinal_fake[2])],sinal_fake[2],'PRL','x',str(condicao),'CCM497',1000,1,100, lag=i)\n",
        "  gc_x_prl = grangercausality(sinal_fake[2],prl[0:len(sinal_fake[2])],'PRL','x',str(condicao),'CCM497',1000,1,100, lag=i)\n",
        "  print(gc_prl_x)\n",
        "  print(gc_x_prl)"
      ]
    },
    {
      "cell_type": "code",
      "execution_count": null,
      "metadata": {
        "colab": {
          "base_uri": "https://localhost:8080/",
          "height": 81
        },
        "id": "aeJ3tqATFRsK",
        "outputId": "90d05444-7f16-4eb5-8050-183e8d0caf37"
      },
      "outputs": [
        {
          "data": {
            "text/html": [
              "\n",
              "  <div id=\"df-779b8ebc-280a-47de-b0dc-6ca2b91e8dfa\" class=\"colab-df-container\">\n",
              "    <div>\n",
              "<style scoped>\n",
              "    .dataframe tbody tr th:only-of-type {\n",
              "        vertical-align: middle;\n",
              "    }\n",
              "\n",
              "    .dataframe tbody tr th {\n",
              "        vertical-align: top;\n",
              "    }\n",
              "\n",
              "    .dataframe thead th {\n",
              "        text-align: right;\n",
              "    }\n",
              "</style>\n",
              "<table border=\"1\" class=\"dataframe\">\n",
              "  <thead>\n",
              "    <tr style=\"text-align: right;\">\n",
              "      <th></th>\n",
              "      <th>Granger Causality</th>\n",
              "      <th>P value</th>\n",
              "      <th>r1</th>\n",
              "      <th>r2</th>\n",
              "      <th>regioes</th>\n",
              "      <th>condicao</th>\n",
              "    </tr>\n",
              "  </thead>\n",
              "  <tbody>\n",
              "    <tr>\n",
              "      <th>Results</th>\n",
              "      <td>83.228468</td>\n",
              "      <td>p&lt;0.01</td>\n",
              "      <td>PRL</td>\n",
              "      <td>x</td>\n",
              "      <td>PRL-&gt;x</td>\n",
              "      <td>OF_pos</td>\n",
              "    </tr>\n",
              "  </tbody>\n",
              "</table>\n",
              "</div>\n",
              "    <div class=\"colab-df-buttons\">\n",
              "\n",
              "  <div class=\"colab-df-container\">\n",
              "    <button class=\"colab-df-convert\" onclick=\"convertToInteractive('df-779b8ebc-280a-47de-b0dc-6ca2b91e8dfa')\"\n",
              "            title=\"Convert this dataframe to an interactive table.\"\n",
              "            style=\"display:none;\">\n",
              "\n",
              "  <svg xmlns=\"http://www.w3.org/2000/svg\" height=\"24px\" viewBox=\"0 -960 960 960\">\n",
              "    <path d=\"M120-120v-720h720v720H120Zm60-500h600v-160H180v160Zm220 220h160v-160H400v160Zm0 220h160v-160H400v160ZM180-400h160v-160H180v160Zm440 0h160v-160H620v160ZM180-180h160v-160H180v160Zm440 0h160v-160H620v160Z\"/>\n",
              "  </svg>\n",
              "    </button>\n",
              "\n",
              "  <style>\n",
              "    .colab-df-container {\n",
              "      display:flex;\n",
              "      gap: 12px;\n",
              "    }\n",
              "\n",
              "    .colab-df-convert {\n",
              "      background-color: #E8F0FE;\n",
              "      border: none;\n",
              "      border-radius: 50%;\n",
              "      cursor: pointer;\n",
              "      display: none;\n",
              "      fill: #1967D2;\n",
              "      height: 32px;\n",
              "      padding: 0 0 0 0;\n",
              "      width: 32px;\n",
              "    }\n",
              "\n",
              "    .colab-df-convert:hover {\n",
              "      background-color: #E2EBFA;\n",
              "      box-shadow: 0px 1px 2px rgba(60, 64, 67, 0.3), 0px 1px 3px 1px rgba(60, 64, 67, 0.15);\n",
              "      fill: #174EA6;\n",
              "    }\n",
              "\n",
              "    .colab-df-buttons div {\n",
              "      margin-bottom: 4px;\n",
              "    }\n",
              "\n",
              "    [theme=dark] .colab-df-convert {\n",
              "      background-color: #3B4455;\n",
              "      fill: #D2E3FC;\n",
              "    }\n",
              "\n",
              "    [theme=dark] .colab-df-convert:hover {\n",
              "      background-color: #434B5C;\n",
              "      box-shadow: 0px 1px 3px 1px rgba(0, 0, 0, 0.15);\n",
              "      filter: drop-shadow(0px 1px 2px rgba(0, 0, 0, 0.3));\n",
              "      fill: #FFFFFF;\n",
              "    }\n",
              "  </style>\n",
              "\n",
              "    <script>\n",
              "      const buttonEl =\n",
              "        document.querySelector('#df-779b8ebc-280a-47de-b0dc-6ca2b91e8dfa button.colab-df-convert');\n",
              "      buttonEl.style.display =\n",
              "        google.colab.kernel.accessAllowed ? 'block' : 'none';\n",
              "\n",
              "      async function convertToInteractive(key) {\n",
              "        const element = document.querySelector('#df-779b8ebc-280a-47de-b0dc-6ca2b91e8dfa');\n",
              "        const dataTable =\n",
              "          await google.colab.kernel.invokeFunction('convertToInteractive',\n",
              "                                                    [key], {});\n",
              "        if (!dataTable) return;\n",
              "\n",
              "        const docLinkHtml = 'Like what you see? Visit the ' +\n",
              "          '<a target=\"_blank\" href=https://colab.research.google.com/notebooks/data_table.ipynb>data table notebook</a>'\n",
              "          + ' to learn more about interactive tables.';\n",
              "        element.innerHTML = '';\n",
              "        dataTable['output_type'] = 'display_data';\n",
              "        await google.colab.output.renderOutput(dataTable, element);\n",
              "        const docLink = document.createElement('div');\n",
              "        docLink.innerHTML = docLinkHtml;\n",
              "        element.appendChild(docLink);\n",
              "      }\n",
              "    </script>\n",
              "  </div>\n",
              "\n",
              "    </div>\n",
              "  </div>\n"
            ],
            "text/plain": [
              "         Granger Causality P value   r1 r2 regioes condicao\n",
              "Results          83.228468  p<0.01  PRL  x  PRL->x   OF_pos"
            ]
          },
          "execution_count": 126,
          "metadata": {},
          "output_type": "execute_result"
        }
      ],
      "source": [
        "gc_x_prl"
      ]
    },
    {
      "cell_type": "code",
      "execution_count": null,
      "metadata": {
        "colab": {
          "base_uri": "https://localhost:8080/",
          "height": 81
        },
        "id": "rnqv0omzFDKG",
        "outputId": "df5c098d-775c-40d3-bff5-0717ef4dd71f"
      },
      "outputs": [
        {
          "data": {
            "text/html": [
              "\n",
              "  <div id=\"df-9664002b-f51b-4201-b915-a117f0ba64d6\" class=\"colab-df-container\">\n",
              "    <div>\n",
              "<style scoped>\n",
              "    .dataframe tbody tr th:only-of-type {\n",
              "        vertical-align: middle;\n",
              "    }\n",
              "\n",
              "    .dataframe tbody tr th {\n",
              "        vertical-align: top;\n",
              "    }\n",
              "\n",
              "    .dataframe thead th {\n",
              "        text-align: right;\n",
              "    }\n",
              "</style>\n",
              "<table border=\"1\" class=\"dataframe\">\n",
              "  <thead>\n",
              "    <tr style=\"text-align: right;\">\n",
              "      <th></th>\n",
              "      <th>Granger Causality</th>\n",
              "      <th>P value</th>\n",
              "      <th>r1</th>\n",
              "      <th>r2</th>\n",
              "      <th>regioes</th>\n",
              "      <th>condicao</th>\n",
              "    </tr>\n",
              "  </thead>\n",
              "  <tbody>\n",
              "    <tr>\n",
              "      <th>Results</th>\n",
              "      <td>276.266822</td>\n",
              "      <td>p&lt;0.01</td>\n",
              "      <td>PRL</td>\n",
              "      <td>x</td>\n",
              "      <td>PRL-&gt;x</td>\n",
              "      <td>OF_pos</td>\n",
              "    </tr>\n",
              "  </tbody>\n",
              "</table>\n",
              "</div>\n",
              "    <div class=\"colab-df-buttons\">\n",
              "\n",
              "  <div class=\"colab-df-container\">\n",
              "    <button class=\"colab-df-convert\" onclick=\"convertToInteractive('df-9664002b-f51b-4201-b915-a117f0ba64d6')\"\n",
              "            title=\"Convert this dataframe to an interactive table.\"\n",
              "            style=\"display:none;\">\n",
              "\n",
              "  <svg xmlns=\"http://www.w3.org/2000/svg\" height=\"24px\" viewBox=\"0 -960 960 960\">\n",
              "    <path d=\"M120-120v-720h720v720H120Zm60-500h600v-160H180v160Zm220 220h160v-160H400v160Zm0 220h160v-160H400v160ZM180-400h160v-160H180v160Zm440 0h160v-160H620v160ZM180-180h160v-160H180v160Zm440 0h160v-160H620v160Z\"/>\n",
              "  </svg>\n",
              "    </button>\n",
              "\n",
              "  <style>\n",
              "    .colab-df-container {\n",
              "      display:flex;\n",
              "      gap: 12px;\n",
              "    }\n",
              "\n",
              "    .colab-df-convert {\n",
              "      background-color: #E8F0FE;\n",
              "      border: none;\n",
              "      border-radius: 50%;\n",
              "      cursor: pointer;\n",
              "      display: none;\n",
              "      fill: #1967D2;\n",
              "      height: 32px;\n",
              "      padding: 0 0 0 0;\n",
              "      width: 32px;\n",
              "    }\n",
              "\n",
              "    .colab-df-convert:hover {\n",
              "      background-color: #E2EBFA;\n",
              "      box-shadow: 0px 1px 2px rgba(60, 64, 67, 0.3), 0px 1px 3px 1px rgba(60, 64, 67, 0.15);\n",
              "      fill: #174EA6;\n",
              "    }\n",
              "\n",
              "    .colab-df-buttons div {\n",
              "      margin-bottom: 4px;\n",
              "    }\n",
              "\n",
              "    [theme=dark] .colab-df-convert {\n",
              "      background-color: #3B4455;\n",
              "      fill: #D2E3FC;\n",
              "    }\n",
              "\n",
              "    [theme=dark] .colab-df-convert:hover {\n",
              "      background-color: #434B5C;\n",
              "      box-shadow: 0px 1px 3px 1px rgba(0, 0, 0, 0.15);\n",
              "      filter: drop-shadow(0px 1px 2px rgba(0, 0, 0, 0.3));\n",
              "      fill: #FFFFFF;\n",
              "    }\n",
              "  </style>\n",
              "\n",
              "    <script>\n",
              "      const buttonEl =\n",
              "        document.querySelector('#df-9664002b-f51b-4201-b915-a117f0ba64d6 button.colab-df-convert');\n",
              "      buttonEl.style.display =\n",
              "        google.colab.kernel.accessAllowed ? 'block' : 'none';\n",
              "\n",
              "      async function convertToInteractive(key) {\n",
              "        const element = document.querySelector('#df-9664002b-f51b-4201-b915-a117f0ba64d6');\n",
              "        const dataTable =\n",
              "          await google.colab.kernel.invokeFunction('convertToInteractive',\n",
              "                                                    [key], {});\n",
              "        if (!dataTable) return;\n",
              "\n",
              "        const docLinkHtml = 'Like what you see? Visit the ' +\n",
              "          '<a target=\"_blank\" href=https://colab.research.google.com/notebooks/data_table.ipynb>data table notebook</a>'\n",
              "          + ' to learn more about interactive tables.';\n",
              "        element.innerHTML = '';\n",
              "        dataTable['output_type'] = 'display_data';\n",
              "        await google.colab.output.renderOutput(dataTable, element);\n",
              "        const docLink = document.createElement('div');\n",
              "        docLink.innerHTML = docLinkHtml;\n",
              "        element.appendChild(docLink);\n",
              "      }\n",
              "    </script>\n",
              "  </div>\n",
              "\n",
              "    </div>\n",
              "  </div>\n"
            ],
            "text/plain": [
              "         Granger Causality P value   r1 r2 regioes condicao\n",
              "Results         276.266822  p<0.01  PRL  x  PRL->x   OF_pos"
            ]
          },
          "execution_count": 127,
          "metadata": {},
          "output_type": "execute_result"
        }
      ],
      "source": [
        "gc_prl_x"
      ]
    },
    {
      "cell_type": "code",
      "execution_count": null,
      "metadata": {
        "colab": {
          "base_uri": "https://localhost:8080/",
          "height": 472
        },
        "id": "r6POCN6U1BL_",
        "outputId": "3ecfa49b-074a-4f6b-e89f-fece13e124d5"
      },
      "outputs": [
        {
          "data": {
            "image/png": "[encoded data removed]",
            "text/plain": [
              "<Figure size 640x480 with 1 Axes>"
            ]
          },
          "metadata": {},
          "output_type": "display_data"
        }
      ],
      "source": [
        "sns.set_theme(style=\"ticks\", palette=\"pastel\")\n",
        "\n",
        "\n",
        "\n",
        "\n",
        "\n",
        "sns.boxplot(x=\"Direction\", y=\"Granger Causality\",\n",
        "            hue=\"Condition\", palette=[\"g\", \"r\"],\n",
        "            data=df_final_granger)\n",
        "\n",
        "sns.despine(offset=10, trim=False)"
      ]
    },
    {
      "cell_type": "markdown",
      "metadata": {
        "id": "AeDjzsnh1oGf"
      },
      "source": [
        "# > Causalidade de Granger Normal"
      ]
    },
    {
      "cell_type": "code",
      "execution_count": null,
      "metadata": {
        "colab": {
          "base_uri": "https://localhost:8080/",
          "height": 547
        },
        "id": "DIzzFz5CBd-m",
        "outputId": "57f305c0-f47d-4f76-c4a3-1786a3a5a19e"
      },
      "outputs": [
        {
          "name": "stderr",
          "output_type": "stream",
          "text": [
            "/usr/local/lib/python3.10/dist-packages/statsmodels/tsa/stattools.py:1488: FutureWarning: verbose is deprecated since functions should not print results\n",
            "  warnings.warn(\n",
            "/usr/local/lib/python3.10/dist-packages/statsmodels/tsa/stattools.py:1488: FutureWarning: verbose is deprecated since functions should not print results\n",
            "  warnings.warn(\n",
            "/usr/local/lib/python3.10/dist-packages/statsmodels/tsa/stattools.py:1488: FutureWarning: verbose is deprecated since functions should not print results\n",
            "  warnings.warn(\n",
            "/usr/local/lib/python3.10/dist-packages/statsmodels/tsa/stattools.py:1488: FutureWarning: verbose is deprecated since functions should not print results\n",
            "  warnings.warn(\n"
          ]
        },
        {
          "ename": "UnboundLocalError",
          "evalue": "ignored",
          "output_type": "error",
          "traceback": [
            "\u001b[0;31m---------------------------------------------------------------------------\u001b[0m",
            "\u001b[0;31mUnboundLocalError\u001b[0m                         Traceback (most recent call last)",
            "\u001b[0;32m<ipython-input-183-c078dfc144b5>\u001b[0m in \u001b[0;36m<cell line: 3>\u001b[0;34m()\u001b[0m\n\u001b[1;32m      8\u001b[0m       \u001b[0mil\u001b[0m \u001b[0;34m=\u001b[0m \u001b[0mdf\u001b[0m\u001b[0;34m[\u001b[0m\u001b[0;34m(\u001b[0m\u001b[0mdf\u001b[0m\u001b[0;34m[\u001b[0m\u001b[0;34m'animal'\u001b[0m\u001b[0;34m]\u001b[0m \u001b[0;34m==\u001b[0m \u001b[0mstr\u001b[0m\u001b[0;34m(\u001b[0m\u001b[0mrato\u001b[0m\u001b[0;34m)\u001b[0m\u001b[0;34m)\u001b[0m \u001b[0;34m&\u001b[0m \u001b[0;34m(\u001b[0m\u001b[0mdf\u001b[0m\u001b[0;34m[\u001b[0m\u001b[0;34m'condicao'\u001b[0m\u001b[0;34m]\u001b[0m \u001b[0;34m==\u001b[0m \u001b[0mstr\u001b[0m\u001b[0;34m(\u001b[0m\u001b[0mcondicao\u001b[0m\u001b[0;34m)\u001b[0m \u001b[0;34m)\u001b[0m\u001b[0;34m]\u001b[0m\u001b[0;34m[\u001b[0m\u001b[0;34m'data_IL'\u001b[0m\u001b[0;34m]\u001b[0m\u001b[0;34m[\u001b[0m\u001b[0;36m30000\u001b[0m\u001b[0;34m:\u001b[0m\u001b[0;36m45000\u001b[0m\u001b[0;34m]\u001b[0m\u001b[0;34m\u001b[0m\u001b[0;34m\u001b[0m\u001b[0m\n\u001b[1;32m      9\u001b[0m \u001b[0;34m\u001b[0m\u001b[0m\n\u001b[0;32m---> 10\u001b[0;31m       \u001b[0mgc_prl_cg\u001b[0m \u001b[0;34m=\u001b[0m \u001b[0mgrangercausality\u001b[0m\u001b[0;34m(\u001b[0m\u001b[0mprl\u001b[0m\u001b[0;34m,\u001b[0m\u001b[0mcg\u001b[0m\u001b[0;34m,\u001b[0m\u001b[0;34m'PRL'\u001b[0m\u001b[0;34m,\u001b[0m\u001b[0;34m'AC'\u001b[0m\u001b[0;34m,\u001b[0m\u001b[0mstr\u001b[0m\u001b[0;34m(\u001b[0m\u001b[0mcondicao\u001b[0m\u001b[0;34m)\u001b[0m\u001b[0;34m,\u001b[0m\u001b[0mstr\u001b[0m\u001b[0;34m(\u001b[0m\u001b[0mrato\u001b[0m\u001b[0;34m)\u001b[0m\u001b[0;34m,\u001b[0m\u001b[0;36m1000\u001b[0m\u001b[0;34m,\u001b[0m\u001b[0;36m1\u001b[0m\u001b[0;34m,\u001b[0m\u001b[0;36m100\u001b[0m\u001b[0;34m,\u001b[0m\u001b[0mlag\u001b[0m\u001b[0;34m=\u001b[0m\u001b[0mi\u001b[0m\u001b[0;34m)\u001b[0m\u001b[0;34m\u001b[0m\u001b[0;34m\u001b[0m\u001b[0m\n\u001b[0m\u001b[1;32m     11\u001b[0m       \u001b[0mfazendo_df_granger\u001b[0m\u001b[0;34m.\u001b[0m\u001b[0mappend\u001b[0m\u001b[0;34m(\u001b[0m\u001b[0mgc_prl_cg\u001b[0m\u001b[0;34m)\u001b[0m\u001b[0;34m\u001b[0m\u001b[0;34m\u001b[0m\u001b[0m\n\u001b[1;32m     12\u001b[0m \u001b[0;34m\u001b[0m\u001b[0m\n",
            "\u001b[0;32m<ipython-input-182-7d310b51a7aa>\u001b[0m in \u001b[0;36mgrangercausality\u001b[0;34m(data1, data2, r1, r2, condicao, rato, frate, flow, fhigh, lag)\u001b[0m\n\u001b[1;32m     33\u001b[0m       \u001b[0mp_label\u001b[0m\u001b[0;34m.\u001b[0m\u001b[0mappend\u001b[0m\u001b[0;34m(\u001b[0m\u001b[0;34m'p>0.05'\u001b[0m\u001b[0;34m)\u001b[0m\u001b[0;34m\u001b[0m\u001b[0;34m\u001b[0m\u001b[0m\n\u001b[1;32m     34\u001b[0m \u001b[0;34m\u001b[0m\u001b[0m\n\u001b[0;32m---> 35\u001b[0;31m   \u001b[0mdf_granger\u001b[0m \u001b[0;34m=\u001b[0m \u001b[0mpd\u001b[0m\u001b[0;34m.\u001b[0m\u001b[0mDataFrame\u001b[0m\u001b[0;34m(\u001b[0m\u001b[0;34m{\u001b[0m \u001b[0;34m'Granger Causality'\u001b[0m\u001b[0;34m:\u001b[0m  \u001b[0mresults_test_r\u001b[0m\u001b[0;34m[\u001b[0m\u001b[0;36m1\u001b[0m\u001b[0;34m]\u001b[0m\u001b[0;34m,\u001b[0m \u001b[0;34m'P value'\u001b[0m\u001b[0;34m:\u001b[0m \u001b[0mp_label\u001b[0m\u001b[0;34m,\u001b[0m \u001b[0;34m'r1'\u001b[0m\u001b[0;34m:\u001b[0m \u001b[0mr1\u001b[0m\u001b[0;34m,\u001b[0m \u001b[0;34m'r2'\u001b[0m\u001b[0;34m:\u001b[0m \u001b[0mr2\u001b[0m\u001b[0;34m,\u001b[0m \u001b[0;34m'regioes'\u001b[0m\u001b[0;34m:\u001b[0m \u001b[0mstr\u001b[0m\u001b[0;34m(\u001b[0m\u001b[0mr1\u001b[0m\u001b[0;34m)\u001b[0m\u001b[0;34m+\u001b[0m\u001b[0;34m'->'\u001b[0m\u001b[0;34m+\u001b[0m\u001b[0mstr\u001b[0m\u001b[0;34m(\u001b[0m\u001b[0mr2\u001b[0m\u001b[0;34m)\u001b[0m\u001b[0;34m,\u001b[0m \u001b[0;34m'condicao'\u001b[0m\u001b[0;34m:\u001b[0m \u001b[0mcondicao\u001b[0m\u001b[0;34m,\u001b[0m \u001b[0;34m'lag'\u001b[0m\u001b[0;34m:\u001b[0m\u001b[0mlag\u001b[0m\u001b[0;34m}\u001b[0m\u001b[0;34m,\u001b[0m \u001b[0mindex\u001b[0m\u001b[0;34m=\u001b[0m\u001b[0;34m[\u001b[0m\u001b[0;34m'Results'\u001b[0m\u001b[0;34m]\u001b[0m\u001b[0;34m)\u001b[0m\u001b[0;34m\u001b[0m\u001b[0;34m\u001b[0m\u001b[0m\n\u001b[0m\u001b[1;32m     36\u001b[0m \u001b[0;34m\u001b[0m\u001b[0m\n\u001b[1;32m     37\u001b[0m   \u001b[0;32mreturn\u001b[0m\u001b[0;34m(\u001b[0m\u001b[0mdf_granger\u001b[0m \u001b[0;34m)\u001b[0m\u001b[0;34m\u001b[0m\u001b[0;34m\u001b[0m\u001b[0m\n",
            "\u001b[0;31mUnboundLocalError\u001b[0m: local variable 'p_label' referenced before assignment"
          ]
        }
      ],
      "source": [
        "\n",
        "\n",
        "fazendo_df_granger = []\n",
        "\n",
        "for rato in ratos.keys():\n",
        "  for condicao in ratos[rato]['condicao'].keys():\n",
        "    for i in range(1,31):\n",
        "      prl = df[(df['animal'] == str(rato)) & (df['condicao'] == str(condicao) )]['data_PRL'][30000:45000]\n",
        "      cg = df[(df['animal'] == str(rato)) & (df['condicao'] == str(condicao) )]['data_CG'][30000:45000]\n",
        "      il = df[(df['animal'] == str(rato)) & (df['condicao'] == str(condicao) )]['data_IL'][30000:45000]\n",
        "\n",
        "      gc_prl_cg = grangercausality(prl,cg,'PRL','AC',str(condicao),str(rato),1000,1,100,lag=i)\n",
        "      fazendo_df_granger.append(gc_prl_cg)\n",
        "\n",
        "      gc_cg_prl = grangercausality(cg,prl,'AC','PRL',str(condicao),str(rato),1000,1,100,lag=1)\n",
        "      fazendo_df_granger.append(gc_cg_prl)\n",
        "\n",
        "      gc_prl_il = grangercausality(prl,il,'PRL','IL',str(condicao),str(rato),1000,1,100,lag=1)\n",
        "      fazendo_df_granger.append(gc_prl_il)\n",
        "\n",
        "\n",
        "\n",
        "\n",
        "df_granger_animals = pd.concat(fazendo_df_granger)\n",
        "\n"
      ]
    },
    {
      "cell_type": "code",
      "execution_count": null,
      "metadata": {
        "colab": {
          "base_uri": "https://localhost:8080/"
        },
        "id": "vt_eCyaKtGCn",
        "outputId": "7d69a7d5-8d89-4f01-d1a7-d695b39cfcf2"
      },
      "outputs": [
        {
          "name": "stderr",
          "output_type": "stream",
          "text": [
            "/usr/local/lib/python3.10/dist-packages/statsmodels/tsa/stattools.py:1488: FutureWarning: verbose is deprecated since functions should not print results\n",
            "  warnings.warn(\n",
            "/usr/local/lib/python3.10/dist-packages/statsmodels/tsa/stattools.py:1488: FutureWarning: verbose is deprecated since functions should not print results\n",
            "  warnings.warn(\n",
            "/usr/local/lib/python3.10/dist-packages/statsmodels/tsa/stattools.py:1488: FutureWarning: verbose is deprecated since functions should not print results\n",
            "  warnings.warn(\n",
            "/usr/local/lib/python3.10/dist-packages/statsmodels/tsa/stattools.py:1488: FutureWarning: verbose is deprecated since functions should not print results\n",
            "  warnings.warn(\n",
            "/usr/local/lib/python3.10/dist-packages/statsmodels/tsa/stattools.py:1488: FutureWarning: verbose is deprecated since functions should not print results\n",
            "  warnings.warn(\n",
            "/usr/local/lib/python3.10/dist-packages/statsmodels/tsa/stattools.py:1488: FutureWarning: verbose is deprecated since functions should not print results\n",
            "  warnings.warn(\n",
            "/usr/local/lib/python3.10/dist-packages/statsmodels/tsa/stattools.py:1488: FutureWarning: verbose is deprecated since functions should not print results\n",
            "  warnings.warn(\n",
            "/usr/local/lib/python3.10/dist-packages/statsmodels/tsa/stattools.py:1488: FutureWarning: verbose is deprecated since functions should not print results\n",
            "  warnings.warn(\n",
            "/usr/local/lib/python3.10/dist-packages/statsmodels/tsa/stattools.py:1488: FutureWarning: verbose is deprecated since functions should not print results\n",
            "  warnings.warn(\n",
            "/usr/local/lib/python3.10/dist-packages/statsmodels/tsa/stattools.py:1488: FutureWarning: verbose is deprecated since functions should not print results\n",
            "  warnings.warn(\n",
            "/usr/local/lib/python3.10/dist-packages/statsmodels/tsa/stattools.py:1488: FutureWarning: verbose is deprecated since functions should not print results\n",
            "  warnings.warn(\n",
            "/usr/local/lib/python3.10/dist-packages/statsmodels/tsa/stattools.py:1488: FutureWarning: verbose is deprecated since functions should not print results\n",
            "  warnings.warn(\n",
            "/usr/local/lib/python3.10/dist-packages/statsmodels/tsa/stattools.py:1488: FutureWarning: verbose is deprecated since functions should not print results\n",
            "  warnings.warn(\n",
            "/usr/local/lib/python3.10/dist-packages/statsmodels/tsa/stattools.py:1488: FutureWarning: verbose is deprecated since functions should not print results\n",
            "  warnings.warn(\n",
            "/usr/local/lib/python3.10/dist-packages/statsmodels/tsa/stattools.py:1488: FutureWarning: verbose is deprecated since functions should not print results\n",
            "  warnings.warn(\n",
            "/usr/local/lib/python3.10/dist-packages/statsmodels/tsa/stattools.py:1488: FutureWarning: verbose is deprecated since functions should not print results\n",
            "  warnings.warn(\n",
            "/usr/local/lib/python3.10/dist-packages/statsmodels/tsa/stattools.py:1488: FutureWarning: verbose is deprecated since functions should not print results\n",
            "  warnings.warn(\n",
            "/usr/local/lib/python3.10/dist-packages/statsmodels/tsa/stattools.py:1488: FutureWarning: verbose is deprecated since functions should not print results\n",
            "  warnings.warn(\n",
            "/usr/local/lib/python3.10/dist-packages/statsmodels/tsa/stattools.py:1488: FutureWarning: verbose is deprecated since functions should not print results\n",
            "  warnings.warn(\n",
            "/usr/local/lib/python3.10/dist-packages/statsmodels/tsa/stattools.py:1488: FutureWarning: verbose is deprecated since functions should not print results\n",
            "  warnings.warn(\n",
            "/usr/local/lib/python3.10/dist-packages/statsmodels/tsa/stattools.py:1488: FutureWarning: verbose is deprecated since functions should not print results\n",
            "  warnings.warn(\n",
            "/usr/local/lib/python3.10/dist-packages/statsmodels/tsa/stattools.py:1488: FutureWarning: verbose is deprecated since functions should not print results\n",
            "  warnings.warn(\n",
            "/usr/local/lib/python3.10/dist-packages/statsmodels/tsa/stattools.py:1488: FutureWarning: verbose is deprecated since functions should not print results\n",
            "  warnings.warn(\n",
            "/usr/local/lib/python3.10/dist-packages/statsmodels/tsa/stattools.py:1488: FutureWarning: verbose is deprecated since functions should not print results\n",
            "  warnings.warn(\n",
            "/usr/local/lib/python3.10/dist-packages/statsmodels/tsa/stattools.py:1488: FutureWarning: verbose is deprecated since functions should not print results\n",
            "  warnings.warn(\n",
            "/usr/local/lib/python3.10/dist-packages/statsmodels/tsa/stattools.py:1488: FutureWarning: verbose is deprecated since functions should not print results\n",
            "  warnings.warn(\n",
            "/usr/local/lib/python3.10/dist-packages/statsmodels/tsa/stattools.py:1488: FutureWarning: verbose is deprecated since functions should not print results\n",
            "  warnings.warn(\n",
            "/usr/local/lib/python3.10/dist-packages/statsmodels/tsa/stattools.py:1488: FutureWarning: verbose is deprecated since functions should not print results\n",
            "  warnings.warn(\n",
            "/usr/local/lib/python3.10/dist-packages/statsmodels/tsa/stattools.py:1488: FutureWarning: verbose is deprecated since functions should not print results\n",
            "  warnings.warn(\n",
            "/usr/local/lib/python3.10/dist-packages/statsmodels/tsa/stattools.py:1488: FutureWarning: verbose is deprecated since functions should not print results\n",
            "  warnings.warn(\n",
            "/usr/local/lib/python3.10/dist-packages/statsmodels/tsa/stattools.py:1488: FutureWarning: verbose is deprecated since functions should not print results\n",
            "  warnings.warn(\n",
            "/usr/local/lib/python3.10/dist-packages/statsmodels/tsa/stattools.py:1488: FutureWarning: verbose is deprecated since functions should not print results\n",
            "  warnings.warn(\n",
            "/usr/local/lib/python3.10/dist-packages/statsmodels/tsa/stattools.py:1488: FutureWarning: verbose is deprecated since functions should not print results\n",
            "  warnings.warn(\n",
            "/usr/local/lib/python3.10/dist-packages/statsmodels/tsa/stattools.py:1488: FutureWarning: verbose is deprecated since functions should not print results\n",
            "  warnings.warn(\n",
            "/usr/local/lib/python3.10/dist-packages/statsmodels/tsa/stattools.py:1488: FutureWarning: verbose is deprecated since functions should not print results\n",
            "  warnings.warn(\n",
            "/usr/local/lib/python3.10/dist-packages/statsmodels/tsa/stattools.py:1488: FutureWarning: verbose is deprecated since functions should not print results\n",
            "  warnings.warn(\n"
          ]
        }
      ],
      "source": [
        "\n",
        "fazendo_df_granger_2 = []\n",
        "\n",
        "\n",
        "for rato in ratos.keys():\n",
        "  for condicao in ratos[rato]['condicao'].keys():\n",
        "    prl = df[(df['animal'] == str(rato)) & (df['condicao'] == str(condicao) )]['data_PRL'][30000:45000]\n",
        "    cg = df[(df['animal'] == str(rato)) & (df['condicao'] == str(condicao) )]['data_CG'][30000:45000]\n",
        "    il = df[(df['animal'] == str(rato)) & (df['condicao'] == str(condicao) )]['data_IL'][30000:45000]\n",
        "\n",
        "\n",
        "\n",
        "\n",
        "    gc_il_prl = grangercausality(il,prl,'IL','PRL',str(condicao),str(rato),1000,1,100)\n",
        "    fazendo_df_granger_2.append(gc_il_prl)\n",
        "\n",
        "    gc_cg_il = grangercausality(cg,il,'AC','IL',str(condicao),str(rato),1000,1,100)\n",
        "    fazendo_df_granger_2.append(gc_cg_il)\n",
        "\n",
        "    gc_il_cg = grangercausality(il,cg,'IL','AC',str(condicao),str(rato),1000,1,100)\n",
        "    fazendo_df_granger_2.append(gc_il_cg)\n",
        "\n",
        "df_temp = pd.DataFrame(pd.concat(fazendo_df_granger_2))\n",
        "df_granger_animals = pd.concat([df_granger_animals, df_temp], axis=0)"
      ]
    },
    {
      "cell_type": "code",
      "execution_count": null,
      "metadata": {
        "id": "Mz6lcyeHWpQM"
      },
      "outputs": [],
      "source": [
        "\n",
        "df_granger_animals['Granger Causality'] = np.log10(df_granger_animals['Granger Causality'])\n",
        "df_granger_animals.rename(columns={'condicao': 'Condition', 'regioes': 'Direction'}, inplace=True)"
      ]
    },
    {
      "cell_type": "code",
      "execution_count": null,
      "metadata": {
        "colab": {
          "base_uri": "https://localhost:8080/",
          "height": 472
        },
        "id": "A17U6QYrf1XV",
        "outputId": "6f45b7c1-ff40-4381-eee5-2c8cf4c4c5e3"
      },
      "outputs": [
        {
          "data": {
            "image/png": "[encoded data removed]",
            "text/plain": [
              "<Figure size 640x480 with 1 Axes>"
            ]
          },
          "metadata": {},
          "output_type": "display_data"
        }
      ],
      "source": [
        "sns.set_theme(style=\"ticks\", palette=\"pastel\")\n",
        "\n",
        "\n",
        "\n",
        "\n",
        "\n",
        "sns.boxplot(x=\"Direction\", y=\"Granger Causality\",\n",
        "            hue=\"Condition\", palette=[\"g\", \"r\"],\n",
        "            data=df_granger_animals)\n",
        "\n",
        "sns.despine(offset=10, trim=False)"
      ]
    },
    {
      "cell_type": "code",
      "execution_count": null,
      "metadata": {
        "colab": {
          "base_uri": "https://localhost:8080/",
          "height": 473
        },
        "id": "CGCrskX51rXs",
        "outputId": "b78ae13b-e9c4-42df-fe9e-1bacfb7c28e6"
      },
      "outputs": [
        {
          "data": {
            "image/png": "[encoded data removed]",
            "text/plain": [
              "<Figure size 640x480 with 1 Axes>"
            ]
          },
          "metadata": {},
          "output_type": "display_data"
        }
      ],
      "source": [
        "sns.set_theme(style=\"ticks\", palette=\"pastel\")\n",
        "\n",
        "\n",
        "\n",
        "\n",
        "\n",
        "sns.boxplot(x=\"Condition\", y=\"Granger Causality\",\n",
        "            hue=\"Direction\",\n",
        "            data=df_granger_animals)\n",
        "\n",
        "sns.despine(offset=10, trim=False)"
      ]
    },
    {
      "cell_type": "code",
      "execution_count": null,
      "metadata": {
        "id": "jzSHPfh7cBjd"
      },
      "outputs": [],
      "source": [
        "prl_ac = df_granger_animals[df_granger_animals['regioes'] == 'PRL->AC']\n",
        "ac_prl = df_granger_animals[df_granger_animals['regioes'] == 'AC->PRL']"
      ]
    },
    {
      "cell_type": "code",
      "execution_count": null,
      "metadata": {
        "id": "w3yXIghxcSX8"
      },
      "outputs": [],
      "source": [
        "gc_pre_PRL_AC  = np.array( prl_ac[prl_ac['condicao'] == 'OF_pre' ]['Granger Causality']   )\n",
        "gc_pre_AC_PRL = np.array( ac_prl[ac_prl['condicao']== 'OF_pre' ]['Granger Causality']   )"
      ]
    },
    {
      "cell_type": "code",
      "execution_count": null,
      "metadata": {
        "colab": {
          "base_uri": "https://localhost:8080/",
          "height": 480
        },
        "id": "3wOM27XdXzH4",
        "outputId": "245ecf3e-18cc-4885-c216-6ed1e1bfba40"
      },
      "outputs": [
        {
          "data": {
            "image/png": "[encoded data removed]",
            "text/plain": [
              "<Figure size 640x480 with 1 Axes>"
            ]
          },
          "metadata": {},
          "output_type": "display_data"
        }
      ],
      "source": [
        "\n",
        "for x in range(6):\n",
        "    plt.plot([1.4,1.6], [gc_pre_PRL_AC[x] ,gc_pre_AC_PRL[x]], color = 'grey')\n",
        "\n",
        "plt.xticks(ticks = [1.4,1.6], labels = ['PRL->AC','AC->PRL'], rotation = 0)\n",
        "\n",
        "plt.ylabel('Granger Causality')\n",
        "plt.grid(color='grey', linestyle='--', linewidth=0.7 ,alpha = 0.3, axis = 'both', which = 'Both')\n",
        "\n",
        "plt.tight_layout()"
      ]
    },
    {
      "cell_type": "code",
      "execution_count": null,
      "metadata": {
        "colab": {
          "base_uri": "https://localhost:8080/"
        },
        "id": "9V7GHh-BZJil",
        "outputId": "bce0b407-8415-412c-8806-8bf1bd67b13c"
      },
      "outputs": [
        {
          "name": "stderr",
          "output_type": "stream",
          "text": [
            "/usr/local/lib/python3.10/dist-packages/ipykernel/ipkernel.py:283: DeprecationWarning: `should_run_async` will not call `transform_cell` automatically in the future. Please pass the result to `transformed_cell` argument and any exception that happen during thetransform in `preprocessing_exc_tuple` in IPython 7.17 and above.\n",
            "  and should_run_async(code)\n"
          ]
        }
      ],
      "source": [
        "AC_PRL = pd.DataFrame({'granger': [np.mean(np.array(df_granger_animals[ (df_granger_animals.r1 ==   'AC' ) & (df_granger_animals.r2 ==   'PRL' ) & (df_granger_animals.condicao == 'OF_pre') ]['Granger Causality']))], 'condicao': 'PRE', 'REGIAO': 'AC->PRL'})\n",
        "PRL_AC = pd.DataFrame({'granger':[np.mean(np.array(df_granger_animals[ (df_granger_animals.r2 ==   'AC' ) & (df_granger_animals.r1 ==   'PRL' ) & (df_granger_animals.condicao == 'OF_pre') ]['Granger Causality']))], 'condicao': 'PRE', 'REGIAO': 'PRL->AC'})\n",
        "\n",
        "AC_IL = pd.DataFrame({'granger':[np.mean(np.array(df_granger_animals[ (df_granger_animals.r1 ==   'AC' ) & (df_granger_animals.r2 ==   'IL' ) & (df_granger_animals.condicao == 'OF_pre') ]['Granger Causality']))], 'condicao': 'PRE', 'REGIAO': 'AC->IL'})\n",
        "IL_AC = pd.DataFrame({'granger': [np.mean(np.array(df_granger_animals[ (df_granger_animals.r2 ==   'AC' ) & (df_granger_animals.r1 ==   'IL' ) & (df_granger_animals.condicao == 'OF_pre') ]['Granger Causality']))],'condicao': 'PRE', 'REGIAO': 'IL->AC'})\n",
        "\n",
        "PRL_IL = pd.DataFrame({'granger':[np.mean(np.array(df_granger_animals[ (df_granger_animals.r1 ==   'PRL' ) & (df_granger_animals.r2 ==   'IL' ) & (df_granger_animals.condicao == 'OF_pre') ]['Granger Causality']))], 'condicao': 'PRE', 'REGIAO': 'PRL->IL'})\n",
        "IL_PRL = pd.DataFrame({'granger':[np.mean(np.array(df_granger_animals[ (df_granger_animals.r2 ==   'PRL' ) & (df_granger_animals.r1 ==   'IL' ) & (df_granger_animals.condicao == 'OF_pre') ]['Granger Causality']))], 'condicao': 'PRE', 'REGIAO': 'IL->PRL'})"
      ]
    },
    {
      "cell_type": "code",
      "execution_count": null,
      "metadata": {
        "id": "D6iln2rL4IGy"
      },
      "outputs": [],
      "source": [
        "AC_PRL_pos = pd.DataFrame({'granger':[np.mean(np.array(df_granger_animals[ (df_granger_animals.r1 ==   'AC' ) & (df_granger_animals.r2 ==   'PRL' ) & (df_granger_animals.condicao == 'OF_pos') ]['Granger Causality']))], 'condicao': 'POS', 'REGIAO': 'AC->PRL'})\n",
        "PRL_AC_pos =  pd.DataFrame({'granger':[np.mean(np.array(df_granger_animals[ (df_granger_animals.r2 ==   'AC' ) & (df_granger_animals.r1 ==   'PRL' ) & (df_granger_animals.condicao == 'OF_pos') ]['Granger Causality']))],'condicao': 'POS', 'REGIAO': 'PRL->AC'})\n",
        "\n",
        "AC_IL_pos = pd.DataFrame({'granger': [np.mean(np.array(df_granger_animals[ (df_granger_animals.r1 ==   'AC' ) & (df_granger_animals.r2 ==   'IL' ) & (df_granger_animals.condicao == 'OF_pos') ]['Granger Causality']))],'condicao': 'POS', 'REGIAO': 'AC->IL'})\n",
        "IL_AC_pos = pd.DataFrame({'granger':[np.mean(np.array(df_granger_animals[ (df_granger_animals.r2 ==   'AC' ) & (df_granger_animals.r1 ==   'IL' ) & (df_granger_animals.condicao == 'OF_pos') ]['Granger Causality']))],'condicao': 'POS', 'REGIAO': 'IL->AC'})\n",
        "\n",
        "PRL_IL_pos = pd.DataFrame({'granger':[np.mean(np.array(df_granger_animals[ (df_granger_animals.r1 ==   'PRL' ) & (df_granger_animals.r2 ==   'IL' ) & (df_granger_animals.condicao == 'OF_pos') ]['Granger Causality']))],'condicao': 'POS', 'REGIAO': 'PRL->IL'})\n",
        "IL_PRL_pos = pd.DataFrame({'granger': [np.mean(np.array(df_granger_animals[ (df_granger_animals.r2 ==   'PRL' ) & (df_granger_animals.r1 ==   'IL' ) & (df_granger_animals.condicao == 'OF_pos') ]['Granger Causality']))],'condicao': 'POS', 'REGIAO': 'IL->PRL'})"
      ]
    },
    {
      "cell_type": "code",
      "execution_count": null,
      "metadata": {
        "id": "EvGTL23QOEup"
      },
      "outputs": [],
      "source": [
        "df_barplot_granger = pd.concat([  AC_PRL,  PRL_AC  , AC_IL, IL_AC, PRL_IL,  IL_PRL, AC_PRL_pos   , PRL_AC_pos  , AC_IL_pos, IL_AC_pos, PRL_IL_pos, IL_PRL_pos       ])"
      ]
    },
    {
      "cell_type": "code",
      "execution_count": null,
      "metadata": {
        "id": "w0RB8B6lY2y9"
      },
      "outputs": [],
      "source": [
        "\n",
        "f, axs = plt.subplots( 2,2, figsize=(11.5,5), gridspec_kw={'hspace': 0.5})\n",
        "labels = ['AC->PRL' , 'PRL->AC',  'AC->IL',  'IL->AC' ,  'IL->PRL' , 'PRL->IL' ]\n",
        "data_pre = [np.log(AC_PRL), np.log(PRL_AC), np.log(AC_IL), np.log(IL_AC), np.log(PRL_IL), np.log(IL_PRL) ]\n",
        "data_pos = [np.log(AC_PRL_pos),np.log(PRL_AC_pos),np.log(AC_IL_pos),np.log(IL_AC_pos),np.log(PRL_IL_pos),np.log(IL_PRL_pos)]\n",
        "plt.grid(color='grey', linestyle='--', linewidth=0.7, alpha=0.1, axis='both', which='both')\n",
        "\n",
        "\n",
        "color = ['darkblue', 'darkblue', 'slateblue', 'slateblue', 'darkgreen' ,'darkgreen' ]\n",
        "\n",
        "hatch_patterns = [ '','///','','///','', '///', '','///','','///','', '///']\n",
        "alpha = [0.4, 0.6, 1, 1, 0.4, 0.6, 1, 1,0.35, 0.6,1, 1]\n",
        "\n",
        "\n",
        "\n",
        "\n",
        "for i in range(len(data_pre)):\n",
        "    axs[0, 0].bar(labels[i], data_pre[i], width=0.6,  hatch=hatch_patterns[i], color=color[i], align='center')\n",
        "\n",
        "    axs[1, 0].bar(i+1, data_pos[i], width=0.6,  hatch=hatch_patterns[i], color=color[i], align='center')\n",
        "\n",
        "    axs[0, 0].set_title(labels[i], fontweight='bold', pad=12, fontsize=12)\n",
        "\n",
        "plt.text(-0.35, 0.5, 'Pre Stress', fontsize=12, fontweight='bold', transform=axs[0, 0].transAxes, ha='center', va='center', rotation='vertical')\n",
        "plt.text(-0.35, 0.5, 'Pos Stress', fontsize=12, fontweight='bold', transform=axs[1, 0].transAxes, ha='center', va='center', rotation='vertical')\n",
        "\n"
      ]
    }
  ],
  "metadata": {
    "colab": {
      "collapsed_sections": [
        "8df3S0yL25SU",
        "OwV4ZXgr3Tdr",
        "lUV4BRqK3X61",
        "oWlz5_jwf8gy",
        "ZUxVoU1kMTD_",
        "b06_89E-2euZ",
        "Py8dryqvoNMX",
        "AeDjzsnh1oGf",
        "VGR03d5CxRJj",
        "3AtTeSyuiCGg",
        "KDgXb71D2vqL"
      ],
      "provenance": [],
      "toc_visible": true,
      "include_colab_link": true
    },
    "kernelspec": {
      "display_name": "Python 3",
      "name": "python3"
    },
    "language_info": {
      "name": "python"
    }
  },
  "nbformat": 4,
  "nbformat_minor": 0
}